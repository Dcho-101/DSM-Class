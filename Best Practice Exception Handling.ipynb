{
 "cells": [
  {
   "cell_type": "code",
   "execution_count": 1,
   "id": "b22c4d8e-f17f-42be-b821-ead4098cd9c1",
   "metadata": {},
   "outputs": [
    {
     "name": "stdout",
     "output_type": "stream",
     "text": [
      "division by zero\n"
     ]
    }
   ],
   "source": [
    "# use always a specific exception\n",
    "\n",
    "try :\n",
    "    10/0\n",
    "    \n",
    "except ZeroDivisionError as e :\n",
    "    print(e)"
   ]
  },
  {
   "cell_type": "code",
   "execution_count": 2,
   "id": "6da77afb-d743-411c-afc7-69bdda327fa8",
   "metadata": {},
   "outputs": [
    {
     "name": "stdout",
     "output_type": "stream",
     "text": [
      "I am trying to handle zero division error division by zero\n"
     ]
    }
   ],
   "source": [
    "# print always a proper message\n",
    "\n",
    "try :\n",
    "    10/0\n",
    "    \n",
    "except ZeroDivisionError as e :\n",
    "    print(\"I am trying to handle zero division error\", e)"
   ]
  },
  {
   "cell_type": "code",
   "execution_count": 2,
   "id": "13a40c14-cc1b-448e-a167-c9cf3ce588e4",
   "metadata": {},
   "outputs": [],
   "source": [
    "# always try to log your error\n",
    "\n",
    "import logging\n",
    "logging.basicConfig(filename = \"error.log\", level = logging.ERROR)\n",
    "\n",
    "try :\n",
    "    10/0\n",
    "    \n",
    "except ZeroDivisionError as e :\n",
    "    logging.error(\"I am trying to handle zero division error {}\".format(e) )"
   ]
  },
  {
   "cell_type": "code",
   "execution_count": 3,
   "id": "63fd1f55-4dff-44a9-87c3-13dbeaff3807",
   "metadata": {},
   "outputs": [],
   "source": [
    "# always avoid to use multiple exception handling\n",
    "\n",
    "try :\n",
    "    10/0\n",
    "except FileNotFoundError as e :\n",
    "    logging.error(\"I am handling file not found error {}\".format(e) )\n",
    "except AttributeError as e :\n",
    "    logging.error(\"I am trying to handle attribute error {}\".format(e) )\n",
    "except ZeroDivisionError as e :\n",
    "    logging.error(\"I am trying to handle zero division error {}\".format(e) )"
   ]
  },
  {
   "cell_type": "code",
   "execution_count": 4,
   "id": "b8492f3d-fffe-499b-853d-99af32eaccdd",
   "metadata": {},
   "outputs": [],
   "source": [
    "# Doccument all error\n",
    "\n",
    "# means which pupose the code written and all that "
   ]
  },
  {
   "cell_type": "code",
   "execution_count": 5,
   "id": "f99858f7-d3d5-4d0f-9338-61aa3b75644a",
   "metadata": {},
   "outputs": [],
   "source": [
    "# cleanup all the resources\n",
    "\n",
    "try :\n",
    "    with open(\"test.txt\", \"w\") as f :\n",
    "        f.write(\"this is my data to file\")\n",
    "        \n",
    "except FileNotFoundError as e :\n",
    "    logging.error(\"I am handling file not found error {}\" .format(e))\n",
    "    \n",
    "finally :\n",
    "    f.close()\n",
    "    "
   ]
  },
  {
   "cell_type": "code",
   "execution_count": null,
   "id": "41a2fb68-6146-44b9-87ae-64a1860ca85b",
   "metadata": {},
   "outputs": [],
   "source": []
  }
 ],
 "metadata": {
  "kernelspec": {
   "display_name": "Python 3 (ipykernel)",
   "language": "python",
   "name": "python3"
  },
  "language_info": {
   "codemirror_mode": {
    "name": "ipython",
    "version": 3
   },
   "file_extension": ".py",
   "mimetype": "text/x-python",
   "name": "python",
   "nbconvert_exporter": "python",
   "pygments_lexer": "ipython3",
   "version": "3.10.8"
  }
 },
 "nbformat": 4,
 "nbformat_minor": 5
}
