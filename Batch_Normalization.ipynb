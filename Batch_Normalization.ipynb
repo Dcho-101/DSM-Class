{
  "nbformat": 4,
  "nbformat_minor": 0,
  "metadata": {
    "colab": {
      "provenance": []
    },
    "kernelspec": {
      "name": "python3",
      "display_name": "Python 3"
    },
    "language_info": {
      "name": "python"
    }
  },
  "cells": [
    {
      "cell_type": "code",
      "execution_count": null,
      "metadata": {
        "id": "JeSXZIyfJyQp"
      },
      "outputs": [],
      "source": []
    },
    {
      "cell_type": "markdown",
      "source": [
        "# Observing Before and After Applying Batch Normalization"
      ],
      "metadata": {
        "id": "yJuF12_RJz3V"
      }
    },
    {
      "cell_type": "code",
      "source": [
        "import os\n",
        "import tensorflow as tf\n",
        "import numpy as np\n",
        "import matplotlib.pyplot as plt\n",
        "import seaborn as sns\n",
        "import time\n",
        "plt.style.use(\"fivethirtyeight\")\n",
        "%load_ext tensorboard"
      ],
      "metadata": {
        "id": "8r1StrNPJ9mZ"
      },
      "execution_count": 1,
      "outputs": []
    },
    {
      "cell_type": "code",
      "source": [
        "# Loading the data of fashion_mnist\n",
        "\n",
        "(X_train_full, y_train_full), (X_test, y_test) = tf.keras.datasets.fashion_mnist.load_data()"
      ],
      "metadata": {
        "colab": {
          "base_uri": "https://localhost:8080/"
        },
        "id": "L_apQHxTKThp",
        "outputId": "948b36fe-9cb7-45ee-ea97-58aa57c2896e"
      },
      "execution_count": 2,
      "outputs": [
        {
          "output_type": "stream",
          "name": "stdout",
          "text": [
            "Downloading data from https://storage.googleapis.com/tensorflow/tf-keras-datasets/train-labels-idx1-ubyte.gz\n",
            "29515/29515 [==============================] - 0s 0us/step\n",
            "Downloading data from https://storage.googleapis.com/tensorflow/tf-keras-datasets/train-images-idx3-ubyte.gz\n",
            "26421880/26421880 [==============================] - 0s 0us/step\n",
            "Downloading data from https://storage.googleapis.com/tensorflow/tf-keras-datasets/t10k-labels-idx1-ubyte.gz\n",
            "5148/5148 [==============================] - 0s 0us/step\n",
            "Downloading data from https://storage.googleapis.com/tensorflow/tf-keras-datasets/t10k-images-idx3-ubyte.gz\n",
            "4422102/4422102 [==============================] - 0s 0us/step\n"
          ]
        }
      ]
    },
    {
      "cell_type": "code",
      "source": [
        "X_train_full = X_train_full/255\n",
        "X_test = X_test/255\n",
        "X_valid, X_train = X_train_full[:5000], X_train_full[5000:]\n",
        "\n",
        "y_valid, y_train = y_train_full[:5000], y_train_full[5000:]"
      ],
      "metadata": {
        "id": "_J-rA0n9KwmM"
      },
      "execution_count": 3,
      "outputs": []
    },
    {
      "cell_type": "code",
      "source": [
        "# Creating Layer of Model\n",
        "\n",
        "tf.random.set_seed(42) # for getting similar output (optional)\n",
        "np.random.seed(42) # for getting similar output (optional)\n",
        "\n",
        "LAYERS = [ tf.keras.layers.Flatten(input_shape = [28, 28]),\n",
        "    tf.keras.layers.Dense(300,kernel_initializer = \"he_normal\"),\n",
        "    tf.keras.layers.LeakyReLU(),\n",
        "           tf.keras.layers.Dense(100,kernel_initializer = \"he_normal\"),\n",
        "           tf.keras.layers.LeakyReLU(),\n",
        "           tf.keras.layers.Dense(10,activation = \"softmax\")]\n",
        "\n",
        "\n",
        "model = tf.keras.models.Sequential(LAYERS)"
      ],
      "metadata": {
        "id": "kzBj2-9CLR5k"
      },
      "execution_count": 4,
      "outputs": []
    },
    {
      "cell_type": "code",
      "source": [
        "# compiling the model\n",
        "\n",
        "model.compile(loss = \"sparse_categorical_crossentropy\",\n",
        "              optimizer = tf.keras.optimizers.SGD(lr=1e-3),\n",
        "              metrics = [\"accuracy\"])"
      ],
      "metadata": {
        "colab": {
          "base_uri": "https://localhost:8080/"
        },
        "id": "pmObwkKvMqzF",
        "outputId": "09f72315-d8d9-47fc-c0ac-4c7409d155ed"
      },
      "execution_count": 5,
      "outputs": [
        {
          "output_type": "stream",
          "name": "stderr",
          "text": [
            "WARNING:absl:`lr` is deprecated in Keras optimizer, please use `learning_rate` or use the legacy optimizer, e.g.,tf.keras.optimizers.legacy.SGD.\n"
          ]
        }
      ]
    },
    {
      "cell_type": "code",
      "source": [
        "model.summary()"
      ],
      "metadata": {
        "colab": {
          "base_uri": "https://localhost:8080/"
        },
        "id": "jqUlD7Y1NRpi",
        "outputId": "8676bebc-4b8f-4e80-b173-9394933be99a"
      },
      "execution_count": 6,
      "outputs": [
        {
          "output_type": "stream",
          "name": "stdout",
          "text": [
            "Model: \"sequential\"\n",
            "_________________________________________________________________\n",
            " Layer (type)                Output Shape              Param #   \n",
            "=================================================================\n",
            " flatten (Flatten)           (None, 784)               0         \n",
            "                                                                 \n",
            " dense (Dense)               (None, 300)               235500    \n",
            "                                                                 \n",
            " leaky_re_lu (LeakyReLU)     (None, 300)               0         \n",
            "                                                                 \n",
            " dense_1 (Dense)             (None, 100)               30100     \n",
            "                                                                 \n",
            " leaky_re_lu_1 (LeakyReLU)   (None, 100)               0         \n",
            "                                                                 \n",
            " dense_2 (Dense)             (None, 10)                1010      \n",
            "                                                                 \n",
            "=================================================================\n",
            "Total params: 266610 (1.02 MB)\n",
            "Trainable params: 266610 (1.02 MB)\n",
            "Non-trainable params: 0 (0.00 Byte)\n",
            "_________________________________________________________________\n"
          ]
        }
      ]
    },
    {
      "cell_type": "code",
      "source": [
        "# Now Training and calculating the training time\n",
        "\n",
        "# starting time\n",
        "start = time.time()\n",
        "\n",
        "\n",
        "history = model.fit(X_train, y_train, epochs = 10, validation_data = (X_valid, y_valid), verbose = 2)\n",
        "\n",
        "# ending time\n",
        "\n",
        "end = time.time()\n",
        "\n",
        "# total time taken\n",
        "print(f\"Runtime of the progress: {end - start}\")"
      ],
      "metadata": {
        "colab": {
          "base_uri": "https://localhost:8080/"
        },
        "id": "0Yad_R9nNXzB",
        "outputId": "0b3c2199-68b3-4d80-fc9b-e7fe25d2785a"
      },
      "execution_count": 7,
      "outputs": [
        {
          "output_type": "stream",
          "name": "stdout",
          "text": [
            "Epoch 1/10\n",
            "1719/1719 - 7s - loss: 0.6735 - accuracy: 0.7766 - val_loss: 0.5062 - val_accuracy: 0.8248 - 7s/epoch - 4ms/step\n",
            "Epoch 2/10\n",
            "1719/1719 - 8s - loss: 0.4818 - accuracy: 0.8308 - val_loss: 0.4369 - val_accuracy: 0.8538 - 8s/epoch - 5ms/step\n",
            "Epoch 3/10\n",
            "1719/1719 - 5s - loss: 0.4425 - accuracy: 0.8449 - val_loss: 0.4975 - val_accuracy: 0.8130 - 5s/epoch - 3ms/step\n",
            "Epoch 4/10\n",
            "1719/1719 - 6s - loss: 0.4198 - accuracy: 0.8540 - val_loss: 0.4030 - val_accuracy: 0.8656 - 6s/epoch - 4ms/step\n",
            "Epoch 5/10\n",
            "1719/1719 - 5s - loss: 0.4040 - accuracy: 0.8587 - val_loss: 0.3878 - val_accuracy: 0.8656 - 5s/epoch - 3ms/step\n",
            "Epoch 6/10\n",
            "1719/1719 - 6s - loss: 0.3876 - accuracy: 0.8634 - val_loss: 0.3860 - val_accuracy: 0.8708 - 6s/epoch - 3ms/step\n",
            "Epoch 7/10\n",
            "1719/1719 - 6s - loss: 0.3772 - accuracy: 0.8672 - val_loss: 0.3760 - val_accuracy: 0.8708 - 6s/epoch - 3ms/step\n",
            "Epoch 8/10\n",
            "1719/1719 - 7s - loss: 0.3671 - accuracy: 0.8699 - val_loss: 0.4003 - val_accuracy: 0.8558 - 7s/epoch - 4ms/step\n",
            "Epoch 9/10\n",
            "1719/1719 - 7s - loss: 0.3581 - accuracy: 0.8739 - val_loss: 0.3669 - val_accuracy: 0.8696 - 7s/epoch - 4ms/step\n",
            "Epoch 10/10\n",
            "1719/1719 - 5s - loss: 0.3500 - accuracy: 0.8752 - val_loss: 0.3672 - val_accuracy: 0.8688 - 5s/epoch - 3ms/step\n",
            "Runtime of the progress: 83.72311663627625\n"
          ]
        }
      ]
    },
    {
      "cell_type": "markdown",
      "source": [
        "- Runtime of the program is 83.72 Seconds\n",
        "- Accuracy = 0.8688"
      ],
      "metadata": {
        "id": "OdfeFxuhPlFm"
      }
    },
    {
      "cell_type": "markdown",
      "source": [
        "# After applying batch normalization"
      ],
      "metadata": {
        "id": "bZjHDPrNOTTw"
      }
    },
    {
      "cell_type": "code",
      "source": [
        "# delete the previous model\n",
        "del model\n",
        "\n",
        "\n",
        "# Defining new model with batch normalization\n",
        "\n",
        "LAYERS_BN = [\n",
        "    tf.keras.layers.Flatten(input_shape = [28,28]),\n",
        "    tf.keras.layers.BatchNormalization(),\n",
        "    tf.keras.layers.Dense(300, activation = \"relu\"),\n",
        "    tf.keras.layers.BatchNormalization(),\n",
        "    tf.keras.layers.Dense(100, activation = \"relu\"),\n",
        "    tf.keras.layers.BatchNormalization(),\n",
        "    tf.keras.layers.Dense(10, activation = \"softmax\")\n",
        "]\n",
        "\n",
        "\n",
        "model = tf.keras.models.Sequential(LAYERS_BN)"
      ],
      "metadata": {
        "id": "l0QGmYdFOIZj"
      },
      "execution_count": 8,
      "outputs": []
    },
    {
      "cell_type": "code",
      "source": [
        "model.summary()"
      ],
      "metadata": {
        "colab": {
          "base_uri": "https://localhost:8080/"
        },
        "id": "2jKeQegPPUxD",
        "outputId": "737bc1c3-768f-4444-e6a7-d11e06da265d"
      },
      "execution_count": 9,
      "outputs": [
        {
          "output_type": "stream",
          "name": "stdout",
          "text": [
            "Model: \"sequential_1\"\n",
            "_________________________________________________________________\n",
            " Layer (type)                Output Shape              Param #   \n",
            "=================================================================\n",
            " flatten_1 (Flatten)         (None, 784)               0         \n",
            "                                                                 \n",
            " batch_normalization (Batch  (None, 784)               3136      \n",
            " Normalization)                                                  \n",
            "                                                                 \n",
            " dense_3 (Dense)             (None, 300)               235500    \n",
            "                                                                 \n",
            " batch_normalization_1 (Bat  (None, 300)               1200      \n",
            " chNormalization)                                                \n",
            "                                                                 \n",
            " dense_4 (Dense)             (None, 100)               30100     \n",
            "                                                                 \n",
            " batch_normalization_2 (Bat  (None, 100)               400       \n",
            " chNormalization)                                                \n",
            "                                                                 \n",
            " dense_5 (Dense)             (None, 10)                1010      \n",
            "                                                                 \n",
            "=================================================================\n",
            "Total params: 271346 (1.04 MB)\n",
            "Trainable params: 268978 (1.03 MB)\n",
            "Non-trainable params: 2368 (9.25 KB)\n",
            "_________________________________________________________________\n"
          ]
        }
      ]
    },
    {
      "cell_type": "code",
      "source": [
        "bn1 = model.layers[1]"
      ],
      "metadata": {
        "id": "okjubhYSQZDx"
      },
      "execution_count": 11,
      "outputs": []
    },
    {
      "cell_type": "code",
      "source": [
        "for variable in bn1.variables :\n",
        "  print(variable.name, variable.trainable)"
      ],
      "metadata": {
        "colab": {
          "base_uri": "https://localhost:8080/"
        },
        "id": "Wzg5h66YPYuS",
        "outputId": "35311d64-f805-4284-a4c2-3c99a13def4c"
      },
      "execution_count": 12,
      "outputs": [
        {
          "output_type": "stream",
          "name": "stdout",
          "text": [
            "batch_normalization/gamma:0 True\n",
            "batch_normalization/beta:0 True\n",
            "batch_normalization/moving_mean:0 False\n",
            "batch_normalization/moving_variance:0 False\n"
          ]
        }
      ]
    },
    {
      "cell_type": "code",
      "source": [
        "model.compile(loss = \"sparse_categorical_crossentropy\",\n",
        "              optimizer = tf.keras.optimizers.SGD(lr = 1e-3),\n",
        "              metrics = [\"accuracy\"])"
      ],
      "metadata": {
        "colab": {
          "base_uri": "https://localhost:8080/"
        },
        "id": "fpvgvDJQQma1",
        "outputId": "4821975c-5b37-4f7e-f4f5-4f82adf826f1"
      },
      "execution_count": 15,
      "outputs": [
        {
          "output_type": "stream",
          "name": "stderr",
          "text": [
            "WARNING:absl:`lr` is deprecated in Keras optimizer, please use `learning_rate` or use the legacy optimizer, e.g.,tf.keras.optimizers.legacy.SGD.\n"
          ]
        }
      ]
    },
    {
      "cell_type": "code",
      "source": [
        "# Now Training and calculating the training time\n",
        "\n",
        "# starting time\n",
        "start = time.time()\n",
        "\n",
        "history = model.fit(X_train, y_train, epochs = 10, validation_data = (X_valid, y_valid), verbose = 2)\n",
        "\n",
        "# end time\n",
        "end = time.time()\n",
        "\n",
        "# total time taken\n",
        "print(f\"total time takne: {end - start}\")"
      ],
      "metadata": {
        "colab": {
          "base_uri": "https://localhost:8080/"
        },
        "id": "piB3n3KyQ9nq",
        "outputId": "57800eeb-5972-497c-c10d-9f943734f536"
      },
      "execution_count": 18,
      "outputs": [
        {
          "output_type": "stream",
          "name": "stdout",
          "text": [
            "Epoch 1/10\n",
            "1719/1719 - 10s - loss: 0.2146 - accuracy: 0.9214 - val_loss: 0.3060 - val_accuracy: 0.8928 - 10s/epoch - 6ms/step\n",
            "Epoch 2/10\n",
            "1719/1719 - 10s - loss: 0.2097 - accuracy: 0.9235 - val_loss: 0.3125 - val_accuracy: 0.8930 - 10s/epoch - 6ms/step\n",
            "Epoch 3/10\n",
            "1719/1719 - 9s - loss: 0.2049 - accuracy: 0.9256 - val_loss: 0.3113 - val_accuracy: 0.8928 - 9s/epoch - 5ms/step\n",
            "Epoch 4/10\n",
            "1719/1719 - 10s - loss: 0.1929 - accuracy: 0.9296 - val_loss: 0.3151 - val_accuracy: 0.8916 - 10s/epoch - 6ms/step\n",
            "Epoch 5/10\n",
            "1719/1719 - 10s - loss: 0.1876 - accuracy: 0.9317 - val_loss: 0.3079 - val_accuracy: 0.8986 - 10s/epoch - 6ms/step\n",
            "Epoch 6/10\n",
            "1719/1719 - 10s - loss: 0.1785 - accuracy: 0.9351 - val_loss: 0.3203 - val_accuracy: 0.8904 - 10s/epoch - 6ms/step\n",
            "Epoch 7/10\n",
            "1719/1719 - 9s - loss: 0.1731 - accuracy: 0.9377 - val_loss: 0.3126 - val_accuracy: 0.8922 - 9s/epoch - 5ms/step\n",
            "Epoch 8/10\n",
            "1719/1719 - 10s - loss: 0.1669 - accuracy: 0.9394 - val_loss: 0.3268 - val_accuracy: 0.8906 - 10s/epoch - 6ms/step\n",
            "Epoch 9/10\n",
            "1719/1719 - 10s - loss: 0.1605 - accuracy: 0.9421 - val_loss: 0.3263 - val_accuracy: 0.8920 - 10s/epoch - 6ms/step\n",
            "Epoch 10/10\n",
            "1719/1719 - 10s - loss: 0.1565 - accuracy: 0.9437 - val_loss: 0.3201 - val_accuracy: 0.8948 - 10s/epoch - 6ms/step\n",
            "total time takne: 142.7173728942871\n"
          ]
        }
      ]
    },
    {
      "cell_type": "markdown",
      "source": [
        "- Time taken 142.71 seconds\n",
        "- Accuracy = 0.8948"
      ],
      "metadata": {
        "id": "p6S9sb5PTTAu"
      }
    },
    {
      "cell_type": "code",
      "source": [],
      "metadata": {
        "id": "vjcONKHTTSuN"
      },
      "execution_count": null,
      "outputs": []
    },
    {
      "cell_type": "code",
      "source": [],
      "metadata": {
        "id": "O26vADmlRler"
      },
      "execution_count": null,
      "outputs": []
    }
  ]
}