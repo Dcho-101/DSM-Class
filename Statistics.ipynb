{
 "cells": [
  {
   "cell_type": "markdown",
   "id": "73514411-f53b-4792-bd13-ee0e56e71199",
   "metadata": {},
   "source": [
    "# Statistics"
   ]
  },
  {
   "cell_type": "code",
   "execution_count": 1,
   "id": "ea3dec8d-ee6a-4447-bb4e-b487ea5896ac",
   "metadata": {},
   "outputs": [],
   "source": [
    "# statistics is the science of collecting, organizing and analyzing data"
   ]
  },
  {
   "cell_type": "code",
   "execution_count": 2,
   "id": "3a1c0508-aa2a-4a96-87f3-bffb7a78481d",
   "metadata": {},
   "outputs": [],
   "source": [
    "# data = facts or pieces of information"
   ]
  },
  {
   "cell_type": "markdown",
   "id": "04b2bd03-8629-4a3f-b664-0ff0677aef09",
   "metadata": {},
   "source": [
    "# Types of Statistics"
   ]
  },
  {
   "cell_type": "code",
   "execution_count": 3,
   "id": "3bfc50fc-a11a-4b85-bf3b-f40e75f48cf0",
   "metadata": {},
   "outputs": [],
   "source": [
    "# 1. Descriptive Statistics\n",
    "# 2. Inferencial Statistics\n"
   ]
  },
  {
   "cell_type": "markdown",
   "id": "13c15b75-4870-4d3f-9f33-566af0c1c31a",
   "metadata": {},
   "source": [
    "1. Descriptive Statistics"
   ]
  },
  {
   "cell_type": "code",
   "execution_count": 4,
   "id": "5e899e9a-ebc9-4ddf-918b-72e53bf30927",
   "metadata": {},
   "outputs": [],
   "source": [
    "# it consists of organizing and summerizing data\n",
    "\n",
    "#  topic covers\n",
    "\n",
    "# 1. measure of central tendency [mean, median, mode]\n",
    "\n",
    "# 2. measure of dispersion [variance and standard deviation]\n",
    "\n",
    "# 3. Different types of distribution [histogram, pdf,pmf]\n",
    "\n"
   ]
  },
  {
   "cell_type": "markdown",
   "id": "acc06f4f-5bc2-43d7-a2dc-a7854cee050d",
   "metadata": {},
   "source": [
    "2. Inferencial Statistics"
   ]
  },
  {
   "cell_type": "code",
   "execution_count": 5,
   "id": "93791482-a0c9-41ea-b0be-c742e7dc1cd0",
   "metadata": {},
   "outputs": [],
   "source": [
    "# it consists of using data you have measured to form conclusion\n",
    "\n",
    "# topics\n",
    "\n",
    "# 1. z-test\n",
    "# 2. t-test \n",
    "\n",
    "# these two are using in the hypothesis testing\n"
   ]
  },
  {
   "cell_type": "code",
   "execution_count": 6,
   "id": "0bdb1c0c-fd78-42ef-971c-3746639c7b79",
   "metadata": {},
   "outputs": [],
   "source": [
    "# population and sample data"
   ]
  },
  {
   "cell_type": "code",
   "execution_count": 7,
   "id": "e103cfaa-4038-4ec5-acce-bb3ab604d73b",
   "metadata": {},
   "outputs": [],
   "source": [
    "# population data = the group you are interested in styding\n",
    "\n",
    "# sample data = a subset of population"
   ]
  },
  {
   "cell_type": "code",
   "execution_count": null,
   "id": "c04a99ef-1523-4fea-908d-938054d96f9d",
   "metadata": {},
   "outputs": [],
   "source": []
  }
 ],
 "metadata": {
  "kernelspec": {
   "display_name": "Python 3 (ipykernel)",
   "language": "python",
   "name": "python3"
  },
  "language_info": {
   "codemirror_mode": {
    "name": "ipython",
    "version": 3
   },
   "file_extension": ".py",
   "mimetype": "text/x-python",
   "name": "python",
   "nbconvert_exporter": "python",
   "pygments_lexer": "ipython3",
   "version": "3.10.8"
  }
 },
 "nbformat": 4,
 "nbformat_minor": 5
}
