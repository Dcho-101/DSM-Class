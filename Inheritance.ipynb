{
 "cells": [
  {
   "cell_type": "code",
   "execution_count": 1,
   "id": "71cdd617-3f84-4cf0-ba7b-5d45e0cff215",
   "metadata": {},
   "outputs": [],
   "source": [
    "class test :\n",
    "    \n",
    "    def test_meth(self) :\n",
    "        return \"This is my first class\"\n",
    "    \n"
   ]
  },
  {
   "cell_type": "code",
   "execution_count": 2,
   "id": "5db8c739-ff33-4cb5-a775-1ce1ab28904f",
   "metadata": {},
   "outputs": [],
   "source": [
    "class child_test(test) :\n",
    "    pass"
   ]
  },
  {
   "cell_type": "code",
   "execution_count": 3,
   "id": "9cb0052a-f847-4dcd-b246-01f17198abbc",
   "metadata": {},
   "outputs": [],
   "source": [
    "child_test_obj = child_test()"
   ]
  },
  {
   "cell_type": "code",
   "execution_count": 4,
   "id": "5d95906c-a69a-426f-aa90-98f76cf02400",
   "metadata": {},
   "outputs": [],
   "source": [
    "# now if you see the child_test_obj and press the tab, you will see the function of  parent class "
   ]
  },
  {
   "cell_type": "code",
   "execution_count": 5,
   "id": "d8269294-a85d-4edb-bd20-6c1c09f4d8bd",
   "metadata": {},
   "outputs": [
    {
     "data": {
      "text/plain": [
       "'This is my first class'"
      ]
     },
     "execution_count": 5,
     "metadata": {},
     "output_type": "execute_result"
    }
   ],
   "source": [
    "child_test_obj.test_meth()"
   ]
  },
  {
   "cell_type": "code",
   "execution_count": null,
   "id": "16fa95c2-69bb-4be3-86ca-d273102297e2",
   "metadata": {},
   "outputs": [],
   "source": []
  },
  {
   "cell_type": "markdown",
   "id": "477cd6ff-0b8a-405f-9190-69684a5b7b31",
   "metadata": {},
   "source": [
    "# Multilevel Inheritence"
   ]
  },
  {
   "cell_type": "code",
   "execution_count": 6,
   "id": "e80b3d16-61ee-49cf-a48a-90b3f0a75602",
   "metadata": {},
   "outputs": [],
   "source": [
    "class class1 :\n",
    "    \n",
    "    def test_class1(self) :\n",
    "        return \"This is class 1\""
   ]
  },
  {
   "cell_type": "code",
   "execution_count": 7,
   "id": "60409a53-c575-4895-8096-310513b2a7dc",
   "metadata": {},
   "outputs": [],
   "source": [
    "class class2(class1) :\n",
    "    \n",
    "    def test_class2(self) :\n",
    "        return \"this is class 2\""
   ]
  },
  {
   "cell_type": "code",
   "execution_count": 8,
   "id": "98556928-9ba4-439c-ac94-c5a5d5f31834",
   "metadata": {},
   "outputs": [],
   "source": [
    "class class3(class2) :\n",
    "    pass"
   ]
  },
  {
   "cell_type": "code",
   "execution_count": 9,
   "id": "6b881bc1-7394-4ab0-b4f0-a7170b01edb7",
   "metadata": {},
   "outputs": [],
   "source": [
    "obj_class3 = class3()"
   ]
  },
  {
   "cell_type": "code",
   "execution_count": 10,
   "id": "24eec2f2-6406-4537-b941-41ce9fdc908d",
   "metadata": {},
   "outputs": [
    {
     "data": {
      "text/plain": [
       "'This is class 1'"
      ]
     },
     "execution_count": 10,
     "metadata": {},
     "output_type": "execute_result"
    }
   ],
   "source": [
    "obj_class3.test_class1()"
   ]
  },
  {
   "cell_type": "code",
   "execution_count": 11,
   "id": "a3e35747-3516-4cde-b80c-aad54b806136",
   "metadata": {},
   "outputs": [
    {
     "data": {
      "text/plain": [
       "'this is class 2'"
      ]
     },
     "execution_count": 11,
     "metadata": {},
     "output_type": "execute_result"
    }
   ],
   "source": [
    "obj_class3.test_class2()"
   ]
  },
  {
   "cell_type": "code",
   "execution_count": null,
   "id": "2305402b-3399-4cce-aa82-fb426a2b9d9d",
   "metadata": {},
   "outputs": [],
   "source": []
  },
  {
   "cell_type": "markdown",
   "id": "ac19a427-4b14-4664-a4bd-a413969616a9",
   "metadata": {},
   "source": [
    "# Multiple Inheritence"
   ]
  },
  {
   "cell_type": "code",
   "execution_count": 12,
   "id": "b3e0e04b-79bc-4d45-bd64-bd0a410e232b",
   "metadata": {},
   "outputs": [],
   "source": [
    "class class1 :\n",
    "    \n",
    "    def test_class1(self) :\n",
    "        return \"this is class 1\""
   ]
  },
  {
   "cell_type": "code",
   "execution_count": 13,
   "id": "bb85199f-8a10-40e7-8dea-b8db5731b117",
   "metadata": {},
   "outputs": [],
   "source": [
    "class class2 :\n",
    "    \n",
    "    def test_class2(self) :\n",
    "        return \"this is class 2\""
   ]
  },
  {
   "cell_type": "code",
   "execution_count": 14,
   "id": "f203796c-5175-425f-860b-d18d61909710",
   "metadata": {},
   "outputs": [],
   "source": [
    "class class3(class1, class2) :\n",
    "    pass"
   ]
  },
  {
   "cell_type": "code",
   "execution_count": 15,
   "id": "e6ca116f-75ae-43a8-8d09-4d382fa5ad68",
   "metadata": {},
   "outputs": [],
   "source": [
    "obj_class3 = class3()"
   ]
  },
  {
   "cell_type": "code",
   "execution_count": 16,
   "id": "1c66f3b7-47b3-4d33-bec6-a15bca062ad6",
   "metadata": {},
   "outputs": [
    {
     "data": {
      "text/plain": [
       "'this is class 1'"
      ]
     },
     "execution_count": 16,
     "metadata": {},
     "output_type": "execute_result"
    }
   ],
   "source": [
    "obj_class3.test_class1()"
   ]
  },
  {
   "cell_type": "code",
   "execution_count": 17,
   "id": "4538832d-cb22-4def-8d94-4437f8863c80",
   "metadata": {},
   "outputs": [
    {
     "data": {
      "text/plain": [
       "'this is class 2'"
      ]
     },
     "execution_count": 17,
     "metadata": {},
     "output_type": "execute_result"
    }
   ],
   "source": [
    "obj_class3.test_class2()"
   ]
  },
  {
   "cell_type": "code",
   "execution_count": null,
   "id": "80409bfd-8ee1-4180-93cb-6f954918a373",
   "metadata": {},
   "outputs": [],
   "source": []
  }
 ],
 "metadata": {
  "kernelspec": {
   "display_name": "Python 3 (ipykernel)",
   "language": "python",
   "name": "python3"
  },
  "language_info": {
   "codemirror_mode": {
    "name": "ipython",
    "version": 3
   },
   "file_extension": ".py",
   "mimetype": "text/x-python",
   "name": "python",
   "nbconvert_exporter": "python",
   "pygments_lexer": "ipython3",
   "version": "3.10.8"
  }
 },
 "nbformat": 4,
 "nbformat_minor": 5
}
