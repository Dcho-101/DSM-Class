{
 "cells": [
  {
   "cell_type": "code",
   "execution_count": 1,
   "id": "13671713-1b3a-47a6-bdb3-119d073ece0f",
   "metadata": {},
   "outputs": [],
   "source": [
    "# difference between while and for loop in while loop checking the condition first then execute. for loop dosen't "
   ]
  },
  {
   "cell_type": "code",
   "execution_count": 2,
   "id": "e194d9fc-5bcd-406e-bf55-eddd627cc32e",
   "metadata": {},
   "outputs": [
    {
     "name": "stdout",
     "output_type": "stream",
     "text": [
      "1\n",
      "2\n",
      "3\n",
      "4\n",
      "5\n",
      "6\n",
      "7\n",
      "8\n",
      "9\n",
      "10\n"
     ]
    }
   ],
   "source": [
    "a = 1 \n",
    "\n",
    "while a <= 10 :\n",
    "    print(a)\n",
    "    a = a+1"
   ]
  },
  {
   "cell_type": "markdown",
   "id": "14dc2fe9-be4b-4ee3-a44a-e25444eb73fd",
   "metadata": {},
   "source": [
    "#sum of the number till some point"
   ]
  },
  {
   "cell_type": "code",
   "execution_count": 4,
   "id": "2cea7d20-0e03-48e3-b98f-6c8630e55051",
   "metadata": {},
   "outputs": [
    {
     "name": "stdin",
     "output_type": "stream",
     "text": [
      "enter your limit:  40\n"
     ]
    },
    {
     "data": {
      "text/plain": [
       "820"
      ]
     },
     "execution_count": 4,
     "metadata": {},
     "output_type": "execute_result"
    }
   ],
   "source": [
    "n = int(input(\"enter your limit: \"))\n",
    "starting_point = 0\n",
    "counter = 1 \n",
    "\n",
    "while counter <= n :\n",
    "    starting_point = starting_point + counter\n",
    "    counter = counter + 1 \n",
    "starting_point"
   ]
  },
  {
   "cell_type": "code",
   "execution_count": 5,
   "id": "8c0ab8f6-5d8b-4e39-9394-e64b822a5dfe",
   "metadata": {},
   "outputs": [
    {
     "name": "stdin",
     "output_type": "stream",
     "text": [
      "enter your number:  5\n"
     ]
    },
    {
     "data": {
      "text/plain": [
       "120"
      ]
     },
     "execution_count": 5,
     "metadata": {},
     "output_type": "execute_result"
    }
   ],
   "source": [
    "# factorial\n",
    "number = int(input(\"enter your number: \"))\n",
    "\n",
    "factorial = 1 \n",
    "\n",
    "while number > 0 :\n",
    "    factorial = factorial * number\n",
    "    number = number - 1\n",
    "    \n",
    "factorial"
   ]
  },
  {
   "cell_type": "code",
   "execution_count": 6,
   "id": "138373b1-5086-44e8-9747-fdbf565d4c16",
   "metadata": {},
   "outputs": [],
   "source": [
    "# fibonacci series \n"
   ]
  },
  {
   "cell_type": "code",
   "execution_count": 7,
   "id": "caa394f7-58c0-4514-affd-037f9098ddef",
   "metadata": {},
   "outputs": [
    {
     "name": "stdin",
     "output_type": "stream",
     "text": [
      "enter number:  10\n"
     ]
    },
    {
     "name": "stdout",
     "output_type": "stream",
     "text": [
      "0\n",
      "1\n",
      "1\n",
      "2\n",
      "3\n",
      "5\n",
      "8\n",
      "13\n",
      "21\n",
      "34\n"
     ]
    }
   ],
   "source": [
    "numbers = int(input(\"enter number: \"))\n",
    "\n",
    "a,b = 0,1 # it defines the starting two values, if the fibbonaci will start from 100 then a = 100, b = 101\n",
    "counter = 0\n",
    "\n",
    "while counter < numbers :\n",
    "    print(a)\n",
    "    c = a+b\n",
    "    a = b\n",
    "    b = c\n",
    "    counter = counter + 1\n",
    "    "
   ]
  },
  {
   "cell_type": "code",
   "execution_count": 8,
   "id": "3ea9c69e-f938-4695-9616-4bd770fc123b",
   "metadata": {},
   "outputs": [
    {
     "name": "stdin",
     "output_type": "stream",
     "text": [
      "enter number:  10\n"
     ]
    },
    {
     "name": "stdout",
     "output_type": "stream",
     "text": [
      "0\n",
      "1\n",
      "1\n",
      "2\n",
      "3\n",
      "5\n",
      "8\n",
      "13\n",
      "21\n",
      "34\n"
     ]
    }
   ],
   "source": [
    "# by using for loop \n",
    "\n",
    "numbers = int(input(\"enter number: \"))\n",
    "\n",
    "a,b = 0,1\n",
    "\n",
    "for i in range(10) :\n",
    "    print(a)\n",
    "    c = a+b\n",
    "    a = b\n",
    "    b = c"
   ]
  },
  {
   "cell_type": "code",
   "execution_count": 9,
   "id": "081c7a51-5480-4fc1-ac86-c2ec15912270",
   "metadata": {},
   "outputs": [
    {
     "name": "stdin",
     "output_type": "stream",
     "text": [
      "enter string for reversal raja\n"
     ]
    },
    {
     "name": "stdout",
     "output_type": "stream",
     "text": [
      "ajar\n"
     ]
    }
   ],
   "source": [
    "# reversing string through while loop\n",
    "word = input(\"enter string for reversal\")\n",
    "\n",
    "reverse = \"\"\n",
    "length = len(word)\n",
    "\n",
    "while length > 0 :\n",
    "    reverse = reverse + word[length - 1]\n",
    "    length = length - 1\n",
    "print(reverse)"
   ]
  },
  {
   "cell_type": "code",
   "execution_count": 10,
   "id": "3e2b4405-43ab-4f24-940f-5026aef7b65e",
   "metadata": {},
   "outputs": [],
   "source": [
    "#  print table of numbers\n"
   ]
  },
  {
   "cell_type": "code",
   "execution_count": 11,
   "id": "f915009e-2bb0-4964-91e7-69909b54be1c",
   "metadata": {},
   "outputs": [
    {
     "name": "stdin",
     "output_type": "stream",
     "text": [
      "enter your number:  10\n"
     ]
    },
    {
     "name": "stdout",
     "output_type": "stream",
     "text": [
      "10 x 1 = 10\n",
      "10 x 2 = 20\n",
      "10 x 3 = 30\n",
      "10 x 4 = 40\n",
      "10 x 5 = 50\n",
      "10 x 6 = 60\n",
      "10 x 7 = 70\n",
      "10 x 8 = 80\n",
      "10 x 9 = 90\n",
      "10 x 10 = 100\n"
     ]
    }
   ],
   "source": [
    "n = int(input(\"enter your number: \"))\n",
    "i = 1\n",
    "\n",
    "while i <= 10 :\n",
    "    result = n * i\n",
    "    print(n, \"x\", i, \"=\", result)\n",
    "    i = i+1"
   ]
  },
  {
   "cell_type": "code",
   "execution_count": 12,
   "id": "3f301b7d-4753-432f-8492-5ec53bc29fce",
   "metadata": {},
   "outputs": [],
   "source": [
    "# while else "
   ]
  },
  {
   "cell_type": "code",
   "execution_count": 14,
   "id": "1cb066cb-e014-461e-bfff-3eeed1b70576",
   "metadata": {},
   "outputs": [
    {
     "name": "stdout",
     "output_type": "stream",
     "text": [
      "1\n",
      "2\n",
      "3\n",
      "4\n",
      "this will executed when while loop is completed\n"
     ]
    }
   ],
   "source": [
    "n = 5\n",
    "i = 1\n",
    "\n",
    "while i < n :\n",
    "    print(i)\n",
    "    i = i+1\n",
    "    \n",
    "else :\n",
    "    print(\"this will executed when while loop is completed\")"
   ]
  },
  {
   "cell_type": "code",
   "execution_count": 17,
   "id": "ab98a175-78f0-47d0-b9e4-29104143cb4e",
   "metadata": {},
   "outputs": [
    {
     "name": "stdout",
     "output_type": "stream",
     "text": [
      "1\n",
      "2\n",
      "3\n"
     ]
    }
   ],
   "source": [
    "n = 5\n",
    "i = 1\n",
    "while i < n :\n",
    "    print(i)\n",
    "    if i == 3 :\n",
    "        break\n",
    "    i = i+1\n",
    "    \n",
    "else :\n",
    "    print(\"this will executed when while loop is completed\")"
   ]
  },
  {
   "cell_type": "code",
   "execution_count": null,
   "id": "ede509e0-abde-4930-baf2-15e6095d164c",
   "metadata": {},
   "outputs": [],
   "source": []
  }
 ],
 "metadata": {
  "kernelspec": {
   "display_name": "Python 3 (ipykernel)",
   "language": "python",
   "name": "python3"
  },
  "language_info": {
   "codemirror_mode": {
    "name": "ipython",
    "version": 3
   },
   "file_extension": ".py",
   "mimetype": "text/x-python",
   "name": "python",
   "nbconvert_exporter": "python",
   "pygments_lexer": "ipython3",
   "version": "3.10.8"
  }
 },
 "nbformat": 4,
 "nbformat_minor": 5
}
