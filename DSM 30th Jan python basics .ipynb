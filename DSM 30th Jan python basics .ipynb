{
 "cells": [
  {
   "cell_type": "code",
   "execution_count": 1,
   "id": "a3040750-30d5-40b1-9f84-9ff957b8ace9",
   "metadata": {},
   "outputs": [
    {
     "data": {
      "text/plain": [
       "1"
      ]
     },
     "execution_count": 1,
     "metadata": {},
     "output_type": "execute_result"
    }
   ],
   "source": [
    "True * True"
   ]
  },
  {
   "cell_type": "markdown",
   "id": "570c1b3f-fad9-446c-9295-9caf4a8ded4c",
   "metadata": {},
   "source": [
    "True value dosen't show. it stores the true value as 1 \n",
    "\n",
    "so 1*1 = 1"
   ]
  },
  {
   "cell_type": "markdown",
   "id": "f4f53dfc-9e6e-4d6f-9695-312ed215e7a4",
   "metadata": {},
   "source": [
    "similarly, True * False will be 0"
   ]
  },
  {
   "cell_type": "code",
   "execution_count": 2,
   "id": "d84de014-9ba4-46d7-bc7b-fb3dfbb4f5bd",
   "metadata": {},
   "outputs": [
    {
     "data": {
      "text/plain": [
       "0"
      ]
     },
     "execution_count": 2,
     "metadata": {},
     "output_type": "execute_result"
    }
   ],
   "source": [
    "True * False"
   ]
  },
  {
   "cell_type": "code",
   "execution_count": 5,
   "id": "531c83c3-bbff-48d4-80cf-f8201345a029",
   "metadata": {},
   "outputs": [
    {
     "ename": "ZeroDivisionError",
     "evalue": "division by zero",
     "output_type": "error",
     "traceback": [
      "\u001b[0;31m---------------------------------------------------------------------------\u001b[0m",
      "\u001b[0;31mZeroDivisionError\u001b[0m                         Traceback (most recent call last)",
      "Cell \u001b[0;32mIn[5], line 2\u001b[0m\n\u001b[1;32m      1\u001b[0m \u001b[38;5;66;03m# True / False will show error \u001b[39;00m\n\u001b[0;32m----> 2\u001b[0m \u001b[38;5;28;43;01mTrue\u001b[39;49;00m\u001b[43m \u001b[49m\u001b[38;5;241;43m/\u001b[39;49m\u001b[43m \u001b[49m\u001b[38;5;28;43;01mFalse\u001b[39;49;00m\n\u001b[1;32m      4\u001b[0m \u001b[38;5;66;03m# but in numpy, it will show 'inf'\u001b[39;00m\n",
      "\u001b[0;31mZeroDivisionError\u001b[0m: division by zero"
     ]
    }
   ],
   "source": [
    "# True / False will show error \n",
    "True / False\n",
    "\n",
    "# but in numpy, it will show 'inf'"
   ]
  },
  {
   "cell_type": "code",
   "execution_count": null,
   "id": "29667fe2-97bb-4b5c-80cf-7047efc54883",
   "metadata": {},
   "outputs": [],
   "source": []
  }
 ],
 "metadata": {
  "kernelspec": {
   "display_name": "Python 3 (ipykernel)",
   "language": "python",
   "name": "python3"
  },
  "language_info": {
   "codemirror_mode": {
    "name": "ipython",
    "version": 3
   },
   "file_extension": ".py",
   "mimetype": "text/x-python",
   "name": "python",
   "nbconvert_exporter": "python",
   "pygments_lexer": "ipython3",
   "version": "3.10.8"
  }
 },
 "nbformat": 4,
 "nbformat_minor": 5
}
