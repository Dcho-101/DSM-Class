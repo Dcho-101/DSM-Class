{
 "cells": [
  {
   "cell_type": "markdown",
   "id": "6742d9c2-a08e-4166-944d-cb075a09f03c",
   "metadata": {},
   "source": [
    "there are four block in Exception handling\n",
    "\n",
    "1. TRY\n",
    "2. EXCEPT\n",
    "3. ELSE\n",
    "4. FINALLY"
   ]
  },
  {
   "cell_type": "code",
   "execution_count": 3,
   "id": "7b6b09c1-f890-4ddc-9570-74b96f47c345",
   "metadata": {},
   "outputs": [
    {
     "name": "stdout",
     "output_type": "stream",
     "text": [
      "this will be executed once your try will execute without an error\n"
     ]
    }
   ],
   "source": [
    "try :\n",
    "    f = open(\"test001.txt\", \"w\")\n",
    "    f.write(\"wtite into my file\")\n",
    "    \n",
    "except Exception as e :\n",
    "    print(\"this is my except block\", e)\n",
    "    \n",
    "else :\n",
    "    f.close()\n",
    "    print(\"this will be executed once your try will execute without an error\")"
   ]
  },
  {
   "cell_type": "markdown",
   "id": "fd5b4618-28ed-4e40-997b-66418adf5706",
   "metadata": {},
   "source": [
    "for the last block"
   ]
  },
  {
   "cell_type": "code",
   "execution_count": 4,
   "id": "344fd12d-9b50-40e3-a42a-e71f025e422a",
   "metadata": {},
   "outputs": [
    {
     "name": "stdout",
     "output_type": "stream",
     "text": [
      "this will be executed once your try will execute without an error\n",
      "this will execute wheteher the code is wrong or right or having some complexities\n"
     ]
    }
   ],
   "source": [
    "try :\n",
    "    f = open(\"test001.txt\", \"w\")\n",
    "    f.write(\"wtite into my file\")\n",
    "    \n",
    "except Exception as e :\n",
    "    print(\"this is my except block\", e)\n",
    "    \n",
    "else :\n",
    "    f.close()\n",
    "    print(\"this will be executed once your try will execute without an error\")\n",
    "    \n",
    "finally :\n",
    "    print(\"this will execute wheteher the code is wrong or right or having some complexities\")"
   ]
  },
  {
   "cell_type": "code",
   "execution_count": null,
   "id": "7b65f86b-9b5e-4e30-b938-c8cc46b897c8",
   "metadata": {},
   "outputs": [],
   "source": []
  }
 ],
 "metadata": {
  "kernelspec": {
   "display_name": "Python 3 (ipykernel)",
   "language": "python",
   "name": "python3"
  },
  "language_info": {
   "codemirror_mode": {
    "name": "ipython",
    "version": 3
   },
   "file_extension": ".py",
   "mimetype": "text/x-python",
   "name": "python",
   "nbconvert_exporter": "python",
   "pygments_lexer": "ipython3",
   "version": "3.10.8"
  }
 },
 "nbformat": 4,
 "nbformat_minor": 5
}
