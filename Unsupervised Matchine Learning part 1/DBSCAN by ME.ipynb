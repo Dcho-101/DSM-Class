{
 "cells": [
  {
   "cell_type": "markdown",
   "id": "ed15babe-4ef4-4e78-a151-6dd68f0928bf",
   "metadata": {},
   "source": [
    "# DBSCAN Clustering"
   ]
  },
  {
   "cell_type": "code",
   "execution_count": 1,
   "id": "0bb8baa3-0f18-4da8-ad2a-a3da92e9e7ca",
   "metadata": {},
   "outputs": [],
   "source": [
    "from sklearn.cluster import DBSCAN\n",
    "from sklearn.datasets import make_moons\n",
    "import matplotlib.pyplot as plt\n",
    "%matplotlib inline"
   ]
  },
  {
   "cell_type": "code",
   "execution_count": 2,
   "id": "c4cff2b0-1304-4b45-9b48-f23d099f4a59",
   "metadata": {},
   "outputs": [],
   "source": [
    "X,y = make_moons(n_samples=250,noise=0.05)"
   ]
  },
  {
   "cell_type": "code",
   "execution_count": 4,
   "id": "7397e3ab-8392-4eeb-9164-0294d6835355",
   "metadata": {},
   "outputs": [
    {
     "data": {
      "text/plain": [
       "array([[ 0.12542865,  0.16925519],\n",
       "       [ 0.93819743,  0.14298382],\n",
       "       [ 1.92702451,  0.19211938],\n",
       "       [ 1.05534481, -0.53169555],\n",
       "       [ 0.09143476,  0.40502259],\n",
       "       [-0.99207646, -0.05732737],\n",
       "       [ 1.4476408 , -0.32147255],\n",
       "       [ 0.2461507 ,  0.92825091],\n",
       "       [ 0.15921799, -0.05230715],\n",
       "       [-0.97172921,  0.45876708],\n",
       "       [ 0.40760224,  0.91144106],\n",
       "       [-0.48659044,  0.87707508],\n",
       "       [ 0.76762873, -0.60679382],\n",
       "       [ 1.48029725, -0.41435975],\n",
       "       [ 0.56684634, -0.42032042],\n",
       "       [ 0.41699929, -0.30320767],\n",
       "       [-0.652114  ,  0.80362915],\n",
       "       [-0.37827308,  0.99985522],\n",
       "       [ 0.81341886,  0.64563354],\n",
       "       [-0.78908485,  0.37161384],\n",
       "       [ 1.64748559, -0.32477715],\n",
       "       [ 0.43226751,  0.87979879],\n",
       "       [ 1.09114479,  0.10351916],\n",
       "       [-0.71968778,  0.62940408],\n",
       "       [-1.05642583,  0.2898166 ],\n",
       "       [ 0.97652446,  0.4302484 ],\n",
       "       [ 0.4634633 , -0.30803582],\n",
       "       [ 0.4943319 ,  0.77173726],\n",
       "       [ 0.91883858,  0.27374856],\n",
       "       [-0.28802857,  0.94023362],\n",
       "       [ 0.89334801,  0.29126341],\n",
       "       [ 0.6797321 , -0.42086739],\n",
       "       [ 0.78977275,  0.57197022],\n",
       "       [-0.05863281,  0.98744099],\n",
       "       [ 0.17266613, -0.10468853],\n",
       "       [ 0.82304367,  0.57927196],\n",
       "       [ 0.05048918,  0.14474201],\n",
       "       [ 2.02112291,  0.53728665],\n",
       "       [ 1.00846258, -0.48977827],\n",
       "       [ 2.03657785,  0.38869177],\n",
       "       [ 0.19206627,  0.93397453],\n",
       "       [ 0.37283191, -0.35143976],\n",
       "       [ 0.45303036, -0.33498525],\n",
       "       [ 0.33605392,  0.94315566],\n",
       "       [-1.06583036,  0.21686156],\n",
       "       [ 1.15146678, -0.45633003],\n",
       "       [ 0.41781956,  0.89203813],\n",
       "       [ 1.87322817,  0.04245377],\n",
       "       [ 0.02400757,  0.50517914],\n",
       "       [ 1.71361006, -0.1760691 ],\n",
       "       [ 1.66013321, -0.17447505],\n",
       "       [ 1.7797233 , -0.11233405],\n",
       "       [ 2.05722529,  0.29426115],\n",
       "       [-0.31517241,  0.9645743 ],\n",
       "       [ 0.85758986, -0.41882477],\n",
       "       [ 1.99495496,  0.36934606],\n",
       "       [ 0.62001096,  0.86258969],\n",
       "       [ 0.46443845, -0.34424122],\n",
       "       [ 1.06148921,  0.12837379],\n",
       "       [-0.93592714,  0.28215287],\n",
       "       [ 1.6646949 , -0.38629634],\n",
       "       [ 0.83725515,  0.61434957],\n",
       "       [-0.97325082,  0.15418114],\n",
       "       [-0.63587449,  0.85030305],\n",
       "       [ 0.58784254, -0.42722782],\n",
       "       [ 1.08916218, -0.01679858],\n",
       "       [ 0.14963015, -0.05810039],\n",
       "       [-0.31570094,  1.01653358],\n",
       "       [-0.18766373,  0.97118838],\n",
       "       [ 0.89382805,  0.6136718 ],\n",
       "       [ 0.22400676, -0.08219542],\n",
       "       [ 1.45053243, -0.43802567],\n",
       "       [ 0.81160785,  0.50453349],\n",
       "       [-0.97509797,  0.48734491],\n",
       "       [-0.95017222,  0.05484906],\n",
       "       [ 1.24869709, -0.45632439],\n",
       "       [ 0.88365796,  0.33278354],\n",
       "       [ 0.22185291, -0.235092  ],\n",
       "       [ 1.93383421,  0.08181491],\n",
       "       [ 1.82115191, -0.10899371],\n",
       "       [ 0.88661155,  0.15562834],\n",
       "       [ 0.04465895,  0.195316  ],\n",
       "       [ 0.96590484, -0.51255945],\n",
       "       [ 0.77235043, -0.56301576],\n",
       "       [ 0.22508653,  0.97622438],\n",
       "       [-0.37215219,  0.91283269],\n",
       "       [-0.8033429 ,  0.73139825],\n",
       "       [ 0.69387613,  0.77992343],\n",
       "       [-0.1102134 ,  1.04247375],\n",
       "       [-0.97439592,  0.0539496 ],\n",
       "       [ 1.34123555, -0.44272632],\n",
       "       [ 1.44128285, -0.36412996],\n",
       "       [ 0.7627449 ,  0.622427  ],\n",
       "       [ 1.41736515, -0.41592219],\n",
       "       [ 0.01624946,  0.244965  ],\n",
       "       [-0.48542401,  0.8496913 ],\n",
       "       [ 1.91559254,  0.2215965 ],\n",
       "       [ 0.98697699,  0.27279401],\n",
       "       [-0.31463117,  0.92909439],\n",
       "       [ 0.80400488,  0.67826254],\n",
       "       [-0.92992732,  0.17897008],\n",
       "       [ 1.30670016, -0.4582591 ],\n",
       "       [-0.81152253,  0.43623126],\n",
       "       [ 1.95899665,  0.2850598 ],\n",
       "       [ 0.39251199,  0.88298056],\n",
       "       [-0.96491064,  0.49072871],\n",
       "       [ 1.76549238, -0.19387528],\n",
       "       [ 1.18926825, -0.42079225],\n",
       "       [-0.00544898,  0.46151133],\n",
       "       [ 1.72088217, -0.18400417],\n",
       "       [-0.37265696,  0.80353861],\n",
       "       [ 1.85012252, -0.06208994],\n",
       "       [ 1.88152513,  0.03200619],\n",
       "       [ 1.03926926, -0.48020183],\n",
       "       [ 0.79241549, -0.50996515],\n",
       "       [-0.67450711,  0.8162498 ],\n",
       "       [ 0.94825856, -0.53510233],\n",
       "       [ 0.29247327, -0.09465513],\n",
       "       [ 0.14412164,  0.91807938],\n",
       "       [ 1.0640308 , -0.45776307],\n",
       "       [-0.39071227,  0.99024074],\n",
       "       [ 0.21014291,  0.97550068],\n",
       "       [-0.84290958,  0.60890488],\n",
       "       [-0.74280635,  0.66779919],\n",
       "       [ 0.55491481,  0.80158749],\n",
       "       [ 0.0437004 ,  0.31697975],\n",
       "       [ 1.69316896, -0.14348188],\n",
       "       [ 1.98866665,  0.10640221],\n",
       "       [ 0.26927791,  0.96624882],\n",
       "       [ 0.50661104,  0.93224615],\n",
       "       [ 0.0866614 ,  0.13421148],\n",
       "       [-0.71164381,  0.72602433],\n",
       "       [ 0.05456111, -0.00979769],\n",
       "       [-0.6998609 ,  0.73856336],\n",
       "       [-0.10386478,  0.92106559],\n",
       "       [-1.0090556 ,  0.07290399],\n",
       "       [ 1.2516547 , -0.45549529],\n",
       "       [ 2.05132413,  0.45200795],\n",
       "       [ 0.03604741,  0.25411196],\n",
       "       [-0.81414445,  0.56396093],\n",
       "       [ 1.81951195, -0.04839921],\n",
       "       [ 0.6125175 , -0.38448919],\n",
       "       [ 0.66667364, -0.52818177],\n",
       "       [-1.02331776,  0.23564135],\n",
       "       [-0.96616747,  0.04147584],\n",
       "       [ 0.069806  ,  0.97673415],\n",
       "       [ 0.30004998, -0.12862665],\n",
       "       [ 0.30243325,  0.99373445],\n",
       "       [-0.54445289,  0.84149978],\n",
       "       [ 2.02686705,  0.41331383],\n",
       "       [-0.08244593,  0.52344226],\n",
       "       [ 1.61575331, -0.42962547],\n",
       "       [ 1.6089232 , -0.35121934],\n",
       "       [ 0.66919012, -0.40648199],\n",
       "       [-0.06926642,  0.53074882],\n",
       "       [ 1.01434394,  0.18679521],\n",
       "       [ 1.44780811, -0.3761097 ],\n",
       "       [ 0.25469046, -0.18414722],\n",
       "       [ 1.78357854, -0.06529433],\n",
       "       [ 1.90964691,  0.00890276],\n",
       "       [-0.14589596,  0.97508   ],\n",
       "       [ 0.53480461,  0.81328957],\n",
       "       [-0.13631517,  0.95517312],\n",
       "       [ 0.24075918, -0.14966471],\n",
       "       [ 1.9141537 ,  0.34577338],\n",
       "       [-0.75536856,  0.62881882],\n",
       "       [ 0.71145701,  0.77496589],\n",
       "       [ 0.03447991,  0.94154462],\n",
       "       [ 2.03495132,  0.45991517],\n",
       "       [ 1.7415661 , -0.37756939],\n",
       "       [-0.98825173,  0.0073835 ],\n",
       "       [ 0.60644374,  0.72860263],\n",
       "       [ 1.21479908, -0.45577065],\n",
       "       [ 1.09091872, -0.52558195],\n",
       "       [-0.6782616 ,  0.85350922],\n",
       "       [ 0.11733832,  1.07639656],\n",
       "       [ 1.99389012,  0.13099396],\n",
       "       [ 0.63899481, -0.50220705],\n",
       "       [ 1.95828432,  0.21928102],\n",
       "       [ 1.0491228 ,  0.16772535],\n",
       "       [-0.74454253,  0.71467634],\n",
       "       [ 0.46972574, -0.3299225 ],\n",
       "       [-0.01861365,  0.42420951],\n",
       "       [ 1.80996528, -0.05557116],\n",
       "       [ 0.35676747, -0.23550149],\n",
       "       [-0.17468336,  0.98875285],\n",
       "       [ 0.11327007,  0.1465861 ],\n",
       "       [ 0.10041933,  0.09142585],\n",
       "       [-0.0125047 ,  0.23884488],\n",
       "       [ 0.62341778,  0.73755507],\n",
       "       [-1.01163575,  0.30336879],\n",
       "       [ 1.26073661, -0.49831445],\n",
       "       [ 2.05855797,  0.43819145],\n",
       "       [ 0.52016259, -0.28958488],\n",
       "       [ 1.47589747, -0.401089  ],\n",
       "       [ 1.62683442, -0.29762183],\n",
       "       [ 0.16054175, -0.12984655],\n",
       "       [ 0.7339138 ,  0.72667119],\n",
       "       [ 0.93339005, -0.57686184],\n",
       "       [-0.06558634,  1.07226233],\n",
       "       [-0.82484871,  0.37737896],\n",
       "       [-0.91036602,  0.48156638],\n",
       "       [ 0.1726398 , -0.03424074],\n",
       "       [ 0.57627792,  0.77038743],\n",
       "       [ 0.78969567,  0.67699076],\n",
       "       [-1.03588971,  0.35050972],\n",
       "       [ 0.99400267, -0.5201457 ],\n",
       "       [ 0.37232897, -0.30885305],\n",
       "       [ 0.85654304,  0.56379585],\n",
       "       [ 0.07758997,  0.14412073],\n",
       "       [ 1.92946388, -0.02940162],\n",
       "       [ 0.34033114, -0.21318798],\n",
       "       [-0.81985594,  0.5063154 ],\n",
       "       [ 1.56557665, -0.28438351],\n",
       "       [ 0.97744182,  0.01001657],\n",
       "       [ 0.94854065,  0.48820225],\n",
       "       [ 0.01082281,  0.95546915],\n",
       "       [ 0.71087111, -0.4693472 ],\n",
       "       [ 0.14634394,  1.08759203],\n",
       "       [ 0.3816131 ,  0.97530903],\n",
       "       [ 0.62020284,  0.84885688],\n",
       "       [ 0.99277122,  0.11854915],\n",
       "       [-0.65628468,  0.75855559],\n",
       "       [ 0.46931861, -0.32317667],\n",
       "       [ 0.70522139,  0.7572768 ],\n",
       "       [ 0.03912175,  0.0584541 ],\n",
       "       [ 0.84814272, -0.41813287],\n",
       "       [ 1.94804614,  0.18409773],\n",
       "       [-0.91015689,  0.36909369],\n",
       "       [ 0.19791922, -0.13177041],\n",
       "       [ 0.25128734,  1.01503571],\n",
       "       [-0.17586036,  0.92779455],\n",
       "       [ 0.89714282,  0.30318732],\n",
       "       [ 0.9309905 ,  0.23259646],\n",
       "       [-0.46343516,  0.78745052],\n",
       "       [ 1.81776754,  0.03442788],\n",
       "       [ 1.07825045,  0.05735469],\n",
       "       [ 0.7857889 , -0.52191218],\n",
       "       [-0.23092825,  0.9790288 ],\n",
       "       [ 0.90125949,  0.34260372],\n",
       "       [ 1.15783831, -0.52230736],\n",
       "       [ 1.79362352, -0.08667413],\n",
       "       [ 0.43675997, -0.31954697],\n",
       "       [ 1.18687895, -0.45097045],\n",
       "       [-0.8433588 ,  0.65967607],\n",
       "       [-0.48249192,  0.80707052],\n",
       "       [ 0.10923649,  1.00218436],\n",
       "       [-0.83051919,  0.49490211],\n",
       "       [ 0.85803525,  0.37071452],\n",
       "       [ 0.06240388,  0.21442292]])"
      ]
     },
     "execution_count": 4,
     "metadata": {},
     "output_type": "execute_result"
    }
   ],
   "source": [
    "X"
   ]
  },
  {
   "cell_type": "code",
   "execution_count": 5,
   "id": "c88328f1-b722-4a40-821e-c872a8c622ad",
   "metadata": {},
   "outputs": [
    {
     "data": {
      "text/plain": [
       "<matplotlib.collections.PathCollection at 0x7f4cefe9ca00>"
      ]
     },
     "execution_count": 5,
     "metadata": {},
     "output_type": "execute_result"
    },
    {
     "data": {
      "image/png": "[encoded data removed]",
      "text/plain": [
       "<Figure size 640x480 with 1 Axes>"
      ]
     },
     "metadata": {},
     "output_type": "display_data"
    }
   ],
   "source": [
    "plt.scatter(X[:,0],X[:,1])"
   ]
  },
  {
   "cell_type": "code",
   "execution_count": 6,
   "id": "111f59f4-09cc-4e63-a07b-dfa614e8e39d",
   "metadata": {},
   "outputs": [],
   "source": [
    "# Standard Scaling\n",
    "\n",
    "from sklearn.preprocessing import StandardScaler\n",
    "scaler = StandardScaler()"
   ]
  },
  {
   "cell_type": "code",
   "execution_count": 7,
   "id": "6ebc435e-d8ce-4627-a0b2-ae336bcff881",
   "metadata": {},
   "outputs": [],
   "source": [
    "X_scaled = scaler.fit_transform(X)"
   ]
  },
  {
   "cell_type": "code",
   "execution_count": null,
   "id": "3e3c264b-72b6-4526-be94-c8e3dfa574d3",
   "metadata": {},
   "outputs": [],
   "source": []
  },
  {
   "cell_type": "code",
   "execution_count": null,
   "id": "1b23612b-8990-4e4a-98e6-81fca787f49a",
   "metadata": {},
   "outputs": [],
   "source": []
  },
  {
   "cell_type": "code",
   "execution_count": 8,
   "id": "26540829-3092-443e-9e93-04bc504ce330",
   "metadata": {},
   "outputs": [],
   "source": [
    "from sklearn.cluster import DBSCAN"
   ]
  },
  {
   "cell_type": "code",
   "execution_count": 9,
   "id": "75d602fe-b604-4679-b15d-8050abcf2179",
   "metadata": {},
   "outputs": [],
   "source": [
    "dbscan = DBSCAN(eps=0.5)"
   ]
  },
  {
   "cell_type": "code",
   "execution_count": 10,
   "id": "241e642c-e4c9-4773-84c8-2dc0448bf5cd",
   "metadata": {},
   "outputs": [
    {
     "data": {
      "text/html": [
       "<style>#sk-container-id-1 {color: black;background-color: white;}#sk-container-id-1 pre{padding: 0;}#sk-container-id-1 div.sk-toggleable {background-color: white;}#sk-container-id-1 label.sk-toggleable__label {cursor: pointer;display: block;width: 100%;margin-bottom: 0;padding: 0.3em;box-sizing: border-box;text-align: center;}#sk-container-id-1 label.sk-toggleable__label-arrow:before {content: \"▸\";float: left;margin-right: 0.25em;color: #696969;}#sk-container-id-1 label.sk-toggleable__label-arrow:hover:before {color: black;}#sk-container-id-1 div.sk-estimator:hover label.sk-toggleable__label-arrow:before {color: black;}#sk-container-id-1 div.sk-toggleable__content {max-height: 0;max-width: 0;overflow: hidden;text-align: left;background-color: #f0f8ff;}#sk-container-id-1 div.sk-toggleable__content pre {margin: 0.2em;color: black;border-radius: 0.25em;background-color: #f0f8ff;}#sk-container-id-1 input.sk-toggleable__control:checked~div.sk-toggleable__content {max-height: 200px;max-width: 100%;overflow: auto;}#sk-container-id-1 input.sk-toggleable__control:checked~label.sk-toggleable__label-arrow:before {content: \"▾\";}#sk-container-id-1 div.sk-estimator input.sk-toggleable__control:checked~label.sk-toggleable__label {background-color: #d4ebff;}#sk-container-id-1 div.sk-label input.sk-toggleable__control:checked~label.sk-toggleable__label {background-color: #d4ebff;}#sk-container-id-1 input.sk-hidden--visually {border: 0;clip: rect(1px 1px 1px 1px);clip: rect(1px, 1px, 1px, 1px);height: 1px;margin: -1px;overflow: hidden;padding: 0;position: absolute;width: 1px;}#sk-container-id-1 div.sk-estimator {font-family: monospace;background-color: #f0f8ff;border: 1px dotted black;border-radius: 0.25em;box-sizing: border-box;margin-bottom: 0.5em;}#sk-container-id-1 div.sk-estimator:hover {background-color: #d4ebff;}#sk-container-id-1 div.sk-parallel-item::after {content: \"\";width: 100%;border-bottom: 1px solid gray;flex-grow: 1;}#sk-container-id-1 div.sk-label:hover label.sk-toggleable__label {background-color: #d4ebff;}#sk-container-id-1 div.sk-serial::before {content: \"\";position: absolute;border-left: 1px solid gray;box-sizing: border-box;top: 0;bottom: 0;left: 50%;z-index: 0;}#sk-container-id-1 div.sk-serial {display: flex;flex-direction: column;align-items: center;background-color: white;padding-right: 0.2em;padding-left: 0.2em;position: relative;}#sk-container-id-1 div.sk-item {position: relative;z-index: 1;}#sk-container-id-1 div.sk-parallel {display: flex;align-items: stretch;justify-content: center;background-color: white;position: relative;}#sk-container-id-1 div.sk-item::before, #sk-container-id-1 div.sk-parallel-item::before {content: \"\";position: absolute;border-left: 1px solid gray;box-sizing: border-box;top: 0;bottom: 0;left: 50%;z-index: -1;}#sk-container-id-1 div.sk-parallel-item {display: flex;flex-direction: column;z-index: 1;position: relative;background-color: white;}#sk-container-id-1 div.sk-parallel-item:first-child::after {align-self: flex-end;width: 50%;}#sk-container-id-1 div.sk-parallel-item:last-child::after {align-self: flex-start;width: 50%;}#sk-container-id-1 div.sk-parallel-item:only-child::after {width: 0;}#sk-container-id-1 div.sk-dashed-wrapped {border: 1px dashed gray;margin: 0 0.4em 0.5em 0.4em;box-sizing: border-box;padding-bottom: 0.4em;background-color: white;}#sk-container-id-1 div.sk-label label {font-family: monospace;font-weight: bold;display: inline-block;line-height: 1.2em;}#sk-container-id-1 div.sk-label-container {text-align: center;}#sk-container-id-1 div.sk-container {/* jupyter's `normalize.less` sets `[hidden] { display: none; }` but bootstrap.min.css set `[hidden] { display: none !important; }` so we also need the `!important` here to be able to override the default hidden behavior on the sphinx rendered scikit-learn.org. See: https://github.com/scikit-learn/scikit-learn/issues/21755 */display: inline-block !important;position: relative;}#sk-container-id-1 div.sk-text-repr-fallback {display: none;}</style><div id=\"sk-container-id-1\" class=\"sk-top-container\"><div class=\"sk-text-repr-fallback\"><pre>DBSCAN()</pre><b>In a Jupyter environment, please rerun this cell to show the HTML representation or trust the notebook. <br />On GitHub, the HTML representation is unable to render, please try loading this page with nbviewer.org.</b></div><div class=\"sk-container\" hidden><div class=\"sk-item\"><div class=\"sk-estimator sk-toggleable\"><input class=\"sk-toggleable__control sk-hidden--visually\" id=\"sk-estimator-id-1\" type=\"checkbox\" checked><label for=\"sk-estimator-id-1\" class=\"sk-toggleable__label sk-toggleable__label-arrow\">DBSCAN</label><div class=\"sk-toggleable__content\"><pre>DBSCAN()</pre></div></div></div></div></div>"
      ],
      "text/plain": [
       "DBSCAN()"
      ]
     },
     "execution_count": 10,
     "metadata": {},
     "output_type": "execute_result"
    }
   ],
   "source": [
    "dbscan.fit(X_scaled)"
   ]
  },
  {
   "cell_type": "code",
   "execution_count": null,
   "id": "8c524edb-cdfb-45bf-bab2-583291324215",
   "metadata": {},
   "outputs": [],
   "source": []
  }
 ],
 "metadata": {
  "kernelspec": {
   "display_name": "Python 3 (ipykernel)",
   "language": "python",
   "name": "python3"
  },
  "language_info": {
   "codemirror_mode": {
    "name": "ipython",
    "version": 3
   },
   "file_extension": ".py",
   "mimetype": "text/x-python",
   "name": "python",
   "nbconvert_exporter": "python",
   "pygments_lexer": "ipython3",
   "version": "3.10.8"
  }
 },
 "nbformat": 4,
 "nbformat_minor": 5
}
