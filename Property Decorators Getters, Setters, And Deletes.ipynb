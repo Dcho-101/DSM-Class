{
 "cells": [
  {
   "cell_type": "code",
   "execution_count": 15,
   "id": "f8f01ffe-7d46-4f44-a56e-1cb1f2a3d6c7",
   "metadata": {},
   "outputs": [],
   "source": [
    "class pwskills : \n",
    "    def __init__(self, course_price, course_name) :\n",
    "        self.__course_price = course_price\n",
    "        self.course_name = course_name"
   ]
  },
  {
   "cell_type": "code",
   "execution_count": 16,
   "id": "4d4f9e13-8231-48f4-b70c-0121eeca94d5",
   "metadata": {},
   "outputs": [],
   "source": [
    "pw = pwskills(3500, \"dsm\")"
   ]
  },
  {
   "cell_type": "code",
   "execution_count": 17,
   "id": "5574fa54-3c79-4044-8a63-0d59b631d982",
   "metadata": {},
   "outputs": [],
   "source": [
    "#  we already know theat the course price cannot be seen by every one"
   ]
  },
  {
   "cell_type": "code",
   "execution_count": 18,
   "id": "49116e6f-0e3e-4ae3-b1b2-2a4aedaf5cb7",
   "metadata": {},
   "outputs": [],
   "source": [
    "# now if I want to access the course price to the user, \n",
    "# for that we need a decorator called property"
   ]
  },
  {
   "cell_type": "code",
   "execution_count": 19,
   "id": "e3c13b2b-bc1d-4059-be3a-600ed91c5c80",
   "metadata": {},
   "outputs": [],
   "source": [
    "class pwskills1 : \n",
    "    def __init__(self, course_price, course_name) :\n",
    "        self.__course_price = course_price\n",
    "        self.course_name = course_name\n",
    "        \n",
    "    @property\n",
    "    def course_price_acess(self) :\n",
    "        return self.__course_price"
   ]
  },
  {
   "cell_type": "code",
   "execution_count": 20,
   "id": "97a7f190-a2fc-4bb9-8fda-9fdbd58ae89b",
   "metadata": {},
   "outputs": [],
   "source": [
    "pw1 = pwskills1(3500, \"dsm\")"
   ]
  },
  {
   "cell_type": "code",
   "execution_count": 21,
   "id": "dc574374-ddf9-4f74-95ac-1734685023fc",
   "metadata": {},
   "outputs": [
    {
     "data": {
      "text/plain": [
       "3500"
      ]
     },
     "execution_count": 21,
     "metadata": {},
     "output_type": "execute_result"
    }
   ],
   "source": [
    "pw1.course_price_acess"
   ]
  },
  {
   "cell_type": "code",
   "execution_count": 22,
   "id": "6e2097ce-9dad-4c95-8c8a-4e5f31703460",
   "metadata": {},
   "outputs": [],
   "source": [
    "# for modifying acess"
   ]
  },
  {
   "cell_type": "code",
   "execution_count": 23,
   "id": "05bbd317-02f1-4a21-9b5e-e44a81ce4fca",
   "metadata": {},
   "outputs": [],
   "source": [
    "class pwskills2 : \n",
    "    def __init__(self, course_price, course_name) :\n",
    "        self.__course_price = course_price\n",
    "        self.course_name = course_name\n",
    "        \n",
    "    @property\n",
    "    def course_price_acess(self) :\n",
    "        return self.__course_price\n",
    "    \n",
    "    @course_price_acess.setter # acessing function + setter \n",
    "    def course_price_set(self, price) :\n",
    "        if price <= 3500 :\n",
    "            pass\n",
    "        else :\n",
    "            self.__course_price = price"
   ]
  },
  {
   "cell_type": "code",
   "execution_count": 25,
   "id": "950a9b6a-c2ed-4a5f-9cf9-8ea671905773",
   "metadata": {},
   "outputs": [],
   "source": [
    "pw2 = pwskills2(3500, \"dsm\")"
   ]
  },
  {
   "cell_type": "code",
   "execution_count": 26,
   "id": "3b2d4f88-9c25-4ac9-bfdb-e70fbbac860b",
   "metadata": {},
   "outputs": [
    {
     "data": {
      "text/plain": [
       "3500"
      ]
     },
     "execution_count": 26,
     "metadata": {},
     "output_type": "execute_result"
    }
   ],
   "source": [
    "pw2.course_price_acess"
   ]
  },
  {
   "cell_type": "code",
   "execution_count": 27,
   "id": "75f485ce-319a-49d3-b061-38c0a887d22b",
   "metadata": {},
   "outputs": [],
   "source": [
    "pw2.course_price_set = 4500"
   ]
  },
  {
   "cell_type": "code",
   "execution_count": 28,
   "id": "8d65bf89-2c95-4dee-adc2-9596056521aa",
   "metadata": {},
   "outputs": [
    {
     "data": {
      "text/plain": [
       "4500"
      ]
     },
     "execution_count": 28,
     "metadata": {},
     "output_type": "execute_result"
    }
   ],
   "source": [
    "pw2.course_price_acess"
   ]
  },
  {
   "cell_type": "code",
   "execution_count": 29,
   "id": "3c491be6-31c2-4d15-b3cc-6dda9c2ef0e7",
   "metadata": {},
   "outputs": [],
   "source": [
    "# acess for deletion\n"
   ]
  },
  {
   "cell_type": "code",
   "execution_count": 37,
   "id": "93e76c7b-0de8-4252-92d0-4070a2255a43",
   "metadata": {},
   "outputs": [],
   "source": [
    "class pwskills3 : \n",
    "    def __init__(self, course_price, course_name) :\n",
    "        self.__course_price = course_price\n",
    "        self.course_name = course_name\n",
    "        \n",
    "    @property\n",
    "    def course_price_acess(self) :\n",
    "        return self.__course_price\n",
    "    \n",
    "    @course_price_acess.setter # acessing function + setter \n",
    "    def course_price_set(self, price) :\n",
    "        if price <= 3500 :\n",
    "            pass\n",
    "        else :\n",
    "            self.__course_price = price\n",
    "            \n",
    "    @course_price_acess.deleter\n",
    "    def delete_course_price(self) :\n",
    "        del self.__course_price"
   ]
  },
  {
   "cell_type": "code",
   "execution_count": 38,
   "id": "872dcf80-a5b3-4eb4-96f9-33428f6cdab8",
   "metadata": {},
   "outputs": [],
   "source": [
    "pw3 = pwskills3(3500, \"dsm\")"
   ]
  },
  {
   "cell_type": "code",
   "execution_count": 39,
   "id": "b1fb6df6-d7d2-4997-b38e-9f9d33c4b002",
   "metadata": {},
   "outputs": [
    {
     "data": {
      "text/plain": [
       "3500"
      ]
     },
     "execution_count": 39,
     "metadata": {},
     "output_type": "execute_result"
    }
   ],
   "source": [
    "pw3.course_price_acess"
   ]
  },
  {
   "cell_type": "code",
   "execution_count": 40,
   "id": "29ac67e6-8a1d-4de3-a159-e42bf6fdb338",
   "metadata": {},
   "outputs": [],
   "source": [
    "del pw3.delete_course_price"
   ]
  },
  {
   "cell_type": "code",
   "execution_count": 41,
   "id": "ba18e27a-7598-4c26-9f16-1b7dc5fa781c",
   "metadata": {},
   "outputs": [
    {
     "ename": "AttributeError",
     "evalue": "'pwskills3' object has no attribute '_pwskills3__course_price'",
     "output_type": "error",
     "traceback": [
      "\u001b[0;31m---------------------------------------------------------------------------\u001b[0m",
      "\u001b[0;31mAttributeError\u001b[0m                            Traceback (most recent call last)",
      "Cell \u001b[0;32mIn[41], line 1\u001b[0m\n\u001b[0;32m----> 1\u001b[0m \u001b[43mpw3\u001b[49m\u001b[38;5;241;43m.\u001b[39;49m\u001b[43mcourse_price_acess\u001b[49m\n",
      "Cell \u001b[0;32mIn[37], line 8\u001b[0m, in \u001b[0;36mpwskills3.course_price_acess\u001b[0;34m(self)\u001b[0m\n\u001b[1;32m      6\u001b[0m \u001b[38;5;129m@property\u001b[39m\n\u001b[1;32m      7\u001b[0m \u001b[38;5;28;01mdef\u001b[39;00m \u001b[38;5;21mcourse_price_acess\u001b[39m(\u001b[38;5;28mself\u001b[39m) :\n\u001b[0;32m----> 8\u001b[0m     \u001b[38;5;28;01mreturn\u001b[39;00m \u001b[38;5;28;43mself\u001b[39;49m\u001b[38;5;241;43m.\u001b[39;49m\u001b[43m__course_price\u001b[49m\n",
      "\u001b[0;31mAttributeError\u001b[0m: 'pwskills3' object has no attribute '_pwskills3__course_price'"
     ]
    }
   ],
   "source": [
    "pw3.course_price_acess"
   ]
  },
  {
   "cell_type": "code",
   "execution_count": null,
   "id": "d8e3dab4-d159-4265-b341-9c17531b6a2b",
   "metadata": {},
   "outputs": [],
   "source": []
  }
 ],
 "metadata": {
  "kernelspec": {
   "display_name": "Python 3 (ipykernel)",
   "language": "python",
   "name": "python3"
  },
  "language_info": {
   "codemirror_mode": {
    "name": "ipython",
    "version": 3
   },
   "file_extension": ".py",
   "mimetype": "text/x-python",
   "name": "python",
   "nbconvert_exporter": "python",
   "pygments_lexer": "ipython3",
   "version": "3.10.8"
  }
 },
 "nbformat": 4,
 "nbformat_minor": 5
}
