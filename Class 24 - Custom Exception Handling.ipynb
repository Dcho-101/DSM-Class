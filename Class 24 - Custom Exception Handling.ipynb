{
 "cells": [
  {
   "cell_type": "code",
   "execution_count": 1,
   "id": "30e8ecbe-a017-4925-b213-7ce4c17510cb",
   "metadata": {},
   "outputs": [],
   "source": [
    "# custom excception handling is like of there are no exception is written in your specific issue"
   ]
  },
  {
   "cell_type": "code",
   "execution_count": 2,
   "id": "6e99cfb6-3921-41e5-8efc-13bb739d1d1c",
   "metadata": {},
   "outputs": [
    {
     "name": "stdin",
     "output_type": "stream",
     "text": [
      "enter your age -889\n"
     ]
    }
   ],
   "source": [
    "age = int(input(\"enter your age\"))"
   ]
  },
  {
   "cell_type": "code",
   "execution_count": 3,
   "id": "d022825c-5b9f-4674-8c43-3512a69b55f1",
   "metadata": {},
   "outputs": [],
   "source": [
    "# if I use negative age system will not show an error. \n",
    "# this culd be handled by the if else but we want to use the exception handling"
   ]
  },
  {
   "cell_type": "markdown",
   "id": "4ab69286-670a-4c09-871f-a3a97884d211",
   "metadata": {},
   "source": [
    "creating custom exception"
   ]
  },
  {
   "cell_type": "code",
   "execution_count": 10,
   "id": "a9b81590-533b-408e-ac78-d5edc0be73c9",
   "metadata": {},
   "outputs": [],
   "source": [
    "# first create a class in any name\n",
    "# then inherit exception property in the class\n",
    "# then print the message\n",
    "# and implement the function\n",
    "\n",
    "\n",
    "# for example"
   ]
  },
  {
   "cell_type": "code",
   "execution_count": 6,
   "id": "20c75b17-6209-492a-9eda-4e82ab4e5df2",
   "metadata": {},
   "outputs": [],
   "source": [
    "class validateage(Exception) : # creating class\n",
    "    def __init__(self, msg) : # creating function for error message\n",
    "        self.msg = msg\n",
    "        "
   ]
  },
  {
   "cell_type": "code",
   "execution_count": 7,
   "id": "166fb738-b8b8-4bfc-bb30-ed0231b023f2",
   "metadata": {},
   "outputs": [],
   "source": [
    "def validateage_1(age) :\n",
    "    if age < 0 :\n",
    "        raise validateage(\"entered age is negative\") # raise heplps to raise the class exception\n",
    "        \n",
    "    elif age > 200 :\n",
    "        raise validateage(\"entered age is very very high\")\n",
    "        \n",
    "    else :\n",
    "        print(\"age is valid\")"
   ]
  },
  {
   "cell_type": "code",
   "execution_count": 8,
   "id": "53ae422c-7ec1-41c6-89a0-646ed2497ee5",
   "metadata": {},
   "outputs": [
    {
     "name": "stdin",
     "output_type": "stream",
     "text": [
      "enter your age -25\n"
     ]
    },
    {
     "name": "stdout",
     "output_type": "stream",
     "text": [
      "entered age is negative\n"
     ]
    }
   ],
   "source": [
    "try :\n",
    "    age = int(input(\"enter your age\"))\n",
    "    validateage_1(age)\n",
    "    \n",
    "except validateage as v :\n",
    "    print(v)"
   ]
  },
  {
   "cell_type": "code",
   "execution_count": null,
   "id": "29ac0715-1434-4705-8af5-834da3ff67de",
   "metadata": {},
   "outputs": [],
   "source": []
  }
 ],
 "metadata": {
  "kernelspec": {
   "display_name": "Python 3 (ipykernel)",
   "language": "python",
   "name": "python3"
  },
  "language_info": {
   "codemirror_mode": {
    "name": "ipython",
    "version": 3
   },
   "file_extension": ".py",
   "mimetype": "text/x-python",
   "name": "python",
   "nbconvert_exporter": "python",
   "pygments_lexer": "ipython3",
   "version": "3.10.8"
  }
 },
 "nbformat": 4,
 "nbformat_minor": 5
}
