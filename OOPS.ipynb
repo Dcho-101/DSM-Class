{
 "cells": [
  {
   "cell_type": "code",
   "execution_count": 1,
   "id": "9a53efd4-610e-49af-9123-3bad345fa5c8",
   "metadata": {},
   "outputs": [
    {
     "name": "stdout",
     "output_type": "stream",
     "text": [
      "<class 'int'>\n"
     ]
    }
   ],
   "source": [
    "# when we are typing type of any list, tuple, string, integer it shows class first. \n",
    "# for example\n",
    "print(type(5))"
   ]
  },
  {
   "cell_type": "code",
   "execution_count": 2,
   "id": "d75bb6b2-46a0-4e85-b9a5-1019b9e4d212",
   "metadata": {},
   "outputs": [],
   "source": [
    "# this class is a classification of a real world entity"
   ]
  },
  {
   "cell_type": "code",
   "execution_count": 4,
   "id": "510b1707-0182-4651-9a9e-df0cbb417247",
   "metadata": {},
   "outputs": [],
   "source": [
    "# object is a real world entity\n",
    "# for example\n",
    "a = 1\n",
    "\n",
    "# here a is an object"
   ]
  },
  {
   "cell_type": "code",
   "execution_count": 5,
   "id": "742ed313-ca04-4e2c-a5df-1bccfd908e0a",
   "metadata": {},
   "outputs": [],
   "source": [
    "#  creating class\n",
    "\n",
    "class test :\n",
    "    pass"
   ]
  },
  {
   "cell_type": "code",
   "execution_count": 6,
   "id": "f4b5e2ff-5dfe-4060-9419-22904d715d87",
   "metadata": {},
   "outputs": [],
   "source": [
    "# we create class because if later someone tries to contribute in the code then they can otherwise it would be chaos"
   ]
  },
  {
   "cell_type": "code",
   "execution_count": 7,
   "id": "99f92996-a78a-4a72-9788-18c0832c23cf",
   "metadata": {},
   "outputs": [],
   "source": [
    "# it helps the code to manage properly"
   ]
  },
  {
   "cell_type": "code",
   "execution_count": 8,
   "id": "06a153b1-15fc-4127-b2d8-1373263c65d1",
   "metadata": {},
   "outputs": [],
   "source": [
    "# making a variable for the test class"
   ]
  },
  {
   "cell_type": "code",
   "execution_count": 9,
   "id": "6516e614-7d27-439d-b7e9-5642e6c1caa8",
   "metadata": {},
   "outputs": [],
   "source": [
    "a = test()"
   ]
  },
  {
   "cell_type": "code",
   "execution_count": 10,
   "id": "85b5f8cc-49d2-44b2-8642-5a478ff62ec2",
   "metadata": {},
   "outputs": [
    {
     "name": "stdout",
     "output_type": "stream",
     "text": [
      "<class '__main__.test'>\n"
     ]
    }
   ],
   "source": [
    "print(type(a))"
   ]
  },
  {
   "cell_type": "code",
   "execution_count": 11,
   "id": "dd3492ad-9eae-484e-978e-1699c29c1480",
   "metadata": {},
   "outputs": [],
   "source": [
    "# making a class pwskills"
   ]
  },
  {
   "cell_type": "code",
   "execution_count": 14,
   "id": "6b5122ce-552b-49b7-9f7b-d0adee517b37",
   "metadata": {},
   "outputs": [],
   "source": [
    "class pwskills :\n",
    "    def welcome_msg() :\n",
    "        print(\"Welcome to pwskills\")  # but it will show an error when execute"
   ]
  },
  {
   "cell_type": "code",
   "execution_count": 13,
   "id": "d29ea6bd-a303-4f8a-be8b-4553ec78cc74",
   "metadata": {},
   "outputs": [],
   "source": [
    "rohan = pwskills()"
   ]
  },
  {
   "cell_type": "code",
   "execution_count": 15,
   "id": "18fb454b-b396-459a-9565-93fe068076e4",
   "metadata": {},
   "outputs": [
    {
     "ename": "TypeError",
     "evalue": "pwskills.welcome_msg() takes 0 positional arguments but 1 was given",
     "output_type": "error",
     "traceback": [
      "\u001b[0;31m---------------------------------------------------------------------------\u001b[0m",
      "\u001b[0;31mTypeError\u001b[0m                                 Traceback (most recent call last)",
      "Cell \u001b[0;32mIn[15], line 1\u001b[0m\n\u001b[0;32m----> 1\u001b[0m \u001b[43mrohan\u001b[49m\u001b[38;5;241;43m.\u001b[39;49m\u001b[43mwelcome_msg\u001b[49m\u001b[43m(\u001b[49m\u001b[43m)\u001b[49m\n",
      "\u001b[0;31mTypeError\u001b[0m: pwskills.welcome_msg() takes 0 positional arguments but 1 was given"
     ]
    }
   ],
   "source": [
    "rohan.welcome_msg()"
   ]
  },
  {
   "cell_type": "code",
   "execution_count": 16,
   "id": "f514ee2b-2f14-4035-98b0-24872b62f7e8",
   "metadata": {},
   "outputs": [],
   "source": [
    "# when we use a function under a class, very first parameter need to mention in the function is self. "
   ]
  },
  {
   "cell_type": "code",
   "execution_count": 17,
   "id": "4836ad9d-00e2-43a0-a6df-6d8ca96db3a8",
   "metadata": {},
   "outputs": [],
   "source": [
    "class pwskills :\n",
    "    def welcome_msg(self) :\n",
    "        print(\"Welcome to pwskills\")\n",
    "# now let's try with different name\n"
   ]
  },
  {
   "cell_type": "code",
   "execution_count": 18,
   "id": "da6207fa-5e37-4567-89da-b65d347870b6",
   "metadata": {},
   "outputs": [],
   "source": [
    "rahul = pwskills()"
   ]
  },
  {
   "cell_type": "code",
   "execution_count": 19,
   "id": "88a1590f-7fbe-4b9c-b935-7bd2278a3ec5",
   "metadata": {},
   "outputs": [
    {
     "name": "stdout",
     "output_type": "stream",
     "text": [
      "Welcome to pwskills\n"
     ]
    }
   ],
   "source": [
    "rahul.welcome_msg()"
   ]
  },
  {
   "cell_type": "code",
   "execution_count": null,
   "id": "2823af8f-3095-4c4d-a8f1-dde18226252b",
   "metadata": {},
   "outputs": [],
   "source": []
  },
  {
   "cell_type": "code",
   "execution_count": 20,
   "id": "71a301fe-da36-4e60-ad90-1b1fa7e0d312",
   "metadata": {},
   "outputs": [],
   "source": [
    "# if we want to pass data under a class then call the inbuild function (__init__)"
   ]
  },
  {
   "cell_type": "code",
   "execution_count": 21,
   "id": "93ac939e-c9da-4699-9788-8f840448c20f",
   "metadata": {},
   "outputs": [],
   "source": [
    "class pwskills1 :\n",
    "    \n",
    "    def __init__(self, phone_number, email_id, student_id) : # it is also colled constructer. init means initialzation\n",
    "        # ir is used to pass a data under a functtion(here we are passing the phone number, email, etc.)\n",
    "        self.phone_number = phone_number\n",
    "        self.email_id = email_id\n",
    "        self.student_id = student_id\n",
    "        \n",
    "        # creating a function to return the student details\n",
    "    def return_student_details(self) :\n",
    "        return self.student_id, self.phone_number, self.email_id\n",
    "    \n",
    "    "
   ]
  },
  {
   "cell_type": "code",
   "execution_count": 23,
   "id": "bad85611-a733-457d-96af-1abed3e9e290",
   "metadata": {},
   "outputs": [
    {
     "ename": "TypeError",
     "evalue": "pwskills1.__init__() missing 3 required positional arguments: 'phone_number', 'email_id', and 'student_id'",
     "output_type": "error",
     "traceback": [
      "\u001b[0;31m---------------------------------------------------------------------------\u001b[0m",
      "\u001b[0;31mTypeError\u001b[0m                                 Traceback (most recent call last)",
      "Cell \u001b[0;32mIn[23], line 1\u001b[0m\n\u001b[0;32m----> 1\u001b[0m rahul \u001b[38;5;241m=\u001b[39m \u001b[43mpwskills1\u001b[49m\u001b[43m(\u001b[49m\u001b[43m)\u001b[49m \u001b[38;5;66;03m# it shows error\u001b[39;00m\n",
      "\u001b[0;31mTypeError\u001b[0m: pwskills1.__init__() missing 3 required positional arguments: 'phone_number', 'email_id', and 'student_id'"
     ]
    }
   ],
   "source": [
    "rahul = pwskills1() # it shows error"
   ]
  },
  {
   "cell_type": "code",
   "execution_count": 24,
   "id": "fe833e45-9e46-4153-90ad-996557b37a5d",
   "metadata": {},
   "outputs": [],
   "source": [
    "# when we use the init function now it needs the data of phone_number, email_id and student_id which we entered in the function "
   ]
  },
  {
   "cell_type": "code",
   "execution_count": 25,
   "id": "b5e8dc63-42b8-42f0-ac2b-51278776c9e8",
   "metadata": {},
   "outputs": [],
   "source": [
    "rakesh = pwskills1(1234567890, 'rakesh123@email.com', 101)"
   ]
  },
  {
   "cell_type": "code",
   "execution_count": 26,
   "id": "d2d3f71d-9e44-449e-b5c6-313dcc6b83fe",
   "metadata": {},
   "outputs": [
    {
     "data": {
      "text/plain": [
       "(101, 1234567890, 'rakesh123@email.com')"
      ]
     },
     "execution_count": 26,
     "metadata": {},
     "output_type": "execute_result"
    }
   ],
   "source": [
    "rakesh.return_student_details()"
   ]
  },
  {
   "cell_type": "code",
   "execution_count": null,
   "id": "56e6731d-1515-4372-8098-04f61d310699",
   "metadata": {},
   "outputs": [],
   "source": []
  },
  {
   "cell_type": "code",
   "execution_count": 27,
   "id": "8d6c0491-a446-4faf-b451-7c9c46105a46",
   "metadata": {},
   "outputs": [],
   "source": [
    "# one more example to understand properly"
   ]
  },
  {
   "cell_type": "code",
   "execution_count": 29,
   "id": "7e0ab2bd-d896-4121-8403-289e78b986cd",
   "metadata": {},
   "outputs": [],
   "source": [
    "gaurav = pwskills1(9876543210, \"gaurav132@gmail.com\", 120)"
   ]
  },
  {
   "cell_type": "code",
   "execution_count": 30,
   "id": "8b6db71c-a4ff-4409-8166-dad07fcca272",
   "metadata": {},
   "outputs": [
    {
     "data": {
      "text/plain": [
       "(120, 9876543210, 'gaurav132@gmail.com')"
      ]
     },
     "execution_count": 30,
     "metadata": {},
     "output_type": "execute_result"
    }
   ],
   "source": [
    "gaurav.return_student_details()"
   ]
  },
  {
   "cell_type": "code",
   "execution_count": 31,
   "id": "9bedd800-7b0d-4e93-8ed3-bd399c0864fc",
   "metadata": {},
   "outputs": [],
   "source": [
    "# understanding class properly"
   ]
  },
  {
   "cell_type": "code",
   "execution_count": 36,
   "id": "50a9b71f-6aaf-4220-9476-1e952d1718c5",
   "metadata": {},
   "outputs": [],
   "source": [
    "class pwskills2 :\n",
    "    \n",
    "    def __init__(self, phone_number, email_id, student_id) : # it is also colled constructer. init means initialzation\n",
    "        # ir is used to pass a data under a functtion(here we are passing the phone number, email, etc.)\n",
    "        self.phone_number1 = phone_number\n",
    "        self.email_id1 = email_id\n",
    "        self.student_id1 = student_id\n",
    "        \n",
    "        # creating a function to return the student details\n",
    "    def return_student_details(self) :\n",
    "        return self.student_id, self.phone_number, self.email_id"
   ]
  },
  {
   "cell_type": "code",
   "execution_count": 49,
   "id": "dcad12cd-ab64-48ef-b5bc-a652472606a3",
   "metadata": {},
   "outputs": [],
   "source": [
    "sudh = pwskills2(9856321472, \"sudh@gmail.com\", 124)"
   ]
  },
  {
   "cell_type": "code",
   "execution_count": 38,
   "id": "61b0361f-936b-41e3-8ec8-338130b6e32f",
   "metadata": {},
   "outputs": [
    {
     "data": {
      "text/plain": [
       "<__main__.pwskills2 at 0x7ff0a40b1630>"
      ]
     },
     "execution_count": 38,
     "metadata": {},
     "output_type": "execute_result"
    }
   ],
   "source": [
    "sudh"
   ]
  },
  {
   "cell_type": "code",
   "execution_count": 39,
   "id": "14968236-e27c-4879-b5ef-0379989ef250",
   "metadata": {},
   "outputs": [
    {
     "data": {
      "text/plain": [
       "'gaurav132@gmail.com'"
      ]
     },
     "execution_count": 39,
     "metadata": {},
     "output_type": "execute_result"
    }
   ],
   "source": [
    "#  if we need to access inside the class then we have to use self. otherwise we can use the data directly\n",
    "# example\n",
    "\n",
    "gaurav.email_id"
   ]
  },
  {
   "cell_type": "code",
   "execution_count": 40,
   "id": "7f84bf22-32ff-4404-8083-ff7d0b05ddca",
   "metadata": {},
   "outputs": [
    {
     "data": {
      "text/plain": [
       "9876543210"
      ]
     },
     "execution_count": 40,
     "metadata": {},
     "output_type": "execute_result"
    }
   ],
   "source": [
    "gaurav.phone_number"
   ]
  },
  {
   "cell_type": "code",
   "execution_count": 41,
   "id": "f2bd7001-f387-4779-9566-0782f85f16be",
   "metadata": {},
   "outputs": [
    {
     "ename": "AttributeError",
     "evalue": "'pwskills2' object has no attribute 'phone_number'",
     "output_type": "error",
     "traceback": [
      "\u001b[0;31m---------------------------------------------------------------------------\u001b[0m",
      "\u001b[0;31mAttributeError\u001b[0m                            Traceback (most recent call last)",
      "Cell \u001b[0;32mIn[41], line 3\u001b[0m\n\u001b[1;32m      1\u001b[0m \u001b[38;5;66;03m# but \u001b[39;00m\n\u001b[0;32m----> 3\u001b[0m \u001b[43msudh\u001b[49m\u001b[38;5;241;43m.\u001b[39;49m\u001b[43mphone_number\u001b[49m\n",
      "\u001b[0;31mAttributeError\u001b[0m: 'pwskills2' object has no attribute 'phone_number'"
     ]
    }
   ],
   "source": [
    "# but \n",
    "\n",
    "sudh.phone_number"
   ]
  },
  {
   "cell_type": "code",
   "execution_count": 42,
   "id": "07c3a1b3-7bc2-4694-a40f-9396f2849028",
   "metadata": {},
   "outputs": [],
   "source": [
    "# my class does not understand the phone_number varible. it understands the phone_number1 variable"
   ]
  },
  {
   "cell_type": "code",
   "execution_count": 43,
   "id": "8adeecfe-a61a-4ce6-b7c2-4835c903fcdd",
   "metadata": {},
   "outputs": [
    {
     "ename": "AttributeError",
     "evalue": "'pwskills2' object has no attribute 'student_id'",
     "output_type": "error",
     "traceback": [
      "\u001b[0;31m---------------------------------------------------------------------------\u001b[0m",
      "\u001b[0;31mAttributeError\u001b[0m                            Traceback (most recent call last)",
      "Cell \u001b[0;32mIn[43], line 3\u001b[0m\n\u001b[1;32m      1\u001b[0m \u001b[38;5;66;03m# one more thing. if we use now the student details function it also throws an error\u001b[39;00m\n\u001b[0;32m----> 3\u001b[0m \u001b[43msudh\u001b[49m\u001b[38;5;241;43m.\u001b[39;49m\u001b[43mreturn_student_details\u001b[49m\u001b[43m(\u001b[49m\u001b[43m)\u001b[49m\n",
      "Cell \u001b[0;32mIn[36], line 11\u001b[0m, in \u001b[0;36mpwskills2.return_student_details\u001b[0;34m(self)\u001b[0m\n\u001b[1;32m     10\u001b[0m \u001b[38;5;28;01mdef\u001b[39;00m \u001b[38;5;21mreturn_student_details\u001b[39m(\u001b[38;5;28mself\u001b[39m) :\n\u001b[0;32m---> 11\u001b[0m     \u001b[38;5;28;01mreturn\u001b[39;00m \u001b[38;5;28;43mself\u001b[39;49m\u001b[38;5;241;43m.\u001b[39;49m\u001b[43mstudent_id\u001b[49m, \u001b[38;5;28mself\u001b[39m\u001b[38;5;241m.\u001b[39mphone_number, \u001b[38;5;28mself\u001b[39m\u001b[38;5;241m.\u001b[39memail_id\n",
      "\u001b[0;31mAttributeError\u001b[0m: 'pwskills2' object has no attribute 'student_id'"
     ]
    }
   ],
   "source": [
    "# one more thing. if we use now the student details function it also throws an error\n",
    "\n",
    "sudh.return_student_details()"
   ]
  },
  {
   "cell_type": "code",
   "execution_count": 44,
   "id": "f480b821-ca79-44c7-b5fe-58badb4dc494",
   "metadata": {},
   "outputs": [],
   "source": [
    "# because it now changed and phone_number becomes phone_number1. so all. that is why the data is nt returning"
   ]
  },
  {
   "cell_type": "code",
   "execution_count": null,
   "id": "f3aa0193-c556-4f52-ae81-38b4663873a7",
   "metadata": {},
   "outputs": [],
   "source": []
  },
  {
   "cell_type": "code",
   "execution_count": 47,
   "id": "7ae67d5a-3453-4183-a988-b7f51bbe71e0",
   "metadata": {},
   "outputs": [],
   "source": [
    "class pwskills2 :\n",
    "    \n",
    "    def __init__(self, phone_number, email_id, student_id) : # it is also colled constructer. init means initialzation\n",
    "        # ir is used to pass a data under a functtion(here we are passing the phone number, email, etc.)\n",
    "        self.phone_number1 = phone_number\n",
    "        self.email_id1 = email_id\n",
    "        self.student_id1 = student_id\n",
    "        \n",
    "        # creating a function to return the student details\n",
    "    def return_student_details(self) :\n",
    "        return self.student_id1, self.phone_number1, self.email_id1"
   ]
  },
  {
   "cell_type": "code",
   "execution_count": 51,
   "id": "994e3c8f-3b17-46ee-9b2f-6606a11d5f6b",
   "metadata": {},
   "outputs": [],
   "source": [
    "sudh = pwskills2(9856321472, \"sudh@gmail.com\", 124)"
   ]
  },
  {
   "cell_type": "code",
   "execution_count": 52,
   "id": "96e58957-ad9a-4e4f-a80b-0f27745b11d6",
   "metadata": {},
   "outputs": [
    {
     "data": {
      "text/plain": [
       "(124, 9856321472, 'sudh@gmail.com')"
      ]
     },
     "execution_count": 52,
     "metadata": {},
     "output_type": "execute_result"
    }
   ],
   "source": [
    "sudh.return_student_details()"
   ]
  },
  {
   "cell_type": "code",
   "execution_count": null,
   "id": "99a7e3b6-6015-4e46-9da0-adc7f2edfea0",
   "metadata": {},
   "outputs": [],
   "source": []
  },
  {
   "cell_type": "code",
   "execution_count": 53,
   "id": "c9977f05-436a-4354-906a-70a8cfd21373",
   "metadata": {},
   "outputs": [],
   "source": [
    "class pwskills2 :\n",
    "    \n",
    "    def __init__(dip, phone_number, email_id, student_id) : # it is also colled constructer. init means initialzation\n",
    "        # ir is used to pass a data under a functtion(here we are passing the phone number, email, etc.)\n",
    "        dip.phone_number1 = phone_number\n",
    "        dip.email_id1 = email_id\n",
    "        dip.student_id1 = student_id\n",
    "        \n",
    "        # creating a function to return the student details\n",
    "    def return_student_details(dip) :\n",
    "        return dip.student_id1, dip.phone_number1, dip.email_id1"
   ]
  },
  {
   "cell_type": "code",
   "execution_count": 54,
   "id": "a9cae4a3-0bfc-4418-ba54-f975e13f7839",
   "metadata": {},
   "outputs": [],
   "source": [
    "sanu = pwskills2(54655465,\"sanu@gmail.com\", 420)"
   ]
  },
  {
   "cell_type": "code",
   "execution_count": 55,
   "id": "cbf0765e-f4f0-45dc-90d9-4629c7dd33da",
   "metadata": {},
   "outputs": [
    {
     "data": {
      "text/plain": [
       "54655465"
      ]
     },
     "execution_count": 55,
     "metadata": {},
     "output_type": "execute_result"
    }
   ],
   "source": [
    "sanu.phone_number1"
   ]
  },
  {
   "cell_type": "code",
   "execution_count": null,
   "id": "b8819064-f3a6-4dc0-86c1-37576f479e8f",
   "metadata": {},
   "outputs": [],
   "source": [
    "# so you can use any name instead of using self. but the best way to make self because other coders won't know what varable you used"
   ]
  }
 ],
 "metadata": {
  "kernelspec": {
   "display_name": "Python 3 (ipykernel)",
   "language": "python",
   "name": "python3"
  },
  "language_info": {
   "codemirror_mode": {
    "name": "ipython",
    "version": 3
   },
   "file_extension": ".py",
   "mimetype": "text/x-python",
   "name": "python",
   "nbconvert_exporter": "python",
   "pygments_lexer": "ipython3",
   "version": "3.10.8"
  }
 },
 "nbformat": 4,
 "nbformat_minor": 5
}
