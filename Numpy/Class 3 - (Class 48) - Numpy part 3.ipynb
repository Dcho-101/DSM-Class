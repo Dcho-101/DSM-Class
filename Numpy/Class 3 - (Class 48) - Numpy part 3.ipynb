{
 "cells": [
  {
   "cell_type": "markdown",
   "id": "18d0ae21-fc69-44a5-b4e9-300d24593657",
   "metadata": {},
   "source": [
    "# Sort, Seqrch and counting Function"
   ]
  },
  {
   "cell_type": "code",
   "execution_count": null,
   "id": "3bb92d42-9a6e-450e-b542-6476357435ea",
   "metadata": {},
   "outputs": [],
   "source": []
  },
  {
   "cell_type": "code",
   "execution_count": 1,
   "id": "ea71e550-0c65-4bf6-b5ed-4e8775bde962",
   "metadata": {},
   "outputs": [],
   "source": [
    "import numpy as np"
   ]
  },
  {
   "cell_type": "code",
   "execution_count": 3,
   "id": "a1c9a348-ccc3-48c3-8c1a-6e2114023e09",
   "metadata": {},
   "outputs": [],
   "source": [
    "arr = np.array([4,5,6,2,1,4,7,8,9,5,4,7,1])"
   ]
  },
  {
   "cell_type": "code",
   "execution_count": 4,
   "id": "a0b3947c-aaef-46a1-b876-82ec1465b88e",
   "metadata": {},
   "outputs": [
    {
     "data": {
      "text/plain": [
       "array([4, 5, 6, 2, 1, 4, 7, 8, 9, 5, 4, 7, 1])"
      ]
     },
     "execution_count": 4,
     "metadata": {},
     "output_type": "execute_result"
    }
   ],
   "source": [
    "arr"
   ]
  },
  {
   "cell_type": "code",
   "execution_count": 5,
   "id": "1afc1758-55c2-4729-8ed6-47f72e8ed3da",
   "metadata": {},
   "outputs": [
    {
     "data": {
      "text/plain": [
       "array([1, 1, 2, 4, 4, 4, 5, 5, 6, 7, 7, 8, 9])"
      ]
     },
     "execution_count": 5,
     "metadata": {},
     "output_type": "execute_result"
    }
   ],
   "source": [
    "np.sort(arr)"
   ]
  },
  {
   "cell_type": "code",
   "execution_count": 11,
   "id": "34495c8c-9409-45cf-bf3a-4b934b7485e1",
   "metadata": {},
   "outputs": [
    {
     "data": {
      "text/plain": [
       "6"
      ]
     },
     "execution_count": 11,
     "metadata": {},
     "output_type": "execute_result"
    }
   ],
   "source": [
    "np.searchsorted(arr, 7) # shows where or the index number in which the value can be putted after sorting the array."
   ]
  },
  {
   "cell_type": "code",
   "execution_count": 12,
   "id": "3dcb9208-b3c9-44be-89ea-dfc8f2b119e8",
   "metadata": {},
   "outputs": [],
   "source": [
    "arr1 = np.array([0,25,41,0,45,77,0,3,6,0,2,0,0,7])"
   ]
  },
  {
   "cell_type": "code",
   "execution_count": 13,
   "id": "420a7ccc-a656-4a0d-8c7d-3ecf42046d80",
   "metadata": {},
   "outputs": [
    {
     "data": {
      "text/plain": [
       "array([ 0, 25, 41,  0, 45, 77,  0,  3,  6,  0,  2,  0,  0,  7])"
      ]
     },
     "execution_count": 13,
     "metadata": {},
     "output_type": "execute_result"
    }
   ],
   "source": [
    "arr1"
   ]
  },
  {
   "cell_type": "code",
   "execution_count": 15,
   "id": "8feb7cc6-dbe3-4f40-878f-8c259a2ca578",
   "metadata": {},
   "outputs": [
    {
     "data": {
      "text/plain": [
       "8"
      ]
     },
     "execution_count": 15,
     "metadata": {},
     "output_type": "execute_result"
    }
   ],
   "source": [
    "np.count_nonzero(arr1) # shows how many non zero value is availabe "
   ]
  },
  {
   "cell_type": "code",
   "execution_count": 17,
   "id": "19ee163a-3206-49e4-a877-665f6c058fc7",
   "metadata": {},
   "outputs": [
    {
     "data": {
      "text/plain": [
       "(array([ 2,  6,  7,  8, 11]),)"
      ]
     },
     "execution_count": 17,
     "metadata": {},
     "output_type": "execute_result"
    }
   ],
   "source": [
    "np.where(arr > 5) # shows the index values in which the values are grater than 5"
   ]
  },
  {
   "cell_type": "code",
   "execution_count": 20,
   "id": "75ff8f67-4854-4d45-8451-e89f516b6558",
   "metadata": {},
   "outputs": [
    {
     "data": {
      "text/plain": [
       "array([6, 7, 8, 9, 7])"
      ]
     },
     "execution_count": 20,
     "metadata": {},
     "output_type": "execute_result"
    }
   ],
   "source": [
    "np.extract(arr > 5, arr) # extract the values of the array which are greater than 5 values having in the array"
   ]
  },
  {
   "cell_type": "code",
   "execution_count": null,
   "id": "b93c4d77-013e-4e8c-af1a-6d749f95e21d",
   "metadata": {},
   "outputs": [],
   "source": []
  },
  {
   "cell_type": "markdown",
   "id": "43de5128-db96-4dba-81d8-295e04eee3df",
   "metadata": {},
   "source": [
    "# Numpy - Byte Swapping"
   ]
  },
  {
   "cell_type": "code",
   "execution_count": 21,
   "id": "9f85adf8-58c5-446d-b564-e6e84c9bc66a",
   "metadata": {},
   "outputs": [
    {
     "data": {
      "text/plain": [
       "array([4, 5, 6, 2, 1, 4, 7, 8, 9, 5, 4, 7, 1])"
      ]
     },
     "execution_count": 21,
     "metadata": {},
     "output_type": "execute_result"
    }
   ],
   "source": [
    "arr"
   ]
  },
  {
   "cell_type": "code",
   "execution_count": 22,
   "id": "15c8a5ee-4797-42ec-aaa9-8674f8a0aa16",
   "metadata": {},
   "outputs": [
    {
     "data": {
      "text/plain": [
       "array([288230376151711744, 360287970189639680, 432345564227567616,\n",
       "       144115188075855872,  72057594037927936, 288230376151711744,\n",
       "       504403158265495552, 576460752303423488, 648518346341351424,\n",
       "       360287970189639680, 288230376151711744, 504403158265495552,\n",
       "        72057594037927936])"
      ]
     },
     "execution_count": 22,
     "metadata": {},
     "output_type": "execute_result"
    }
   ],
   "source": [
    "arr.byteswap()"
   ]
  },
  {
   "cell_type": "code",
   "execution_count": null,
   "id": "42ebb47f-dfff-4f8c-91fa-7a2f7b2031f2",
   "metadata": {},
   "outputs": [],
   "source": []
  },
  {
   "cell_type": "markdown",
   "id": "f09a8a7c-495e-4bea-9f8c-8ac6cce83d27",
   "metadata": {},
   "source": [
    "# Numpy - Copies and Views"
   ]
  },
  {
   "cell_type": "code",
   "execution_count": null,
   "id": "d236bdc0-4d50-40ac-b480-4f1c71e2842d",
   "metadata": {},
   "outputs": [],
   "source": []
  },
  {
   "cell_type": "code",
   "execution_count": 25,
   "id": "2dfea467-8396-4b08-a00d-aa37342fbe57",
   "metadata": {},
   "outputs": [],
   "source": [
    "a = np.copy(arr) # deep copy"
   ]
  },
  {
   "cell_type": "code",
   "execution_count": 26,
   "id": "1da12c6f-b827-4f7b-88ca-b282f8245beb",
   "metadata": {},
   "outputs": [
    {
     "data": {
      "text/plain": [
       "array([4, 5, 6, 2, 1, 4, 7, 8, 9, 5, 4, 7, 1])"
      ]
     },
     "execution_count": 26,
     "metadata": {},
     "output_type": "execute_result"
    }
   ],
   "source": [
    "a"
   ]
  },
  {
   "cell_type": "code",
   "execution_count": 29,
   "id": "3b1678de-7277-4ceb-80db-3b73861d4ff8",
   "metadata": {},
   "outputs": [],
   "source": [
    "b =arr.view() # swallow copy"
   ]
  },
  {
   "cell_type": "code",
   "execution_count": 30,
   "id": "a1b14cb7-e278-48cb-bdf6-2d6d5b144091",
   "metadata": {},
   "outputs": [
    {
     "data": {
      "text/plain": [
       "array([4, 5, 6, 2, 1, 4, 7, 8, 9, 5, 4, 7, 1])"
      ]
     },
     "execution_count": 30,
     "metadata": {},
     "output_type": "execute_result"
    }
   ],
   "source": [
    "b"
   ]
  },
  {
   "cell_type": "code",
   "execution_count": 31,
   "id": "5f63bbc9-f687-4943-979f-67880691c1f8",
   "metadata": {},
   "outputs": [
    {
     "data": {
      "text/plain": [
       "array([4, 5, 6, 2, 1, 4, 7, 8, 9, 5, 4, 7, 1])"
      ]
     },
     "execution_count": 31,
     "metadata": {},
     "output_type": "execute_result"
    }
   ],
   "source": [
    "a"
   ]
  },
  {
   "cell_type": "code",
   "execution_count": null,
   "id": "dc546876-a1b9-422f-88d0-d9f5479eb925",
   "metadata": {},
   "outputs": [],
   "source": []
  },
  {
   "cell_type": "markdown",
   "id": "cdc6bbb7-da38-4e58-ad4f-feac09a22e8d",
   "metadata": {},
   "source": [
    "# Numpy - Matrix Library"
   ]
  },
  {
   "cell_type": "code",
   "execution_count": null,
   "id": "2d37509a-c670-4e8c-b065-2a237fd48105",
   "metadata": {},
   "outputs": [],
   "source": []
  },
  {
   "cell_type": "code",
   "execution_count": 32,
   "id": "588a5e6f-543b-45c9-bc2a-8f92f6e61ee0",
   "metadata": {},
   "outputs": [],
   "source": [
    "import numpy.matlib as nm"
   ]
  },
  {
   "cell_type": "code",
   "execution_count": 33,
   "id": "13ad61d3-6707-4310-93d4-dbeff7c7e2a5",
   "metadata": {},
   "outputs": [
    {
     "data": {
      "text/plain": [
       "matrix([[0., 0., 0., 0., 0.]])"
      ]
     },
     "execution_count": 33,
     "metadata": {},
     "output_type": "execute_result"
    }
   ],
   "source": [
    "nm.zeros(5)"
   ]
  },
  {
   "cell_type": "code",
   "execution_count": 34,
   "id": "2f3f89e9-a812-4379-a720-657b67b070d1",
   "metadata": {},
   "outputs": [
    {
     "data": {
      "text/plain": [
       "matrix([[0., 0., 0., 0.],\n",
       "        [0., 0., 0., 0.],\n",
       "        [0., 0., 0., 0.]])"
      ]
     },
     "execution_count": 34,
     "metadata": {},
     "output_type": "execute_result"
    }
   ],
   "source": [
    "nm.zeros((3,4))"
   ]
  },
  {
   "cell_type": "code",
   "execution_count": 35,
   "id": "d06b3a58-53bb-4a20-bf90-3e3802e4ec66",
   "metadata": {},
   "outputs": [
    {
     "data": {
      "text/plain": [
       "matrix([[1., 0., 0., 0., 0.],\n",
       "        [0., 1., 0., 0., 0.],\n",
       "        [0., 0., 1., 0., 0.],\n",
       "        [0., 0., 0., 1., 0.],\n",
       "        [0., 0., 0., 0., 1.]])"
      ]
     },
     "execution_count": 35,
     "metadata": {},
     "output_type": "execute_result"
    }
   ],
   "source": [
    "nm.eye(5)"
   ]
  },
  {
   "cell_type": "code",
   "execution_count": null,
   "id": "9a2da4b9-2923-4d7e-a78e-9deea492eefe",
   "metadata": {},
   "outputs": [],
   "source": []
  },
  {
   "cell_type": "markdown",
   "id": "a8d0b7ad-693c-43b7-978c-5b48fecf0e5b",
   "metadata": {},
   "source": [
    "# Numpy - Linear Algebra"
   ]
  },
  {
   "cell_type": "code",
   "execution_count": null,
   "id": "43a95fdf-e44d-4d75-be40-b2dd060e8bb3",
   "metadata": {},
   "outputs": [],
   "source": []
  },
  {
   "cell_type": "code",
   "execution_count": 41,
   "id": "e4ed843c-628f-4dac-bada-e4a58a9935fd",
   "metadata": {},
   "outputs": [],
   "source": [
    "arr1 = np.random.randint([[2,3], [4,5]])\n",
    "\n",
    "arr2 = np.random.randint([[5,3], [2,5]])"
   ]
  },
  {
   "cell_type": "code",
   "execution_count": 42,
   "id": "a62b1553-bb35-4bbd-8615-03db79c14c40",
   "metadata": {},
   "outputs": [
    {
     "data": {
      "text/plain": [
       "array([[0, 0],\n",
       "       [1, 1]])"
      ]
     },
     "execution_count": 42,
     "metadata": {},
     "output_type": "execute_result"
    }
   ],
   "source": [
    "arr1"
   ]
  },
  {
   "cell_type": "code",
   "execution_count": 43,
   "id": "de958451-3d36-4674-9ecb-029b8d40270b",
   "metadata": {},
   "outputs": [
    {
     "data": {
      "text/plain": [
       "array([[2, 1],\n",
       "       [1, 4]])"
      ]
     },
     "execution_count": 43,
     "metadata": {},
     "output_type": "execute_result"
    }
   ],
   "source": [
    "arr2"
   ]
  },
  {
   "cell_type": "code",
   "execution_count": 44,
   "id": "18f138f1-c670-403b-837b-0274611dfd25",
   "metadata": {},
   "outputs": [
    {
     "data": {
      "text/plain": [
       "array([[0, 0],\n",
       "       [3, 5]])"
      ]
     },
     "execution_count": 44,
     "metadata": {},
     "output_type": "execute_result"
    }
   ],
   "source": [
    "np.dot(arr1,arr2)"
   ]
  },
  {
   "cell_type": "code",
   "execution_count": 46,
   "id": "586a4788-5973-4868-803d-dd3c1dad560d",
   "metadata": {},
   "outputs": [
    {
     "data": {
      "text/plain": [
       "array([[0, 0],\n",
       "       [3, 5]])"
      ]
     },
     "execution_count": 46,
     "metadata": {},
     "output_type": "execute_result"
    }
   ],
   "source": [
    "arr1 @ arr2 # this and above both same. fist one is code and second one is symbol"
   ]
  },
  {
   "cell_type": "code",
   "execution_count": null,
   "id": "c471d128-4fb0-4eaa-88b2-d9a8d6c0ead7",
   "metadata": {},
   "outputs": [],
   "source": []
  }
 ],
 "metadata": {
  "kernelspec": {
   "display_name": "Python 3 (ipykernel)",
   "language": "python",
   "name": "python3"
  },
  "language_info": {
   "codemirror_mode": {
    "name": "ipython",
    "version": 3
   },
   "file_extension": ".py",
   "mimetype": "text/x-python",
   "name": "python",
   "nbconvert_exporter": "python",
   "pygments_lexer": "ipython3",
   "version": "3.10.8"
  }
 },
 "nbformat": 4,
 "nbformat_minor": 5
}
