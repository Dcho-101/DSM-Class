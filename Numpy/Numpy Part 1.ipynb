{
 "cells": [
  {
   "cell_type": "code",
   "execution_count": 1,
   "id": "7dc8c365-6f92-45f7-a3d8-2f75a29806c7",
   "metadata": {},
   "outputs": [],
   "source": [
    "import numpy as np"
   ]
  },
  {
   "cell_type": "code",
   "execution_count": 2,
   "id": "e8a6193d-f469-49e4-a852-033ae0a3204d",
   "metadata": {},
   "outputs": [],
   "source": [
    "l = [1,2,3,4]"
   ]
  },
  {
   "cell_type": "code",
   "execution_count": 3,
   "id": "0d5064a4-e124-4778-a555-ff791413a3d7",
   "metadata": {},
   "outputs": [],
   "source": [
    "ar = np.array(l)"
   ]
  },
  {
   "cell_type": "code",
   "execution_count": 4,
   "id": "0c2d9565-cb72-4cd9-a364-348b67ba754b",
   "metadata": {},
   "outputs": [
    {
     "data": {
      "text/plain": [
       "array([1, 2, 3, 4])"
      ]
     },
     "execution_count": 4,
     "metadata": {},
     "output_type": "execute_result"
    }
   ],
   "source": [
    "ar"
   ]
  },
  {
   "cell_type": "code",
   "execution_count": 5,
   "id": "c8ac756d-0b5d-4a2c-b0f5-6b9c609bdf91",
   "metadata": {},
   "outputs": [
    {
     "data": {
      "text/plain": [
       "numpy.ndarray"
      ]
     },
     "execution_count": 5,
     "metadata": {},
     "output_type": "execute_result"
    }
   ],
   "source": [
    "type(ar)"
   ]
  },
  {
   "cell_type": "code",
   "execution_count": 6,
   "id": "0f2e6f9b-18a7-403f-b6dc-79162fefd7d1",
   "metadata": {},
   "outputs": [
    {
     "data": {
      "text/plain": [
       "array([[1, 2],\n",
       "       [3, 4]])"
      ]
     },
     "execution_count": 6,
     "metadata": {},
     "output_type": "execute_result"
    }
   ],
   "source": [
    "np.array([[1,2],[3,4]])"
   ]
  },
  {
   "cell_type": "code",
   "execution_count": 7,
   "id": "f957fd5a-b01c-433f-9742-8eccaf947487",
   "metadata": {},
   "outputs": [],
   "source": [
    "# you can use as array function"
   ]
  },
  {
   "cell_type": "code",
   "execution_count": 8,
   "id": "fc9fd05a-d97f-4689-99d7-86afe61b8733",
   "metadata": {},
   "outputs": [
    {
     "data": {
      "text/plain": [
       "array([1, 2, 3, 4])"
      ]
     },
     "execution_count": 8,
     "metadata": {},
     "output_type": "execute_result"
    }
   ],
   "source": [
    "np.asarray(l)"
   ]
  },
  {
   "cell_type": "code",
   "execution_count": 9,
   "id": "82a3f3ae-987c-4bb3-9cb2-43cd859ac3c7",
   "metadata": {},
   "outputs": [],
   "source": [
    "# you can convert an array from a list by using as any array function\n"
   ]
  },
  {
   "cell_type": "code",
   "execution_count": 10,
   "id": "e7ce2e91-c1a3-4465-ac22-26576f72772c",
   "metadata": {},
   "outputs": [],
   "source": [
    "a = [2,3,4]"
   ]
  },
  {
   "cell_type": "code",
   "execution_count": 11,
   "id": "3d5326f8-a959-4693-83fe-6f3bb05e09d1",
   "metadata": {},
   "outputs": [
    {
     "data": {
      "text/plain": [
       "array([2, 3, 4])"
      ]
     },
     "execution_count": 11,
     "metadata": {},
     "output_type": "execute_result"
    }
   ],
   "source": [
    "np.asanyarray(a)"
   ]
  },
  {
   "cell_type": "code",
   "execution_count": null,
   "id": "e47c3788-0202-4932-9bb4-e42d62b7e408",
   "metadata": {},
   "outputs": [],
   "source": []
  },
  {
   "cell_type": "code",
   "execution_count": 12,
   "id": "5f71f4a5-c24d-4485-b37d-ce9eb1ebffc4",
   "metadata": {},
   "outputs": [],
   "source": [
    "b = np.matrix(l)"
   ]
  },
  {
   "cell_type": "code",
   "execution_count": 13,
   "id": "1fa22431-a153-45b6-9a9b-efae9e09b425",
   "metadata": {},
   "outputs": [
    {
     "data": {
      "text/plain": [
       "matrix([[1, 2, 3, 4]])"
      ]
     },
     "execution_count": 13,
     "metadata": {},
     "output_type": "execute_result"
    }
   ],
   "source": [
    "b"
   ]
  },
  {
   "cell_type": "code",
   "execution_count": 14,
   "id": "fa57352a-8a36-4b29-a092-d24e15f06860",
   "metadata": {},
   "outputs": [],
   "source": [
    "# matrix is by default two dimensional array"
   ]
  },
  {
   "cell_type": "code",
   "execution_count": 15,
   "id": "53bf4b40-7fb0-4ec6-a33e-b082fa227dd4",
   "metadata": {},
   "outputs": [
    {
     "data": {
      "text/plain": [
       "matrix([[1, 2, 3, 4]])"
      ]
     },
     "execution_count": 15,
     "metadata": {},
     "output_type": "execute_result"
    }
   ],
   "source": [
    "np.asanyarray(b)"
   ]
  },
  {
   "cell_type": "code",
   "execution_count": 16,
   "id": "7d445b18-947f-47d4-adaf-5366f753c876",
   "metadata": {},
   "outputs": [],
   "source": [
    "# it dosen't convert because matrix is a subset of an array"
   ]
  },
  {
   "cell_type": "code",
   "execution_count": 17,
   "id": "b8c07cf3-3a61-4590-b616-52764da298bb",
   "metadata": {},
   "outputs": [],
   "source": [
    "a = np.array(l)"
   ]
  },
  {
   "cell_type": "code",
   "execution_count": 18,
   "id": "5236eabe-0e92-4466-9e4d-ea4dacd49314",
   "metadata": {},
   "outputs": [],
   "source": [
    "c = a"
   ]
  },
  {
   "cell_type": "code",
   "execution_count": 19,
   "id": "40e79f38-62ec-4f2b-9082-372c4a19a42c",
   "metadata": {},
   "outputs": [
    {
     "data": {
      "text/plain": [
       "array([1, 2, 3, 4])"
      ]
     },
     "execution_count": 19,
     "metadata": {},
     "output_type": "execute_result"
    }
   ],
   "source": [
    "c"
   ]
  },
  {
   "cell_type": "code",
   "execution_count": 20,
   "id": "1b2e066a-5710-4850-9ef3-242ff50f7299",
   "metadata": {},
   "outputs": [
    {
     "data": {
      "text/plain": [
       "array([1, 2, 3, 4])"
      ]
     },
     "execution_count": 20,
     "metadata": {},
     "output_type": "execute_result"
    }
   ],
   "source": [
    "a"
   ]
  },
  {
   "cell_type": "code",
   "execution_count": 21,
   "id": "b00b8d80-cab6-4bee-b320-6b3c7e050a4c",
   "metadata": {},
   "outputs": [],
   "source": [
    "c[0] = 100"
   ]
  },
  {
   "cell_type": "code",
   "execution_count": 22,
   "id": "38d22e01-cd10-47ea-91aa-94266f8cbd60",
   "metadata": {},
   "outputs": [
    {
     "data": {
      "text/plain": [
       "array([100,   2,   3,   4])"
      ]
     },
     "execution_count": 22,
     "metadata": {},
     "output_type": "execute_result"
    }
   ],
   "source": [
    "c"
   ]
  },
  {
   "cell_type": "code",
   "execution_count": 23,
   "id": "0ac62826-f8d0-450f-9cc5-4fb3ba64f9ec",
   "metadata": {},
   "outputs": [
    {
     "data": {
      "text/plain": [
       "array([100,   2,   3,   4])"
      ]
     },
     "execution_count": 23,
     "metadata": {},
     "output_type": "execute_result"
    }
   ],
   "source": [
    "a"
   ]
  },
  {
   "cell_type": "code",
   "execution_count": 24,
   "id": "46b4ac56-6c25-4af3-b3a1-fde25d3ba588",
   "metadata": {},
   "outputs": [],
   "source": [
    "# it is also called swallow copy"
   ]
  },
  {
   "cell_type": "code",
   "execution_count": 25,
   "id": "29d7e2e7-35ce-4ce9-b3ac-7e867419cf95",
   "metadata": {},
   "outputs": [],
   "source": [
    "# because c and a having same value means they referencing the same location.  not the values. that's why when some values are changed into c then it will also effect in the a "
   ]
  },
  {
   "cell_type": "code",
   "execution_count": 26,
   "id": "5003c9d3-611f-4130-8ae6-540697301579",
   "metadata": {},
   "outputs": [],
   "source": [
    "# if the values copied then the changing values will not takes effect to another variable. for example"
   ]
  },
  {
   "cell_type": "code",
   "execution_count": 27,
   "id": "2c3651b8-62eb-4f57-a0c6-3e750526689e",
   "metadata": {},
   "outputs": [],
   "source": [
    "d = np.copy(a)"
   ]
  },
  {
   "cell_type": "code",
   "execution_count": 28,
   "id": "bb53877c-82c2-43bd-b687-c04fca8064de",
   "metadata": {},
   "outputs": [
    {
     "data": {
      "text/plain": [
       "array([100,   2,   3,   4])"
      ]
     },
     "execution_count": 28,
     "metadata": {},
     "output_type": "execute_result"
    }
   ],
   "source": [
    "d"
   ]
  },
  {
   "cell_type": "code",
   "execution_count": 29,
   "id": "8f95f435-4aa3-4e6f-b451-a9e91da29ae5",
   "metadata": {},
   "outputs": [
    {
     "data": {
      "text/plain": [
       "array([100,   2,   3,   4])"
      ]
     },
     "execution_count": 29,
     "metadata": {},
     "output_type": "execute_result"
    }
   ],
   "source": [
    "a"
   ]
  },
  {
   "cell_type": "code",
   "execution_count": 30,
   "id": "b83b818d-b1c1-4452-95fd-04a81e11755c",
   "metadata": {},
   "outputs": [],
   "source": [
    "a[1] = 1000"
   ]
  },
  {
   "cell_type": "code",
   "execution_count": 31,
   "id": "042a2d75-afef-47ec-95c6-056ce1a0faea",
   "metadata": {},
   "outputs": [
    {
     "data": {
      "text/plain": [
       "array([ 100, 1000,    3,    4])"
      ]
     },
     "execution_count": 31,
     "metadata": {},
     "output_type": "execute_result"
    }
   ],
   "source": [
    "a"
   ]
  },
  {
   "cell_type": "code",
   "execution_count": 32,
   "id": "84f03e39-945d-4089-8379-25c2337d62c9",
   "metadata": {},
   "outputs": [
    {
     "data": {
      "text/plain": [
       "array([100,   2,   3,   4])"
      ]
     },
     "execution_count": 32,
     "metadata": {},
     "output_type": "execute_result"
    }
   ],
   "source": [
    "d"
   ]
  },
  {
   "cell_type": "code",
   "execution_count": 33,
   "id": "7244185e-7d3d-4d20-8ac7-8ea5dda93ad5",
   "metadata": {},
   "outputs": [],
   "source": [
    "# it is also called deep copy"
   ]
  },
  {
   "cell_type": "code",
   "execution_count": null,
   "id": "ce70fbf3-458a-4b77-9444-9ab0d3b9d006",
   "metadata": {},
   "outputs": [],
   "source": []
  },
  {
   "cell_type": "code",
   "execution_count": 34,
   "id": "a835c659-3bb9-46e4-b994-c4aee3b126f2",
   "metadata": {},
   "outputs": [
    {
     "data": {
      "text/plain": [
       "array([[ True, False, False],\n",
       "       [False,  True, False],\n",
       "       [False, False,  True]])"
      ]
     },
     "execution_count": 34,
     "metadata": {},
     "output_type": "execute_result"
    }
   ],
   "source": [
    "np.fromfunction(lambda i,j : i==j , (3,3))  # it returns data as you give function"
   ]
  },
  {
   "cell_type": "raw",
   "id": "f3ce0fd7-ca63-4d82-9d3e-3d898ee0cdb7",
   "metadata": {},
   "source": [
    "# it returns like\n",
    "\n",
    "  0 1 2\n",
    "0 T F F\n",
    "1 F T F\n",
    "2 F F T"
   ]
  },
  {
   "cell_type": "code",
   "execution_count": 35,
   "id": "9e8061c3-14d9-44fc-aa4b-366c39293aac",
   "metadata": {},
   "outputs": [
    {
     "data": {
      "text/plain": [
       "array([[0., 0., 0.],\n",
       "       [0., 1., 2.],\n",
       "       [0., 2., 4.]])"
      ]
     },
     "execution_count": 35,
     "metadata": {},
     "output_type": "execute_result"
    }
   ],
   "source": [
    "np.fromfunction(lambda i,j : i*j , (3,3)) "
   ]
  },
  {
   "cell_type": "code",
   "execution_count": 36,
   "id": "7178d9ec-fda8-4c3d-84b3-ec79208eb434",
   "metadata": {},
   "outputs": [],
   "source": [
    "# another function"
   ]
  },
  {
   "cell_type": "code",
   "execution_count": 37,
   "id": "d86c7eba-9aaf-4dc3-a437-0decb790f098",
   "metadata": {},
   "outputs": [],
   "source": [
    "iterable = (i *i for i in range(5))"
   ]
  },
  {
   "cell_type": "code",
   "execution_count": 38,
   "id": "a6d6257f-9379-435b-bfef-68fc36192153",
   "metadata": {},
   "outputs": [
    {
     "data": {
      "text/plain": [
       "array([ 0.,  1.,  4.,  9., 16.])"
      ]
     },
     "execution_count": 38,
     "metadata": {},
     "output_type": "execute_result"
    }
   ],
   "source": [
    "np.fromiter(iterable, float)"
   ]
  },
  {
   "cell_type": "code",
   "execution_count": 39,
   "id": "9db4ebcb-754f-4d42-a683-b53f540aa781",
   "metadata": {},
   "outputs": [],
   "source": [
    "# separating string based on space"
   ]
  },
  {
   "cell_type": "code",
   "execution_count": 40,
   "id": "a90f9157-6c59-47c7-a9d2-fb8fe3c78081",
   "metadata": {},
   "outputs": [
    {
     "data": {
      "text/plain": [
       "array([234., 234.])"
      ]
     },
     "execution_count": 40,
     "metadata": {},
     "output_type": "execute_result"
    }
   ],
   "source": [
    "np.fromstring('234 234', sep = ' ')"
   ]
  },
  {
   "cell_type": "code",
   "execution_count": 41,
   "id": "7c5369b5-8c40-4a68-b1f2-c7039bdd869b",
   "metadata": {},
   "outputs": [
    {
     "data": {
      "text/plain": [
       "array([45., 45.])"
      ]
     },
     "execution_count": 41,
     "metadata": {},
     "output_type": "execute_result"
    }
   ],
   "source": [
    "np.fromstring('45,45', sep = ',')"
   ]
  },
  {
   "cell_type": "code",
   "execution_count": null,
   "id": "ecbedc18-5ed9-4658-9e64-7ec99ed31b18",
   "metadata": {},
   "outputs": [],
   "source": []
  },
  {
   "cell_type": "code",
   "execution_count": null,
   "id": "0e4d0b2f-ed5d-4afb-aee9-4e8e7dc280d1",
   "metadata": {},
   "outputs": [],
   "source": []
  },
  {
   "cell_type": "markdown",
   "id": "44f6a2dd-b545-4e23-a26a-5686cb04c9ac",
   "metadata": {},
   "source": [
    "# Numpy - Data Types"
   ]
  },
  {
   "cell_type": "code",
   "execution_count": 42,
   "id": "d57c9bf2-0db1-41cd-84d9-7d40db43dc03",
   "metadata": {},
   "outputs": [],
   "source": [
    "l = [2,3,4,5,6]"
   ]
  },
  {
   "cell_type": "code",
   "execution_count": 43,
   "id": "28a662cc-4592-4921-869a-8e5ff0f6bce6",
   "metadata": {},
   "outputs": [],
   "source": [
    "ar = np.array(l)"
   ]
  },
  {
   "cell_type": "code",
   "execution_count": 44,
   "id": "2b299eb5-eb23-461d-88a2-cbaaa9d4e3d2",
   "metadata": {},
   "outputs": [
    {
     "data": {
      "text/plain": [
       "array([2, 3, 4, 5, 6])"
      ]
     },
     "execution_count": 44,
     "metadata": {},
     "output_type": "execute_result"
    }
   ],
   "source": [
    "ar"
   ]
  },
  {
   "cell_type": "code",
   "execution_count": 45,
   "id": "9b9eafe7-0ebc-45c0-9724-eb3cdc5f65a0",
   "metadata": {},
   "outputs": [],
   "source": [
    "# checking the dimension of the array"
   ]
  },
  {
   "cell_type": "code",
   "execution_count": 46,
   "id": "a4876bf5-9157-4e3c-9a25-db36cb5014de",
   "metadata": {},
   "outputs": [
    {
     "data": {
      "text/plain": [
       "1"
      ]
     },
     "execution_count": 46,
     "metadata": {},
     "output_type": "execute_result"
    }
   ],
   "source": [
    "ar.ndim"
   ]
  },
  {
   "cell_type": "code",
   "execution_count": 47,
   "id": "34aae9b2-6ca0-42e3-a926-094a12735f2e",
   "metadata": {},
   "outputs": [],
   "source": [
    "ar2 = np.array([[1,2,3],[4,5,6]])"
   ]
  },
  {
   "cell_type": "code",
   "execution_count": 48,
   "id": "4f40dd08-3c59-4a40-8e4a-dd45817bd4b2",
   "metadata": {},
   "outputs": [
    {
     "data": {
      "text/plain": [
       "array([[1, 2, 3],\n",
       "       [4, 5, 6]])"
      ]
     },
     "execution_count": 48,
     "metadata": {},
     "output_type": "execute_result"
    }
   ],
   "source": [
    "ar2"
   ]
  },
  {
   "cell_type": "code",
   "execution_count": 49,
   "id": "c2820ba2-ce8e-4385-9fac-a3c2bd97d270",
   "metadata": {},
   "outputs": [
    {
     "data": {
      "text/plain": [
       "2"
      ]
     },
     "execution_count": 49,
     "metadata": {},
     "output_type": "execute_result"
    }
   ],
   "source": [
    "ar2.ndim"
   ]
  },
  {
   "cell_type": "code",
   "execution_count": 50,
   "id": "dbc12815-4f21-483a-9a72-fd3c7b045ad0",
   "metadata": {},
   "outputs": [],
   "source": [
    "# checking the total number of element in the array"
   ]
  },
  {
   "cell_type": "code",
   "execution_count": 51,
   "id": "ea7d150e-704a-4511-b676-805386ab95b7",
   "metadata": {},
   "outputs": [
    {
     "data": {
      "text/plain": [
       "5"
      ]
     },
     "execution_count": 51,
     "metadata": {},
     "output_type": "execute_result"
    }
   ],
   "source": [
    "ar.size"
   ]
  },
  {
   "cell_type": "code",
   "execution_count": 52,
   "id": "d5ff55b7-50f4-4e92-845c-f9782320f1ff",
   "metadata": {},
   "outputs": [
    {
     "data": {
      "text/plain": [
       "6"
      ]
     },
     "execution_count": 52,
     "metadata": {},
     "output_type": "execute_result"
    }
   ],
   "source": [
    "ar2.size"
   ]
  },
  {
   "cell_type": "code",
   "execution_count": 53,
   "id": "c9f79cbe-a4ae-4c96-801b-0b578775c96f",
   "metadata": {},
   "outputs": [],
   "source": [
    "# calculating the shape of the array \n",
    "\n",
    "# shape means how many axis and elements are there"
   ]
  },
  {
   "cell_type": "code",
   "execution_count": 54,
   "id": "a27afff0-03dd-48a0-b29b-f291461e5249",
   "metadata": {},
   "outputs": [
    {
     "data": {
      "text/plain": [
       "(5,)"
      ]
     },
     "execution_count": 54,
     "metadata": {},
     "output_type": "execute_result"
    }
   ],
   "source": [
    "ar.shape"
   ]
  },
  {
   "cell_type": "code",
   "execution_count": 55,
   "id": "a53d4def-3ac2-43b6-ab71-f580c1ca82b0",
   "metadata": {},
   "outputs": [
    {
     "data": {
      "text/plain": [
       "(2, 3)"
      ]
     },
     "execution_count": 55,
     "metadata": {},
     "output_type": "execute_result"
    }
   ],
   "source": [
    "ar2.shape # 1st row then column"
   ]
  },
  {
   "cell_type": "code",
   "execution_count": 56,
   "id": "820de986-6c38-4aad-9221-6d0e34623778",
   "metadata": {},
   "outputs": [
    {
     "data": {
      "text/plain": [
       "dtype('int64')"
      ]
     },
     "execution_count": 56,
     "metadata": {},
     "output_type": "execute_result"
    }
   ],
   "source": [
    "ar.dtype # type"
   ]
  },
  {
   "cell_type": "code",
   "execution_count": 57,
   "id": "cb50acd6-def6-4e6c-81f7-38cbe0d5fc9b",
   "metadata": {},
   "outputs": [
    {
     "data": {
      "text/plain": [
       "dtype('int64')"
      ]
     },
     "execution_count": 57,
     "metadata": {},
     "output_type": "execute_result"
    }
   ],
   "source": [
    "ar2.dtype"
   ]
  },
  {
   "cell_type": "code",
   "execution_count": 58,
   "id": "b5f894e7-634d-4bac-8c50-766cbc6d00a9",
   "metadata": {},
   "outputs": [],
   "source": [
    "ar22 = np.array([(1.4,45,45), (23,45,66)])"
   ]
  },
  {
   "cell_type": "code",
   "execution_count": 59,
   "id": "4dca434a-2fd7-418d-823e-f3463c7ac0db",
   "metadata": {},
   "outputs": [
    {
     "data": {
      "text/plain": [
       "array([[ 1.4, 45. , 45. ],\n",
       "       [23. , 45. , 66. ]])"
      ]
     },
     "execution_count": 59,
     "metadata": {},
     "output_type": "execute_result"
    }
   ],
   "source": [
    "ar22 # it converts the integer values to floating point values "
   ]
  },
  {
   "cell_type": "code",
   "execution_count": 60,
   "id": "54777ef8-0f8a-49f0-9520-324d6385915a",
   "metadata": {},
   "outputs": [],
   "source": [
    "# normally tou cannot range with some integer value. or floating point number as the jump value. "
   ]
  },
  {
   "cell_type": "code",
   "execution_count": 61,
   "id": "75e8b270-5501-4514-9b99-b93fb780d953",
   "metadata": {},
   "outputs": [],
   "source": [
    "# but in numpy, its possible"
   ]
  },
  {
   "cell_type": "code",
   "execution_count": 62,
   "id": "7dd21036-e4cb-4265-9d3c-dbcf6d3ed8af",
   "metadata": {},
   "outputs": [
    {
     "data": {
      "text/plain": [
       "array([2.3, 3.3, 4.3, 5.3])"
      ]
     },
     "execution_count": 62,
     "metadata": {},
     "output_type": "execute_result"
    }
   ],
   "source": [
    "np.arange(2.3,5.6)"
   ]
  },
  {
   "cell_type": "code",
   "execution_count": 63,
   "id": "87f34e4b-30a2-4475-a72b-63b9adadcb0d",
   "metadata": {},
   "outputs": [
    {
     "data": {
      "text/plain": [
       "array([2.3, 2.6, 2.9, 3.2, 3.5, 3.8, 4.1, 4.4, 4.7, 5. , 5.3])"
      ]
     },
     "execution_count": 63,
     "metadata": {},
     "output_type": "execute_result"
    }
   ],
   "source": [
    "np.arange(2.3,5.6, 0.3) # jump given to 0.3"
   ]
  },
  {
   "cell_type": "code",
   "execution_count": 64,
   "id": "d048136f-744c-4f63-bacf-9547dcd2a279",
   "metadata": {},
   "outputs": [],
   "source": [
    "# converting the above range in the list "
   ]
  },
  {
   "cell_type": "code",
   "execution_count": 65,
   "id": "3a7b168f-e7c5-4b4c-96a1-238d26c9951b",
   "metadata": {},
   "outputs": [
    {
     "data": {
      "text/plain": [
       "[2.3,\n",
       " 2.5999999999999996,\n",
       " 2.8999999999999995,\n",
       " 3.1999999999999993,\n",
       " 3.499999999999999,\n",
       " 3.799999999999999,\n",
       " 4.099999999999999,\n",
       " 4.399999999999999,\n",
       " 4.699999999999998,\n",
       " 4.999999999999998,\n",
       " 5.299999999999998]"
      ]
     },
     "execution_count": 65,
     "metadata": {},
     "output_type": "execute_result"
    }
   ],
   "source": [
    "list(np.arange(2.3,5.6, 0.3))"
   ]
  },
  {
   "cell_type": "code",
   "execution_count": 66,
   "id": "d6d0245f-b2a9-4f00-9742-d959f619238a",
   "metadata": {},
   "outputs": [
    {
     "data": {
      "text/plain": [
       "array([1.        , 1.44444444, 1.88888889, 2.33333333, 2.77777778,\n",
       "       3.22222222, 3.66666667, 4.11111111, 4.55555556, 5.        ])"
      ]
     },
     "execution_count": 66,
     "metadata": {},
     "output_type": "execute_result"
    }
   ],
   "source": [
    "np.linspace(1,5,10) \n",
    "\n",
    "# it provides 10 equal spaces between those scales (here the scale is 1 to 5)"
   ]
  },
  {
   "cell_type": "code",
   "execution_count": 67,
   "id": "f27ac4ff-e270-40b1-b9e2-b12c06304ce0",
   "metadata": {},
   "outputs": [
    {
     "data": {
      "text/plain": [
       "array([0., 0., 0., 0., 0.])"
      ]
     },
     "execution_count": 67,
     "metadata": {},
     "output_type": "execute_result"
    }
   ],
   "source": [
    "np.zeros(5) # provides an array of 5 zeros"
   ]
  },
  {
   "cell_type": "code",
   "execution_count": 68,
   "id": "0d42891a-56aa-4b89-932b-7f9cfaf48a21",
   "metadata": {},
   "outputs": [
    {
     "data": {
      "text/plain": [
       "array([[0., 0., 0., 0.],\n",
       "       [0., 0., 0., 0.],\n",
       "       [0., 0., 0., 0.]])"
      ]
     },
     "execution_count": 68,
     "metadata": {},
     "output_type": "execute_result"
    }
   ],
   "source": [
    "np.zeros((3,4)) # two dimentional"
   ]
  },
  {
   "cell_type": "code",
   "execution_count": 69,
   "id": "bdf2647b-32a4-43da-80eb-e2e9de101df7",
   "metadata": {},
   "outputs": [
    {
     "data": {
      "text/plain": [
       "array([[[0., 0.],\n",
       "        [0., 0.],\n",
       "        [0., 0.],\n",
       "        [0., 0.]],\n",
       "\n",
       "       [[0., 0.],\n",
       "        [0., 0.],\n",
       "        [0., 0.],\n",
       "        [0., 0.]],\n",
       "\n",
       "       [[0., 0.],\n",
       "        [0., 0.],\n",
       "        [0., 0.],\n",
       "        [0., 0.]]])"
      ]
     },
     "execution_count": 69,
     "metadata": {},
     "output_type": "execute_result"
    }
   ],
   "source": [
    "np.zeros((3,4,2))  # we have 4x2 and 3 such kind of array"
   ]
  },
  {
   "cell_type": "code",
   "execution_count": 70,
   "id": "7d1fbc51-0f4c-43c0-aec9-db17b145a402",
   "metadata": {},
   "outputs": [],
   "source": [
    "# you also can make 4 dimentional array but you cannot represent this via picture or graph"
   ]
  },
  {
   "cell_type": "code",
   "execution_count": 71,
   "id": "93fc0a91-46ac-45c5-92e6-e970a03c6443",
   "metadata": {},
   "outputs": [],
   "source": [
    "ar4 = np.zeros((3,4,2,3))"
   ]
  },
  {
   "cell_type": "code",
   "execution_count": 72,
   "id": "8f8981c4-4a24-4067-b9f5-990f8b7a9d79",
   "metadata": {},
   "outputs": [
    {
     "data": {
      "text/plain": [
       "array([[[[0., 0., 0.],\n",
       "         [0., 0., 0.]],\n",
       "\n",
       "        [[0., 0., 0.],\n",
       "         [0., 0., 0.]],\n",
       "\n",
       "        [[0., 0., 0.],\n",
       "         [0., 0., 0.]],\n",
       "\n",
       "        [[0., 0., 0.],\n",
       "         [0., 0., 0.]]],\n",
       "\n",
       "\n",
       "       [[[0., 0., 0.],\n",
       "         [0., 0., 0.]],\n",
       "\n",
       "        [[0., 0., 0.],\n",
       "         [0., 0., 0.]],\n",
       "\n",
       "        [[0., 0., 0.],\n",
       "         [0., 0., 0.]],\n",
       "\n",
       "        [[0., 0., 0.],\n",
       "         [0., 0., 0.]]],\n",
       "\n",
       "\n",
       "       [[[0., 0., 0.],\n",
       "         [0., 0., 0.]],\n",
       "\n",
       "        [[0., 0., 0.],\n",
       "         [0., 0., 0.]],\n",
       "\n",
       "        [[0., 0., 0.],\n",
       "         [0., 0., 0.]],\n",
       "\n",
       "        [[0., 0., 0.],\n",
       "         [0., 0., 0.]]]])"
      ]
     },
     "execution_count": 72,
     "metadata": {},
     "output_type": "execute_result"
    }
   ],
   "source": [
    "ar4"
   ]
  },
  {
   "cell_type": "code",
   "execution_count": 73,
   "id": "120375c1-47c1-4d37-bd5e-47049637461c",
   "metadata": {},
   "outputs": [
    {
     "data": {
      "text/plain": [
       "4"
      ]
     },
     "execution_count": 73,
     "metadata": {},
     "output_type": "execute_result"
    }
   ],
   "source": [
    "ar4.ndim # it will show there are 4 dimentions available"
   ]
  },
  {
   "cell_type": "code",
   "execution_count": 74,
   "id": "57de7fae-e2be-435a-8199-19eb5e11e731",
   "metadata": {},
   "outputs": [
    {
     "data": {
      "text/plain": [
       "array([1., 1., 1., 1.])"
      ]
     },
     "execution_count": 74,
     "metadata": {},
     "output_type": "execute_result"
    }
   ],
   "source": [
    "# similarly\n",
    "\n",
    "np.ones(4)"
   ]
  },
  {
   "cell_type": "code",
   "execution_count": 75,
   "id": "7bf9c3a8-d4b9-491a-8b52-de73d2505295",
   "metadata": {},
   "outputs": [
    {
     "data": {
      "text/plain": [
       "array([[1., 1., 1., 1.],\n",
       "       [1., 1., 1., 1.],\n",
       "       [1., 1., 1., 1.]])"
      ]
     },
     "execution_count": 75,
     "metadata": {},
     "output_type": "execute_result"
    }
   ],
   "source": [
    "np.ones((3,4))"
   ]
  },
  {
   "cell_type": "code",
   "execution_count": 76,
   "id": "2eaae2a0-363c-4ce5-ada7-cde639d39df0",
   "metadata": {},
   "outputs": [],
   "source": [
    "on = np.ones((3,4,5))"
   ]
  },
  {
   "cell_type": "code",
   "execution_count": 77,
   "id": "04af637d-0e9e-4caa-b018-a58800dee002",
   "metadata": {},
   "outputs": [
    {
     "data": {
      "text/plain": [
       "array([[[1., 1., 1., 1., 1.],\n",
       "        [1., 1., 1., 1., 1.],\n",
       "        [1., 1., 1., 1., 1.],\n",
       "        [1., 1., 1., 1., 1.]],\n",
       "\n",
       "       [[1., 1., 1., 1., 1.],\n",
       "        [1., 1., 1., 1., 1.],\n",
       "        [1., 1., 1., 1., 1.],\n",
       "        [1., 1., 1., 1., 1.]],\n",
       "\n",
       "       [[1., 1., 1., 1., 1.],\n",
       "        [1., 1., 1., 1., 1.],\n",
       "        [1., 1., 1., 1., 1.],\n",
       "        [1., 1., 1., 1., 1.]]])"
      ]
     },
     "execution_count": 77,
     "metadata": {},
     "output_type": "execute_result"
    }
   ],
   "source": [
    "on"
   ]
  },
  {
   "cell_type": "code",
   "execution_count": 78,
   "id": "571b4334-72cd-4e9f-8730-52a6179ff061",
   "metadata": {},
   "outputs": [
    {
     "data": {
      "text/plain": [
       "array([[[6., 6., 6., 6., 6.],\n",
       "        [6., 6., 6., 6., 6.],\n",
       "        [6., 6., 6., 6., 6.],\n",
       "        [6., 6., 6., 6., 6.]],\n",
       "\n",
       "       [[6., 6., 6., 6., 6.],\n",
       "        [6., 6., 6., 6., 6.],\n",
       "        [6., 6., 6., 6., 6.],\n",
       "        [6., 6., 6., 6., 6.]],\n",
       "\n",
       "       [[6., 6., 6., 6., 6.],\n",
       "        [6., 6., 6., 6., 6.],\n",
       "        [6., 6., 6., 6., 6.],\n",
       "        [6., 6., 6., 6., 6.]]])"
      ]
     },
     "execution_count": 78,
     "metadata": {},
     "output_type": "execute_result"
    }
   ],
   "source": [
    "on + 5 # will add 5 in all values"
   ]
  },
  {
   "cell_type": "code",
   "execution_count": 79,
   "id": "9d5a9133-ab6c-4529-b78e-673a24a5a755",
   "metadata": {},
   "outputs": [
    {
     "data": {
      "text/plain": [
       "array([[[5., 5., 5., 5., 5.],\n",
       "        [5., 5., 5., 5., 5.],\n",
       "        [5., 5., 5., 5., 5.],\n",
       "        [5., 5., 5., 5., 5.]],\n",
       "\n",
       "       [[5., 5., 5., 5., 5.],\n",
       "        [5., 5., 5., 5., 5.],\n",
       "        [5., 5., 5., 5., 5.],\n",
       "        [5., 5., 5., 5., 5.]],\n",
       "\n",
       "       [[5., 5., 5., 5., 5.],\n",
       "        [5., 5., 5., 5., 5.],\n",
       "        [5., 5., 5., 5., 5.],\n",
       "        [5., 5., 5., 5., 5.]]])"
      ]
     },
     "execution_count": 79,
     "metadata": {},
     "output_type": "execute_result"
    }
   ],
   "source": [
    "on * 5 # will multiply 5 in all values"
   ]
  },
  {
   "cell_type": "code",
   "execution_count": 80,
   "id": "19ef4df2-d161-427b-b615-ed4e1e048583",
   "metadata": {},
   "outputs": [
    {
     "data": {
      "text/plain": [
       "array([[0., 0., 0., 1., 1., 1.],\n",
       "       [2., 2., 2., 0., 1., 2.],\n",
       "       [0., 1., 2., 0., 1., 2.]])"
      ]
     },
     "execution_count": 80,
     "metadata": {},
     "output_type": "execute_result"
    }
   ],
   "source": [
    "np.empty((3,6)) # provides empty arrays"
   ]
  },
  {
   "cell_type": "code",
   "execution_count": 81,
   "id": "9d770a1b-b678-4ec4-b259-e628881c2075",
   "metadata": {},
   "outputs": [
    {
     "data": {
      "text/plain": [
       "array([[1., 0., 0., 0.],\n",
       "       [0., 1., 0., 0.],\n",
       "       [0., 0., 1., 0.],\n",
       "       [0., 0., 0., 1.]])"
      ]
     },
     "execution_count": 81,
     "metadata": {},
     "output_type": "execute_result"
    }
   ],
   "source": [
    "np.eye(4) #identity matrixes\n",
    "\n",
    "# identitiy matrixes are thoose matrixes who are square martixes. determinant is 1 and diaginal will be 1 "
   ]
  },
  {
   "cell_type": "code",
   "execution_count": 82,
   "id": "6e730b71-28a1-4bd1-a24f-940ab9ef703e",
   "metadata": {},
   "outputs": [],
   "source": [
    "# create a linespace between 2 to 4 and give 20 data"
   ]
  },
  {
   "cell_type": "code",
   "execution_count": 83,
   "id": "102df1cf-cd1f-45d3-8626-6962197fdfc6",
   "metadata": {},
   "outputs": [
    {
     "data": {
      "text/plain": [
       "array([2.        , 2.10526316, 2.21052632, 2.31578947, 2.42105263,\n",
       "       2.52631579, 2.63157895, 2.73684211, 2.84210526, 2.94736842,\n",
       "       3.05263158, 3.15789474, 3.26315789, 3.36842105, 3.47368421,\n",
       "       3.57894737, 3.68421053, 3.78947368, 3.89473684, 4.        ])"
      ]
     },
     "execution_count": 83,
     "metadata": {},
     "output_type": "execute_result"
    }
   ],
   "source": [
    "np.linspace(2,4,20)"
   ]
  },
  {
   "cell_type": "code",
   "execution_count": 84,
   "id": "5ac42588-ce60-4c15-ae69-976a518c4ef6",
   "metadata": {},
   "outputs": [
    {
     "data": {
      "text/plain": [
       "array([   100.        ,    215.443469  ,    464.15888336,   1000.        ,\n",
       "         2154.43469003,   4641.58883361,  10000.        ,  21544.34690032,\n",
       "        46415.88833613, 100000.        ])"
      ]
     },
     "execution_count": 84,
     "metadata": {},
     "output_type": "execute_result"
    }
   ],
   "source": [
    "# similarly \n",
    "\n",
    "np.logspace(2,5,10) # default base = 10"
   ]
  },
  {
   "cell_type": "code",
   "execution_count": 85,
   "id": "8811ca13-f4d1-4a89-aaa0-41bab39d7488",
   "metadata": {},
   "outputs": [
    {
     "data": {
      "text/plain": [
       "array([ 4.        ,  5.0396842 ,  6.34960421,  8.        , 10.0793684 ,\n",
       "       12.69920842, 16.        , 20.1587368 , 25.39841683, 32.        ])"
      ]
     },
     "execution_count": 85,
     "metadata": {},
     "output_type": "execute_result"
    }
   ],
   "source": [
    "np.logspace(2,5,10, base = 2)"
   ]
  },
  {
   "cell_type": "code",
   "execution_count": 86,
   "id": "c78e08d3-aa14-47b9-bd64-50b971769702",
   "metadata": {},
   "outputs": [],
   "source": [
    "# taking random number using random function"
   ]
  },
  {
   "cell_type": "code",
   "execution_count": 87,
   "id": "a409ac38-f60f-4913-a4ff-19b4db124fcf",
   "metadata": {},
   "outputs": [
    {
     "data": {
      "text/plain": [
       "array([[ 0.4670165 ,  1.0830434 ,  1.01368304, -0.12543971],\n",
       "       [-0.01799839, -0.25700901, -1.10322409,  0.6168624 ],\n",
       "       [-0.70098898, -0.97437319,  0.21365284, -1.4955328 ]])"
      ]
     },
     "execution_count": 87,
     "metadata": {},
     "output_type": "execute_result"
    }
   ],
   "source": [
    "np.random.randn(3,4)"
   ]
  },
  {
   "cell_type": "code",
   "execution_count": 88,
   "id": "def4ce20-d10a-48e4-a12c-e7311e85eb89",
   "metadata": {},
   "outputs": [],
   "source": [
    "#  storing the random data in the variable arr\n",
    "\n",
    "arr = np.random.randn(3,4) \n",
    "\n",
    "# the value providing in the randn function, the mean of the values will be 0. and the standard deviation will be 1"
   ]
  },
  {
   "cell_type": "code",
   "execution_count": 89,
   "id": "a5865dfd-667f-4293-b23b-e3fdac1530d5",
   "metadata": {},
   "outputs": [
    {
     "data": {
      "text/plain": [
       "array([[ 0.19245828, -0.28092573, -1.26501584, -0.5792475 ],\n",
       "       [ 1.06028297,  0.59307811, -0.85655047,  0.62091768],\n",
       "       [ 0.62075378, -2.84914272,  0.50243037, -0.56521596]])"
      ]
     },
     "execution_count": 89,
     "metadata": {},
     "output_type": "execute_result"
    }
   ],
   "source": [
    "arr"
   ]
  },
  {
   "cell_type": "code",
   "execution_count": 90,
   "id": "d6892bde-1196-4295-8218-3d9f9bebe63d",
   "metadata": {},
   "outputs": [],
   "source": [
    "# taking the random data and making a dataframe"
   ]
  },
  {
   "cell_type": "code",
   "execution_count": 91,
   "id": "0302a5e7-fb14-48c3-b897-12c887f345a7",
   "metadata": {},
   "outputs": [],
   "source": [
    "import pandas as pd"
   ]
  },
  {
   "cell_type": "code",
   "execution_count": 92,
   "id": "d07ef421-644e-459c-94a6-52b8e9afe038",
   "metadata": {},
   "outputs": [
    {
     "data": {
      "text/html": [
       "<div>\n",
       "<style scoped>\n",
       "    .dataframe tbody tr th:only-of-type {\n",
       "        vertical-align: middle;\n",
       "    }\n",
       "\n",
       "    .dataframe tbody tr th {\n",
       "        vertical-align: top;\n",
       "    }\n",
       "\n",
       "    .dataframe thead th {\n",
       "        text-align: right;\n",
       "    }\n",
       "</style>\n",
       "<table border=\"1\" class=\"dataframe\">\n",
       "  <thead>\n",
       "    <tr style=\"text-align: right;\">\n",
       "      <th></th>\n",
       "      <th>0</th>\n",
       "      <th>1</th>\n",
       "      <th>2</th>\n",
       "      <th>3</th>\n",
       "    </tr>\n",
       "  </thead>\n",
       "  <tbody>\n",
       "    <tr>\n",
       "      <th>0</th>\n",
       "      <td>0.192458</td>\n",
       "      <td>-0.280926</td>\n",
       "      <td>-1.265016</td>\n",
       "      <td>-0.579247</td>\n",
       "    </tr>\n",
       "    <tr>\n",
       "      <th>1</th>\n",
       "      <td>1.060283</td>\n",
       "      <td>0.593078</td>\n",
       "      <td>-0.856550</td>\n",
       "      <td>0.620918</td>\n",
       "    </tr>\n",
       "    <tr>\n",
       "      <th>2</th>\n",
       "      <td>0.620754</td>\n",
       "      <td>-2.849143</td>\n",
       "      <td>0.502430</td>\n",
       "      <td>-0.565216</td>\n",
       "    </tr>\n",
       "  </tbody>\n",
       "</table>\n",
       "</div>"
      ],
      "text/plain": [
       "          0         1         2         3\n",
       "0  0.192458 -0.280926 -1.265016 -0.579247\n",
       "1  1.060283  0.593078 -0.856550  0.620918\n",
       "2  0.620754 -2.849143  0.502430 -0.565216"
      ]
     },
     "execution_count": 92,
     "metadata": {},
     "output_type": "execute_result"
    }
   ],
   "source": [
    "pd.DataFrame(arr)"
   ]
  },
  {
   "cell_type": "code",
   "execution_count": 93,
   "id": "0fe86478-aec7-4d9d-b2b8-6be175aa223d",
   "metadata": {},
   "outputs": [
    {
     "data": {
      "text/plain": [
       "array([[0.31740495, 0.2141974 , 0.81731557, 0.85591063],\n",
       "       [0.05154292, 0.74941851, 0.42676515, 0.74566073],\n",
       "       [0.10960162, 0.27142757, 0.39233742, 0.92065044]])"
      ]
     },
     "execution_count": 93,
     "metadata": {},
     "output_type": "execute_result"
    }
   ],
   "source": [
    "# this function normally making data\n",
    "\n",
    "np.random.rand(3,4)"
   ]
  },
  {
   "cell_type": "code",
   "execution_count": 94,
   "id": "e56e50e1-f286-44db-bbcf-c51f1cc6515e",
   "metadata": {},
   "outputs": [
    {
     "data": {
      "text/plain": [
       "array([[84, 13, 66, 77],\n",
       "       [17, 27, 58, 89],\n",
       "       [94, 10, 39,  5]])"
      ]
     },
     "execution_count": 94,
     "metadata": {},
     "output_type": "execute_result"
    }
   ],
   "source": [
    "# making only integer data using random\n",
    "\n",
    "\n",
    "np.random.randint(1,110, (3,4))"
   ]
  },
  {
   "cell_type": "code",
   "execution_count": 95,
   "id": "f2d81c42-7e8b-415b-8d5d-68953cb8fcea",
   "metadata": {},
   "outputs": [
    {
     "data": {
      "text/plain": [
       "array([[ 80,  11,  19, ...,   4,  88,  84],\n",
       "       [ 61, 104,  92, ...,  45,  32,  56],\n",
       "       [ 23,  26,  45, ...,  33,  17,  43],\n",
       "       ...,\n",
       "       [ 70,  99,  16, ...,  38,  74,  46],\n",
       "       [ 22,  89,  47, ...,  90,  61,  79],\n",
       "       [103,  56,  44, ...,  58,   6,  23]])"
      ]
     },
     "execution_count": 95,
     "metadata": {},
     "output_type": "execute_result"
    }
   ],
   "source": [
    "# you can use 300 rows and 400 columns as well\n",
    "\n",
    "np.random.randint(1,110, (300,400))"
   ]
  },
  {
   "cell_type": "code",
   "execution_count": 96,
   "id": "27207cc9-395a-4ba1-bd2e-53da2fad17ec",
   "metadata": {},
   "outputs": [
    {
     "data": {
      "text/html": [
       "<div>\n",
       "<style scoped>\n",
       "    .dataframe tbody tr th:only-of-type {\n",
       "        vertical-align: middle;\n",
       "    }\n",
       "\n",
       "    .dataframe tbody tr th {\n",
       "        vertical-align: top;\n",
       "    }\n",
       "\n",
       "    .dataframe thead th {\n",
       "        text-align: right;\n",
       "    }\n",
       "</style>\n",
       "<table border=\"1\" class=\"dataframe\">\n",
       "  <thead>\n",
       "    <tr style=\"text-align: right;\">\n",
       "      <th></th>\n",
       "      <th>0</th>\n",
       "      <th>1</th>\n",
       "      <th>2</th>\n",
       "      <th>3</th>\n",
       "      <th>4</th>\n",
       "      <th>5</th>\n",
       "      <th>6</th>\n",
       "      <th>7</th>\n",
       "      <th>8</th>\n",
       "      <th>9</th>\n",
       "      <th>...</th>\n",
       "      <th>390</th>\n",
       "      <th>391</th>\n",
       "      <th>392</th>\n",
       "      <th>393</th>\n",
       "      <th>394</th>\n",
       "      <th>395</th>\n",
       "      <th>396</th>\n",
       "      <th>397</th>\n",
       "      <th>398</th>\n",
       "      <th>399</th>\n",
       "    </tr>\n",
       "  </thead>\n",
       "  <tbody>\n",
       "    <tr>\n",
       "      <th>0</th>\n",
       "      <td>90</td>\n",
       "      <td>17</td>\n",
       "      <td>8</td>\n",
       "      <td>95</td>\n",
       "      <td>98</td>\n",
       "      <td>103</td>\n",
       "      <td>24</td>\n",
       "      <td>56</td>\n",
       "      <td>11</td>\n",
       "      <td>11</td>\n",
       "      <td>...</td>\n",
       "      <td>108</td>\n",
       "      <td>56</td>\n",
       "      <td>8</td>\n",
       "      <td>35</td>\n",
       "      <td>71</td>\n",
       "      <td>49</td>\n",
       "      <td>30</td>\n",
       "      <td>18</td>\n",
       "      <td>106</td>\n",
       "      <td>75</td>\n",
       "    </tr>\n",
       "    <tr>\n",
       "      <th>1</th>\n",
       "      <td>56</td>\n",
       "      <td>22</td>\n",
       "      <td>13</td>\n",
       "      <td>48</td>\n",
       "      <td>8</td>\n",
       "      <td>93</td>\n",
       "      <td>81</td>\n",
       "      <td>69</td>\n",
       "      <td>87</td>\n",
       "      <td>102</td>\n",
       "      <td>...</td>\n",
       "      <td>74</td>\n",
       "      <td>74</td>\n",
       "      <td>107</td>\n",
       "      <td>39</td>\n",
       "      <td>92</td>\n",
       "      <td>86</td>\n",
       "      <td>18</td>\n",
       "      <td>61</td>\n",
       "      <td>64</td>\n",
       "      <td>61</td>\n",
       "    </tr>\n",
       "    <tr>\n",
       "      <th>2</th>\n",
       "      <td>101</td>\n",
       "      <td>88</td>\n",
       "      <td>105</td>\n",
       "      <td>25</td>\n",
       "      <td>13</td>\n",
       "      <td>2</td>\n",
       "      <td>27</td>\n",
       "      <td>18</td>\n",
       "      <td>48</td>\n",
       "      <td>65</td>\n",
       "      <td>...</td>\n",
       "      <td>21</td>\n",
       "      <td>70</td>\n",
       "      <td>96</td>\n",
       "      <td>56</td>\n",
       "      <td>28</td>\n",
       "      <td>56</td>\n",
       "      <td>78</td>\n",
       "      <td>65</td>\n",
       "      <td>97</td>\n",
       "      <td>109</td>\n",
       "    </tr>\n",
       "    <tr>\n",
       "      <th>3</th>\n",
       "      <td>87</td>\n",
       "      <td>46</td>\n",
       "      <td>31</td>\n",
       "      <td>10</td>\n",
       "      <td>105</td>\n",
       "      <td>47</td>\n",
       "      <td>14</td>\n",
       "      <td>103</td>\n",
       "      <td>45</td>\n",
       "      <td>85</td>\n",
       "      <td>...</td>\n",
       "      <td>79</td>\n",
       "      <td>13</td>\n",
       "      <td>102</td>\n",
       "      <td>57</td>\n",
       "      <td>93</td>\n",
       "      <td>93</td>\n",
       "      <td>62</td>\n",
       "      <td>35</td>\n",
       "      <td>76</td>\n",
       "      <td>87</td>\n",
       "    </tr>\n",
       "    <tr>\n",
       "      <th>4</th>\n",
       "      <td>25</td>\n",
       "      <td>12</td>\n",
       "      <td>96</td>\n",
       "      <td>98</td>\n",
       "      <td>17</td>\n",
       "      <td>35</td>\n",
       "      <td>36</td>\n",
       "      <td>67</td>\n",
       "      <td>103</td>\n",
       "      <td>74</td>\n",
       "      <td>...</td>\n",
       "      <td>41</td>\n",
       "      <td>56</td>\n",
       "      <td>29</td>\n",
       "      <td>95</td>\n",
       "      <td>106</td>\n",
       "      <td>69</td>\n",
       "      <td>67</td>\n",
       "      <td>67</td>\n",
       "      <td>94</td>\n",
       "      <td>54</td>\n",
       "    </tr>\n",
       "    <tr>\n",
       "      <th>...</th>\n",
       "      <td>...</td>\n",
       "      <td>...</td>\n",
       "      <td>...</td>\n",
       "      <td>...</td>\n",
       "      <td>...</td>\n",
       "      <td>...</td>\n",
       "      <td>...</td>\n",
       "      <td>...</td>\n",
       "      <td>...</td>\n",
       "      <td>...</td>\n",
       "      <td>...</td>\n",
       "      <td>...</td>\n",
       "      <td>...</td>\n",
       "      <td>...</td>\n",
       "      <td>...</td>\n",
       "      <td>...</td>\n",
       "      <td>...</td>\n",
       "      <td>...</td>\n",
       "      <td>...</td>\n",
       "      <td>...</td>\n",
       "      <td>...</td>\n",
       "    </tr>\n",
       "    <tr>\n",
       "      <th>295</th>\n",
       "      <td>97</td>\n",
       "      <td>94</td>\n",
       "      <td>27</td>\n",
       "      <td>76</td>\n",
       "      <td>88</td>\n",
       "      <td>21</td>\n",
       "      <td>70</td>\n",
       "      <td>17</td>\n",
       "      <td>69</td>\n",
       "      <td>41</td>\n",
       "      <td>...</td>\n",
       "      <td>94</td>\n",
       "      <td>101</td>\n",
       "      <td>29</td>\n",
       "      <td>9</td>\n",
       "      <td>37</td>\n",
       "      <td>82</td>\n",
       "      <td>69</td>\n",
       "      <td>42</td>\n",
       "      <td>89</td>\n",
       "      <td>75</td>\n",
       "    </tr>\n",
       "    <tr>\n",
       "      <th>296</th>\n",
       "      <td>71</td>\n",
       "      <td>44</td>\n",
       "      <td>83</td>\n",
       "      <td>103</td>\n",
       "      <td>69</td>\n",
       "      <td>45</td>\n",
       "      <td>8</td>\n",
       "      <td>100</td>\n",
       "      <td>68</td>\n",
       "      <td>62</td>\n",
       "      <td>...</td>\n",
       "      <td>64</td>\n",
       "      <td>94</td>\n",
       "      <td>92</td>\n",
       "      <td>83</td>\n",
       "      <td>62</td>\n",
       "      <td>56</td>\n",
       "      <td>6</td>\n",
       "      <td>104</td>\n",
       "      <td>58</td>\n",
       "      <td>7</td>\n",
       "    </tr>\n",
       "    <tr>\n",
       "      <th>297</th>\n",
       "      <td>26</td>\n",
       "      <td>78</td>\n",
       "      <td>75</td>\n",
       "      <td>10</td>\n",
       "      <td>48</td>\n",
       "      <td>83</td>\n",
       "      <td>32</td>\n",
       "      <td>44</td>\n",
       "      <td>88</td>\n",
       "      <td>72</td>\n",
       "      <td>...</td>\n",
       "      <td>47</td>\n",
       "      <td>95</td>\n",
       "      <td>82</td>\n",
       "      <td>24</td>\n",
       "      <td>95</td>\n",
       "      <td>9</td>\n",
       "      <td>103</td>\n",
       "      <td>81</td>\n",
       "      <td>102</td>\n",
       "      <td>76</td>\n",
       "    </tr>\n",
       "    <tr>\n",
       "      <th>298</th>\n",
       "      <td>68</td>\n",
       "      <td>4</td>\n",
       "      <td>61</td>\n",
       "      <td>91</td>\n",
       "      <td>79</td>\n",
       "      <td>57</td>\n",
       "      <td>94</td>\n",
       "      <td>51</td>\n",
       "      <td>61</td>\n",
       "      <td>12</td>\n",
       "      <td>...</td>\n",
       "      <td>50</td>\n",
       "      <td>29</td>\n",
       "      <td>65</td>\n",
       "      <td>5</td>\n",
       "      <td>32</td>\n",
       "      <td>32</td>\n",
       "      <td>35</td>\n",
       "      <td>65</td>\n",
       "      <td>82</td>\n",
       "      <td>27</td>\n",
       "    </tr>\n",
       "    <tr>\n",
       "      <th>299</th>\n",
       "      <td>92</td>\n",
       "      <td>64</td>\n",
       "      <td>109</td>\n",
       "      <td>14</td>\n",
       "      <td>71</td>\n",
       "      <td>31</td>\n",
       "      <td>95</td>\n",
       "      <td>7</td>\n",
       "      <td>84</td>\n",
       "      <td>21</td>\n",
       "      <td>...</td>\n",
       "      <td>91</td>\n",
       "      <td>76</td>\n",
       "      <td>71</td>\n",
       "      <td>60</td>\n",
       "      <td>52</td>\n",
       "      <td>59</td>\n",
       "      <td>21</td>\n",
       "      <td>83</td>\n",
       "      <td>42</td>\n",
       "      <td>99</td>\n",
       "    </tr>\n",
       "  </tbody>\n",
       "</table>\n",
       "<p>300 rows × 400 columns</p>\n",
       "</div>"
      ],
      "text/plain": [
       "     0    1    2    3    4    5    6    7    8    9    ...  390  391  392  \\\n",
       "0     90   17    8   95   98  103   24   56   11   11  ...  108   56    8   \n",
       "1     56   22   13   48    8   93   81   69   87  102  ...   74   74  107   \n",
       "2    101   88  105   25   13    2   27   18   48   65  ...   21   70   96   \n",
       "3     87   46   31   10  105   47   14  103   45   85  ...   79   13  102   \n",
       "4     25   12   96   98   17   35   36   67  103   74  ...   41   56   29   \n",
       "..   ...  ...  ...  ...  ...  ...  ...  ...  ...  ...  ...  ...  ...  ...   \n",
       "295   97   94   27   76   88   21   70   17   69   41  ...   94  101   29   \n",
       "296   71   44   83  103   69   45    8  100   68   62  ...   64   94   92   \n",
       "297   26   78   75   10   48   83   32   44   88   72  ...   47   95   82   \n",
       "298   68    4   61   91   79   57   94   51   61   12  ...   50   29   65   \n",
       "299   92   64  109   14   71   31   95    7   84   21  ...   91   76   71   \n",
       "\n",
       "     393  394  395  396  397  398  399  \n",
       "0     35   71   49   30   18  106   75  \n",
       "1     39   92   86   18   61   64   61  \n",
       "2     56   28   56   78   65   97  109  \n",
       "3     57   93   93   62   35   76   87  \n",
       "4     95  106   69   67   67   94   54  \n",
       "..   ...  ...  ...  ...  ...  ...  ...  \n",
       "295    9   37   82   69   42   89   75  \n",
       "296   83   62   56    6  104   58    7  \n",
       "297   24   95    9  103   81  102   76  \n",
       "298    5   32   32   35   65   82   27  \n",
       "299   60   52   59   21   83   42   99  \n",
       "\n",
       "[300 rows x 400 columns]"
      ]
     },
     "execution_count": 96,
     "metadata": {},
     "output_type": "execute_result"
    }
   ],
   "source": [
    "# putting in a dataframe\n",
    "\n",
    "pd.DataFrame(np.random.randint(1,110, (300,400)))"
   ]
  },
  {
   "cell_type": "code",
   "execution_count": 97,
   "id": "7ef5608c-e9dd-4558-83c2-85b9a2869f72",
   "metadata": {},
   "outputs": [],
   "source": [
    "# storing into a csv file\n",
    "\n",
    "\n",
    "pd.DataFrame(np.random.randint(1,110, (300,400))).to_csv('300 400.csv')"
   ]
  },
  {
   "cell_type": "code",
   "execution_count": null,
   "id": "f9369daf-342d-4465-baca-25483f1767a2",
   "metadata": {},
   "outputs": [],
   "source": []
  },
  {
   "cell_type": "code",
   "execution_count": 98,
   "id": "d001642b-0172-4d75-bfb2-1dd823db8ddf",
   "metadata": {},
   "outputs": [],
   "source": [
    "arr = np.random.rand(3,4)"
   ]
  },
  {
   "cell_type": "code",
   "execution_count": 99,
   "id": "13ecf7f2-ae88-4b38-b070-86362d8d9b5c",
   "metadata": {},
   "outputs": [
    {
     "data": {
      "text/plain": [
       "array([[0.41077906, 0.73080727, 0.05579215, 0.38062446],\n",
       "       [0.58007226, 0.06261096, 0.28457137, 0.36572091],\n",
       "       [0.77220641, 0.96670906, 0.00556159, 0.54494916]])"
      ]
     },
     "execution_count": 99,
     "metadata": {},
     "output_type": "execute_result"
    }
   ],
   "source": [
    "arr"
   ]
  },
  {
   "cell_type": "code",
   "execution_count": 100,
   "id": "57910d06-02c7-4778-8f35-e8548010705d",
   "metadata": {},
   "outputs": [],
   "source": [
    "# converting the above shape into different shape"
   ]
  },
  {
   "cell_type": "code",
   "execution_count": 101,
   "id": "ee853304-066d-471b-8459-24c8bc56943e",
   "metadata": {},
   "outputs": [],
   "source": [
    "arr1 = arr.reshape(6,2)"
   ]
  },
  {
   "cell_type": "code",
   "execution_count": 102,
   "id": "e68fa22e-7898-4650-948a-d11965e5865a",
   "metadata": {},
   "outputs": [
    {
     "data": {
      "text/plain": [
       "array([[0.41077906, 0.73080727],\n",
       "       [0.05579215, 0.38062446],\n",
       "       [0.58007226, 0.06261096],\n",
       "       [0.28457137, 0.36572091],\n",
       "       [0.77220641, 0.96670906],\n",
       "       [0.00556159, 0.54494916]])"
      ]
     },
     "execution_count": 102,
     "metadata": {},
     "output_type": "execute_result"
    }
   ],
   "source": [
    "arr1"
   ]
  },
  {
   "cell_type": "code",
   "execution_count": 103,
   "id": "ae2a3cfd-350a-4b40-bc2d-028b4d687b0a",
   "metadata": {},
   "outputs": [],
   "source": [
    "# fetching 0.43670176 number from the array"
   ]
  },
  {
   "cell_type": "code",
   "execution_count": 104,
   "id": "6176dcba-069f-476d-9cab-627fbdf06211",
   "metadata": {},
   "outputs": [
    {
     "data": {
      "text/plain": [
       "0.3806244628876432"
      ]
     },
     "execution_count": 104,
     "metadata": {},
     "output_type": "execute_result"
    }
   ],
   "source": [
    "arr1[1][1]"
   ]
  },
  {
   "cell_type": "code",
   "execution_count": 105,
   "id": "724022d5-43cb-490f-a8d2-7184fdae828b",
   "metadata": {},
   "outputs": [],
   "source": [
    "# extracting the 0.28175447,0.25959448, and  0.73404579 values"
   ]
  },
  {
   "cell_type": "code",
   "execution_count": 106,
   "id": "bdb1b726-6010-4cfd-a332-7e572a650ee7",
   "metadata": {},
   "outputs": [
    {
     "data": {
      "text/plain": [
       "array([0.06261096, 0.36572091, 0.96670906])"
      ]
     },
     "execution_count": 106,
     "metadata": {},
     "output_type": "execute_result"
    }
   ],
   "source": [
    "arr1[2:5, 1]"
   ]
  },
  {
   "cell_type": "code",
   "execution_count": 107,
   "id": "347fe754-dd49-4ee2-9f50-1d72030274b5",
   "metadata": {},
   "outputs": [],
   "source": [
    "# taking another array"
   ]
  },
  {
   "cell_type": "code",
   "execution_count": 108,
   "id": "14b6ff82-480d-4ed0-933b-b7e4afca095e",
   "metadata": {},
   "outputs": [],
   "source": [
    "arr3 = np.random.randint(1,100, (5,5))"
   ]
  },
  {
   "cell_type": "code",
   "execution_count": 109,
   "id": "dfdc577c-b615-4a5f-9284-9911204c13a1",
   "metadata": {},
   "outputs": [
    {
     "data": {
      "text/plain": [
       "array([[ 6, 84, 23, 18, 79],\n",
       "       [60, 72, 79, 42, 47],\n",
       "       [24,  4, 50, 74, 81],\n",
       "       [37, 38, 34, 80, 71],\n",
       "       [ 4, 96, 39, 63, 50]])"
      ]
     },
     "execution_count": 109,
     "metadata": {},
     "output_type": "execute_result"
    }
   ],
   "source": [
    "arr3"
   ]
  },
  {
   "cell_type": "code",
   "execution_count": 110,
   "id": "b532ebf6-f74a-4c72-b913-ebb88a35c035",
   "metadata": {},
   "outputs": [],
   "source": [
    "# extract those value which are more than 50"
   ]
  },
  {
   "cell_type": "code",
   "execution_count": 111,
   "id": "bbd42357-49dd-4712-8fd4-189b4ff43433",
   "metadata": {},
   "outputs": [
    {
     "data": {
      "text/plain": [
       "array([[False,  True, False, False,  True],\n",
       "       [ True,  True,  True, False, False],\n",
       "       [False, False, False,  True,  True],\n",
       "       [False, False, False,  True,  True],\n",
       "       [False,  True, False,  True, False]])"
      ]
     },
     "execution_count": 111,
     "metadata": {},
     "output_type": "execute_result"
    }
   ],
   "source": [
    "arr3>50"
   ]
  },
  {
   "cell_type": "code",
   "execution_count": 112,
   "id": "f1f4d9e4-1c10-4f25-860e-073d9290d77c",
   "metadata": {},
   "outputs": [
    {
     "data": {
      "text/plain": [
       "array([84, 79, 60, 72, 79, 74, 81, 80, 71, 96, 63])"
      ]
     },
     "execution_count": 112,
     "metadata": {},
     "output_type": "execute_result"
    }
   ],
   "source": [
    "arr3[arr3>50]"
   ]
  },
  {
   "cell_type": "code",
   "execution_count": null,
   "id": "6fcf428d-e8c5-43f3-882e-541d6cc4ddd2",
   "metadata": {},
   "outputs": [],
   "source": []
  },
  {
   "cell_type": "code",
   "execution_count": 113,
   "id": "1cc4c213-86f4-47a7-84ca-9a9324e04c5c",
   "metadata": {},
   "outputs": [
    {
     "data": {
      "text/plain": [
       "array([[ 6, 84, 23, 18, 79],\n",
       "       [60, 72, 79, 42, 47],\n",
       "       [24,  4, 50, 74, 81],\n",
       "       [37, 38, 34, 80, 71],\n",
       "       [ 4, 96, 39, 63, 50]])"
      ]
     },
     "execution_count": 113,
     "metadata": {},
     "output_type": "execute_result"
    }
   ],
   "source": [
    "arr3"
   ]
  },
  {
   "cell_type": "code",
   "execution_count": 114,
   "id": "c3597636-e361-4abc-b595-99952eaba5d1",
   "metadata": {},
   "outputs": [
    {
     "data": {
      "text/plain": [
       "array([[ 4, 50],\n",
       "       [38, 34]])"
      ]
     },
     "execution_count": 114,
     "metadata": {},
     "output_type": "execute_result"
    }
   ],
   "source": [
    "arr3[2:4,[1,2]]"
   ]
  },
  {
   "cell_type": "code",
   "execution_count": 115,
   "id": "3b96c9c4-2dbb-48a7-ae23-295d6b6c17ca",
   "metadata": {},
   "outputs": [],
   "source": [
    "arr3[0][0] = 5000"
   ]
  },
  {
   "cell_type": "code",
   "execution_count": 116,
   "id": "85f6260d-8b29-47ee-9278-acdc1123de4e",
   "metadata": {},
   "outputs": [
    {
     "data": {
      "text/plain": [
       "array([[5000,   84,   23,   18,   79],\n",
       "       [  60,   72,   79,   42,   47],\n",
       "       [  24,    4,   50,   74,   81],\n",
       "       [  37,   38,   34,   80,   71],\n",
       "       [   4,   96,   39,   63,   50]])"
      ]
     },
     "execution_count": 116,
     "metadata": {},
     "output_type": "execute_result"
    }
   ],
   "source": [
    "arr3"
   ]
  },
  {
   "cell_type": "code",
   "execution_count": null,
   "id": "0c3a4fd0-1398-4016-b611-1d4efdeca1e1",
   "metadata": {},
   "outputs": [],
   "source": []
  },
  {
   "cell_type": "code",
   "execution_count": 117,
   "id": "045ea58a-9e2d-40a8-863a-fed484536812",
   "metadata": {},
   "outputs": [],
   "source": [
    "# creatimg an array for evaluating function"
   ]
  },
  {
   "cell_type": "code",
   "execution_count": 118,
   "id": "8f611cd7-3343-4cfb-9fd6-b12ca27b2a0b",
   "metadata": {},
   "outputs": [],
   "source": [
    "arr1 = np.random.randint(1,3, (3,3))"
   ]
  },
  {
   "cell_type": "code",
   "execution_count": 119,
   "id": "ff9ac7c4-32d0-4c8a-925f-98fd5720d241",
   "metadata": {},
   "outputs": [
    {
     "data": {
      "text/plain": [
       "array([[2, 2, 1],\n",
       "       [1, 2, 2],\n",
       "       [1, 1, 2]])"
      ]
     },
     "execution_count": 119,
     "metadata": {},
     "output_type": "execute_result"
    }
   ],
   "source": [
    "arr1"
   ]
  },
  {
   "cell_type": "code",
   "execution_count": 120,
   "id": "8ef3bdf4-83e7-4892-bcfe-282198121c96",
   "metadata": {},
   "outputs": [],
   "source": [
    "arr2 = np.random.randint(1,3, (3,3))"
   ]
  },
  {
   "cell_type": "code",
   "execution_count": 121,
   "id": "6da3b9b2-a4ca-4fb3-b09b-026cb6715470",
   "metadata": {},
   "outputs": [
    {
     "data": {
      "text/plain": [
       "array([[2, 2, 2],\n",
       "       [2, 2, 2],\n",
       "       [2, 1, 2]])"
      ]
     },
     "execution_count": 121,
     "metadata": {},
     "output_type": "execute_result"
    }
   ],
   "source": [
    "arr2"
   ]
  },
  {
   "cell_type": "code",
   "execution_count": 122,
   "id": "84714011-fe7a-495e-a143-7693c5cd32b6",
   "metadata": {},
   "outputs": [
    {
     "data": {
      "text/plain": [
       "array([[4, 4, 3],\n",
       "       [3, 4, 4],\n",
       "       [3, 2, 4]])"
      ]
     },
     "execution_count": 122,
     "metadata": {},
     "output_type": "execute_result"
    }
   ],
   "source": [
    "arr1 +arr2 # creates index mapping and makes addition"
   ]
  },
  {
   "cell_type": "code",
   "execution_count": 123,
   "id": "edc3e6f7-9015-4afb-aba0-c3a1a0c2b147",
   "metadata": {},
   "outputs": [
    {
     "data": {
      "text/plain": [
       "array([[ 0,  0, -1],\n",
       "       [-1,  0,  0],\n",
       "       [-1,  0,  0]])"
      ]
     },
     "execution_count": 123,
     "metadata": {},
     "output_type": "execute_result"
    }
   ],
   "source": [
    "arr1 -arr2"
   ]
  },
  {
   "cell_type": "code",
   "execution_count": 124,
   "id": "a3e2c788-40c3-474c-8e24-ecf8c6c616e0",
   "metadata": {},
   "outputs": [
    {
     "data": {
      "text/plain": [
       "array([[4, 4, 2],\n",
       "       [2, 4, 4],\n",
       "       [2, 1, 4]])"
      ]
     },
     "execution_count": 124,
     "metadata": {},
     "output_type": "execute_result"
    }
   ],
   "source": [
    "arr1*arr2 # it does not making matrix multiplication. it simply making index multiplication"
   ]
  },
  {
   "cell_type": "code",
   "execution_count": 125,
   "id": "aa115865-c542-4cb5-9084-873f85d1efe7",
   "metadata": {},
   "outputs": [
    {
     "data": {
      "text/plain": [
       "array([[1. , 1. , 0.5],\n",
       "       [0.5, 1. , 1. ],\n",
       "       [0.5, 1. , 1. ]])"
      ]
     },
     "execution_count": 125,
     "metadata": {},
     "output_type": "execute_result"
    }
   ],
   "source": [
    "arr1/arr2"
   ]
  },
  {
   "cell_type": "code",
   "execution_count": 126,
   "id": "95f182b0-ece8-4c59-975f-e3c3afda67f9",
   "metadata": {},
   "outputs": [],
   "source": [
    "# rule 1 of martix multiplication\n",
    "\n",
    "# column of first matrixes and row of second martixes should be equal then you can multiply otherwise you cannot"
   ]
  },
  {
   "cell_type": "code",
   "execution_count": 127,
   "id": "3ca66f09-7580-43ed-92fd-c045cdd391be",
   "metadata": {},
   "outputs": [],
   "source": [
    "# @ makes matrix multiplication"
   ]
  },
  {
   "cell_type": "code",
   "execution_count": 128,
   "id": "87034ff4-b7be-48fa-9e5f-7ad9b9a933af",
   "metadata": {},
   "outputs": [
    {
     "data": {
      "text/plain": [
       "array([[10,  9, 10],\n",
       "       [10,  8, 10],\n",
       "       [ 8,  6,  8]])"
      ]
     },
     "execution_count": 128,
     "metadata": {},
     "output_type": "execute_result"
    }
   ],
   "source": [
    "arr1@arr2"
   ]
  },
  {
   "cell_type": "code",
   "execution_count": 129,
   "id": "b91e6be0-142f-432b-88b8-478c97cfb38c",
   "metadata": {},
   "outputs": [
    {
     "name": "stderr",
     "output_type": "stream",
     "text": [
      "/tmp/ipykernel_308/3913564557.py:1: RuntimeWarning: divide by zero encountered in divide\n",
      "  arr1/0 # generally comes error but here comes infinity\n"
     ]
    },
    {
     "data": {
      "text/plain": [
       "array([[inf, inf, inf],\n",
       "       [inf, inf, inf],\n",
       "       [inf, inf, inf]])"
      ]
     },
     "execution_count": 129,
     "metadata": {},
     "output_type": "execute_result"
    }
   ],
   "source": [
    "arr1/0 # generally comes error but here comes infinity"
   ]
  },
  {
   "cell_type": "code",
   "execution_count": 130,
   "id": "bb1c7c36-3fde-4a66-b56f-71bdd135016f",
   "metadata": {},
   "outputs": [
    {
     "data": {
      "text/plain": [
       "array([[102, 102, 101],\n",
       "       [101, 102, 102],\n",
       "       [101, 101, 102]])"
      ]
     },
     "execution_count": 130,
     "metadata": {},
     "output_type": "execute_result"
    }
   ],
   "source": [
    "arr1 + 100"
   ]
  },
  {
   "cell_type": "code",
   "execution_count": 131,
   "id": "74e032a2-8b32-4cac-adf1-bb2fc11f8ba9",
   "metadata": {},
   "outputs": [
    {
     "data": {
      "text/plain": [
       "array([[4, 4, 1],\n",
       "       [1, 4, 4],\n",
       "       [1, 1, 4]])"
      ]
     },
     "execution_count": 131,
     "metadata": {},
     "output_type": "execute_result"
    }
   ],
   "source": [
    "arr1 ** 2"
   ]
  },
  {
   "cell_type": "code",
   "execution_count": null,
   "id": "cb3e3999-3acd-4ba1-8ab8-400539ea6a79",
   "metadata": {},
   "outputs": [],
   "source": []
  },
  {
   "cell_type": "markdown",
   "id": "ad248471-1780-4014-bf09-54c209afe074",
   "metadata": {},
   "source": [
    "# Numpy- Brodcasting"
   ]
  },
  {
   "cell_type": "code",
   "execution_count": 159,
   "id": "4ad9a766-73a6-4d55-8147-a32025245b03",
   "metadata": {},
   "outputs": [],
   "source": [
    "arr = np.zeros((4,5))"
   ]
  },
  {
   "cell_type": "code",
   "execution_count": 160,
   "id": "a9e872d1-f832-46e2-b080-26e331316708",
   "metadata": {},
   "outputs": [
    {
     "data": {
      "text/plain": [
       "array([[0., 0., 0., 0., 0.],\n",
       "       [0., 0., 0., 0., 0.],\n",
       "       [0., 0., 0., 0., 0.],\n",
       "       [0., 0., 0., 0., 0.]])"
      ]
     },
     "execution_count": 160,
     "metadata": {},
     "output_type": "execute_result"
    }
   ],
   "source": [
    "arr"
   ]
  },
  {
   "cell_type": "code",
   "execution_count": 164,
   "id": "b2e81083-35f3-4ec9-bf09-8dc70ef5adf0",
   "metadata": {},
   "outputs": [],
   "source": [
    "row = np.array([1,2,3,4,5])"
   ]
  },
  {
   "cell_type": "code",
   "execution_count": 165,
   "id": "0b476865-a2d1-41ef-b57f-ab3c0070747f",
   "metadata": {},
   "outputs": [
    {
     "data": {
      "text/plain": [
       "array([1, 2, 3, 4, 5])"
      ]
     },
     "execution_count": 165,
     "metadata": {},
     "output_type": "execute_result"
    }
   ],
   "source": [
    "row"
   ]
  },
  {
   "cell_type": "code",
   "execution_count": 166,
   "id": "f2c82646-ef79-4a1d-b2d8-fc8286edc948",
   "metadata": {},
   "outputs": [
    {
     "data": {
      "text/plain": [
       "array([[1., 2., 3., 4., 5.],\n",
       "       [1., 2., 3., 4., 5.],\n",
       "       [1., 2., 3., 4., 5.],\n",
       "       [1., 2., 3., 4., 5.]])"
      ]
     },
     "execution_count": 166,
     "metadata": {},
     "output_type": "execute_result"
    }
   ],
   "source": [
    "arr + row"
   ]
  },
  {
   "cell_type": "code",
   "execution_count": 167,
   "id": "f31c086a-162b-490e-b029-a22766457931",
   "metadata": {},
   "outputs": [],
   "source": [
    "# transposing the array\n",
    "\n",
    "# for transposing the array have to be two dimensional"
   ]
  },
  {
   "cell_type": "code",
   "execution_count": 175,
   "id": "7cf2ecdf-57ac-47e5-a6c3-8eeec7ac28cf",
   "metadata": {},
   "outputs": [],
   "source": [
    "col = np.array([[1,2,3,4]])"
   ]
  },
  {
   "cell_type": "code",
   "execution_count": 176,
   "id": "804d7a49-552a-468b-8525-a8bf526ae4f6",
   "metadata": {},
   "outputs": [
    {
     "data": {
      "text/plain": [
       "array([[1, 2, 3, 4]])"
      ]
     },
     "execution_count": 176,
     "metadata": {},
     "output_type": "execute_result"
    }
   ],
   "source": [
    "col"
   ]
  },
  {
   "cell_type": "code",
   "execution_count": 177,
   "id": "bf97d09b-476b-4354-8dae-0940a11f08eb",
   "metadata": {},
   "outputs": [
    {
     "data": {
      "text/plain": [
       "array([[1],\n",
       "       [2],\n",
       "       [3],\n",
       "       [4]])"
      ]
     },
     "execution_count": 177,
     "metadata": {},
     "output_type": "execute_result"
    }
   ],
   "source": [
    "col.T"
   ]
  },
  {
   "cell_type": "code",
   "execution_count": 178,
   "id": "b07463ac-a5dd-40e9-87da-bd5d7e7aa678",
   "metadata": {},
   "outputs": [
    {
     "data": {
      "text/plain": [
       "array([[1., 1., 1., 1., 1.],\n",
       "       [2., 2., 2., 2., 2.],\n",
       "       [3., 3., 3., 3., 3.],\n",
       "       [4., 4., 4., 4., 4.]])"
      ]
     },
     "execution_count": 178,
     "metadata": {},
     "output_type": "execute_result"
    }
   ],
   "source": [
    "col.T + arr"
   ]
  },
  {
   "cell_type": "code",
   "execution_count": null,
   "id": "a905165b-cbac-4910-825e-ba2282be4657",
   "metadata": {},
   "outputs": [],
   "source": []
  },
  {
   "cell_type": "code",
   "execution_count": null,
   "id": "0e3cf87b-20ee-45ca-99e0-211646ab8c46",
   "metadata": {},
   "outputs": [],
   "source": []
  },
  {
   "cell_type": "code",
   "execution_count": 179,
   "id": "ff3046c3-f696-4141-ab7c-0eb2244dd2d9",
   "metadata": {},
   "outputs": [],
   "source": [
    "arr5 = np.random.randint(1,4, (3,4))"
   ]
  },
  {
   "cell_type": "code",
   "execution_count": 180,
   "id": "b37b01c3-6ac5-4117-9df3-9aeb194438a0",
   "metadata": {},
   "outputs": [
    {
     "data": {
      "text/plain": [
       "array([[3, 3, 3, 2],\n",
       "       [2, 2, 3, 3],\n",
       "       [2, 2, 2, 3]])"
      ]
     },
     "execution_count": 180,
     "metadata": {},
     "output_type": "execute_result"
    }
   ],
   "source": [
    "arr5"
   ]
  },
  {
   "cell_type": "code",
   "execution_count": 181,
   "id": "f361d42e-313f-4071-99cd-3f1f59a8d205",
   "metadata": {},
   "outputs": [
    {
     "data": {
      "text/plain": [
       "array([[1.73205081, 1.73205081, 1.73205081, 1.41421356],\n",
       "       [1.41421356, 1.41421356, 1.73205081, 1.73205081],\n",
       "       [1.41421356, 1.41421356, 1.41421356, 1.73205081]])"
      ]
     },
     "execution_count": 181,
     "metadata": {},
     "output_type": "execute_result"
    }
   ],
   "source": [
    "np.sqrt(arr5) #square root"
   ]
  },
  {
   "cell_type": "code",
   "execution_count": 183,
   "id": "31808ca5-8f7e-4161-a95c-eccc35905814",
   "metadata": {},
   "outputs": [
    {
     "data": {
      "text/plain": [
       "array([[20.08553692, 20.08553692, 20.08553692,  7.3890561 ],\n",
       "       [ 7.3890561 ,  7.3890561 , 20.08553692, 20.08553692],\n",
       "       [ 7.3890561 ,  7.3890561 ,  7.3890561 , 20.08553692]])"
      ]
     },
     "execution_count": 183,
     "metadata": {},
     "output_type": "execute_result"
    }
   ],
   "source": [
    "np.exp(arr5) #exponent"
   ]
  },
  {
   "cell_type": "code",
   "execution_count": null,
   "id": "ed60e7ef-c6e2-4e69-b6e9-d7e444c5590d",
   "metadata": {},
   "outputs": [],
   "source": []
  }
 ],
 "metadata": {
  "kernelspec": {
   "display_name": "Python 3 (ipykernel)",
   "language": "python",
   "name": "python3"
  },
  "language_info": {
   "codemirror_mode": {
    "name": "ipython",
    "version": 3
   },
   "file_extension": ".py",
   "mimetype": "text/x-python",
   "name": "python",
   "nbconvert_exporter": "python",
   "pygments_lexer": "ipython3",
   "version": "3.10.8"
  }
 },
 "nbformat": 4,
 "nbformat_minor": 5
}
