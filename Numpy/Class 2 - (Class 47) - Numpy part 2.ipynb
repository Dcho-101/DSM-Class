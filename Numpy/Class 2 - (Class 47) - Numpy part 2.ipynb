{
 "cells": [
  {
   "cell_type": "markdown",
   "id": "04449d41-e61b-4199-a68e-643ddfecbbdb",
   "metadata": {},
   "source": [
    "# Numpy - Array Manipulation "
   ]
  },
  {
   "cell_type": "code",
   "execution_count": 1,
   "id": "d629ecf2-ed1f-491e-a8f5-617fd16faeaf",
   "metadata": {},
   "outputs": [],
   "source": [
    "import numpy as np"
   ]
  },
  {
   "cell_type": "code",
   "execution_count": 3,
   "id": "b6ee09e8-4c22-4039-9ba7-90f6ce72d6ec",
   "metadata": {},
   "outputs": [],
   "source": [
    "arr = np.random.randint(1,10, (3,4))"
   ]
  },
  {
   "cell_type": "code",
   "execution_count": 4,
   "id": "ea289ef4-0f9a-48c1-9979-3fde34edc4b7",
   "metadata": {},
   "outputs": [
    {
     "data": {
      "text/plain": [
       "array([[2, 8, 3, 1],\n",
       "       [3, 9, 3, 1],\n",
       "       [4, 2, 7, 5]])"
      ]
     },
     "execution_count": 4,
     "metadata": {},
     "output_type": "execute_result"
    }
   ],
   "source": [
    "arr"
   ]
  },
  {
   "cell_type": "code",
   "execution_count": 5,
   "id": "9a87a652-d6f3-479b-9121-a582b5d0781e",
   "metadata": {},
   "outputs": [
    {
     "data": {
      "text/plain": [
       "array([[2, 8],\n",
       "       [3, 1],\n",
       "       [3, 9],\n",
       "       [3, 1],\n",
       "       [4, 2],\n",
       "       [7, 5]])"
      ]
     },
     "execution_count": 5,
     "metadata": {},
     "output_type": "execute_result"
    }
   ],
   "source": [
    "arr.reshape(6,2)"
   ]
  },
  {
   "cell_type": "code",
   "execution_count": 6,
   "id": "ab6878c0-e04b-4494-9efa-16b25ebc90b2",
   "metadata": {},
   "outputs": [
    {
     "data": {
      "text/plain": [
       "array([[2, 8, 3, 1, 3, 9],\n",
       "       [3, 1, 4, 2, 7, 5]])"
      ]
     },
     "execution_count": 6,
     "metadata": {},
     "output_type": "execute_result"
    }
   ],
   "source": [
    "arr.reshape(2,6)"
   ]
  },
  {
   "cell_type": "code",
   "execution_count": 7,
   "id": "ab41aa4b-b77b-4f79-a07c-b45f9fde3e88",
   "metadata": {},
   "outputs": [
    {
     "data": {
      "text/plain": [
       "array([[2, 3, 4],\n",
       "       [8, 9, 2],\n",
       "       [3, 3, 7],\n",
       "       [1, 1, 5]])"
      ]
     },
     "execution_count": 7,
     "metadata": {},
     "output_type": "execute_result"
    }
   ],
   "source": [
    "arr.T"
   ]
  },
  {
   "cell_type": "code",
   "execution_count": 9,
   "id": "1e79cd01-947e-48cd-bfc0-9fc5df23fbbd",
   "metadata": {},
   "outputs": [
    {
     "data": {
      "text/plain": [
       "array([2, 8, 3, 1, 3, 9, 3, 1, 4, 2, 7, 5])"
      ]
     },
     "execution_count": 9,
     "metadata": {},
     "output_type": "execute_result"
    }
   ],
   "source": [
    "arr.flatten() #creatting one dimensional data from two or more dimentional data"
   ]
  },
  {
   "cell_type": "code",
   "execution_count": 10,
   "id": "949b860e-1326-43a1-81c4-18aa8fe82332",
   "metadata": {},
   "outputs": [],
   "source": [
    "arr1 = np.array([1,2,3,3,4])"
   ]
  },
  {
   "cell_type": "code",
   "execution_count": 11,
   "id": "b6a7e373-b9a9-4e0e-a2e9-58cf80cf272c",
   "metadata": {},
   "outputs": [
    {
     "data": {
      "text/plain": [
       "array([1, 2, 3, 3, 4])"
      ]
     },
     "execution_count": 11,
     "metadata": {},
     "output_type": "execute_result"
    }
   ],
   "source": [
    "arr1"
   ]
  },
  {
   "cell_type": "code",
   "execution_count": 12,
   "id": "99705d75-8cab-4528-b0b2-a9e3c9cee610",
   "metadata": {},
   "outputs": [
    {
     "data": {
      "text/plain": [
       "1"
      ]
     },
     "execution_count": 12,
     "metadata": {},
     "output_type": "execute_result"
    }
   ],
   "source": [
    "arr1.ndim"
   ]
  },
  {
   "cell_type": "code",
   "execution_count": 13,
   "id": "6dc793c9-eb8c-4dc7-817c-1acbbb8d0bb9",
   "metadata": {},
   "outputs": [
    {
     "data": {
      "text/plain": [
       "array([[1],\n",
       "       [2],\n",
       "       [3],\n",
       "       [3],\n",
       "       [4]])"
      ]
     },
     "execution_count": 13,
     "metadata": {},
     "output_type": "execute_result"
    }
   ],
   "source": [
    "np.expand_dims(arr1, axis = 1) #helps to expand dimention of an array"
   ]
  },
  {
   "cell_type": "code",
   "execution_count": 15,
   "id": "053d7018-56c0-4357-9688-b6c6446d9248",
   "metadata": {},
   "outputs": [
    {
     "data": {
      "text/plain": [
       "array([[1, 2, 3, 3, 4]])"
      ]
     },
     "execution_count": 15,
     "metadata": {},
     "output_type": "execute_result"
    }
   ],
   "source": [
    "np.expand_dims(arr1, axis = 0) #expand dimention across the row"
   ]
  },
  {
   "cell_type": "code",
   "execution_count": null,
   "id": "e2aeae70-cae4-45c5-be1d-4d6310abe901",
   "metadata": {},
   "outputs": [],
   "source": []
  },
  {
   "cell_type": "code",
   "execution_count": 16,
   "id": "17839379-4b93-4f7a-9e67-aba6f8a09b38",
   "metadata": {},
   "outputs": [],
   "source": [
    "data = np.array([[1],[2],[3]])"
   ]
  },
  {
   "cell_type": "code",
   "execution_count": 17,
   "id": "5459ce3e-ddae-4dfa-98af-9e605373095d",
   "metadata": {},
   "outputs": [
    {
     "data": {
      "text/plain": [
       "array([[1],\n",
       "       [2],\n",
       "       [3]])"
      ]
     },
     "execution_count": 17,
     "metadata": {},
     "output_type": "execute_result"
    }
   ],
   "source": [
    "data"
   ]
  },
  {
   "cell_type": "code",
   "execution_count": 23,
   "id": "dd25ad2c-a9ec-430b-93c9-0fa87047090b",
   "metadata": {},
   "outputs": [
    {
     "data": {
      "text/plain": [
       "array([1, 2, 3])"
      ]
     },
     "execution_count": 23,
     "metadata": {},
     "output_type": "execute_result"
    }
   ],
   "source": [
    "np.squeeze(data) #helps to squeeze the data "
   ]
  },
  {
   "cell_type": "code",
   "execution_count": 19,
   "id": "d1201354-d9bd-45f2-9db9-2d5c21384676",
   "metadata": {},
   "outputs": [
    {
     "data": {
      "text/plain": [
       "array([1, 2, 3, 3, 4])"
      ]
     },
     "execution_count": 19,
     "metadata": {},
     "output_type": "execute_result"
    }
   ],
   "source": [
    "arr1"
   ]
  },
  {
   "cell_type": "code",
   "execution_count": 22,
   "id": "74abe0a5-2194-404f-a667-63419833fe57",
   "metadata": {},
   "outputs": [
    {
     "data": {
      "text/plain": [
       "array([1, 1, 1, 2, 2, 2, 3, 3, 3, 3, 3, 3, 4, 4, 4])"
      ]
     },
     "execution_count": 22,
     "metadata": {},
     "output_type": "execute_result"
    }
   ],
   "source": [
    "np.repeat(arr1, 3) # repeat the array 3 times"
   ]
  },
  {
   "cell_type": "code",
   "execution_count": 24,
   "id": "90d5dbae-1c80-4e36-99c9-4ab5844762db",
   "metadata": {},
   "outputs": [
    {
     "data": {
      "text/plain": [
       "array([1, 2, 3, 3, 4])"
      ]
     },
     "execution_count": 24,
     "metadata": {},
     "output_type": "execute_result"
    }
   ],
   "source": [
    "arr1"
   ]
  },
  {
   "cell_type": "code",
   "execution_count": 26,
   "id": "09dc44f3-bd34-483f-a10c-414f59147308",
   "metadata": {},
   "outputs": [
    {
     "data": {
      "text/plain": [
       "array([3, 3, 4, 1, 2])"
      ]
     },
     "execution_count": 26,
     "metadata": {},
     "output_type": "execute_result"
    }
   ],
   "source": [
    "np.roll(arr1, 3) # rolls the numbers of the array 3 times\n"
   ]
  },
  {
   "cell_type": "code",
   "execution_count": 28,
   "id": "7438de29-ed4d-4851-bcb9-87d067e0af59",
   "metadata": {},
   "outputs": [
    {
     "data": {
      "text/plain": [
       "array([[1, 0, 0, 0, 0],\n",
       "       [0, 2, 0, 0, 0],\n",
       "       [0, 0, 3, 0, 0],\n",
       "       [0, 0, 0, 3, 0],\n",
       "       [0, 0, 0, 0, 4]])"
      ]
     },
     "execution_count": 28,
     "metadata": {},
     "output_type": "execute_result"
    }
   ],
   "source": [
    "np.diag(arr1) #it makes two dimensional array and the data will be put in the diagonal order"
   ]
  },
  {
   "cell_type": "code",
   "execution_count": null,
   "id": "22707fe4-6442-4f28-a6cd-52338e1bd5be",
   "metadata": {},
   "outputs": [],
   "source": []
  },
  {
   "cell_type": "markdown",
   "id": "b339f504-3bd7-4b55-bf0e-23f67af65c41",
   "metadata": {},
   "source": [
    "# Numpy - Binary Operation"
   ]
  },
  {
   "cell_type": "code",
   "execution_count": 35,
   "id": "c6e52a5b-acf3-4092-87f6-88451ffa3fb6",
   "metadata": {},
   "outputs": [],
   "source": [
    "arr2 = np.random.randint(1,10, (3,4))"
   ]
  },
  {
   "cell_type": "code",
   "execution_count": 36,
   "id": "1104c636-68e9-49d9-a20e-5e67dbee782e",
   "metadata": {},
   "outputs": [],
   "source": [
    "arr3 = np.random.randint(1,10, (3,4))"
   ]
  },
  {
   "cell_type": "code",
   "execution_count": 37,
   "id": "25e4494c-8ddf-4f96-9969-8f28dc1a15d4",
   "metadata": {},
   "outputs": [
    {
     "data": {
      "text/plain": [
       "array([[9, 5, 5, 6],\n",
       "       [9, 1, 2, 6],\n",
       "       [7, 7, 8, 5]])"
      ]
     },
     "execution_count": 37,
     "metadata": {},
     "output_type": "execute_result"
    }
   ],
   "source": [
    "arr2"
   ]
  },
  {
   "cell_type": "code",
   "execution_count": 38,
   "id": "e0499c29-3e86-4c4b-8eaf-4d1f15453ffd",
   "metadata": {},
   "outputs": [
    {
     "data": {
      "text/plain": [
       "array([[8, 5, 3, 4],\n",
       "       [5, 9, 6, 6],\n",
       "       [4, 8, 6, 7]])"
      ]
     },
     "execution_count": 38,
     "metadata": {},
     "output_type": "execute_result"
    }
   ],
   "source": [
    "arr3"
   ]
  },
  {
   "cell_type": "code",
   "execution_count": 40,
   "id": "c53ea407-a822-4d38-adae-f0c55a9fb5c5",
   "metadata": {},
   "outputs": [
    {
     "data": {
      "text/plain": [
       "array([[17, 10,  8, 10],\n",
       "       [14, 10,  8, 12],\n",
       "       [11, 15, 14, 12]])"
      ]
     },
     "execution_count": 40,
     "metadata": {},
     "output_type": "execute_result"
    }
   ],
   "source": [
    "arr2 + arr3 # perfoming index operation"
   ]
  },
  {
   "cell_type": "code",
   "execution_count": 41,
   "id": "cd593413-e291-4262-971a-5efea9f7c4d4",
   "metadata": {},
   "outputs": [
    {
     "data": {
      "text/plain": [
       "array([[ 1,  0,  2,  2],\n",
       "       [ 4, -8, -4,  0],\n",
       "       [ 3, -1,  2, -2]])"
      ]
     },
     "execution_count": 41,
     "metadata": {},
     "output_type": "execute_result"
    }
   ],
   "source": [
    "arr2 - arr3"
   ]
  },
  {
   "cell_type": "code",
   "execution_count": 42,
   "id": "c2af3afa-5881-47f3-bc65-aa6b48009efd",
   "metadata": {},
   "outputs": [
    {
     "data": {
      "text/plain": [
       "array([[72, 25, 15, 24],\n",
       "       [45,  9, 12, 36],\n",
       "       [28, 56, 48, 35]])"
      ]
     },
     "execution_count": 42,
     "metadata": {},
     "output_type": "execute_result"
    }
   ],
   "source": [
    "arr2 * arr3"
   ]
  },
  {
   "cell_type": "code",
   "execution_count": 43,
   "id": "3f65bd9d-c3cc-4760-8f93-80eb570589fa",
   "metadata": {},
   "outputs": [
    {
     "data": {
      "text/plain": [
       "array([[1.125     , 1.        , 1.66666667, 1.5       ],\n",
       "       [1.8       , 0.11111111, 0.33333333, 1.        ],\n",
       "       [1.75      , 0.875     , 1.33333333, 0.71428571]])"
      ]
     },
     "execution_count": 43,
     "metadata": {},
     "output_type": "execute_result"
    }
   ],
   "source": [
    "arr2/arr3"
   ]
  },
  {
   "cell_type": "code",
   "execution_count": 44,
   "id": "10a0ff3f-3107-4865-b7da-ba84b2f6fd06",
   "metadata": {},
   "outputs": [
    {
     "data": {
      "text/plain": [
       "array([[1, 0, 2, 2],\n",
       "       [4, 1, 2, 0],\n",
       "       [3, 7, 2, 5]])"
      ]
     },
     "execution_count": 44,
     "metadata": {},
     "output_type": "execute_result"
    }
   ],
   "source": [
    "# remainder operation\n",
    "\n",
    "arr2%arr3"
   ]
  },
  {
   "cell_type": "code",
   "execution_count": 45,
   "id": "5665c085-4ae7-43e4-a22d-7989a57c6325",
   "metadata": {},
   "outputs": [
    {
     "data": {
      "text/plain": [
       "array([[43046721,     3125,      125,     1296],\n",
       "       [   59049,        1,       64,    46656],\n",
       "       [    2401,  5764801,   262144,    78125]])"
      ]
     },
     "execution_count": 45,
     "metadata": {},
     "output_type": "execute_result"
    }
   ],
   "source": [
    "arr2 ** arr3 "
   ]
  },
  {
   "cell_type": "code",
   "execution_count": null,
   "id": "d0b5859a-0416-4a6c-b283-219d2edd28fa",
   "metadata": {},
   "outputs": [],
   "source": []
  },
  {
   "cell_type": "code",
   "execution_count": 46,
   "id": "85a36f8f-59f1-402d-8694-899c88e07dd9",
   "metadata": {},
   "outputs": [
    {
     "data": {
      "text/plain": [
       "array([[8, 5, 1, 4],\n",
       "       [1, 1, 2, 6],\n",
       "       [4, 0, 0, 5]])"
      ]
     },
     "execution_count": 46,
     "metadata": {},
     "output_type": "execute_result"
    }
   ],
   "source": [
    "arr2 & arr3"
   ]
  },
  {
   "cell_type": "code",
   "execution_count": 48,
   "id": "bca23e5c-061e-4dc1-b4b5-c9f4ed5a3733",
   "metadata": {},
   "outputs": [
    {
     "data": {
      "text/plain": [
       "array([[-10,  -6,  -6,  -7],\n",
       "       [-10,  -2,  -3,  -7],\n",
       "       [ -8,  -8,  -9,  -6]])"
      ]
     },
     "execution_count": 48,
     "metadata": {},
     "output_type": "execute_result"
    }
   ],
   "source": [
    "# negation operation\n",
    "\n",
    "~arr2"
   ]
  },
  {
   "cell_type": "code",
   "execution_count": 49,
   "id": "186877dd-e02a-4793-adbd-5956d22598ac",
   "metadata": {},
   "outputs": [
    {
     "data": {
      "text/plain": [
       "array([[ 9,  5,  7,  6],\n",
       "       [13,  9,  6,  6],\n",
       "       [ 7, 15, 14,  7]])"
      ]
     },
     "execution_count": 49,
     "metadata": {},
     "output_type": "execute_result"
    }
   ],
   "source": [
    "# OR operation\n",
    "\n",
    "arr2 | arr3"
   ]
  },
  {
   "cell_type": "code",
   "execution_count": 50,
   "id": "10a41f80-48dc-4844-8ff1-c7320e0b51e7",
   "metadata": {},
   "outputs": [
    {
     "data": {
      "text/plain": [
       "array([[ True, False,  True,  True],\n",
       "       [ True, False, False, False],\n",
       "       [ True, False,  True, False]])"
      ]
     },
     "execution_count": 50,
     "metadata": {},
     "output_type": "execute_result"
    }
   ],
   "source": [
    "arr2 > arr3"
   ]
  },
  {
   "cell_type": "code",
   "execution_count": null,
   "id": "3c6f7654-9810-4699-ad78-c1f250117c83",
   "metadata": {},
   "outputs": [],
   "source": []
  },
  {
   "cell_type": "markdown",
   "id": "5d737ec7-e0fb-4b96-aeaf-d187f3d407f2",
   "metadata": {},
   "source": [
    "# Numpy - String Function"
   ]
  },
  {
   "cell_type": "code",
   "execution_count": 52,
   "id": "3e7c2d29-e056-4ffc-bb54-5bdf13e19927",
   "metadata": {},
   "outputs": [
    {
     "data": {
      "text/plain": [
       "array(['sudh', 'kumar'], dtype='<U5')"
      ]
     },
     "execution_count": 52,
     "metadata": {},
     "output_type": "execute_result"
    }
   ],
   "source": [
    " np.array(['sudh', 'kumar']) # dtype='<U5' is equivalent to a string"
   ]
  },
  {
   "cell_type": "code",
   "execution_count": 53,
   "id": "b98a9f68-2233-49e1-91d5-c98a221c09af",
   "metadata": {},
   "outputs": [],
   "source": [
    "arr4 =  np.array(['sudh', 'kumar'])"
   ]
  },
  {
   "cell_type": "code",
   "execution_count": 54,
   "id": "3977357f-2147-42a9-a44c-a803bf8bb8fe",
   "metadata": {},
   "outputs": [
    {
     "data": {
      "text/plain": [
       "array(['sudh', 'kumar'], dtype='<U5')"
      ]
     },
     "execution_count": 54,
     "metadata": {},
     "output_type": "execute_result"
    }
   ],
   "source": [
    "arr4"
   ]
  },
  {
   "cell_type": "code",
   "execution_count": 55,
   "id": "9c3b717e-794f-4cc3-8bf6-2b244cea0149",
   "metadata": {},
   "outputs": [],
   "source": [
    "# changing the value of the string in the array to uppercase"
   ]
  },
  {
   "cell_type": "code",
   "execution_count": 56,
   "id": "19f015a7-6cd4-4904-9733-74b9ca157e26",
   "metadata": {},
   "outputs": [
    {
     "data": {
      "text/plain": [
       "array(['SUDH', 'KUMAR'], dtype='<U5')"
      ]
     },
     "execution_count": 56,
     "metadata": {},
     "output_type": "execute_result"
    }
   ],
   "source": [
    "np.char.upper(arr4)"
   ]
  },
  {
   "cell_type": "code",
   "execution_count": 57,
   "id": "105dc6a7-2bd2-49b3-bced-368963ef6c2b",
   "metadata": {},
   "outputs": [
    {
     "data": {
      "text/plain": [
       "array(['Sudh', 'Kumar'], dtype='<U5')"
      ]
     },
     "execution_count": 57,
     "metadata": {},
     "output_type": "execute_result"
    }
   ],
   "source": [
    "np.char.title(arr4)"
   ]
  },
  {
   "cell_type": "code",
   "execution_count": 58,
   "id": "a1fff508-5d3a-4b40-9d1b-5ad444858611",
   "metadata": {},
   "outputs": [
    {
     "data": {
      "text/plain": [
       "array(['Sudh', 'Kumar'], dtype='<U5')"
      ]
     },
     "execution_count": 58,
     "metadata": {},
     "output_type": "execute_result"
    }
   ],
   "source": [
    "np.char.capitalize(arr4)"
   ]
  },
  {
   "cell_type": "code",
   "execution_count": null,
   "id": "432d15dd-865d-4dec-ab45-2d19c7bd5007",
   "metadata": {},
   "outputs": [],
   "source": []
  },
  {
   "cell_type": "markdown",
   "id": "74566633-333e-4d77-9d60-582933d55e63",
   "metadata": {},
   "source": [
    "# Numpy - Mathematical Function"
   ]
  },
  {
   "cell_type": "code",
   "execution_count": null,
   "id": "d95ccce0-c860-4ec6-aea9-0b3d242e789b",
   "metadata": {},
   "outputs": [],
   "source": []
  },
  {
   "cell_type": "code",
   "execution_count": 60,
   "id": "75785e9e-9b8b-4489-935a-080152f8cb23",
   "metadata": {},
   "outputs": [
    {
     "data": {
      "text/plain": [
       "array([[9, 5, 5, 6],\n",
       "       [9, 1, 2, 6],\n",
       "       [7, 7, 8, 5]])"
      ]
     },
     "execution_count": 60,
     "metadata": {},
     "output_type": "execute_result"
    }
   ],
   "source": [
    "arr2"
   ]
  },
  {
   "cell_type": "code",
   "execution_count": 61,
   "id": "304f5058-0f3c-466c-a7a4-2740c9d673ee",
   "metadata": {},
   "outputs": [
    {
     "data": {
      "text/plain": [
       "array([[ 0.41211849, -0.95892427, -0.95892427, -0.2794155 ],\n",
       "       [ 0.41211849,  0.84147098,  0.90929743, -0.2794155 ],\n",
       "       [ 0.6569866 ,  0.6569866 ,  0.98935825, -0.95892427]])"
      ]
     },
     "execution_count": 61,
     "metadata": {},
     "output_type": "execute_result"
    }
   ],
   "source": [
    "np.sin(arr2)"
   ]
  },
  {
   "cell_type": "code",
   "execution_count": 62,
   "id": "d54bdc23-0d36-4509-b32b-19d41b9c4a4b",
   "metadata": {},
   "outputs": [
    {
     "data": {
      "text/plain": [
       "array([[-0.91113026,  0.28366219,  0.28366219,  0.96017029],\n",
       "       [-0.91113026,  0.54030231, -0.41614684,  0.96017029],\n",
       "       [ 0.75390225,  0.75390225, -0.14550003,  0.28366219]])"
      ]
     },
     "execution_count": 62,
     "metadata": {},
     "output_type": "execute_result"
    }
   ],
   "source": [
    "np.cos(arr2)"
   ]
  },
  {
   "cell_type": "code",
   "execution_count": 63,
   "id": "1e6cfcd1-56fc-4294-81d6-1eea337c8afc",
   "metadata": {},
   "outputs": [
    {
     "data": {
      "text/plain": [
       "array([[-0.45231566, -3.38051501, -3.38051501, -0.29100619],\n",
       "       [-0.45231566,  1.55740772, -2.18503986, -0.29100619],\n",
       "       [ 0.87144798,  0.87144798, -6.79971146, -3.38051501]])"
      ]
     },
     "execution_count": 63,
     "metadata": {},
     "output_type": "execute_result"
    }
   ],
   "source": [
    "np.tan(arr2)"
   ]
  },
  {
   "cell_type": "code",
   "execution_count": 64,
   "id": "ba52836d-62cb-41a5-a83c-1abec4f34756",
   "metadata": {},
   "outputs": [
    {
     "data": {
      "text/plain": [
       "array([[0.99999997, 0.9999092 , 0.9999092 , 0.99998771],\n",
       "       [0.99999997, 0.76159416, 0.96402758, 0.99998771],\n",
       "       [0.99999834, 0.99999834, 0.99999977, 0.9999092 ]])"
      ]
     },
     "execution_count": 64,
     "metadata": {},
     "output_type": "execute_result"
    }
   ],
   "source": [
    "np.tanh(arr2)"
   ]
  },
  {
   "cell_type": "code",
   "execution_count": 65,
   "id": "d7b495ae-7e3a-4d0b-b447-51a9593228b7",
   "metadata": {},
   "outputs": [
    {
     "data": {
      "text/plain": [
       "array([[81, 25, 25, 36],\n",
       "       [81,  1,  4, 36],\n",
       "       [49, 49, 64, 25]])"
      ]
     },
     "execution_count": 65,
     "metadata": {},
     "output_type": "execute_result"
    }
   ],
   "source": [
    "np.power(arr2, 2)"
   ]
  },
  {
   "cell_type": "code",
   "execution_count": 66,
   "id": "ad4b8e03-655a-44db-bff3-2443e00365e2",
   "metadata": {},
   "outputs": [
    {
     "data": {
      "text/plain": [
       "2.6"
      ]
     },
     "execution_count": 66,
     "metadata": {},
     "output_type": "execute_result"
    }
   ],
   "source": [
    "np.mean(arr1)"
   ]
  },
  {
   "cell_type": "code",
   "execution_count": 67,
   "id": "07e112bb-4d29-4d46-9a29-cdffafeaefc7",
   "metadata": {},
   "outputs": [
    {
     "data": {
      "text/plain": [
       "6.0"
      ]
     },
     "execution_count": 67,
     "metadata": {},
     "output_type": "execute_result"
    }
   ],
   "source": [
    "np.median(arr2)"
   ]
  },
  {
   "cell_type": "code",
   "execution_count": 68,
   "id": "f4ab66b6-589e-48aa-a3e0-2f5bae26c7dc",
   "metadata": {},
   "outputs": [
    {
     "data": {
      "text/plain": [
       "2.3746344747958346"
      ]
     },
     "execution_count": 68,
     "metadata": {},
     "output_type": "execute_result"
    }
   ],
   "source": [
    "np.std(arr2)"
   ]
  },
  {
   "cell_type": "code",
   "execution_count": 69,
   "id": "ebb11e20-09f4-4f31-9cf1-513653a50eee",
   "metadata": {},
   "outputs": [
    {
     "data": {
      "text/plain": [
       "5.638888888888889"
      ]
     },
     "execution_count": 69,
     "metadata": {},
     "output_type": "execute_result"
    }
   ],
   "source": [
    "np.var(arr2)"
   ]
  },
  {
   "cell_type": "code",
   "execution_count": 70,
   "id": "4017bfe1-f7be-4612-a269-bf047499874e",
   "metadata": {},
   "outputs": [
    {
     "data": {
      "text/plain": [
       "1"
      ]
     },
     "execution_count": 70,
     "metadata": {},
     "output_type": "execute_result"
    }
   ],
   "source": [
    "np.min(arr2)"
   ]
  },
  {
   "cell_type": "code",
   "execution_count": 71,
   "id": "93b6babd-764e-45e1-b122-82cfa7f206a4",
   "metadata": {},
   "outputs": [
    {
     "data": {
      "text/plain": [
       "9"
      ]
     },
     "execution_count": 71,
     "metadata": {},
     "output_type": "execute_result"
    }
   ],
   "source": [
    "np.max(arr2)"
   ]
  },
  {
   "cell_type": "code",
   "execution_count": null,
   "id": "5f1c8866-f372-43a7-8ba3-1d2ce94d2dbf",
   "metadata": {},
   "outputs": [],
   "source": []
  }
 ],
 "metadata": {
  "kernelspec": {
   "display_name": "Python 3 (ipykernel)",
   "language": "python",
   "name": "python3"
  },
  "language_info": {
   "codemirror_mode": {
    "name": "ipython",
    "version": 3
   },
   "file_extension": ".py",
   "mimetype": "text/x-python",
   "name": "python",
   "nbconvert_exporter": "python",
   "pygments_lexer": "ipython3",
   "version": "3.10.8"
  }
 },
 "nbformat": 4,
 "nbformat_minor": 5
}
