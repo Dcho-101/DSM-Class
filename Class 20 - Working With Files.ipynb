{
 "cells": [
  {
   "cell_type": "code",
   "execution_count": 1,
   "id": "e4fc0edf-3c4c-45ec-9fbd-dcf4355cb364",
   "metadata": {},
   "outputs": [],
   "source": [
    "# in this class we will study how to read, write, apend files"
   ]
  },
  {
   "cell_type": "code",
   "execution_count": 2,
   "id": "a02571d9-3517-4df1-a58c-9e68a83539f5",
   "metadata": {},
   "outputs": [],
   "source": [
    "# open() function helps in opening the file.txt"
   ]
  },
  {
   "cell_type": "code",
   "execution_count": 40,
   "id": "d12052e9-09bb-41d9-8ba1-8564edf0e33e",
   "metadata": {},
   "outputs": [],
   "source": [
    "f = open(\"test.txt\", \"w\")"
   ]
  },
  {
   "cell_type": "code",
   "execution_count": 4,
   "id": "753fa061-a87d-4d94-98fe-e29be658cdb2",
   "metadata": {},
   "outputs": [],
   "source": [
    "# where the file created? in the present working directory"
   ]
  },
  {
   "cell_type": "code",
   "execution_count": 5,
   "id": "1ec9ffcf-d8b5-4607-840e-2234df5098f4",
   "metadata": {},
   "outputs": [],
   "source": [
    "# to see present working directory, type pwd"
   ]
  },
  {
   "cell_type": "code",
   "execution_count": 8,
   "id": "b4e74343-0f40-4249-a2eb-4c71f8a6d84c",
   "metadata": {},
   "outputs": [
    {
     "data": {
      "text/plain": [
       "'/home/jovyan/work'"
      ]
     },
     "execution_count": 8,
     "metadata": {},
     "output_type": "execute_result"
    }
   ],
   "source": [
    "pwd"
   ]
  },
  {
   "cell_type": "code",
   "execution_count": 12,
   "id": "e620c8f9-81df-4c46-96b0-53562cc81456",
   "metadata": {},
   "outputs": [
    {
     "name": "stdout",
     "output_type": "stream",
     "text": [
      "'3 February While loop.ipynb'\n",
      " Abstraction.ipynb\n",
      "'Class Methods.ipynb'\n",
      "'Comprehension .ipynb'\n",
      " Decorators.ipynb\n",
      "'DSM 1st Feb.ipynb'\n",
      " Encapsulation.ipynb\n",
      "'For Loop Practice.ipynb'\n",
      "'Functions part 1.ipynb'\n",
      "'Generator Function.ipynb'\n",
      " Inheritance.ipynb\n",
      "'Lambda Function.ipynb'\n",
      "'Map, Filter, Reduce.ipynb'\n",
      " OOPS.ipynb\n",
      " Polymorphism.ipynb\n",
      "'Property Decorators Getters, Setters, And Deletes.ipynb'\n",
      " README.md\n",
      " sample-code.ipynb\n",
      "'Special (Magic Dunder) Methods.ipynb'\n",
      "'Static Method.ipynb'\n",
      " test.txt\n",
      "'Working With Files.ipynb'\n"
     ]
    }
   ],
   "source": [
    "ls"
   ]
  },
  {
   "cell_type": "code",
   "execution_count": 13,
   "id": "10989623-874c-4a21-8918-f4bc3abc6a55",
   "metadata": {},
   "outputs": [],
   "source": [
    "# ls helps in showing the file names"
   ]
  },
  {
   "cell_type": "code",
   "execution_count": 39,
   "id": "6d87006a-b750-4971-88b7-7e741c131ef7",
   "metadata": {},
   "outputs": [
    {
     "ename": "UnsupportedOperation",
     "evalue": "not writable",
     "output_type": "error",
     "traceback": [
      "\u001b[0;31m---------------------------------------------------------------------------\u001b[0m",
      "\u001b[0;31mUnsupportedOperation\u001b[0m                      Traceback (most recent call last)",
      "Cell \u001b[0;32mIn[39], line 3\u001b[0m\n\u001b[1;32m      1\u001b[0m \u001b[38;5;66;03m# if we want to write something in the text file\u001b[39;00m\n\u001b[0;32m----> 3\u001b[0m \u001b[43mf\u001b[49m\u001b[38;5;241;43m.\u001b[39;49m\u001b[43mwrite\u001b[49m\u001b[43m(\u001b[49m\u001b[38;5;124;43m\"\u001b[39;49m\u001b[38;5;124;43mthis is my first write to the file\u001b[39;49m\u001b[38;5;124;43m\"\u001b[39;49m\u001b[43m)\u001b[49m\n",
      "\u001b[0;31mUnsupportedOperation\u001b[0m: not writable"
     ]
    }
   ],
   "source": [
    "# if we want to write something in the text file\n",
    "\n",
    "f.write(\"this is my first write to the file\")"
   ]
  },
  {
   "cell_type": "code",
   "execution_count": 15,
   "id": "8fed7d61-0b6b-4e73-a99c-723e9847aaf2",
   "metadata": {},
   "outputs": [],
   "source": [
    "# if you want to see the writings, then you have to close the file first"
   ]
  },
  {
   "cell_type": "code",
   "execution_count": 17,
   "id": "e86afde5-a8b4-43c3-b277-afba240c44f4",
   "metadata": {},
   "outputs": [],
   "source": [
    "f.close()"
   ]
  },
  {
   "cell_type": "code",
   "execution_count": 18,
   "id": "645592ae-b21b-445b-9ceb-06accf853ce2",
   "metadata": {},
   "outputs": [],
   "source": [
    "# if you write something using the f.write() function again, it will override the prevoius string and make another"
   ]
  },
  {
   "cell_type": "code",
   "execution_count": 19,
   "id": "ac06aa33-d2a4-484e-bc1f-45503a8f54ec",
   "metadata": {},
   "outputs": [],
   "source": [
    "# we need to append the text and for that we need to make \"a\" function"
   ]
  },
  {
   "cell_type": "code",
   "execution_count": 24,
   "id": "b68d74b9-6b94-4bb4-bb56-39faf912e713",
   "metadata": {},
   "outputs": [],
   "source": [
    "f = open(\"test.txt\", \"a\")"
   ]
  },
  {
   "cell_type": "code",
   "execution_count": 41,
   "id": "463f7a80-5c45-4f76-b24f-08c08e6f0b9d",
   "metadata": {},
   "outputs": [
    {
     "data": {
      "text/plain": [
       "766"
      ]
     },
     "execution_count": 41,
     "metadata": {},
     "output_type": "execute_result"
    }
   ],
   "source": [
    "f.write(\"\\nData Science Masters course is highly curated and uniquely designed according to the latest industry standards. This program instills students the skills essential to knowledge discovery efforts to identify standard, novel, and truly differentiated solutions and decision-making, including skills in managing, querying, analyzing, visualizing, and extracting meaning from extremely large data sets. This trending program provides students with the statistical, mathematical and computational skills needed to meet the large-scale data science challenges of today's professional world. You will learn all the stack required to work in data science industry including cloud infrastructure and real-time industry projects. This course will be taught in Hindi language.\")"
   ]
  },
  {
   "cell_type": "code",
   "execution_count": 42,
   "id": "a997b009-a0c0-4e63-af3e-64d61b910159",
   "metadata": {},
   "outputs": [],
   "source": [
    "f.close()"
   ]
  },
  {
   "cell_type": "code",
   "execution_count": null,
   "id": "9531a247-c7b1-4b60-9fd2-806df1af674c",
   "metadata": {},
   "outputs": [],
   "source": []
  },
  {
   "cell_type": "code",
   "execution_count": 27,
   "id": "0feced86-9d70-4a49-82d1-4c06da7f8c6a",
   "metadata": {},
   "outputs": [],
   "source": [
    "# opening in read mode"
   ]
  },
  {
   "cell_type": "code",
   "execution_count": 43,
   "id": "1fc0c97e-999f-4ded-8632-c81c2d1c5921",
   "metadata": {},
   "outputs": [],
   "source": [
    "f = open(\"test.txt\", \"r\")"
   ]
  },
  {
   "cell_type": "code",
   "execution_count": 44,
   "id": "9f779ac0-6f53-4766-b130-82754de3567c",
   "metadata": {},
   "outputs": [
    {
     "data": {
      "text/plain": [
       "\"\\nData Science Masters course is highly curated and uniquely designed according to the latest industry standards. This program instills students the skills essential to knowledge discovery efforts to identify standard, novel, and truly differentiated solutions and decision-making, including skills in managing, querying, analyzing, visualizing, and extracting meaning from extremely large data sets. This trending program provides students with the statistical, mathematical and computational skills needed to meet the large-scale data science challenges of today's professional world. You will learn all the stack required to work in data science industry including cloud infrastructure and real-time industry projects. This course will be taught in Hindi language.\""
      ]
     },
     "execution_count": 44,
     "metadata": {},
     "output_type": "execute_result"
    }
   ],
   "source": [
    "f.read()"
   ]
  },
  {
   "cell_type": "code",
   "execution_count": 31,
   "id": "4bdc57e8-e053-442f-b56d-bdb7bd9abb90",
   "metadata": {},
   "outputs": [],
   "source": [
    "# if you want to read file line by line, there are a function available which is called as readline()"
   ]
  },
  {
   "cell_type": "code",
   "execution_count": 45,
   "id": "e71867cd-acb5-407b-b0bc-27e7acbdf959",
   "metadata": {},
   "outputs": [
    {
     "data": {
      "text/plain": [
       "''"
      ]
     },
     "execution_count": 45,
     "metadata": {},
     "output_type": "execute_result"
    }
   ],
   "source": [
    "f.readline()"
   ]
  },
  {
   "cell_type": "code",
   "execution_count": 34,
   "id": "b52dbb2e-da68-4abd-8b21-1a80b9e1c841",
   "metadata": {},
   "outputs": [],
   "source": [
    "# but it will show the blank line\n",
    "# if you use the seek(index) then it will read form that index \n",
    "# for example"
   ]
  },
  {
   "cell_type": "code",
   "execution_count": 46,
   "id": "5c9ddc96-1cb8-484a-8acb-7efbd5071995",
   "metadata": {},
   "outputs": [
    {
     "data": {
      "text/plain": [
       "5"
      ]
     },
     "execution_count": 46,
     "metadata": {},
     "output_type": "execute_result"
    }
   ],
   "source": [
    "f.seek(5)"
   ]
  },
  {
   "cell_type": "code",
   "execution_count": 47,
   "id": "4260ce44-0129-4470-8387-e94af992dffb",
   "metadata": {},
   "outputs": [
    {
     "data": {
      "text/plain": [
       "\" Science Masters course is highly curated and uniquely designed according to the latest industry standards. This program instills students the skills essential to knowledge discovery efforts to identify standard, novel, and truly differentiated solutions and decision-making, including skills in managing, querying, analyzing, visualizing, and extracting meaning from extremely large data sets. This trending program provides students with the statistical, mathematical and computational skills needed to meet the large-scale data science challenges of today's professional world. You will learn all the stack required to work in data science industry including cloud infrastructure and real-time industry projects. This course will be taught in Hindi language.\""
      ]
     },
     "execution_count": 47,
     "metadata": {},
     "output_type": "execute_result"
    }
   ],
   "source": [
    "f.readline()"
   ]
  },
  {
   "cell_type": "code",
   "execution_count": 37,
   "id": "3e8b5005-1da7-4993-95e9-002abfdc1b92",
   "metadata": {},
   "outputs": [],
   "source": [
    "# so you can use the read function from where you want to read the file"
   ]
  },
  {
   "cell_type": "code",
   "execution_count": 38,
   "id": "8c31c3be-cd43-4efe-830f-4596ab589a8a",
   "metadata": {},
   "outputs": [],
   "source": [
    "# another variable is taken and some text included in this file"
   ]
  },
  {
   "cell_type": "code",
   "execution_count": 49,
   "id": "7249d423-961f-4b61-bb2c-40cc3cb52262",
   "metadata": {},
   "outputs": [],
   "source": [
    "data1 = open(\"test.txt\", \"r\")"
   ]
  },
  {
   "cell_type": "code",
   "execution_count": 50,
   "id": "4489e026-21d9-4945-9183-5fb929a17f17",
   "metadata": {},
   "outputs": [
    {
     "name": "stdout",
     "output_type": "stream",
     "text": [
      "\n",
      "\n",
      "Data Science Masters course is highly curated and uniquely designed according to the latest industry standards. This program instills students the skills essential to knowledge discovery efforts to identify standard, novel, and truly differentiated solutions and decision-making, including skills in managing, querying, analyzing, visualizing, and extracting meaning from extremely large data sets. This trending program provides students with the statistical, mathematical and computational skills needed to meet the large-scale data science challenges of today's professional world. You will learn all the stack required to work in data science industry including cloud infrastructure and real-time industry projects. This course will be taught in Hindi language.\n"
     ]
    }
   ],
   "source": [
    "for i in data1 :\n",
    "    print(i)"
   ]
  },
  {
   "cell_type": "code",
   "execution_count": null,
   "id": "eeec08b0-3476-47d9-843c-66065a3a1402",
   "metadata": {},
   "outputs": [],
   "source": []
  },
  {
   "cell_type": "code",
   "execution_count": 52,
   "id": "c272c3c3-b6f7-4f58-81db-a3af622bf501",
   "metadata": {},
   "outputs": [],
   "source": [
    "# measuring the size of the text.txt\n",
    "# for that you need to import os"
   ]
  },
  {
   "cell_type": "code",
   "execution_count": 53,
   "id": "f24ec62a-ad41-4f3e-9f73-33749245b409",
   "metadata": {},
   "outputs": [],
   "source": [
    "import os"
   ]
  },
  {
   "cell_type": "code",
   "execution_count": 54,
   "id": "c74fbd98-0c91-4e4c-ae54-3975779d2557",
   "metadata": {},
   "outputs": [
    {
     "data": {
      "text/plain": [
       "766"
      ]
     },
     "execution_count": 54,
     "metadata": {},
     "output_type": "execute_result"
    }
   ],
   "source": [
    "os.path.getsize(\"test.txt\")"
   ]
  },
  {
   "cell_type": "code",
   "execution_count": 55,
   "id": "d94d35de-e4e7-4443-aaf2-890cf76efff5",
   "metadata": {},
   "outputs": [],
   "source": [
    "# removing the txt file"
   ]
  },
  {
   "cell_type": "code",
   "execution_count": 56,
   "id": "1700c719-7374-488e-a578-1e1b6f91ad3b",
   "metadata": {},
   "outputs": [],
   "source": [
    "os.remove(\"test.txt\")"
   ]
  },
  {
   "cell_type": "code",
   "execution_count": 57,
   "id": "1f33e204-2512-4af2-a95a-25d9fc47fbb9",
   "metadata": {},
   "outputs": [],
   "source": [
    "# cretaing another file"
   ]
  },
  {
   "cell_type": "code",
   "execution_count": 62,
   "id": "58989f1b-d0f2-4ba2-90c2-c3173ba89db2",
   "metadata": {},
   "outputs": [],
   "source": [
    "f = open(\"test1.txt\", \"w\")"
   ]
  },
  {
   "cell_type": "code",
   "execution_count": 63,
   "id": "4345a94c-cf0c-48dc-9a1c-03bfc0ca23de",
   "metadata": {},
   "outputs": [
    {
     "data": {
      "text/plain": [
       "765"
      ]
     },
     "execution_count": 63,
     "metadata": {},
     "output_type": "execute_result"
    }
   ],
   "source": [
    "f.write(\"Data Science Masters course is highly curated and uniquely designed according to the latest industry standards. This program instills students the skills essential to knowledge discovery efforts to identify standard, novel, and truly differentiated solutions and decision-making, including skills in managing, querying, analyzing, visualizing, and extracting meaning from extremely large data sets. This trending program provides students with the statistical, mathematical and computational skills needed to meet the large-scale data science challenges of today's professional world. You will learn all the stack required to work in data science industry including cloud infrastructure and real-time industry projects. This course will be taught in Hindi language.\")"
   ]
  },
  {
   "cell_type": "code",
   "execution_count": 64,
   "id": "49ba7888-8624-46f1-953e-8a1ddbf4cbe9",
   "metadata": {},
   "outputs": [],
   "source": [
    "f.close()"
   ]
  },
  {
   "cell_type": "code",
   "execution_count": 65,
   "id": "7a441066-3db9-497e-bd71-be558945170b",
   "metadata": {},
   "outputs": [],
   "source": [
    "# renaming the file test1"
   ]
  },
  {
   "cell_type": "code",
   "execution_count": 66,
   "id": "8da2e8a3-12ca-407f-b866-cab3a10a0984",
   "metadata": {},
   "outputs": [],
   "source": [
    "os.rename(\"test1.txt\" , \"new_file.txt\")"
   ]
  },
  {
   "cell_type": "code",
   "execution_count": 68,
   "id": "9b855a64-ac9c-4076-97f7-bd21100c806e",
   "metadata": {},
   "outputs": [],
   "source": [
    "# let suppose toy want a copy or multiple copies of this file"
   ]
  },
  {
   "cell_type": "code",
   "execution_count": 69,
   "id": "33435e2b-367d-4860-a140-2dc80c1650fd",
   "metadata": {},
   "outputs": [],
   "source": [
    "import shutil"
   ]
  },
  {
   "cell_type": "code",
   "execution_count": 70,
   "id": "4ba1be48-16aa-461b-9ee4-9dbe629a4f01",
   "metadata": {},
   "outputs": [
    {
     "data": {
      "text/plain": [
       "'copy1_file.txt'"
      ]
     },
     "execution_count": 70,
     "metadata": {},
     "output_type": "execute_result"
    }
   ],
   "source": [
    "shutil.copy(\"new_file.txt\", \"copy1_file.txt\")"
   ]
  },
  {
   "cell_type": "code",
   "execution_count": 71,
   "id": "a312eb54-3f58-44f7-860f-679b989c6fe4",
   "metadata": {},
   "outputs": [],
   "source": [
    "# another function"
   ]
  },
  {
   "cell_type": "code",
   "execution_count": 73,
   "id": "7cb432a1-8ae0-43cf-bf5f-f3a0ba7793f5",
   "metadata": {},
   "outputs": [
    {
     "ename": "SyntaxError",
     "evalue": "incomplete input (3300484391.py, line 1)",
     "output_type": "error",
     "traceback": [
      "\u001b[0;36m  Cell \u001b[0;32mIn[73], line 1\u001b[0;36m\u001b[0m\n\u001b[0;31m    with open(\"new_file.txt\", \"r\") as f1 :\u001b[0m\n\u001b[0m                                          ^\u001b[0m\n\u001b[0;31mSyntaxError\u001b[0m\u001b[0;31m:\u001b[0m incomplete input\n"
     ]
    }
   ],
   "source": [
    "with open(\"new_file.txt\", \"r\") as f1 :"
   ]
  },
  {
   "cell_type": "code",
   "execution_count": null,
   "id": "6be0dc09-8874-4654-b6bb-168eeac50c44",
   "metadata": {},
   "outputs": [],
   "source": []
  }
 ],
 "metadata": {
  "kernelspec": {
   "display_name": "Python 3 (ipykernel)",
   "language": "python",
   "name": "python3"
  },
  "language_info": {
   "codemirror_mode": {
    "name": "ipython",
    "version": 3
   },
   "file_extension": ".py",
   "mimetype": "text/x-python",
   "name": "python",
   "nbconvert_exporter": "python",
   "pygments_lexer": "ipython3",
   "version": "3.10.8"
  }
 },
 "nbformat": 4,
 "nbformat_minor": 5
}
