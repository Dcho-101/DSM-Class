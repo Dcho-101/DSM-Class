{
 "cells": [
  {
   "cell_type": "code",
   "execution_count": 1,
   "id": "f4e8e4fd-efee-4f0f-8275-03c49c185d12",
   "metadata": {},
   "outputs": [
    {
     "name": "stdout",
     "output_type": "stream",
     "text": [
      "this is my print\n"
     ]
    }
   ],
   "source": [
    "print(\"this is my print\")"
   ]
  },
  {
   "cell_type": "code",
   "execution_count": 2,
   "id": "885fd98c-80ca-4b5a-b4cf-f6716d63309f",
   "metadata": {},
   "outputs": [],
   "source": [
    "# this is returning comment but if we need to store the file for future investigation \n",
    "# the simple solution of above problem is logging which stores the file values in production level"
   ]
  },
  {
   "cell_type": "code",
   "execution_count": null,
   "id": "ef636a97-8a18-4c7a-bbf5-0e17a09341d6",
   "metadata": {},
   "outputs": [],
   "source": []
  },
  {
   "cell_type": "code",
   "execution_count": 3,
   "id": "310ebd2a-91fd-400d-8401-dc3928755e00",
   "metadata": {},
   "outputs": [],
   "source": [
    "# logging module"
   ]
  },
  {
   "cell_type": "code",
   "execution_count": 4,
   "id": "382f2f94-aa10-404a-93d1-e11c2ae6a418",
   "metadata": {},
   "outputs": [],
   "source": [
    "# 1st task is importing logging module\n",
    "import logging"
   ]
  },
  {
   "cell_type": "code",
   "execution_count": 5,
   "id": "debf0a15-4076-4ef6-aac9-5d84c9ce0725",
   "metadata": {},
   "outputs": [],
   "source": [
    "# setting basic configuration for logging"
   ]
  },
  {
   "cell_type": "code",
   "execution_count": 6,
   "id": "cdbd8029-bf27-4365-845d-8e99f883a965",
   "metadata": {},
   "outputs": [],
   "source": [
    "logging.basicConfig(filename = \"test.log\" , level = logging.INFO) # it stores the all the values in the file which is named as 'test.log' \n",
    "# there are many types of levels are in the loging"
   ]
  },
  {
   "cell_type": "code",
   "execution_count": 7,
   "id": "148ef986-90e3-4d55-9753-0929a4fd544b",
   "metadata": {},
   "outputs": [],
   "source": [
    "logging.info(\"log this line of execution\")"
   ]
  },
  {
   "cell_type": "code",
   "execution_count": 8,
   "id": "ca273680-8d8a-4370-bc2c-6ac9e4f7c81a",
   "metadata": {},
   "outputs": [],
   "source": [
    "# similarly if we log the first line of code "
   ]
  },
  {
   "cell_type": "code",
   "execution_count": 9,
   "id": "44fb09ab-4f5f-433f-97aa-4973dac53dd4",
   "metadata": {},
   "outputs": [],
   "source": [
    "logging.info(\"this is my print\")"
   ]
  },
  {
   "cell_type": "markdown",
   "id": "9865a768-0372-4ca7-adaf-3cf92a971af5",
   "metadata": {},
   "source": [
    "in logging there multiple variation of print are available\n",
    "1. NOTSET\n",
    "2. DEBUG\n",
    "3. INFO\n",
    "4. WARNING\n",
    "5. ERROR\n",
    "6. CRITRCAL\n",
    "\n",
    "these are the levels of logging\n",
    "\n",
    "info and after info we can do logging, above info we cannot be able to do logging (also depends upon calling level. here we set the level to INFO)"
   ]
  },
  {
   "cell_type": "code",
   "execution_count": 10,
   "id": "6a25a23d-634f-4e61-9ddd-bf702173b816",
   "metadata": {},
   "outputs": [],
   "source": [
    "# for example\n",
    "logging.debug(\"this is my debug message\") # this will not shown in the log file "
   ]
  },
  {
   "cell_type": "code",
   "execution_count": 11,
   "id": "f7c3be93-09cc-495d-b732-8fed1b2b28b5",
   "metadata": {},
   "outputs": [],
   "source": [
    "# this will show to my logging file\n",
    "logging.error(\"this is my error messsage\")"
   ]
  },
  {
   "cell_type": "code",
   "execution_count": 33,
   "id": "5479ed38-1f87-438e-b3d3-1492989fe004",
   "metadata": {},
   "outputs": [],
   "source": [
    "# after execution the logging file needs to be shutdown otherwise it will try to import the new values into the old log file and can crash\n",
    "\n",
    "logging.shutdown()"
   ]
  },
  {
   "cell_type": "code",
   "execution_count": 1,
   "id": "8cf16bfb-eb92-465c-bd48-8891c35b2bf1",
   "metadata": {},
   "outputs": [],
   "source": [
    "#  creating another file"
   ]
  },
  {
   "cell_type": "code",
   "execution_count": 4,
   "id": "3bd0a434-8cc8-46de-9d84-c32febc04745",
   "metadata": {},
   "outputs": [],
   "source": [
    "import logging"
   ]
  },
  {
   "cell_type": "code",
   "execution_count": 5,
   "id": "3626a018-4d3c-447e-9c04-5783ea37d8e7",
   "metadata": {},
   "outputs": [],
   "source": [
    "logging.basicConfig(filename = \"test001.log\", level = logging.DEBUG, format = '%(asctime)s %(message)s' )"
   ]
  },
  {
   "cell_type": "code",
   "execution_count": 6,
   "id": "83ad2bf4-2d90-46d3-a179-b70c82b5c900",
   "metadata": {},
   "outputs": [],
   "source": [
    "# format helps in saving the logging details like time, message etc. \n",
    "\n",
    "# for storing time we have to use '%(asctime)s' s for string\n",
    "# for storing message er use '%(message)s"
   ]
  },
  {
   "cell_type": "code",
   "execution_count": 7,
   "id": "ce921740-3e6a-437e-987f-b52800cc73c7",
   "metadata": {},
   "outputs": [],
   "source": [
    "logging.info(\"this is my info logging\")\n",
    "logging.error(\"this is my error logging\")\n",
    "logging.critical(\"this is my critical logging\")"
   ]
  },
  {
   "cell_type": "code",
   "execution_count": 8,
   "id": "070a4b3a-9593-4dad-872b-90fe9c59ed6c",
   "metadata": {},
   "outputs": [],
   "source": [
    "logging.shutdown()"
   ]
  },
  {
   "cell_type": "code",
   "execution_count": 1,
   "id": "2a236289-c9a1-46c3-b517-fe14269e2653",
   "metadata": {},
   "outputs": [],
   "source": [
    "import logging"
   ]
  },
  {
   "cell_type": "code",
   "execution_count": 2,
   "id": "3faa3b65-ac25-44e2-a1ac-532e8881e80f",
   "metadata": {},
   "outputs": [],
   "source": [
    "logging.basicConfig(filename = 'test02.log' , level = logging.DEBUG, format = '%(asctime)s %(name)s %(levelname)s %(message)s')"
   ]
  },
  {
   "cell_type": "code",
   "execution_count": 3,
   "id": "b378b1ef-cfe2-4c44-9d25-e94a112ea653",
   "metadata": {},
   "outputs": [],
   "source": [
    "logging.info(\"this is my info logging\")\n",
    "logging.error(\"this is my error logging\")\n",
    "logging.critical(\"this is my critical logging\")"
   ]
  },
  {
   "cell_type": "code",
   "execution_count": null,
   "id": "1d48a841-3fee-4fea-bdff-5cc2b7c4fa84",
   "metadata": {},
   "outputs": [],
   "source": []
  },
  {
   "cell_type": "code",
   "execution_count": 4,
   "id": "028ff9c7-1afb-4261-be2c-cf9bd879cd55",
   "metadata": {},
   "outputs": [],
   "source": [
    "l = [1,2,3,4,5,[7,8,9,], \"dip\", \"raj\"]"
   ]
  },
  {
   "cell_type": "code",
   "execution_count": 5,
   "id": "543c1be1-2682-43ce-a6a5-7e2912986e6d",
   "metadata": {},
   "outputs": [],
   "source": [
    "l1_int = []\n",
    "l2_str = []\n",
    "for i in l :\n",
    "    if type(i) == list :\n",
    "        for j in i :\n",
    "            if type(j) == int :\n",
    "                l1_int.append(j)\n",
    "                \n",
    "    elif type(i) == int :\n",
    "        l1_int.append(i)\n",
    "        \n",
    "    else :\n",
    "        if type(i) == str :\n",
    "            l2_str.append(i)\n",
    "        "
   ]
  },
  {
   "cell_type": "code",
   "execution_count": 6,
   "id": "b74b2b97-d648-4e88-91ea-c29eaaee82a3",
   "metadata": {},
   "outputs": [
    {
     "data": {
      "text/plain": [
       "[1, 2, 3, 4, 5, 7, 8, 9]"
      ]
     },
     "execution_count": 6,
     "metadata": {},
     "output_type": "execute_result"
    }
   ],
   "source": [
    "l1_int"
   ]
  },
  {
   "cell_type": "code",
   "execution_count": 7,
   "id": "adca52ac-32a6-417d-9b40-8d3cf6bd8993",
   "metadata": {},
   "outputs": [
    {
     "data": {
      "text/plain": [
       "['dip', 'raj']"
      ]
     },
     "execution_count": 7,
     "metadata": {},
     "output_type": "execute_result"
    }
   ],
   "source": [
    "l2_str"
   ]
  },
  {
   "cell_type": "code",
   "execution_count": 1,
   "id": "cfe15521-f1f7-4cbb-adad-a1e759f5d7a8",
   "metadata": {},
   "outputs": [],
   "source": [
    "# same process via logging"
   ]
  },
  {
   "cell_type": "code",
   "execution_count": 2,
   "id": "642e46a0-e19a-4eb6-9956-df3289c3b908",
   "metadata": {},
   "outputs": [],
   "source": [
    "import logging"
   ]
  },
  {
   "cell_type": "code",
   "execution_count": 3,
   "id": "a3e4f886-2b99-4ec4-96f4-9c37e124e7f3",
   "metadata": {},
   "outputs": [],
   "source": [
    "logging.basicConfig(filename = 'test_loop.log' , level = logging.DEBUG, format = '%(asctime)s %(name)s %(levelname)s %(message)s')"
   ]
  },
  {
   "cell_type": "code",
   "execution_count": 4,
   "id": "6f05f352-0afa-4c18-b9a9-94a863e3bc86",
   "metadata": {},
   "outputs": [],
   "source": [
    "l = [1,2,3,4,5,[7,8,9,], \"dip\", \"raj\"]"
   ]
  },
  {
   "cell_type": "code",
   "execution_count": 5,
   "id": "8baffcaf-4906-48da-96d0-2d057b5be5d7",
   "metadata": {},
   "outputs": [],
   "source": [
    "l1_int = []\n",
    "l2_str = []\n",
    "for i in l :\n",
    "    logging.info(\"we are iterating through our list and oiur local variable is i\" + str(i))\n",
    "    if type(i) == list :\n",
    "        logging.info(\"i am inside the if satement and i am trying to check list and type\" + str(i))\n",
    "        for j in i :\n",
    "            logging.info(\"i am inside another for loop for checking list inside list element\" + str(j))\n",
    "            if type(j) == int :\n",
    "                logging.info(\"i am inside if statement\")\n",
    "                l1_int.append(j)\n",
    "                \n",
    "    elif type(i) == int :\n",
    "        l1_int.append(i)\n",
    "        \n",
    "    else :\n",
    "        if type(i) == str :\n",
    "            l2_str.append(i)\n",
    "        "
   ]
  },
  {
   "cell_type": "code",
   "execution_count": null,
   "id": "e5641b52-b6e7-4266-838c-e02b926363c9",
   "metadata": {},
   "outputs": [],
   "source": []
  },
  {
   "cell_type": "code",
   "execution_count": null,
   "id": "58d9e65e-a1ed-48ae-b56f-0404761acd8c",
   "metadata": {},
   "outputs": [],
   "source": []
  }
 ],
 "metadata": {
  "kernelspec": {
   "display_name": "Python 3 (ipykernel)",
   "language": "python",
   "name": "python3"
  },
  "language_info": {
   "codemirror_mode": {
    "name": "ipython",
    "version": 3
   },
   "file_extension": ".py",
   "mimetype": "text/x-python",
   "name": "python",
   "nbconvert_exporter": "python",
   "pygments_lexer": "ipython3",
   "version": "3.10.8"
  }
 },
 "nbformat": 4,
 "nbformat_minor": 5
}
