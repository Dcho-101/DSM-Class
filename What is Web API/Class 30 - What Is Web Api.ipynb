{
 "cells": [
  {
   "cell_type": "code",
   "execution_count": 1,
   "id": "ea02d92a-95cc-41f8-825c-007dc5626bf5",
   "metadata": {},
   "outputs": [],
   "source": [
    "# lets suppose you use google pay, now what google pay does? "
   ]
  },
  {
   "cell_type": "code",
   "execution_count": 3,
   "id": "ce56b0bf-271b-473c-bd2e-ec9b58db84d1",
   "metadata": {},
   "outputs": [],
   "source": [
    "# first of all the app verifies that the phone number is associated with the numebr or not. "
   ]
  },
  {
   "cell_type": "code",
   "execution_count": 4,
   "id": "2dba2c1a-2d3e-4176-b353-f2e7274474fe",
   "metadata": {},
   "outputs": [],
   "source": [
    "# after all the checkings, the balance is been initiated. "
   ]
  },
  {
   "cell_type": "code",
   "execution_count": 1,
   "id": "9c81ae68-7982-4dd6-9a8c-a60b6e95e037",
   "metadata": {},
   "outputs": [],
   "source": [
    "# lets assume the developers make the gpay "
   ]
  },
  {
   "cell_type": "code",
   "execution_count": 2,
   "id": "43924bf9-d52e-4cfb-9bdc-d109e0aec64b",
   "metadata": {},
   "outputs": [],
   "source": [
    "# lets assume the developers make the gpay in different languages and the bank server are made via different language"
   ]
  },
  {
   "cell_type": "code",
   "execution_count": 3,
   "id": "310523e4-71bf-49b2-88e4-17e543bba28a",
   "metadata": {},
   "outputs": [],
   "source": [
    "# this linkup is generally called API"
   ]
  },
  {
   "cell_type": "code",
   "execution_count": null,
   "id": "94bced9c-5ef4-4269-bb8e-700bc1bf7b63",
   "metadata": {},
   "outputs": [],
   "source": []
  },
  {
   "cell_type": "markdown",
   "id": "92dc0a37-17a4-471f-92b3-baab4fb61256",
   "metadata": {},
   "source": [
    "# Difference B W Api And Web Api"
   ]
  },
  {
   "cell_type": "code",
   "execution_count": 5,
   "id": "66e8b288-e7c0-4752-894b-a8743b5e4ba9",
   "metadata": {},
   "outputs": [],
   "source": [
    "# there are two types of architecture can be found. \n",
    "# 1. Rest\n",
    "# 2. SOAP"
   ]
  },
  {
   "cell_type": "code",
   "execution_count": 8,
   "id": "9fc0f9cb-ab65-47d5-9d0a-8e63b72cd039",
   "metadata": {},
   "outputs": [],
   "source": [
    "# rest architecture based on the web API architecture. and data transfer done in HTTP protocols.\n",
    "# put, get, rest, delete can be used in this architecture.\n",
    "\n",
    "# rest is known for simplicity, scalablity, flexiblity,"
   ]
  },
  {
   "cell_type": "code",
   "execution_count": 10,
   "id": "253d89c0-986a-4b1f-bd02-fb2147717bcb",
   "metadata": {},
   "outputs": [],
   "source": [
    "# SOAP works under XML file system. and it uses WSDL(Web Service Description Language) where we write all the instruction and application. \n",
    "# SOAP architecture also supports HTTP, SMTP, TCP"
   ]
  },
  {
   "cell_type": "code",
   "execution_count": 11,
   "id": "685f8f7d-88ae-4c24-a011-46267f9dcd11",
   "metadata": {},
   "outputs": [],
   "source": [
    "# where secutiy protocol is nesessary there we use SOAP protocol, and where we use normal where the security is not that important that portion Rest protocol is come."
   ]
  },
  {
   "cell_type": "code",
   "execution_count": null,
   "id": "68a10ef1-6d6c-4307-b01f-eea697614abf",
   "metadata": {},
   "outputs": [],
   "source": []
  },
  {
   "cell_type": "code",
   "execution_count": null,
   "id": "64ae96a6-032c-4355-8742-d74748ea779f",
   "metadata": {},
   "outputs": [],
   "source": []
  },
  {
   "cell_type": "markdown",
   "id": "dcc01b36-d497-4144-b1d6-93e90b81a54d",
   "metadata": {},
   "source": [
    "# Restful Services"
   ]
  },
  {
   "cell_type": "code",
   "execution_count": null,
   "id": "fe7173bb-c705-4f13-93e3-05276f0e68ae",
   "metadata": {},
   "outputs": [],
   "source": []
  }
 ],
 "metadata": {
  "kernelspec": {
   "display_name": "Python 3 (ipykernel)",
   "language": "python",
   "name": "python3"
  },
  "language_info": {
   "codemirror_mode": {
    "name": "ipython",
    "version": 3
   },
   "file_extension": ".py",
   "mimetype": "text/x-python",
   "name": "python",
   "nbconvert_exporter": "python",
   "pygments_lexer": "ipython3",
   "version": "3.10.8"
  }
 },
 "nbformat": 4,
 "nbformat_minor": 5
}
