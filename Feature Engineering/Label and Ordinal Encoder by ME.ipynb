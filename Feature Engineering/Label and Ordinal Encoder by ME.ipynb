{
 "cells": [
  {
   "cell_type": "markdown",
   "id": "d1f145b9-21c3-4866-8f37-17e55bca7e69",
   "metadata": {},
   "source": [
    "# Label And Ordinal Encoding"
   ]
  },
  {
   "cell_type": "markdown",
   "id": "4e37c452-2da7-4293-9027-5584d2aecb6e",
   "metadata": {},
   "source": [
    "## Label Encoding"
   ]
  },
  {
   "cell_type": "code",
   "execution_count": 2,
   "id": "1e2b4bf6-629a-415a-9463-092fbf5fe646",
   "metadata": {},
   "outputs": [],
   "source": [
    "import pandas as pd\n",
    "from sklearn.preprocessing import LabelEncoder"
   ]
  },
  {
   "cell_type": "code",
   "execution_count": 3,
   "id": "05098e10-de8d-4cae-a974-49401936affa",
   "metadata": {},
   "outputs": [],
   "source": [
    "# creating a sample dataframe with a categorical variable\n",
    "\n",
    "df = pd.DataFrame({\n",
    "'color' : ['red','blue','green','green','blue','red']\n",
    "})"
   ]
  },
  {
   "cell_type": "code",
   "execution_count": 4,
   "id": "41103753-9f52-4f24-a352-8192f95c3ceb",
   "metadata": {},
   "outputs": [
    {
     "data": {
      "text/html": [
       "<div>\n",
       "<style scoped>\n",
       "    .dataframe tbody tr th:only-of-type {\n",
       "        vertical-align: middle;\n",
       "    }\n",
       "\n",
       "    .dataframe tbody tr th {\n",
       "        vertical-align: top;\n",
       "    }\n",
       "\n",
       "    .dataframe thead th {\n",
       "        text-align: right;\n",
       "    }\n",
       "</style>\n",
       "<table border=\"1\" class=\"dataframe\">\n",
       "  <thead>\n",
       "    <tr style=\"text-align: right;\">\n",
       "      <th></th>\n",
       "      <th>color</th>\n",
       "    </tr>\n",
       "  </thead>\n",
       "  <tbody>\n",
       "    <tr>\n",
       "      <th>0</th>\n",
       "      <td>red</td>\n",
       "    </tr>\n",
       "    <tr>\n",
       "      <th>1</th>\n",
       "      <td>blue</td>\n",
       "    </tr>\n",
       "    <tr>\n",
       "      <th>2</th>\n",
       "      <td>green</td>\n",
       "    </tr>\n",
       "    <tr>\n",
       "      <th>3</th>\n",
       "      <td>green</td>\n",
       "    </tr>\n",
       "    <tr>\n",
       "      <th>4</th>\n",
       "      <td>blue</td>\n",
       "    </tr>\n",
       "    <tr>\n",
       "      <th>5</th>\n",
       "      <td>red</td>\n",
       "    </tr>\n",
       "  </tbody>\n",
       "</table>\n",
       "</div>"
      ],
      "text/plain": [
       "   color\n",
       "0    red\n",
       "1   blue\n",
       "2  green\n",
       "3  green\n",
       "4   blue\n",
       "5    red"
      ]
     },
     "execution_count": 4,
     "metadata": {},
     "output_type": "execute_result"
    }
   ],
   "source": [
    "df"
   ]
  },
  {
   "cell_type": "code",
   "execution_count": 5,
   "id": "1019a9e1-695b-43df-bb2e-e93467041e32",
   "metadata": {},
   "outputs": [],
   "source": [
    "# Creating an instance of label encoder\n",
    "\n",
    "encoder = LabelEncoder()"
   ]
  },
  {
   "cell_type": "code",
   "execution_count": 9,
   "id": "5284c604-2d7f-4e5c-b893-76502cddf139",
   "metadata": {},
   "outputs": [
    {
     "data": {
      "text/plain": [
       "array([2, 0, 1, 1, 0, 2])"
      ]
     },
     "execution_count": 9,
     "metadata": {},
     "output_type": "execute_result"
    }
   ],
   "source": [
    "encoder.fit_transform(df['color']) # if you make here 2D then it will proive a warning but the output will be same. this is why we use here 1D"
   ]
  },
  {
   "cell_type": "code",
   "execution_count": 10,
   "id": "912f33dc-acc2-404d-a2a6-0a76f5736c7a",
   "metadata": {},
   "outputs": [],
   "source": [
    "# here the encoding is happening on the basis of alphabet. \n",
    "\n",
    "# Ordinal encoder helps in encoding based on the rank"
   ]
  },
  {
   "cell_type": "markdown",
   "id": "5fdbd978-1953-4833-abc3-6c7fc6a0d9e5",
   "metadata": {},
   "source": [
    "## Ordinal Encoding"
   ]
  },
  {
   "cell_type": "code",
   "execution_count": 12,
   "id": "e5a4d315-a55f-4ffc-a5c8-a8908fbdb022",
   "metadata": {},
   "outputs": [],
   "source": [
    "#  imporring libraries\n",
    "\n",
    "import pandas as pd\n",
    "\n",
    "from sklearn.preprocessing import OrdinalEncoder"
   ]
  },
  {
   "cell_type": "code",
   "execution_count": 13,
   "id": "d8a10177-5808-4f00-b35f-1c9ebdc2f305",
   "metadata": {},
   "outputs": [],
   "source": [
    "# Creating a sample dataset with ordinal variable\n",
    "\n",
    "df = pd.DataFrame({\n",
    "'size' : ['small','medium','large','medium','small','large']\n",
    "})"
   ]
  },
  {
   "cell_type": "code",
   "execution_count": 17,
   "id": "d12a2d67-214f-4f68-962c-c323c0de6896",
   "metadata": {},
   "outputs": [],
   "source": [
    "# creating a instance of ordinal encoder\n",
    "\n",
    "o_encoder = OrdinalEncoder(categories=[['small','medium','large']])"
   ]
  },
  {
   "cell_type": "code",
   "execution_count": 18,
   "id": "d0b5c7c2-41c8-48b4-afb1-3e30cdb7ce09",
   "metadata": {},
   "outputs": [
    {
     "data": {
      "text/plain": [
       "array([[0.],\n",
       "       [1.],\n",
       "       [2.],\n",
       "       [1.],\n",
       "       [0.],\n",
       "       [2.]])"
      ]
     },
     "execution_count": 18,
     "metadata": {},
     "output_type": "execute_result"
    }
   ],
   "source": [
    "o_encoder.fit_transform(df[['size']])"
   ]
  },
  {
   "cell_type": "code",
   "execution_count": null,
   "id": "effdec05-eb71-4808-8a19-ed9e47075a02",
   "metadata": {},
   "outputs": [],
   "source": []
  }
 ],
 "metadata": {
  "kernelspec": {
   "display_name": "Python 3 (ipykernel)",
   "language": "python",
   "name": "python3"
  },
  "language_info": {
   "codemirror_mode": {
    "name": "ipython",
    "version": 3
   },
   "file_extension": ".py",
   "mimetype": "text/x-python",
   "name": "python",
   "nbconvert_exporter": "python",
   "pygments_lexer": "ipython3",
   "version": "3.10.8"
  }
 },
 "nbformat": 4,
 "nbformat_minor": 5
}
