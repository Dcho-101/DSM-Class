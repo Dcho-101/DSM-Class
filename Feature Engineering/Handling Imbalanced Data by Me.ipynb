{
 "cells": [
  {
   "cell_type": "markdown",
   "id": "a56199dd-c1c9-4b85-86e9-70246b12e73f",
   "metadata": {},
   "source": [
    "# Imbalanced Dataset Handling"
   ]
  },
  {
   "cell_type": "markdown",
   "id": "e9106573-0506-4513-8e3e-de15d9253b9f",
   "metadata": {},
   "source": [
    "1. Upsampling\n",
    "\n",
    "2. Downsampling"
   ]
  },
  {
   "cell_type": "code",
   "execution_count": 1,
   "id": "f5f5f0ed-32e2-4afd-9a51-d42d41a05f25",
   "metadata": {},
   "outputs": [],
   "source": [
    "# importing libraries\n",
    "\n",
    "import numpy as np\n",
    "import pandas as pd"
   ]
  },
  {
   "cell_type": "code",
   "execution_count": 2,
   "id": "395970ee-3629-4bf6-a615-647cada1e853",
   "metadata": {},
   "outputs": [],
   "source": [
    "# Set the random seed for reproducablity\n",
    "\n",
    "np.random.seed(123) # making a seed from numpy so that the values cannot be changed\n",
    "\n",
    "# Create a dataframe with two classes\n",
    "\n",
    "n_samples = 1000 # number of datapoints is 1000\n",
    "\n",
    "class_0_ratio = 0.9 # ratio of one class is 90%\n",
    "\n",
    "n_class_0 = int(n_samples * class_0_ratio) # making 900 datapoint into class 0\n",
    "\n",
    "n_class_1 = n_samples - n_class_0 # making rest data points for the class 1"
   ]
  },
  {
   "cell_type": "code",
   "execution_count": 3,
   "id": "3b49837c-ca44-49fb-af49-12e0c0384068",
   "metadata": {},
   "outputs": [
    {
     "data": {
      "text/plain": [
       "(900, 100)"
      ]
     },
     "execution_count": 3,
     "metadata": {},
     "output_type": "execute_result"
    }
   ],
   "source": [
    "n_class_0, n_class_1"
   ]
  },
  {
   "cell_type": "code",
   "execution_count": 4,
   "id": "f48061af-b861-43a6-8953-b5cfbf8e53a9",
   "metadata": {},
   "outputs": [],
   "source": [
    "class_0 = pd.DataFrame({\n",
    "'feature_1' : np.random.normal(loc = 0, scale = 1, size = n_class_0),\n",
    "'feature_2' : np.random.normal(loc = 0, scale = 1, size = n_class_0),\n",
    "'target' : [0] * n_class_0\n",
    "})\n",
    "\n",
    "class_1 = pd.DataFrame({\n",
    "'feature_1' : np.random.normal(loc = 2, scale = 1, size = n_class_1),\n",
    "'feature_2' : np.random.normal(loc = 2, scale = 1, size = n_class_1),\n",
    "'target' : [1] * n_class_1\n",
    "})"
   ]
  },
  {
   "cell_type": "code",
   "execution_count": 5,
   "id": "f2f78840-aa69-45dd-8728-c6c458b62776",
   "metadata": {},
   "outputs": [],
   "source": [
    "df = pd.concat([class_0, class_1]).reset_index(drop = True)"
   ]
  },
  {
   "cell_type": "code",
   "execution_count": 6,
   "id": "98c2380e-c82c-4ae8-ada0-626ccb229a6a",
   "metadata": {},
   "outputs": [
    {
     "data": {
      "text/html": [
       "<div>\n",
       "<style scoped>\n",
       "    .dataframe tbody tr th:only-of-type {\n",
       "        vertical-align: middle;\n",
       "    }\n",
       "\n",
       "    .dataframe tbody tr th {\n",
       "        vertical-align: top;\n",
       "    }\n",
       "\n",
       "    .dataframe thead th {\n",
       "        text-align: right;\n",
       "    }\n",
       "</style>\n",
       "<table border=\"1\" class=\"dataframe\">\n",
       "  <thead>\n",
       "    <tr style=\"text-align: right;\">\n",
       "      <th></th>\n",
       "      <th>feature_1</th>\n",
       "      <th>feature_2</th>\n",
       "      <th>target</th>\n",
       "    </tr>\n",
       "  </thead>\n",
       "  <tbody>\n",
       "    <tr>\n",
       "      <th>0</th>\n",
       "      <td>-1.085631</td>\n",
       "      <td>0.551302</td>\n",
       "      <td>0</td>\n",
       "    </tr>\n",
       "    <tr>\n",
       "      <th>1</th>\n",
       "      <td>0.997345</td>\n",
       "      <td>0.419589</td>\n",
       "      <td>0</td>\n",
       "    </tr>\n",
       "    <tr>\n",
       "      <th>2</th>\n",
       "      <td>0.282978</td>\n",
       "      <td>1.815652</td>\n",
       "      <td>0</td>\n",
       "    </tr>\n",
       "    <tr>\n",
       "      <th>3</th>\n",
       "      <td>-1.506295</td>\n",
       "      <td>-0.252750</td>\n",
       "      <td>0</td>\n",
       "    </tr>\n",
       "    <tr>\n",
       "      <th>4</th>\n",
       "      <td>-0.578600</td>\n",
       "      <td>-0.292004</td>\n",
       "      <td>0</td>\n",
       "    </tr>\n",
       "  </tbody>\n",
       "</table>\n",
       "</div>"
      ],
      "text/plain": [
       "   feature_1  feature_2  target\n",
       "0  -1.085631   0.551302       0\n",
       "1   0.997345   0.419589       0\n",
       "2   0.282978   1.815652       0\n",
       "3  -1.506295  -0.252750       0\n",
       "4  -0.578600  -0.292004       0"
      ]
     },
     "execution_count": 6,
     "metadata": {},
     "output_type": "execute_result"
    }
   ],
   "source": [
    "df.head()"
   ]
  },
  {
   "cell_type": "code",
   "execution_count": 7,
   "id": "411466c2-0890-449a-a60e-b0662cc1ba31",
   "metadata": {},
   "outputs": [
    {
     "data": {
      "text/plain": [
       "0    900\n",
       "1    100\n",
       "Name: target, dtype: int64"
      ]
     },
     "execution_count": 7,
     "metadata": {},
     "output_type": "execute_result"
    }
   ],
   "source": [
    "df['target'].value_counts()"
   ]
  },
  {
   "cell_type": "code",
   "execution_count": null,
   "id": "581f6e8b-8ba1-42c8-ba9f-b3f68af7dfc1",
   "metadata": {},
   "outputs": [],
   "source": []
  },
  {
   "cell_type": "markdown",
   "id": "41926b99-23ce-494b-9307-c2eac19fd1a9",
   "metadata": {},
   "source": [
    "## Upsampling the dataset "
   ]
  },
  {
   "cell_type": "code",
   "execution_count": 8,
   "id": "32ad031d-b955-4d09-a90d-f88583dcf308",
   "metadata": {},
   "outputs": [],
   "source": [
    "# setting the majority and minority of the dataset\n",
    "\n",
    "df_minority = df[df['target'] == 1]\n",
    "\n",
    "df_majority = df[df['target'] == 0]"
   ]
  },
  {
   "cell_type": "code",
   "execution_count": 9,
   "id": "2a77cbc9-b1c3-4a9a-bbde-576ba4458e73",
   "metadata": {},
   "outputs": [
    {
     "data": {
      "text/html": [
       "<div>\n",
       "<style scoped>\n",
       "    .dataframe tbody tr th:only-of-type {\n",
       "        vertical-align: middle;\n",
       "    }\n",
       "\n",
       "    .dataframe tbody tr th {\n",
       "        vertical-align: top;\n",
       "    }\n",
       "\n",
       "    .dataframe thead th {\n",
       "        text-align: right;\n",
       "    }\n",
       "</style>\n",
       "<table border=\"1\" class=\"dataframe\">\n",
       "  <thead>\n",
       "    <tr style=\"text-align: right;\">\n",
       "      <th></th>\n",
       "      <th>feature_1</th>\n",
       "      <th>feature_2</th>\n",
       "      <th>target</th>\n",
       "    </tr>\n",
       "  </thead>\n",
       "  <tbody>\n",
       "    <tr>\n",
       "      <th>0</th>\n",
       "      <td>-1.085631</td>\n",
       "      <td>0.551302</td>\n",
       "      <td>0</td>\n",
       "    </tr>\n",
       "    <tr>\n",
       "      <th>1</th>\n",
       "      <td>0.997345</td>\n",
       "      <td>0.419589</td>\n",
       "      <td>0</td>\n",
       "    </tr>\n",
       "    <tr>\n",
       "      <th>2</th>\n",
       "      <td>0.282978</td>\n",
       "      <td>1.815652</td>\n",
       "      <td>0</td>\n",
       "    </tr>\n",
       "    <tr>\n",
       "      <th>3</th>\n",
       "      <td>-1.506295</td>\n",
       "      <td>-0.252750</td>\n",
       "      <td>0</td>\n",
       "    </tr>\n",
       "    <tr>\n",
       "      <th>4</th>\n",
       "      <td>-0.578600</td>\n",
       "      <td>-0.292004</td>\n",
       "      <td>0</td>\n",
       "    </tr>\n",
       "  </tbody>\n",
       "</table>\n",
       "</div>"
      ],
      "text/plain": [
       "   feature_1  feature_2  target\n",
       "0  -1.085631   0.551302       0\n",
       "1   0.997345   0.419589       0\n",
       "2   0.282978   1.815652       0\n",
       "3  -1.506295  -0.252750       0\n",
       "4  -0.578600  -0.292004       0"
      ]
     },
     "execution_count": 9,
     "metadata": {},
     "output_type": "execute_result"
    }
   ],
   "source": [
    "df_majority.head()"
   ]
  },
  {
   "cell_type": "code",
   "execution_count": 10,
   "id": "97b85134-b1bb-4be2-9522-aae6ddd2a3fd",
   "metadata": {},
   "outputs": [
    {
     "data": {
      "text/html": [
       "<div>\n",
       "<style scoped>\n",
       "    .dataframe tbody tr th:only-of-type {\n",
       "        vertical-align: middle;\n",
       "    }\n",
       "\n",
       "    .dataframe tbody tr th {\n",
       "        vertical-align: top;\n",
       "    }\n",
       "\n",
       "    .dataframe thead th {\n",
       "        text-align: right;\n",
       "    }\n",
       "</style>\n",
       "<table border=\"1\" class=\"dataframe\">\n",
       "  <thead>\n",
       "    <tr style=\"text-align: right;\">\n",
       "      <th></th>\n",
       "      <th>feature_1</th>\n",
       "      <th>feature_2</th>\n",
       "      <th>target</th>\n",
       "    </tr>\n",
       "  </thead>\n",
       "  <tbody>\n",
       "    <tr>\n",
       "      <th>900</th>\n",
       "      <td>1.699768</td>\n",
       "      <td>2.139033</td>\n",
       "      <td>1</td>\n",
       "    </tr>\n",
       "    <tr>\n",
       "      <th>901</th>\n",
       "      <td>1.367739</td>\n",
       "      <td>2.025577</td>\n",
       "      <td>1</td>\n",
       "    </tr>\n",
       "    <tr>\n",
       "      <th>902</th>\n",
       "      <td>1.795683</td>\n",
       "      <td>1.803557</td>\n",
       "      <td>1</td>\n",
       "    </tr>\n",
       "    <tr>\n",
       "      <th>903</th>\n",
       "      <td>2.213696</td>\n",
       "      <td>3.312255</td>\n",
       "      <td>1</td>\n",
       "    </tr>\n",
       "    <tr>\n",
       "      <th>904</th>\n",
       "      <td>3.033878</td>\n",
       "      <td>3.187417</td>\n",
       "      <td>1</td>\n",
       "    </tr>\n",
       "  </tbody>\n",
       "</table>\n",
       "</div>"
      ],
      "text/plain": [
       "     feature_1  feature_2  target\n",
       "900   1.699768   2.139033       1\n",
       "901   1.367739   2.025577       1\n",
       "902   1.795683   1.803557       1\n",
       "903   2.213696   3.312255       1\n",
       "904   3.033878   3.187417       1"
      ]
     },
     "execution_count": 10,
     "metadata": {},
     "output_type": "execute_result"
    }
   ],
   "source": [
    "df_minority.head()"
   ]
  },
  {
   "cell_type": "code",
   "execution_count": 11,
   "id": "55962336-cf01-4e18-bf33-fc3fb9c75d72",
   "metadata": {},
   "outputs": [],
   "source": [
    "# Upsampling Perform\n",
    "\n",
    "from sklearn.utils import resample"
   ]
  },
  {
   "cell_type": "code",
   "execution_count": 12,
   "id": "5382ad68-0e3a-42a4-9096-3d1d99e8547f",
   "metadata": {},
   "outputs": [],
   "source": [
    "df_minority_upsample = resample(df_minority,\n",
    "                               replace = True, # sample with replacement\n",
    "                               n_samples = len(df_majority), # to match the majority class\n",
    "                               random_state=42) # you can use any value in the random state "
   ]
  },
  {
   "cell_type": "code",
   "execution_count": 13,
   "id": "cd583f9d-301c-4b10-8faa-e29726277557",
   "metadata": {},
   "outputs": [
    {
     "data": {
      "text/plain": [
       "(900, 3)"
      ]
     },
     "execution_count": 13,
     "metadata": {},
     "output_type": "execute_result"
    }
   ],
   "source": [
    "df_minority_upsample.shape"
   ]
  },
  {
   "cell_type": "code",
   "execution_count": 14,
   "id": "f502c330-ca90-465c-affc-6b9a5345908c",
   "metadata": {},
   "outputs": [
    {
     "data": {
      "text/plain": [
       "1    900\n",
       "Name: target, dtype: int64"
      ]
     },
     "execution_count": 14,
     "metadata": {},
     "output_type": "execute_result"
    }
   ],
   "source": [
    "df_minority_upsample['target'].value_counts()"
   ]
  },
  {
   "cell_type": "code",
   "execution_count": 15,
   "id": "1b8975bd-c174-4022-978d-8cd3b5e669d0",
   "metadata": {},
   "outputs": [],
   "source": [
    "# concatinating the dataframes\n",
    "\n",
    "df_upsampled = pd.concat([df_majority, df_minority_upsample])"
   ]
  },
  {
   "cell_type": "code",
   "execution_count": 16,
   "id": "9e6139d6-ea6c-463d-aebc-e05e63e61814",
   "metadata": {},
   "outputs": [
    {
     "data": {
      "text/plain": [
       "0    900\n",
       "1    900\n",
       "Name: target, dtype: int64"
      ]
     },
     "execution_count": 16,
     "metadata": {},
     "output_type": "execute_result"
    }
   ],
   "source": [
    "df_upsampled['target'].value_counts()"
   ]
  },
  {
   "cell_type": "code",
   "execution_count": null,
   "id": "dbe3d145-b2c1-4427-af55-6c9f925a25bd",
   "metadata": {},
   "outputs": [],
   "source": []
  },
  {
   "cell_type": "markdown",
   "id": "ff427f9b-8680-4907-baa4-df09e8c6e299",
   "metadata": {},
   "source": [
    "## Downsampling"
   ]
  },
  {
   "cell_type": "code",
   "execution_count": 17,
   "id": "8fc40b4e-e5a3-496b-ae22-a93eaa4faa0d",
   "metadata": {},
   "outputs": [],
   "source": [
    "class_0 = pd.DataFrame({\n",
    "'feature_1' : np.random.normal(loc = 0, scale = 1, size = n_class_0),\n",
    "'feature_2' : np.random.normal(loc = 0, scale = 1, size = n_class_0),\n",
    "'target' : [0] * n_class_0\n",
    "})\n",
    "\n",
    "class_1 = pd.DataFrame({\n",
    "'feature_1' : np.random.normal(loc = 2, scale = 1, size = n_class_1),\n",
    "'feature_2' : np.random.normal(loc = 2, scale = 1, size = n_class_1),\n",
    "'target' : [1] * n_class_1\n",
    "})"
   ]
  },
  {
   "cell_type": "code",
   "execution_count": 18,
   "id": "f2782bd2-23b3-421e-a7d2-13e25e9cbe01",
   "metadata": {},
   "outputs": [],
   "source": [
    "df = pd.concat([class_0, class_1]).reset_index(drop = True)"
   ]
  },
  {
   "cell_type": "code",
   "execution_count": 19,
   "id": "af906d9e-2755-4624-bd83-273e3e78dad6",
   "metadata": {},
   "outputs": [],
   "source": [
    "# setting the majority and minority of the dataset\n",
    "\n",
    "df_minority = df[df['target'] == 1]\n",
    "\n",
    "df_majority = df[df['target'] == 0]"
   ]
  },
  {
   "cell_type": "code",
   "execution_count": 20,
   "id": "9c6330e8-c773-459e-b445-8e3b974b41ec",
   "metadata": {},
   "outputs": [],
   "source": [
    "df_majority_downsample = resample(df_majority,\n",
    "                               replace = False, # sample without replacement\n",
    "                               n_samples = len(df_minority), # to match the minority class\n",
    "                               random_state=42) # you can use any value in the random state"
   ]
  },
  {
   "cell_type": "code",
   "execution_count": 21,
   "id": "3db0d440-54f0-4b34-afd8-828e01282f8f",
   "metadata": {},
   "outputs": [
    {
     "data": {
      "text/plain": [
       "(100, 3)"
      ]
     },
     "execution_count": 21,
     "metadata": {},
     "output_type": "execute_result"
    }
   ],
   "source": [
    "df_majority_downsample.shape"
   ]
  },
  {
   "cell_type": "code",
   "execution_count": 24,
   "id": "997d238e-f100-471e-b7d1-4be5e7b76d8b",
   "metadata": {},
   "outputs": [],
   "source": [
    "df_downsample = pd.concat([df_minority, df_majority_downsample])"
   ]
  },
  {
   "cell_type": "code",
   "execution_count": 25,
   "id": "2a768134-7e2f-4037-b76c-875c1e2e7d33",
   "metadata": {},
   "outputs": [
    {
     "data": {
      "text/plain": [
       "1    100\n",
       "0    100\n",
       "Name: target, dtype: int64"
      ]
     },
     "execution_count": 25,
     "metadata": {},
     "output_type": "execute_result"
    }
   ],
   "source": [
    "df_downsample['target'].value_counts()"
   ]
  },
  {
   "cell_type": "code",
   "execution_count": 26,
   "id": "55844c25-1100-490e-bdb8-20502f934035",
   "metadata": {},
   "outputs": [
    {
     "data": {
      "text/html": [
       "<div>\n",
       "<style scoped>\n",
       "    .dataframe tbody tr th:only-of-type {\n",
       "        vertical-align: middle;\n",
       "    }\n",
       "\n",
       "    .dataframe tbody tr th {\n",
       "        vertical-align: top;\n",
       "    }\n",
       "\n",
       "    .dataframe thead th {\n",
       "        text-align: right;\n",
       "    }\n",
       "</style>\n",
       "<table border=\"1\" class=\"dataframe\">\n",
       "  <thead>\n",
       "    <tr style=\"text-align: right;\">\n",
       "      <th></th>\n",
       "      <th>feature_1</th>\n",
       "      <th>feature_2</th>\n",
       "      <th>target</th>\n",
       "    </tr>\n",
       "  </thead>\n",
       "  <tbody>\n",
       "    <tr>\n",
       "      <th>900</th>\n",
       "      <td>-0.643425</td>\n",
       "      <td>2.571923</td>\n",
       "      <td>1</td>\n",
       "    </tr>\n",
       "    <tr>\n",
       "      <th>901</th>\n",
       "      <td>1.551009</td>\n",
       "      <td>1.782767</td>\n",
       "      <td>1</td>\n",
       "    </tr>\n",
       "    <tr>\n",
       "      <th>902</th>\n",
       "      <td>1.641093</td>\n",
       "      <td>2.054318</td>\n",
       "      <td>1</td>\n",
       "    </tr>\n",
       "    <tr>\n",
       "      <th>903</th>\n",
       "      <td>2.133194</td>\n",
       "      <td>2.155998</td>\n",
       "      <td>1</td>\n",
       "    </tr>\n",
       "    <tr>\n",
       "      <th>904</th>\n",
       "      <td>1.355758</td>\n",
       "      <td>2.467810</td>\n",
       "      <td>1</td>\n",
       "    </tr>\n",
       "    <tr>\n",
       "      <th>...</th>\n",
       "      <td>...</td>\n",
       "      <td>...</td>\n",
       "      <td>...</td>\n",
       "    </tr>\n",
       "    <tr>\n",
       "      <th>398</th>\n",
       "      <td>1.013666</td>\n",
       "      <td>0.083496</td>\n",
       "      <td>0</td>\n",
       "    </tr>\n",
       "    <tr>\n",
       "      <th>76</th>\n",
       "      <td>0.164480</td>\n",
       "      <td>-1.808980</td>\n",
       "      <td>0</td>\n",
       "    </tr>\n",
       "    <tr>\n",
       "      <th>196</th>\n",
       "      <td>-1.576624</td>\n",
       "      <td>0.525893</td>\n",
       "      <td>0</td>\n",
       "    </tr>\n",
       "    <tr>\n",
       "      <th>631</th>\n",
       "      <td>-0.540147</td>\n",
       "      <td>0.610282</td>\n",
       "      <td>0</td>\n",
       "    </tr>\n",
       "    <tr>\n",
       "      <th>751</th>\n",
       "      <td>-0.168798</td>\n",
       "      <td>-0.831334</td>\n",
       "      <td>0</td>\n",
       "    </tr>\n",
       "  </tbody>\n",
       "</table>\n",
       "<p>200 rows × 3 columns</p>\n",
       "</div>"
      ],
      "text/plain": [
       "     feature_1  feature_2  target\n",
       "900  -0.643425   2.571923       1\n",
       "901   1.551009   1.782767       1\n",
       "902   1.641093   2.054318       1\n",
       "903   2.133194   2.155998       1\n",
       "904   1.355758   2.467810       1\n",
       "..         ...        ...     ...\n",
       "398   1.013666   0.083496       0\n",
       "76    0.164480  -1.808980       0\n",
       "196  -1.576624   0.525893       0\n",
       "631  -0.540147   0.610282       0\n",
       "751  -0.168798  -0.831334       0\n",
       "\n",
       "[200 rows x 3 columns]"
      ]
     },
     "execution_count": 26,
     "metadata": {},
     "output_type": "execute_result"
    }
   ],
   "source": [
    "df_downsample"
   ]
  },
  {
   "cell_type": "code",
   "execution_count": null,
   "id": "08dff0f1-f712-47a3-a04d-184c2ca79a82",
   "metadata": {},
   "outputs": [],
   "source": []
  }
 ],
 "metadata": {
  "kernelspec": {
   "display_name": "Python 3 (ipykernel)",
   "language": "python",
   "name": "python3"
  },
  "language_info": {
   "codemirror_mode": {
    "name": "ipython",
    "version": 3
   },
   "file_extension": ".py",
   "mimetype": "text/x-python",
   "name": "python",
   "nbconvert_exporter": "python",
   "pygments_lexer": "ipython3",
   "version": "3.10.8"
  }
 },
 "nbformat": 4,
 "nbformat_minor": 5
}
