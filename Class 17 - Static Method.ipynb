{
 "cells": [
  {
   "cell_type": "code",
   "execution_count": 1,
   "id": "a72412ba-6aea-4c04-8481-872ec8ec265f",
   "metadata": {},
   "outputs": [],
   "source": [
    "class pwskills :\n",
    "    \n",
    "    def student_details(self, name, mail_id, number) :\n",
    "        print(name, mail_id, number)\n",
    "        \n",
    "        "
   ]
  },
  {
   "cell_type": "code",
   "execution_count": 3,
   "id": "edbc9480-3d6c-4517-8469-344b750ddcc3",
   "metadata": {},
   "outputs": [],
   "source": [
    "# now if you access the name, email, then you have to create object then you can pass the class, after that you can pass the name, email, etc\n",
    "# example"
   ]
  },
  {
   "cell_type": "code",
   "execution_count": 4,
   "id": "c349e8a8-f25a-4fe6-8b28-49d5a9dddd07",
   "metadata": {},
   "outputs": [],
   "source": [
    "pw = pwskills()"
   ]
  },
  {
   "cell_type": "code",
   "execution_count": 7,
   "id": "d45864ad-b918-4024-83a9-bafda179a3ba",
   "metadata": {},
   "outputs": [
    {
     "name": "stdout",
     "output_type": "stream",
     "text": [
      "dip dip123@gmail.com 3122458795\n"
     ]
    }
   ],
   "source": [
    "pw.student_details(\"dip\", \"dip123@gmail.com\", 3122458795)"
   ]
  },
  {
   "cell_type": "code",
   "execution_count": 9,
   "id": "5ad37519-40de-44d5-beda-565a2883e804",
   "metadata": {},
   "outputs": [],
   "source": [
    "# creating a function in which we can access without making an object\n",
    "# by using ststic method operator"
   ]
  },
  {
   "cell_type": "code",
   "execution_count": 12,
   "id": "d42a9e19-9897-4959-8dbe-e62c5cd99b43",
   "metadata": {},
   "outputs": [],
   "source": [
    "class pwskills1 :\n",
    "    \n",
    "    def student_details(self, name, mail_id, number) :\n",
    "        print(name, mail_id, number)\n",
    "        \n",
    "    @staticmethod\n",
    "    def mentor_class(list_mentor) :\n",
    "        print(list_mentor)\n",
    "    def mentor(self, mentor_list) :\n",
    "        print(mentor_list)"
   ]
  },
  {
   "cell_type": "code",
   "execution_count": 11,
   "id": "d9cf489f-59ac-47fe-a9ce-962297a4d05f",
   "metadata": {},
   "outputs": [
    {
     "name": "stdout",
     "output_type": "stream",
     "text": [
      "['sudh', 'krish']\n"
     ]
    }
   ],
   "source": [
    "pwskills1.mentor_class([\"sudh\", \"krish\"])"
   ]
  },
  {
   "cell_type": "code",
   "execution_count": 13,
   "id": "e1816a21-ea80-4b9d-bd25-4e18946d99a2",
   "metadata": {},
   "outputs": [],
   "source": [
    "# using ststic method inside a class"
   ]
  },
  {
   "cell_type": "code",
   "execution_count": 34,
   "id": "384b759a-cb4c-42f3-9853-39791008beb5",
   "metadata": {},
   "outputs": [],
   "source": [
    "class pwskills2 :\n",
    "    \n",
    "    def student_details(self, name, mail_id, number) :\n",
    "        print(name, mail_id, number)\n",
    "        \n",
    "    @staticmethod\n",
    "    def mentor_mail_id(mail_id_mentor) :\n",
    "        print(mail_id_mentor)\n",
    "        \n",
    "    @staticmethod\n",
    "    def mentor_class(list_mentor) :\n",
    "        pwskills2.mentor_mail_id([\"sudh@gmail.com\", \"krish@ gmail.com\"])\n",
    "        print(list_mentor)\n",
    "        \n",
    "    @classmethod\n",
    "    def class_name(cls) :\n",
    "        cls.mentor_class([\"krish\", \"sudh\"])\n",
    "        \n",
    "    def mentor(self, mentor_list) :\n",
    "        print(mentor_list)\n",
    "        self.mentor_class([\"krish\", \"sudh\"])"
   ]
  },
  {
   "cell_type": "code",
   "execution_count": 35,
   "id": "69f432e4-3a68-4178-9442-32d4ddb986d0",
   "metadata": {},
   "outputs": [
    {
     "name": "stdout",
     "output_type": "stream",
     "text": [
      "['sudh@gmail.com', 'krish@ gmail.com']\n",
      "['krish', 'sudh']\n"
     ]
    }
   ],
   "source": [
    "pwskills2.class_name()"
   ]
  },
  {
   "cell_type": "code",
   "execution_count": 36,
   "id": "d9e25f8f-2c30-46f7-8abd-081736f138a9",
   "metadata": {},
   "outputs": [],
   "source": [
    "# also, we can call a ststic method under a static method"
   ]
  },
  {
   "cell_type": "code",
   "execution_count": 37,
   "id": "b3f55e9e-91e3-4613-b032-888de896e3ed",
   "metadata": {},
   "outputs": [
    {
     "name": "stdout",
     "output_type": "stream",
     "text": [
      "['sudh@gmail.com', 'krish@ gmail.com']\n",
      "['krish', 'sudh']\n"
     ]
    }
   ],
   "source": [
    "pwskills2.mentor_class([\"krish\", \"sudh\"])"
   ]
  },
  {
   "cell_type": "code",
   "execution_count": null,
   "id": "72552e20-8c19-4816-ba8c-d8d2174dc8c8",
   "metadata": {},
   "outputs": [],
   "source": []
  }
 ],
 "metadata": {
  "kernelspec": {
   "display_name": "Python 3 (ipykernel)",
   "language": "python",
   "name": "python3"
  },
  "language_info": {
   "codemirror_mode": {
    "name": "ipython",
    "version": 3
   },
   "file_extension": ".py",
   "mimetype": "text/x-python",
   "name": "python",
   "nbconvert_exporter": "python",
   "pygments_lexer": "ipython3",
   "version": "3.10.8"
  }
 },
 "nbformat": 4,
 "nbformat_minor": 5
}
