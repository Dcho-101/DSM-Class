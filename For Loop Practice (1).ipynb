{
 "cells": [
  {
   "cell_type": "code",
   "execution_count": 1,
   "id": "a6c0084a-0e83-43b1-9d83-00f25918870a",
   "metadata": {},
   "outputs": [
    {
     "name": "stdout",
     "output_type": "stream",
     "text": [
      "1 <class 'int'>\n",
      "2 <class 'int'>\n",
      "3 <class 'int'>\n",
      "4 <class 'int'>\n",
      "5 <class 'int'>\n"
     ]
    }
   ],
   "source": [
    "l = [1,2,3,4,5]\n",
    "\n",
    "for i in l :\n",
    "    print(i, type(i)) # typing the datatype also"
   ]
  },
  {
   "cell_type": "code",
   "execution_count": 2,
   "id": "da7a98e5-4d5f-4c81-b587-d0e5c1c75974",
   "metadata": {},
   "outputs": [
    {
     "name": "stdout",
     "output_type": "stream",
     "text": [
      "dibyendu\n",
      "chowdhury\n",
      "raja\n",
      "subho\n"
     ]
    }
   ],
   "source": [
    "l1 = [\"dibyendu\", \"chowdhury\", \"raja\", \"subho\"]\n",
    "\n",
    "for i in l1 :\n",
    "    print(i)"
   ]
  },
  {
   "cell_type": "code",
   "execution_count": 3,
   "id": "4334ffc9-b2f9-4bfa-a4e2-53d24439bc5e",
   "metadata": {},
   "outputs": [],
   "source": [
    "# else command can be used with for loop"
   ]
  },
  {
   "cell_type": "code",
   "execution_count": 4,
   "id": "aeb45f4b-eca3-489e-99bf-8e122d09c871",
   "metadata": {},
   "outputs": [
    {
     "name": "stdout",
     "output_type": "stream",
     "text": [
      "dibyendu\n",
      "chowdhury\n",
      "raja\n",
      "subho\n",
      "Do Something\n"
     ]
    }
   ],
   "source": [
    "for i in l1 :\n",
    "    print(i)\n",
    "else :\n",
    "    print(\"Do Something\")"
   ]
  },
  {
   "cell_type": "code",
   "execution_count": 5,
   "id": "71385839-7704-4263-a202-2fa7e2e11a38",
   "metadata": {},
   "outputs": [
    {
     "name": "stdout",
     "output_type": "stream",
     "text": [
      "dibyendu\n",
      "chowdhury\n"
     ]
    }
   ],
   "source": [
    "for i in l1 :\n",
    "    if i == \"raja\" :\n",
    "        break\n",
    "    else :\n",
    "        print(i)"
   ]
  },
  {
   "cell_type": "code",
   "execution_count": 6,
   "id": "73a4e0f7-76d1-42cb-8c58-88cee85d98ce",
   "metadata": {},
   "outputs": [
    {
     "name": "stdout",
     "output_type": "stream",
     "text": [
      "dibyendu\n",
      "chowdhury\n"
     ]
    }
   ],
   "source": [
    "for i in l1 :\n",
    "    if i == \"raja\" :\n",
    "        break\n",
    "    else :\n",
    "        print(i)\n",
    "else :\n",
    "    print(\"Execute this line if the list is execute completely with for loop\")"
   ]
  },
  {
   "cell_type": "code",
   "execution_count": 7,
   "id": "9511ab01-2387-4858-9a33-a59ad56cd8d4",
   "metadata": {},
   "outputs": [
    {
     "name": "stdout",
     "output_type": "stream",
     "text": [
      "dibyendu\n",
      "chowdhury\n",
      "subho\n"
     ]
    }
   ],
   "source": [
    "for i in l1 :\n",
    "    if i == \"raja\" :\n",
    "        continue\n",
    "    print(i)"
   ]
  },
  {
   "cell_type": "code",
   "execution_count": 8,
   "id": "ccd98b8d-da02-43d5-81fc-2f833680e758",
   "metadata": {},
   "outputs": [],
   "source": [
    "# continue does not print the value, it goes again to the for loop line from continue line. that's why when continue line\n",
    "# appears, that value is not printed. "
   ]
  },
  {
   "cell_type": "code",
   "execution_count": 9,
   "id": "4d551c81-b3a5-4037-b8df-6a92d4e1688f",
   "metadata": {},
   "outputs": [],
   "source": [
    "# in this case else can be printed"
   ]
  },
  {
   "cell_type": "code",
   "execution_count": 10,
   "id": "ee9b34c5-d780-45d0-a447-1964bdf20ef1",
   "metadata": {},
   "outputs": [
    {
     "name": "stdout",
     "output_type": "stream",
     "text": [
      "dibyendu\n",
      "chowdhury\n",
      "subho\n",
      "Execute this line if the list is execute completely with for loop\n"
     ]
    }
   ],
   "source": [
    "for i in l1 :\n",
    "    if i == \"raja\" :\n",
    "        continue\n",
    "    else :\n",
    "        print(i)\n",
    "else :\n",
    "    print(\"Execute this line if the list is execute completely with for loop\")"
   ]
  },
  {
   "cell_type": "markdown",
   "id": "3e6d6e08-7eb5-4bc2-8a8b-f2c362574285",
   "metadata": {},
   "source": [
    "# RANGE"
   ]
  },
  {
   "cell_type": "code",
   "execution_count": 11,
   "id": "a0e67aad-dd4b-438c-ab53-5b51d04d97c1",
   "metadata": {},
   "outputs": [
    {
     "data": {
      "text/plain": [
       "range(0, 5)"
      ]
     },
     "execution_count": 11,
     "metadata": {},
     "output_type": "execute_result"
    }
   ],
   "source": [
    "range(5)"
   ]
  },
  {
   "cell_type": "code",
   "execution_count": 12,
   "id": "0fefe27b-da81-40f5-a4c7-603be63bed7d",
   "metadata": {},
   "outputs": [
    {
     "data": {
      "text/plain": [
       "[0, 1, 2, 3, 4]"
      ]
     },
     "execution_count": 12,
     "metadata": {},
     "output_type": "execute_result"
    }
   ],
   "source": [
    "list(range(5))"
   ]
  },
  {
   "cell_type": "code",
   "execution_count": 13,
   "id": "efef6064-7a77-463d-9aaf-453834ba464c",
   "metadata": {},
   "outputs": [
    {
     "data": {
      "text/plain": [
       "[0, 2, 4, 6, 8, 10, 12, 14, 16, 18]"
      ]
     },
     "execution_count": 13,
     "metadata": {},
     "output_type": "execute_result"
    }
   ],
   "source": [
    "list(range(0,20,2))"
   ]
  },
  {
   "cell_type": "code",
   "execution_count": 14,
   "id": "6e586bee-5f6c-42b3-872d-5015efd71e18",
   "metadata": {},
   "outputs": [
    {
     "data": {
      "text/plain": [
       "[-10, -8, -6, -4, -2]"
      ]
     },
     "execution_count": 14,
     "metadata": {},
     "output_type": "execute_result"
    }
   ],
   "source": [
    "list(range(-10,0,2))"
   ]
  },
  {
   "cell_type": "code",
   "execution_count": 15,
   "id": "1a2b4f8a-c34e-4fa1-98e9-268884aff731",
   "metadata": {},
   "outputs": [],
   "source": [
    "# if we want to print the list l1 in desending order, we have to use the length function to determine the starting number of range"
   ]
  },
  {
   "cell_type": "code",
   "execution_count": 16,
   "id": "23f54f9e-3233-4f74-8abe-31e910c52f25",
   "metadata": {},
   "outputs": [
    {
     "data": {
      "text/plain": [
       "4"
      ]
     },
     "execution_count": 16,
     "metadata": {},
     "output_type": "execute_result"
    }
   ],
   "source": [
    "len(l1)"
   ]
  },
  {
   "cell_type": "code",
   "execution_count": 17,
   "id": "f4800f59-57fc-4d65-b96c-20529c275656",
   "metadata": {},
   "outputs": [
    {
     "data": {
      "text/plain": [
       "[0, 1, 2, 3]"
      ]
     },
     "execution_count": 17,
     "metadata": {},
     "output_type": "execute_result"
    }
   ],
   "source": [
    "list(range(len(l1)))"
   ]
  },
  {
   "cell_type": "code",
   "execution_count": 18,
   "id": "85b4e093-d3ad-4738-907e-75d1486aefe1",
   "metadata": {},
   "outputs": [
    {
     "name": "stdout",
     "output_type": "stream",
     "text": [
      "dibyendu\n",
      "chowdhury\n",
      "raja\n",
      "subho\n"
     ]
    }
   ],
   "source": [
    "for i in range(len(l1)) :\n",
    "    print(l1[i])"
   ]
  },
  {
   "cell_type": "code",
   "execution_count": 21,
   "id": "d44f2a0d-cc0e-483c-badd-e225481331e5",
   "metadata": {},
   "outputs": [
    {
     "data": {
      "text/plain": [
       "[]"
      ]
     },
     "execution_count": 21,
     "metadata": {},
     "output_type": "execute_result"
    }
   ],
   "source": [
    "list(range(len(l1),0))\n",
    "# it is not showing because of starting from 4 and ending in 0 but the default jump is 1 so it clashing "
   ]
  },
  {
   "cell_type": "code",
   "execution_count": 23,
   "id": "5976d83f-82b5-477c-a47d-83147f5a783d",
   "metadata": {},
   "outputs": [
    {
     "data": {
      "text/plain": [
       "[4, 3, 2, 1]"
      ]
     },
     "execution_count": 23,
     "metadata": {},
     "output_type": "execute_result"
    }
   ],
   "source": [
    "# for this we need to make -1\n",
    "\n",
    "list(range(len(l1),0, -1))"
   ]
  },
  {
   "cell_type": "code",
   "execution_count": 24,
   "id": "15eedff8-22f7-4979-abc0-29afd67a1142",
   "metadata": {},
   "outputs": [],
   "source": [
    "# but when we start the data from 0, end will be 3 not 4 \n",
    "# so we need to use len(l1) -1 in this case"
   ]
  },
  {
   "cell_type": "code",
   "execution_count": 27,
   "id": "31761c4b-ac63-4e25-ac1a-350f2d8a99b1",
   "metadata": {},
   "outputs": [
    {
     "data": {
      "text/plain": [
       "[3, 2, 1, 0]"
      ]
     },
     "execution_count": 27,
     "metadata": {},
     "output_type": "execute_result"
    }
   ],
   "source": [
    "list(range(len(l1)-1,-1, -1))\n",
    "# that will be our desending order"
   ]
  },
  {
   "cell_type": "code",
   "execution_count": 29,
   "id": "81a4b8d5-53c1-4e5f-9dfc-ee24259c5b99",
   "metadata": {},
   "outputs": [
    {
     "name": "stdout",
     "output_type": "stream",
     "text": [
      "subho\n",
      "raja\n",
      "chowdhury\n",
      "dibyendu\n"
     ]
    }
   ],
   "source": [
    "# for revresing the data\n",
    "for i in range(len(l1)-1,-1, -1) :\n",
    "    print(l1[i])"
   ]
  },
  {
   "cell_type": "code",
   "execution_count": 30,
   "id": "f39f6ee9-7c7b-4b9b-ab5a-91cccc80b580",
   "metadata": {},
   "outputs": [],
   "source": [
    "l2 = [12,45,65,23,78,98,54,21]"
   ]
  },
  {
   "cell_type": "code",
   "execution_count": 32,
   "id": "66b37a26-2ac3-485e-85bf-58a492f6300d",
   "metadata": {},
   "outputs": [],
   "source": [
    "# print only the even positional data"
   ]
  },
  {
   "cell_type": "code",
   "execution_count": 33,
   "id": "29fb8cb8-f41f-4291-917e-e508272ffbae",
   "metadata": {},
   "outputs": [],
   "source": [
    "# first make a list of the even position data "
   ]
  },
  {
   "cell_type": "code",
   "execution_count": 35,
   "id": "89369ef1-83e1-48a5-911d-9544bdba5f60",
   "metadata": {},
   "outputs": [
    {
     "data": {
      "text/plain": [
       "[0, 2, 4, 6]"
      ]
     },
     "execution_count": 35,
     "metadata": {},
     "output_type": "execute_result"
    }
   ],
   "source": [
    "list(range(0, len(l2), 2))"
   ]
  },
  {
   "cell_type": "code",
   "execution_count": 36,
   "id": "33b8d426-16d2-4b92-a2b3-8bb1d5617874",
   "metadata": {},
   "outputs": [
    {
     "name": "stdout",
     "output_type": "stream",
     "text": [
      "12\n",
      "65\n",
      "78\n",
      "54\n"
     ]
    }
   ],
   "source": [
    "for i in list(range(0, len(l2), 2)) :\n",
    "    print(l2[i])"
   ]
  },
  {
   "cell_type": "code",
   "execution_count": 37,
   "id": "8254ea4b-e42e-43be-8d0b-b8bb4b24bd35",
   "metadata": {},
   "outputs": [],
   "source": [
    "l3 = [1,2,4,5,7,8,9,6,3]\n",
    "\n",
    "# create sum of all the data"
   ]
  },
  {
   "cell_type": "code",
   "execution_count": 38,
   "id": "bb621769-87f0-4c92-bf1c-87b8ef35aa64",
   "metadata": {},
   "outputs": [
    {
     "data": {
      "text/plain": [
       "15"
      ]
     },
     "execution_count": 38,
     "metadata": {},
     "output_type": "execute_result"
    }
   ],
   "source": [
    "result = 0\n",
    "for i in l :\n",
    "    result = result + i\n",
    "result"
   ]
  },
  {
   "cell_type": "code",
   "execution_count": 39,
   "id": "35c871ea-db57-4add-892d-10446ad35dc0",
   "metadata": {},
   "outputs": [],
   "source": [
    "tuple1 = (1,2,3,4,5)"
   ]
  },
  {
   "cell_type": "code",
   "execution_count": 41,
   "id": "c670d563-226d-4b2a-b509-46bd7b1308c3",
   "metadata": {},
   "outputs": [
    {
     "name": "stdout",
     "output_type": "stream",
     "text": [
      "1\n",
      "2\n",
      "3\n",
      "4\n",
      "5\n"
     ]
    }
   ],
   "source": [
    "for i in tuple1 :\n",
    "    print(i)"
   ]
  },
  {
   "cell_type": "code",
   "execution_count": 42,
   "id": "776d116b-e45a-4ab0-9996-33a82898fdd3",
   "metadata": {},
   "outputs": [
    {
     "data": {
      "text/plain": [
       "15"
      ]
     },
     "execution_count": 42,
     "metadata": {},
     "output_type": "execute_result"
    }
   ],
   "source": [
    "result = 0\n",
    "for i in tuple1 :\n",
    "    result = result + i\n",
    "result"
   ]
  },
  {
   "cell_type": "code",
   "execution_count": 43,
   "id": "9cac95d6-25a5-4f31-b8a7-0c919533a3a1",
   "metadata": {},
   "outputs": [],
   "source": [
    "s1 = \"dibyendu\""
   ]
  },
  {
   "cell_type": "code",
   "execution_count": 44,
   "id": "1047be39-9c1d-4c84-8033-5dc974406196",
   "metadata": {},
   "outputs": [
    {
     "name": "stdout",
     "output_type": "stream",
     "text": [
      "d\n",
      "i\n",
      "b\n",
      "y\n",
      "e\n",
      "n\n",
      "d\n",
      "u\n"
     ]
    }
   ],
   "source": [
    "for i in s1 :\n",
    "    print(i)"
   ]
  },
  {
   "cell_type": "code",
   "execution_count": 45,
   "id": "a21c23e7-4562-48a0-9f7d-ab1170c052aa",
   "metadata": {},
   "outputs": [],
   "source": [
    "dic = {\"name\" : \"sudh\", \"class\" : \"data science masters\",\n",
    "       \"topic\" : [\"python\", \"stats\", \"machine learning\", \"deep learning\", \"computer vision\", \"natural language processing\", \"resume\", \"interview\"]}"
   ]
  },
  {
   "cell_type": "code",
   "execution_count": 46,
   "id": "80fb6481-f50d-4f0a-9942-780e8646b1f4",
   "metadata": {},
   "outputs": [
    {
     "data": {
      "text/plain": [
       "{'name': 'sudh',\n",
       " 'class': 'data science masters',\n",
       " 'topic': ['python',\n",
       "  'stats',\n",
       "  'machine learning',\n",
       "  'deep learning',\n",
       "  'computer vision',\n",
       "  'natural language processing',\n",
       "  'resume',\n",
       "  'interview']}"
      ]
     },
     "execution_count": 46,
     "metadata": {},
     "output_type": "execute_result"
    }
   ],
   "source": [
    "dic"
   ]
  },
  {
   "cell_type": "code",
   "execution_count": 47,
   "id": "e33a5d77-3e5c-418d-b291-f5ec8378b512",
   "metadata": {},
   "outputs": [],
   "source": [
    "# pring the values on the basis of keys"
   ]
  },
  {
   "cell_type": "code",
   "execution_count": 48,
   "id": "98165713-54f4-4b53-b0e3-33d312695848",
   "metadata": {},
   "outputs": [
    {
     "data": {
      "text/plain": [
       "'sudh'"
      ]
     },
     "execution_count": 48,
     "metadata": {},
     "output_type": "execute_result"
    }
   ],
   "source": [
    "dic[\"name\"]"
   ]
  },
  {
   "cell_type": "code",
   "execution_count": 50,
   "id": "bf396216-f49e-4547-a2d1-c3b8ef44ffde",
   "metadata": {},
   "outputs": [
    {
     "data": {
      "text/plain": [
       "dict_keys(['name', 'class', 'topic'])"
      ]
     },
     "execution_count": 50,
     "metadata": {},
     "output_type": "execute_result"
    }
   ],
   "source": [
    "dic.keys()"
   ]
  },
  {
   "cell_type": "code",
   "execution_count": 51,
   "id": "2503d26d-714b-41c9-9a5c-55f67a950c09",
   "metadata": {},
   "outputs": [],
   "source": [
    "# doing the same thing in loop command"
   ]
  },
  {
   "cell_type": "code",
   "execution_count": 52,
   "id": "1cedb51e-83a6-4392-830e-594b2764dd86",
   "metadata": {},
   "outputs": [
    {
     "name": "stdout",
     "output_type": "stream",
     "text": [
      "sudh\n",
      "data science masters\n",
      "['python', 'stats', 'machine learning', 'deep learning', 'computer vision', 'natural language processing', 'resume', 'interview']\n"
     ]
    }
   ],
   "source": [
    "for i in dic.keys() :\n",
    "    print(dic[i])"
   ]
  },
  {
   "cell_type": "code",
   "execution_count": 53,
   "id": "70eeb0ca-1ea1-4ac6-8389-a8d6d4de98ee",
   "metadata": {},
   "outputs": [],
   "source": [
    "# or"
   ]
  },
  {
   "cell_type": "code",
   "execution_count": 54,
   "id": "824a9a6a-9632-4ae8-8432-ea814bc655c8",
   "metadata": {},
   "outputs": [
    {
     "name": "stdout",
     "output_type": "stream",
     "text": [
      "sudh\n",
      "data science masters\n",
      "['python', 'stats', 'machine learning', 'deep learning', 'computer vision', 'natural language processing', 'resume', 'interview']\n"
     ]
    }
   ],
   "source": [
    "for i in dic.values() :\n",
    "    print(i)"
   ]
  },
  {
   "cell_type": "code",
   "execution_count": 55,
   "id": "ba698ac5-dba5-432a-b9d5-03d1da47bf6a",
   "metadata": {},
   "outputs": [],
   "source": [
    "# printing keys and values using for loop"
   ]
  },
  {
   "cell_type": "code",
   "execution_count": 56,
   "id": "4bc8e3ed-94c1-4be1-9a77-3b8b3e95a001",
   "metadata": {},
   "outputs": [
    {
     "name": "stdout",
     "output_type": "stream",
     "text": [
      "('name', 'sudh')\n",
      "('class', 'data science masters')\n",
      "('topic', ['python', 'stats', 'machine learning', 'deep learning', 'computer vision', 'natural language processing', 'resume', 'interview'])\n"
     ]
    }
   ],
   "source": [
    "for i in dic.items() :\n",
    "    print(i)"
   ]
  },
  {
   "cell_type": "code",
   "execution_count": null,
   "id": "aea67528-ae02-4d40-961b-cdcb31dca29c",
   "metadata": {},
   "outputs": [],
   "source": []
  }
 ],
 "metadata": {
  "kernelspec": {
   "display_name": "Python 3 (ipykernel)",
   "language": "python",
   "name": "python3"
  },
  "language_info": {
   "codemirror_mode": {
    "name": "ipython",
    "version": 3
   },
   "file_extension": ".py",
   "mimetype": "text/x-python",
   "name": "python",
   "nbconvert_exporter": "python",
   "pygments_lexer": "ipython3",
   "version": "3.10.8"
  }
 },
 "nbformat": 4,
 "nbformat_minor": 5
}
