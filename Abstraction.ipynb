{
 "cells": [
  {
   "cell_type": "code",
   "execution_count": 1,
   "id": "b42c63c7-7965-46bc-9a6e-bdba22040c98",
   "metadata": {},
   "outputs": [],
   "source": [
    "# before making a code we make the skeletal body of the code.\n",
    "# there comes the abstraction part "
   ]
  },
  {
   "cell_type": "code",
   "execution_count": 4,
   "id": "db472236-7235-4676-bfb0-0c4980040911",
   "metadata": {},
   "outputs": [],
   "source": [
    "class pwskills :\n",
    "    \n",
    "    def student_details(self) :\n",
    "        pass\n",
    "    \n",
    "    def student_assignment(self) :\n",
    "        pass\n",
    "    \n",
    "    def student_marks(self) :\n",
    "        pass\n",
    "    "
   ]
  },
  {
   "cell_type": "code",
   "execution_count": 5,
   "id": "19c134ae-a025-4b52-bc0e-934e0e9ad098",
   "metadata": {},
   "outputs": [],
   "source": [
    "# the above code is basically a skeleton part where we defined function but dosen't anything. \n",
    "# but if someone want to assign data, they can inherit this class and assign. \n",
    "# for that you need to import 'abc' library. "
   ]
  },
  {
   "cell_type": "code",
   "execution_count": 6,
   "id": "b734948f-2187-447b-9ede-4069f9c99972",
   "metadata": {},
   "outputs": [],
   "source": [
    "import abc # import done\n",
    "# now we need to decorate the abstract method method under class\n",
    "\n",
    "class pwskills :\n",
    "    @abc.abstractmethod\n",
    "    def student_details(self) :\n",
    "        pass\n",
    "    \n",
    "    @abc.abstractmethod\n",
    "    def student_assignment(self) :\n",
    "        pass\n",
    "    \n",
    "    @abc.abstractmethod\n",
    "    def student_marks(self) :\n",
    "        pass\n",
    "    \n",
    "    \n",
    "# if you do the abstactmethod, then whenever you inherit the class pwskills, there these methods or functions will be available and you can assign them data."
   ]
  },
  {
   "cell_type": "code",
   "execution_count": 7,
   "id": "95d06f0a-86f4-4192-9a83-542fd63e1130",
   "metadata": {},
   "outputs": [],
   "source": [
    "# for example"
   ]
  },
  {
   "cell_type": "code",
   "execution_count": null,
   "id": "a91b2b50-ed96-4c1d-998f-b356bb8d65f5",
   "metadata": {},
   "outputs": [],
   "source": []
  },
  {
   "cell_type": "code",
   "execution_count": 9,
   "id": "5327bdb7-e441-4e10-99c4-bcc9aa338f57",
   "metadata": {},
   "outputs": [],
   "source": [
    "class student_details(pwskills) :\n",
    "    \n",
    "    def student_details(self) :\n",
    "        return \"this is a method for taking details for student\"\n",
    "    \n",
    "    def student_assignment(self) :\n",
    "        return \"This is a method for giving student's assignments\"\n",
    "    \n",
    "    "
   ]
  },
  {
   "cell_type": "code",
   "execution_count": 10,
   "id": "2c7f8160-34f4-4e57-97fa-cc5c95014ef8",
   "metadata": {},
   "outputs": [],
   "source": [
    "# creating one more class"
   ]
  },
  {
   "cell_type": "code",
   "execution_count": 11,
   "id": "315d37ac-7e31-4e65-83d1-1a06de7808cd",
   "metadata": {},
   "outputs": [],
   "source": [
    "class data_science_masters(pwskills) :\n",
    "    \n",
    "    def student_details(self) :\n",
    "        return \"this will return student details for data science master class\"\n",
    "    \n",
    "    def student_assignment(self) :\n",
    "        return \"this will return you assignments for data science masters\"\n",
    "    \n",
    "    "
   ]
  },
  {
   "cell_type": "code",
   "execution_count": 12,
   "id": "58cc957c-9081-4aad-9acc-72a61c1ce740",
   "metadata": {},
   "outputs": [],
   "source": [
    "# so we can see in making the classes and inheriting the pwskills class automatically inherits the functions. now if we need the three functions then\n",
    "# we will use three function othewise according to our need we can use functions from pwskills"
   ]
  },
  {
   "cell_type": "code",
   "execution_count": null,
   "id": "c31b75c8-bf37-42f2-9a75-2ae3c02984d7",
   "metadata": {},
   "outputs": [],
   "source": []
  },
  {
   "cell_type": "code",
   "execution_count": 13,
   "id": "664f93df-acc7-4385-a476-694b8e1ba203",
   "metadata": {},
   "outputs": [],
   "source": [
    "# calling the methods"
   ]
  },
  {
   "cell_type": "code",
   "execution_count": 14,
   "id": "4ed19cf5-0885-4d70-8e56-f7e901c27a1b",
   "metadata": {},
   "outputs": [],
   "source": [
    "dsm = data_science_masters()"
   ]
  },
  {
   "cell_type": "code",
   "execution_count": 15,
   "id": "896dd5e7-2d1d-4d81-9c05-01d42e8ec930",
   "metadata": {},
   "outputs": [
    {
     "data": {
      "text/plain": [
       "'this will return student details for data science master class'"
      ]
     },
     "execution_count": 15,
     "metadata": {},
     "output_type": "execute_result"
    }
   ],
   "source": [
    "dsm.student_details()"
   ]
  },
  {
   "cell_type": "code",
   "execution_count": 16,
   "id": "90a03040-d9f7-4c7e-86d2-b541e2a3104a",
   "metadata": {},
   "outputs": [],
   "source": [
    "sd = student_details()"
   ]
  },
  {
   "cell_type": "code",
   "execution_count": 18,
   "id": "c7c96fe7-962b-4fe6-b7da-54d538f79f26",
   "metadata": {},
   "outputs": [
    {
     "data": {
      "text/plain": [
       "'this is a method for taking details for student'"
      ]
     },
     "execution_count": 18,
     "metadata": {},
     "output_type": "execute_result"
    }
   ],
   "source": [
    "sd.student_details()"
   ]
  },
  {
   "cell_type": "code",
   "execution_count": null,
   "id": "82213e23-105a-498b-9895-6436033d82d5",
   "metadata": {},
   "outputs": [],
   "source": []
  }
 ],
 "metadata": {
  "kernelspec": {
   "display_name": "Python 3 (ipykernel)",
   "language": "python",
   "name": "python3"
  },
  "language_info": {
   "codemirror_mode": {
    "name": "ipython",
    "version": 3
   },
   "file_extension": ".py",
   "mimetype": "text/x-python",
   "name": "python",
   "nbconvert_exporter": "python",
   "pygments_lexer": "ipython3",
   "version": "3.10.8"
  }
 },
 "nbformat": 4,
 "nbformat_minor": 5
}
