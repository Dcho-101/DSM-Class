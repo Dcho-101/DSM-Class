{
 "cells": [
  {
   "cell_type": "code",
   "execution_count": 1,
   "id": "304f922e-963a-4ff9-96c7-a8bc7184751e",
   "metadata": {},
   "outputs": [],
   "source": [
    "class test :\n",
    "    \n",
    "    def __init__(self, a, b) :\n",
    "        self.a = a\n",
    "        self.b = b\n",
    "    "
   ]
  },
  {
   "cell_type": "code",
   "execution_count": 2,
   "id": "93aa4698-209d-4ffe-af13-e6e4ee24b4df",
   "metadata": {},
   "outputs": [],
   "source": [
    "t  = test(23,34)"
   ]
  },
  {
   "cell_type": "code",
   "execution_count": 3,
   "id": "e96a48a1-7ebc-4c02-9d9c-fafd2ba1b420",
   "metadata": {},
   "outputs": [
    {
     "data": {
      "text/plain": [
       "23"
      ]
     },
     "execution_count": 3,
     "metadata": {},
     "output_type": "execute_result"
    }
   ],
   "source": [
    "t.a"
   ]
  },
  {
   "cell_type": "code",
   "execution_count": 4,
   "id": "7d0a48e5-70e9-456a-b150-57f6158e9139",
   "metadata": {},
   "outputs": [],
   "source": [
    "# but we can change the value of a externally\n",
    "\n",
    "t.a = 45456565"
   ]
  },
  {
   "cell_type": "code",
   "execution_count": 5,
   "id": "0818ecce-aa9a-45e7-b107-e92abf3e068c",
   "metadata": {},
   "outputs": [
    {
     "data": {
      "text/plain": [
       "45456565"
      ]
     },
     "execution_count": 5,
     "metadata": {},
     "output_type": "execute_result"
    }
   ],
   "source": [
    "t.a"
   ]
  },
  {
   "cell_type": "code",
   "execution_count": 8,
   "id": "d6bbb4a8-8177-4961-9f73-8319e37b6369",
   "metadata": {},
   "outputs": [],
   "source": [
    "# how to prevent from changing these variable value \n",
    "# also it helps from the user to show the name of the variable\n",
    "# this process known as encapsulation"
   ]
  },
  {
   "cell_type": "code",
   "execution_count": 10,
   "id": "456abbd3-317a-4587-ab3d-900f99718344",
   "metadata": {},
   "outputs": [],
   "source": [
    "# exmaple\n",
    "\n",
    "class car :\n",
    "    def __init__(self, year, make, model, speed) :\n",
    "        self.__year = year # this double underscore hides the variable from the user\n",
    "        self.__make = make\n",
    "        self.__model = model\n",
    "        self.__speed = 0\n",
    "        "
   ]
  },
  {
   "cell_type": "code",
   "execution_count": 11,
   "id": "23082243-f71b-4145-8761-989461204d22",
   "metadata": {},
   "outputs": [],
   "source": [
    "c = car(2021, \"Toyota\", \"Innova\", 12)"
   ]
  },
  {
   "cell_type": "code",
   "execution_count": 12,
   "id": "c832d973-e7da-4bb7-bbce-325196f80c18",
   "metadata": {},
   "outputs": [],
   "source": [
    "# if now use c. and press tab then it can't show any instances \n",
    "# if you want to access then you have to use underscore and then the name of the class then double underscore then the name of the variable"
   ]
  },
  {
   "cell_type": "code",
   "execution_count": 13,
   "id": "0283653e-6907-40bf-b44c-bee479bf9204",
   "metadata": {},
   "outputs": [
    {
     "data": {
      "text/plain": [
       "2021"
      ]
     },
     "execution_count": 13,
     "metadata": {},
     "output_type": "execute_result"
    }
   ],
   "source": [
    "c._car__year"
   ]
  },
  {
   "cell_type": "code",
   "execution_count": 14,
   "id": "08d7ce10-28c9-4d35-be84-a66c7f43f9b0",
   "metadata": {},
   "outputs": [],
   "source": [
    "# we are making a variable by which user can see or set the variable without changing the original name of the variable "
   ]
  },
  {
   "cell_type": "code",
   "execution_count": 27,
   "id": "f00946e1-4066-42b9-915f-f7e6591100a9",
   "metadata": {},
   "outputs": [],
   "source": [
    "class car :\n",
    "    def __init__(self, year, make, model, speed) :\n",
    "        self.__year = year # this double underscore hides the variable from the user\n",
    "        self.__make = make\n",
    "        self.__model = model\n",
    "        self.__speed = 0\n",
    "        \n",
    "    def set_speed(self, speed) :\n",
    "        self.__speed = 0 if speed < 0 else speed\n",
    "        \n",
    "        \n",
    "        # for knowing the user the speed \n",
    "        \n",
    "    def get_speed(self) :\n",
    "        return self.__speed"
   ]
  },
  {
   "cell_type": "code",
   "execution_count": 28,
   "id": "ff05d02f-0258-46bb-ac0a-36b7333834db",
   "metadata": {},
   "outputs": [],
   "source": [
    "c = car(2021, \"Toyota\", \"Innova\", 12)"
   ]
  },
  {
   "cell_type": "code",
   "execution_count": 29,
   "id": "3939a4b6-8cc2-45ca-b1d6-f1378cc688d6",
   "metadata": {},
   "outputs": [],
   "source": [
    "# now we can see only the set_speed and get_speed function \n",
    "c.set_speed(-15)"
   ]
  },
  {
   "cell_type": "code",
   "execution_count": 30,
   "id": "83a58056-a270-4c90-90cd-305957adce89",
   "metadata": {},
   "outputs": [
    {
     "data": {
      "text/plain": [
       "0"
      ]
     },
     "execution_count": 30,
     "metadata": {},
     "output_type": "execute_result"
    }
   ],
   "source": [
    "c.get_speed()"
   ]
  },
  {
   "cell_type": "code",
   "execution_count": 31,
   "id": "d3c265e6-9ea0-4b28-be91-7b4fed85bb91",
   "metadata": {},
   "outputs": [],
   "source": [
    "c.set_speed(68)"
   ]
  },
  {
   "cell_type": "code",
   "execution_count": 32,
   "id": "d66585c2-83cc-4e0d-84e1-e3aab2fab1b6",
   "metadata": {},
   "outputs": [
    {
     "data": {
      "text/plain": [
       "68"
      ]
     },
     "execution_count": 32,
     "metadata": {},
     "output_type": "execute_result"
    }
   ],
   "source": [
    "c.get_speed()"
   ]
  },
  {
   "cell_type": "code",
   "execution_count": null,
   "id": "1f7848f4-a6a4-4d3d-9440-62859a6e0f75",
   "metadata": {},
   "outputs": [],
   "source": []
  },
  {
   "cell_type": "code",
   "execution_count": 33,
   "id": "a0bc1b01-b6f4-4548-9d05-0390bdd03d8c",
   "metadata": {},
   "outputs": [],
   "source": [
    "# one more example\n",
    "\n",
    "class bank_account :\n",
    "    def __init__(self, balance) :\n",
    "        self.__balance = balance\n",
    "        \n",
    "    def deposit(self, amount) :\n",
    "        self.__balance = self.__balance + amount\n",
    "        \n",
    "    def withdraw(self, amount) :\n",
    "        if self.__balance >= amount :\n",
    "            self.__balance = self.__balance - amount\n",
    "            return True\n",
    "        else :\n",
    "            return False\n",
    "        \n",
    "        \n",
    "    def get_balance(self) :\n",
    "        return self.__balance"
   ]
  },
  {
   "cell_type": "code",
   "execution_count": 35,
   "id": "150f6bc5-a4a9-452c-95c6-b55bb7e9a4c0",
   "metadata": {},
   "outputs": [],
   "source": [
    "dip = bank_account(1000)"
   ]
  },
  {
   "cell_type": "code",
   "execution_count": 37,
   "id": "30380e73-6653-4671-a591-1408e4aeed93",
   "metadata": {},
   "outputs": [
    {
     "data": {
      "text/plain": [
       "1000"
      ]
     },
     "execution_count": 37,
     "metadata": {},
     "output_type": "execute_result"
    }
   ],
   "source": [
    "dip.get_balance()"
   ]
  },
  {
   "cell_type": "code",
   "execution_count": 38,
   "id": "e113557a-9cc8-433a-9dbc-a5f3aa7be608",
   "metadata": {},
   "outputs": [],
   "source": [
    "dip.deposit(1000)"
   ]
  },
  {
   "cell_type": "code",
   "execution_count": 40,
   "id": "52cda447-8a7c-4c4f-a805-2ba2c136b0af",
   "metadata": {},
   "outputs": [
    {
     "data": {
      "text/plain": [
       "2000"
      ]
     },
     "execution_count": 40,
     "metadata": {},
     "output_type": "execute_result"
    }
   ],
   "source": [
    "dip.get_balance()"
   ]
  },
  {
   "cell_type": "code",
   "execution_count": 41,
   "id": "877ceba6-15b2-4132-911c-3fa59eab2070",
   "metadata": {},
   "outputs": [
    {
     "data": {
      "text/plain": [
       "False"
      ]
     },
     "execution_count": 41,
     "metadata": {},
     "output_type": "execute_result"
    }
   ],
   "source": [
    "dip.withdraw(3000)"
   ]
  },
  {
   "cell_type": "code",
   "execution_count": 42,
   "id": "49e5af40-f174-461d-840c-91f3a219e545",
   "metadata": {},
   "outputs": [
    {
     "data": {
      "text/plain": [
       "True"
      ]
     },
     "execution_count": 42,
     "metadata": {},
     "output_type": "execute_result"
    }
   ],
   "source": [
    "dip.withdraw(1000)"
   ]
  },
  {
   "cell_type": "code",
   "execution_count": 43,
   "id": "90911e8d-f514-4602-990f-1a6876402935",
   "metadata": {},
   "outputs": [
    {
     "data": {
      "text/plain": [
       "1000"
      ]
     },
     "execution_count": 43,
     "metadata": {},
     "output_type": "execute_result"
    }
   ],
   "source": [
    "dip.get_balance()"
   ]
  },
  {
   "cell_type": "code",
   "execution_count": null,
   "id": "a9996f73-8301-49c8-9ce1-df2e9f58a037",
   "metadata": {},
   "outputs": [],
   "source": []
  }
 ],
 "metadata": {
  "kernelspec": {
   "display_name": "Python 3 (ipykernel)",
   "language": "python",
   "name": "python3"
  },
  "language_info": {
   "codemirror_mode": {
    "name": "ipython",
    "version": 3
   },
   "file_extension": ".py",
   "mimetype": "text/x-python",
   "name": "python",
   "nbconvert_exporter": "python",
   "pygments_lexer": "ipython3",
   "version": "3.10.8"
  }
 },
 "nbformat": 4,
 "nbformat_minor": 5
}
