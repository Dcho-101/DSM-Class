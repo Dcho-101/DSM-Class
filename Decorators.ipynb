{
 "cells": [
  {
   "cell_type": "code",
   "execution_count": 6,
   "id": "2b02ad38-77fc-49b6-813c-47d90d50cb41",
   "metadata": {},
   "outputs": [],
   "source": [
    "def test() :\n",
    "    print(\"this is my start of the function\")\n",
    "    print(\"this is my function to test\")\n",
    "    print(4+5)\n",
    "    print(\"this is my end of the function\")"
   ]
  },
  {
   "cell_type": "code",
   "execution_count": 7,
   "id": "6db711eb-1cd7-4232-a29f-157b1a2909a5",
   "metadata": {},
   "outputs": [
    {
     "name": "stdout",
     "output_type": "stream",
     "text": [
      "this is my start of the function\n",
      "this is my function to test\n",
      "9\n",
      "this is my end of the function\n"
     ]
    }
   ],
   "source": [
    "test()"
   ]
  },
  {
   "cell_type": "code",
   "execution_count": 8,
   "id": "1a730693-a3f8-4926-997c-2b6431205c00",
   "metadata": {},
   "outputs": [],
   "source": [
    "# this I have to multiple times. but there are a trick to write only one time and can use this multiple time"
   ]
  },
  {
   "cell_type": "code",
   "execution_count": 9,
   "id": "f052d445-b4b9-4981-baab-71fd9db98d93",
   "metadata": {},
   "outputs": [],
   "source": [
    "# first we create a function "
   ]
  },
  {
   "cell_type": "code",
   "execution_count": 17,
   "id": "cf4d9e25-2ac4-4f29-a457-3bb2d9bf601f",
   "metadata": {},
   "outputs": [],
   "source": [
    "def decorate(func) :\n",
    "    def inner_function_decorate() :\n",
    "        print(\"this is my start of the function\")\n",
    "        func()\n",
    "        print(\"this is my end of the function\")\n",
    "    return inner_function_decorate #here don't use the paranthesis"
   ]
  },
  {
   "cell_type": "code",
   "execution_count": 18,
   "id": "3023b0d8-3759-4197-874e-04cfc90dae33",
   "metadata": {},
   "outputs": [],
   "source": [
    "# using decorator"
   ]
  },
  {
   "cell_type": "code",
   "execution_count": 19,
   "id": "7cbf8fa6-b522-41e0-86c6-40ef7a022c8d",
   "metadata": {},
   "outputs": [],
   "source": [
    "def test1() :\n",
    "    print(6+7)"
   ]
  },
  {
   "cell_type": "code",
   "execution_count": 20,
   "id": "540f6617-4c84-4b42-a1b3-88d1dbd2f6f9",
   "metadata": {},
   "outputs": [
    {
     "name": "stdout",
     "output_type": "stream",
     "text": [
      "13\n"
     ]
    }
   ],
   "source": [
    "test1()"
   ]
  },
  {
   "cell_type": "code",
   "execution_count": 21,
   "id": "c056a9b3-ee03-42ef-90b0-b34218354ffd",
   "metadata": {},
   "outputs": [],
   "source": [
    "# try use the same test function with decorator\n",
    "# for that you need to use @\n",
    "# for example"
   ]
  },
  {
   "cell_type": "code",
   "execution_count": 24,
   "id": "4b529b2b-5418-40c9-b5d5-4d522a9d8b91",
   "metadata": {},
   "outputs": [],
   "source": [
    "@decorate\n",
    "def test1() : # this goes to the decorator function's funct portion\n",
    "    print(6+7)"
   ]
  },
  {
   "cell_type": "code",
   "execution_count": 25,
   "id": "a893ae60-d1f0-4924-8b7d-a41775307e4b",
   "metadata": {},
   "outputs": [
    {
     "name": "stdout",
     "output_type": "stream",
     "text": [
      "this is my start of the function\n",
      "13\n",
      "this is my end of the function\n"
     ]
    }
   ],
   "source": [
    "test1()"
   ]
  },
  {
   "cell_type": "code",
   "execution_count": null,
   "id": "aac54ee1-980d-4bba-a543-3d60008f4f79",
   "metadata": {},
   "outputs": [],
   "source": []
  },
  {
   "cell_type": "code",
   "execution_count": 27,
   "id": "9c854ce6-60d7-46d7-a636-b01d982956c6",
   "metadata": {},
   "outputs": [],
   "source": [
    "# calculation of time\n",
    "# first we need to import time package"
   ]
  },
  {
   "cell_type": "code",
   "execution_count": 28,
   "id": "f83521bc-0784-4005-a0c4-f1942a007a05",
   "metadata": {},
   "outputs": [],
   "source": [
    "import time"
   ]
  },
  {
   "cell_type": "code",
   "execution_count": 29,
   "id": "38ce9086-ec9a-45cf-82da-3ebcf58a7c22",
   "metadata": {},
   "outputs": [],
   "source": [
    "def timer_test(func) :\n",
    "    def timer_func_inner() :\n",
    "        # calculating start time\n",
    "        start = time.time()\n",
    "        func()\n",
    "        # calculating end time\n",
    "        end = time.time()\n",
    "        print(end - start)\n",
    "    return timer_func_inner \n"
   ]
  },
  {
   "cell_type": "code",
   "execution_count": 30,
   "id": "42a6eeda-f223-40b4-9c9c-ae91eb245e60",
   "metadata": {},
   "outputs": [],
   "source": [
    "def test2() :\n",
    "    print(45+78)"
   ]
  },
  {
   "cell_type": "code",
   "execution_count": 31,
   "id": "6647505b-9e92-4037-8abc-6c841621cc80",
   "metadata": {},
   "outputs": [
    {
     "name": "stdout",
     "output_type": "stream",
     "text": [
      "123\n"
     ]
    }
   ],
   "source": [
    "test2()"
   ]
  },
  {
   "cell_type": "code",
   "execution_count": 32,
   "id": "4f4c6c67-6f6e-4bcb-a485-482ee887412e",
   "metadata": {},
   "outputs": [],
   "source": [
    "@timer_test\n",
    "def test2() :\n",
    "    print(45+78)"
   ]
  },
  {
   "cell_type": "code",
   "execution_count": 33,
   "id": "5f81e3b7-7dbe-4d07-b000-10e77f662141",
   "metadata": {},
   "outputs": [
    {
     "name": "stdout",
     "output_type": "stream",
     "text": [
      "123\n",
      "4.553794860839844e-05\n"
     ]
    }
   ],
   "source": [
    "test2()"
   ]
  },
  {
   "cell_type": "code",
   "execution_count": null,
   "id": "6d4b9463-2785-43e2-9cb0-8cb54840f0d6",
   "metadata": {},
   "outputs": [],
   "source": []
  },
  {
   "cell_type": "code",
   "execution_count": 44,
   "id": "398d3480-074b-44da-b345-6748dcaf88f6",
   "metadata": {},
   "outputs": [],
   "source": [
    "# calculating time for large number\n",
    "\n",
    "def test5() :\n",
    "    for i in range(100000000) :\n",
    "        pass"
   ]
  },
  {
   "cell_type": "code",
   "execution_count": 45,
   "id": "8329cea8-5651-4a7c-8dcc-a406ed288db0",
   "metadata": {},
   "outputs": [],
   "source": [
    "test5()"
   ]
  },
  {
   "cell_type": "code",
   "execution_count": 46,
   "id": "5861e290-bf7f-4975-a185-897139e00b5b",
   "metadata": {},
   "outputs": [],
   "source": [
    "# using decorator\n",
    "\n",
    "@timer_test\n",
    "def test6() :\n",
    "    for i in range(100000000) :\n",
    "        pass"
   ]
  },
  {
   "cell_type": "code",
   "execution_count": 47,
   "id": "ff496ac5-04ff-463e-85ea-9d8a73a338be",
   "metadata": {},
   "outputs": [
    {
     "name": "stdout",
     "output_type": "stream",
     "text": [
      "2.685938835144043\n"
     ]
    }
   ],
   "source": [
    "test6()"
   ]
  },
  {
   "cell_type": "code",
   "execution_count": null,
   "id": "93443fdd-a0f5-4188-8827-6b4fa6fe8cd0",
   "metadata": {},
   "outputs": [],
   "source": []
  }
 ],
 "metadata": {
  "kernelspec": {
   "display_name": "Python 3 (ipykernel)",
   "language": "python",
   "name": "python3"
  },
  "language_info": {
   "codemirror_mode": {
    "name": "ipython",
    "version": 3
   },
   "file_extension": ".py",
   "mimetype": "text/x-python",
   "name": "python",
   "nbconvert_exporter": "python",
   "pygments_lexer": "ipython3",
   "version": "3.10.8"
  }
 },
 "nbformat": 4,
 "nbformat_minor": 5
}
