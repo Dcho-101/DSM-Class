{
 "cells": [
  {
   "cell_type": "markdown",
   "id": "2241c3af-8c7d-4924-925f-074ad1ae6cf4",
   "metadata": {},
   "source": [
    "# MAP"
   ]
  },
  {
   "cell_type": "code",
   "execution_count": 1,
   "id": "08079b02-cee1-4065-9f78-cdb455a970e0",
   "metadata": {},
   "outputs": [],
   "source": [
    "l = [2,3,4,5,6]"
   ]
  },
  {
   "cell_type": "code",
   "execution_count": 4,
   "id": "a1e99877-9013-4404-a856-88e1bd6f1d7d",
   "metadata": {},
   "outputs": [],
   "source": [
    "# making a square list using function \n",
    "\n",
    "def square(l) :\n",
    "    l1 = []\n",
    "    for i in l :\n",
    "        l1.append(i**2)\n",
    "    return l1"
   ]
  },
  {
   "cell_type": "code",
   "execution_count": 5,
   "id": "d19d7185-058f-4fad-8e35-6f1720bde77c",
   "metadata": {},
   "outputs": [
    {
     "data": {
      "text/plain": [
       "[4, 9, 16, 25, 36]"
      ]
     },
     "execution_count": 5,
     "metadata": {},
     "output_type": "execute_result"
    }
   ],
   "source": [
    "square(l)"
   ]
  },
  {
   "cell_type": "code",
   "execution_count": 6,
   "id": "74c6a243-b2e4-4fe9-b26e-a0484ad1aaf3",
   "metadata": {},
   "outputs": [],
   "source": [
    "# we can use map function in this case\n",
    "\n",
    "# first we make a function for mapping\n",
    "def sq(x) :\n",
    "    return x**2"
   ]
  },
  {
   "cell_type": "code",
   "execution_count": 7,
   "id": "e2d61520-da00-4da1-a767-faf85121b143",
   "metadata": {},
   "outputs": [
    {
     "data": {
      "text/plain": [
       "<map at 0x7f91a6d35a80>"
      ]
     },
     "execution_count": 7,
     "metadata": {},
     "output_type": "execute_result"
    }
   ],
   "source": [
    "map(sq, l)"
   ]
  },
  {
   "cell_type": "code",
   "execution_count": 8,
   "id": "94a5fa22-180e-4f55-92fe-1671f60fbc91",
   "metadata": {},
   "outputs": [
    {
     "data": {
      "text/plain": [
       "[4, 9, 16, 25, 36]"
      ]
     },
     "execution_count": 8,
     "metadata": {},
     "output_type": "execute_result"
    }
   ],
   "source": [
    "list(map(sq,l))"
   ]
  },
  {
   "cell_type": "code",
   "execution_count": null,
   "id": "41d88e7a-9cde-4574-b5ae-408254cbc0da",
   "metadata": {},
   "outputs": [],
   "source": []
  },
  {
   "cell_type": "code",
   "execution_count": 9,
   "id": "a68da578-485b-4ef8-a9ad-0875aa1e866d",
   "metadata": {},
   "outputs": [],
   "source": [
    "# using lambda function"
   ]
  },
  {
   "cell_type": "code",
   "execution_count": 10,
   "id": "0fb6391d-3ded-483a-bd00-e525ef989a74",
   "metadata": {},
   "outputs": [
    {
     "data": {
      "text/plain": [
       "[4, 9, 16, 25, 36]"
      ]
     },
     "execution_count": 10,
     "metadata": {},
     "output_type": "execute_result"
    }
   ],
   "source": [
    "list(map(lambda x : x**2, l))"
   ]
  },
  {
   "cell_type": "code",
   "execution_count": null,
   "id": "70811f8d-35ef-429e-8e21-0fea1d53b93e",
   "metadata": {},
   "outputs": [],
   "source": []
  },
  {
   "cell_type": "code",
   "execution_count": 11,
   "id": "42dcdee9-cea1-46c8-8c9f-15078998fce8",
   "metadata": {},
   "outputs": [],
   "source": [
    "l1 = [1,2,3,4,5]\n",
    "l2 = [6,7,8,9,10]"
   ]
  },
  {
   "cell_type": "code",
   "execution_count": 12,
   "id": "40c31099-8208-442e-b791-15b8a48c9f61",
   "metadata": {},
   "outputs": [],
   "source": [
    "# iterate from the lists and give outcomes from 0th position both add, 1th position both add, ..."
   ]
  },
  {
   "cell_type": "code",
   "execution_count": 13,
   "id": "1e99f7db-af13-4fc3-86c9-ad6e8ea5a579",
   "metadata": {},
   "outputs": [
    {
     "data": {
      "text/plain": [
       "[7, 9, 11, 13, 15]"
      ]
     },
     "execution_count": 13,
     "metadata": {},
     "output_type": "execute_result"
    }
   ],
   "source": [
    "list(map(lambda x,y : x+y, l1,l2))"
   ]
  },
  {
   "cell_type": "code",
   "execution_count": null,
   "id": "66825a52-ba7f-4977-8bd1-d37b75938694",
   "metadata": {},
   "outputs": [],
   "source": []
  },
  {
   "cell_type": "code",
   "execution_count": 14,
   "id": "96995dc2-5196-4260-91ad-5a92b148102d",
   "metadata": {},
   "outputs": [],
   "source": [
    "s = \"pwskills\""
   ]
  },
  {
   "cell_type": "code",
   "execution_count": 15,
   "id": "6b9564be-8873-4336-89d0-3dc9988f0fa4",
   "metadata": {},
   "outputs": [],
   "source": [
    "# convert the string in uppercase using map"
   ]
  },
  {
   "cell_type": "code",
   "execution_count": 16,
   "id": "c945f310-1d4b-4226-98c1-4d1e1dc01306",
   "metadata": {},
   "outputs": [
    {
     "data": {
      "text/plain": [
       "['P', 'W', 'S', 'K', 'I', 'L', 'L', 'S']"
      ]
     },
     "execution_count": 16,
     "metadata": {},
     "output_type": "execute_result"
    }
   ],
   "source": [
    "list(map(lambda s : s.upper(), s))"
   ]
  },
  {
   "cell_type": "code",
   "execution_count": null,
   "id": "df2164fd-b8a1-49b9-90db-a71721ebd405",
   "metadata": {},
   "outputs": [],
   "source": []
  },
  {
   "cell_type": "markdown",
   "id": "c5c616e3-41c6-42f9-973f-14c46c0af0f6",
   "metadata": {},
   "source": [
    "# REDUCE "
   ]
  },
  {
   "cell_type": "code",
   "execution_count": 17,
   "id": "62afee1b-1c07-4d57-80b6-ed9b55438f2e",
   "metadata": {},
   "outputs": [],
   "source": [
    "# reduce need to import from functools"
   ]
  },
  {
   "cell_type": "code",
   "execution_count": 18,
   "id": "6b91630b-653f-4f53-9916-7d46d2bf8701",
   "metadata": {},
   "outputs": [],
   "source": [
    "from functools import reduce"
   ]
  },
  {
   "cell_type": "code",
   "execution_count": 19,
   "id": "63785422-aad7-4d71-99ae-0799039262c1",
   "metadata": {},
   "outputs": [],
   "source": [
    "l = [1,2,3,4,5]"
   ]
  },
  {
   "cell_type": "code",
   "execution_count": 20,
   "id": "2af74393-00b5-4a1b-a904-c22bd9e50b42",
   "metadata": {},
   "outputs": [],
   "source": [
    "# give summ of the list"
   ]
  },
  {
   "cell_type": "code",
   "execution_count": 21,
   "id": "84b0d72c-9ba4-4a94-b983-2b5e638ac43c",
   "metadata": {},
   "outputs": [
    {
     "data": {
      "text/plain": [
       "15"
      ]
     },
     "execution_count": 21,
     "metadata": {},
     "output_type": "execute_result"
    }
   ],
   "source": [
    "reduce(lambda x,y : x+y, l)"
   ]
  },
  {
   "cell_type": "code",
   "execution_count": 22,
   "id": "4c704961-3d41-4e9d-a473-479426daa858",
   "metadata": {},
   "outputs": [
    {
     "ename": "TypeError",
     "evalue": "reduce() of empty iterable with no initial value",
     "output_type": "error",
     "traceback": [
      "\u001b[0;31m---------------------------------------------------------------------------\u001b[0m",
      "\u001b[0;31mTypeError\u001b[0m                                 Traceback (most recent call last)",
      "Cell \u001b[0;32mIn[22], line 1\u001b[0m\n\u001b[0;32m----> 1\u001b[0m \u001b[43mreduce\u001b[49m\u001b[43m(\u001b[49m\u001b[38;5;28;43;01mlambda\u001b[39;49;00m\u001b[43m \u001b[49m\u001b[43mx\u001b[49m\u001b[43m,\u001b[49m\u001b[43my\u001b[49m\u001b[43m \u001b[49m\u001b[43m:\u001b[49m\u001b[43m \u001b[49m\u001b[43mx\u001b[49m\u001b[38;5;241;43m+\u001b[39;49m\u001b[43my\u001b[49m\u001b[43m,\u001b[49m\u001b[43m \u001b[49m\u001b[43m[\u001b[49m\u001b[43m]\u001b[49m\u001b[43m)\u001b[49m\n",
      "\u001b[0;31mTypeError\u001b[0m: reduce() of empty iterable with no initial value"
     ]
    }
   ],
   "source": [
    "reduce(lambda x,y : x+y, [])"
   ]
  },
  {
   "cell_type": "code",
   "execution_count": 23,
   "id": "7b9f51f5-2ee0-465a-8ab8-c218b10b1474",
   "metadata": {},
   "outputs": [
    {
     "data": {
      "text/plain": [
       "1"
      ]
     },
     "execution_count": 23,
     "metadata": {},
     "output_type": "execute_result"
    }
   ],
   "source": [
    "reduce(lambda x,y : x+y, [1])"
   ]
  },
  {
   "cell_type": "code",
   "execution_count": 24,
   "id": "8b86c351-1a48-4e67-8dcc-b74588d2868b",
   "metadata": {},
   "outputs": [],
   "source": [
    "# but you cannot assign more than 2 entries in the reduce function "
   ]
  },
  {
   "cell_type": "code",
   "execution_count": 25,
   "id": "90e6379c-3fca-470a-935f-b6a33fd1e012",
   "metadata": {},
   "outputs": [
    {
     "data": {
      "text/plain": [
       "120"
      ]
     },
     "execution_count": 25,
     "metadata": {},
     "output_type": "execute_result"
    }
   ],
   "source": [
    "reduce(lambda x,y : x*y, l)"
   ]
  },
  {
   "cell_type": "code",
   "execution_count": 26,
   "id": "5f640f68-eaa5-4cd1-b314-1fa48d9c026d",
   "metadata": {},
   "outputs": [],
   "source": [
    "# finding the maximum number form a list"
   ]
  },
  {
   "cell_type": "code",
   "execution_count": 27,
   "id": "b6d121ba-2d63-458d-84c9-d9b21e2dd614",
   "metadata": {},
   "outputs": [
    {
     "data": {
      "text/plain": [
       "5"
      ]
     },
     "execution_count": 27,
     "metadata": {},
     "output_type": "execute_result"
    }
   ],
   "source": [
    "reduce(lambda x,y : x if x > y else y, l)"
   ]
  },
  {
   "cell_type": "code",
   "execution_count": null,
   "id": "b255c22c-b027-4bbe-a7f1-aaf683a37f23",
   "metadata": {},
   "outputs": [],
   "source": []
  },
  {
   "cell_type": "markdown",
   "id": "7a67cbd3-40c9-44a7-a6c7-6f87700f3467",
   "metadata": {},
   "source": [
    "# FILTER"
   ]
  },
  {
   "cell_type": "code",
   "execution_count": 29,
   "id": "4be7de0d-8fcf-48c9-9e48-99ee83ec52cd",
   "metadata": {},
   "outputs": [],
   "source": [
    "# finding all even or odd number "
   ]
  },
  {
   "cell_type": "code",
   "execution_count": 30,
   "id": "e6a5b722-b75c-4e82-92b6-eced34435cf4",
   "metadata": {},
   "outputs": [
    {
     "data": {
      "text/plain": [
       "[2, 4]"
      ]
     },
     "execution_count": 30,
     "metadata": {},
     "output_type": "execute_result"
    }
   ],
   "source": [
    "list(filter(lambda x : x % 2 == 0, l))"
   ]
  },
  {
   "cell_type": "code",
   "execution_count": 31,
   "id": "9312d20d-aa8d-4a28-96e8-c083ce62fec8",
   "metadata": {},
   "outputs": [
    {
     "data": {
      "text/plain": [
       "[1, 3, 5]"
      ]
     },
     "execution_count": 31,
     "metadata": {},
     "output_type": "execute_result"
    }
   ],
   "source": [
    "list(filter(lambda x : x % 2 != 0, l))"
   ]
  },
  {
   "cell_type": "code",
   "execution_count": 32,
   "id": "1ea1847f-6214-4a79-9503-e4bbcaec4b18",
   "metadata": {},
   "outputs": [],
   "source": [
    "l1 = [5,-9,3,-4,-7,-2,3]"
   ]
  },
  {
   "cell_type": "code",
   "execution_count": 33,
   "id": "424e139c-de6f-48bb-9dfc-7098f4e24003",
   "metadata": {},
   "outputs": [
    {
     "data": {
      "text/plain": [
       "[-9, -4, -7, -2]"
      ]
     },
     "execution_count": 33,
     "metadata": {},
     "output_type": "execute_result"
    }
   ],
   "source": [
    "list(filter(lambda x : x < 0, l1))"
   ]
  },
  {
   "cell_type": "code",
   "execution_count": null,
   "id": "3e7e57e5-dfd3-490b-9678-5b45cc219e6b",
   "metadata": {},
   "outputs": [],
   "source": []
  }
 ],
 "metadata": {
  "kernelspec": {
   "display_name": "Python 3 (ipykernel)",
   "language": "python",
   "name": "python3"
  },
  "language_info": {
   "codemirror_mode": {
    "name": "ipython",
    "version": 3
   },
   "file_extension": ".py",
   "mimetype": "text/x-python",
   "name": "python",
   "nbconvert_exporter": "python",
   "pygments_lexer": "ipython3",
   "version": "3.10.8"
  }
 },
 "nbformat": 4,
 "nbformat_minor": 5
}
