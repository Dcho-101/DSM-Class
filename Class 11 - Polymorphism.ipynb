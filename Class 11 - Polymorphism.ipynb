{
 "cells": [
  {
   "cell_type": "code",
   "execution_count": 1,
   "id": "28baf0b1-ab7f-4b11-adab-600b15177d3e",
   "metadata": {},
   "outputs": [],
   "source": [
    "# one entity but different behaviour is called polymorphism "
   ]
  },
  {
   "cell_type": "code",
   "execution_count": 2,
   "id": "2d5440a2-bc4e-41ce-b3bc-73cc758a94e7",
   "metadata": {},
   "outputs": [],
   "source": [
    "#  creating a function \n",
    "def test(a,b) :\n",
    "    return a+b"
   ]
  },
  {
   "cell_type": "code",
   "execution_count": 3,
   "id": "846dabdb-3ff8-4848-b4bd-40ea5478fb05",
   "metadata": {},
   "outputs": [
    {
     "data": {
      "text/plain": [
       "7"
      ]
     },
     "execution_count": 3,
     "metadata": {},
     "output_type": "execute_result"
    }
   ],
   "source": [
    "test(3,4)"
   ]
  },
  {
   "cell_type": "code",
   "execution_count": 5,
   "id": "1ccde43d-8454-4818-b127-71718a6d8625",
   "metadata": {},
   "outputs": [
    {
     "data": {
      "text/plain": [
       "'dibyendu chowdhury'"
      ]
     },
     "execution_count": 5,
     "metadata": {},
     "output_type": "execute_result"
    }
   ],
   "source": [
    "test(\"dibyendu\", \" chowdhury\")"
   ]
  },
  {
   "cell_type": "code",
   "execution_count": 6,
   "id": "a5c9b4b5-4a75-4009-a791-c959689a08a3",
   "metadata": {},
   "outputs": [],
   "source": [
    "# in first case used addition function but in second case it create concatination"
   ]
  },
  {
   "cell_type": "code",
   "execution_count": 7,
   "id": "8a2e1fe7-8d79-4a68-87b7-f4817b00422a",
   "metadata": {},
   "outputs": [
    {
     "data": {
      "text/plain": [
       "[1, 2, 3, 4, 5, 6, 7, 8]"
      ]
     },
     "execution_count": 7,
     "metadata": {},
     "output_type": "execute_result"
    }
   ],
   "source": [
    "# if we place two list then it will append those lists\n",
    "\n",
    "test([1,2,3,4] , [5,6,7,8])"
   ]
  },
  {
   "cell_type": "code",
   "execution_count": 8,
   "id": "ee2baab7-1a08-4344-9da8-e9939812522c",
   "metadata": {},
   "outputs": [],
   "source": [
    "# this phenomena is called polymorphism"
   ]
  },
  {
   "cell_type": "code",
   "execution_count": null,
   "id": "a27ff1aa-b6b3-42f9-b2a5-c330c44d09de",
   "metadata": {},
   "outputs": [],
   "source": []
  },
  {
   "cell_type": "code",
   "execution_count": 9,
   "id": "33edc738-cdef-42c7-9b39-730e1194a3b7",
   "metadata": {},
   "outputs": [],
   "source": [
    "# creating class to use polymorphism"
   ]
  },
  {
   "cell_type": "code",
   "execution_count": 10,
   "id": "292b8379-0242-40f2-a880-83aa8f57bb9e",
   "metadata": {},
   "outputs": [],
   "source": [
    "class data_science :\n",
    "    \n",
    "    def syllabus(self) :\n",
    "        print(\"this is my syllabus for data science masters\")\n",
    "    "
   ]
  },
  {
   "cell_type": "code",
   "execution_count": 12,
   "id": "940a0f8c-9e63-4ac8-81f9-75827b21e7e3",
   "metadata": {},
   "outputs": [],
   "source": [
    "#  cereating one more class\n",
    "\n",
    "class web_dev :\n",
    "    \n",
    "    def syllabus(self) :\n",
    "        print(\"this is my syllabus for web dev\")\n",
    "    "
   ]
  },
  {
   "cell_type": "code",
   "execution_count": 13,
   "id": "9df0eba1-83f2-48a4-8754-cd66f7152b2a",
   "metadata": {},
   "outputs": [],
   "source": [
    "#  creating a function outside the class"
   ]
  },
  {
   "cell_type": "code",
   "execution_count": 14,
   "id": "414e8cfc-3695-414a-916f-4b581bd0d6fc",
   "metadata": {},
   "outputs": [],
   "source": [
    "def class_parser(class_obj) :\n",
    "    for i in class_obj :\n",
    "        i.syllabus()"
   ]
  },
  {
   "cell_type": "code",
   "execution_count": 15,
   "id": "3cc52d22-b605-4177-b37f-6c982746cc26",
   "metadata": {},
   "outputs": [],
   "source": [
    "data_science = data_science()"
   ]
  },
  {
   "cell_type": "code",
   "execution_count": 16,
   "id": "0a46ec50-f0b0-4879-9049-9f5ae905a960",
   "metadata": {},
   "outputs": [],
   "source": [
    "web_dev = web_dev()"
   ]
  },
  {
   "cell_type": "code",
   "execution_count": 17,
   "id": "af7723fb-690b-4258-bb4a-096f4d24e9e9",
   "metadata": {},
   "outputs": [],
   "source": [
    "class_obj = [data_science, web_dev]"
   ]
  },
  {
   "cell_type": "code",
   "execution_count": 18,
   "id": "d6caf61e-8cdc-492b-9735-d28eb8992df2",
   "metadata": {},
   "outputs": [
    {
     "name": "stdout",
     "output_type": "stream",
     "text": [
      "this is my syllabus for data science masters\n",
      "this is my syllabus for web dev\n"
     ]
    }
   ],
   "source": [
    "class_parser(class_obj)"
   ]
  },
  {
   "cell_type": "code",
   "execution_count": null,
   "id": "ed51d02b-4d5d-4183-bdf1-64506af8c2bd",
   "metadata": {},
   "outputs": [],
   "source": [
    "# so we can call from different class using one for class loop "
   ]
  }
 ],
 "metadata": {
  "kernelspec": {
   "display_name": "Python 3 (ipykernel)",
   "language": "python",
   "name": "python3"
  },
  "language_info": {
   "codemirror_mode": {
    "name": "ipython",
    "version": 3
   },
   "file_extension": ".py",
   "mimetype": "text/x-python",
   "name": "python",
   "nbconvert_exporter": "python",
   "pygments_lexer": "ipython3",
   "version": "3.10.8"
  }
 },
 "nbformat": 4,
 "nbformat_minor": 5
}
