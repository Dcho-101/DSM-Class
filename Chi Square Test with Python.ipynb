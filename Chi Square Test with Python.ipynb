{
 "cells": [
  {
   "cell_type": "markdown",
   "id": "91954eb1-8d3b-4c8b-8afd-0f340f93df2b",
   "metadata": {},
   "source": [
    "# CHI SQUARE WITH PYTHON"
   ]
  },
  {
   "cell_type": "code",
   "execution_count": 1,
   "id": "7819179d-a679-4300-94c5-66c45536d578",
   "metadata": {},
   "outputs": [],
   "source": [
    "import scipy.stats as stat\n",
    "import numpy as np"
   ]
  },
  {
   "cell_type": "code",
   "execution_count": 10,
   "id": "71cf7e6a-a376-4843-9853-2d23e7088a2a",
   "metadata": {},
   "outputs": [],
   "source": [
    "## Number of hours student study in a weekly basis daily\n",
    "\n",
    "## keep in mind that the sum of the data from the expected and observed data are same\n",
    "\n",
    "expected_data = [8,6,7,9,6,9,7]"
   ]
  },
  {
   "cell_type": "code",
   "execution_count": 13,
   "id": "6dd1d969-b62e-493e-a0db-beabb5c7501c",
   "metadata": {},
   "outputs": [],
   "source": [
    "observed_data = [7,8,6,8,9,6,8]"
   ]
  },
  {
   "cell_type": "code",
   "execution_count": 14,
   "id": "a98e3ca1-5915-4942-b6d5-4a3b7daea898",
   "metadata": {},
   "outputs": [
    {
     "data": {
      "text/plain": [
       "(52, 52)"
      ]
     },
     "execution_count": 14,
     "metadata": {},
     "output_type": "execute_result"
    }
   ],
   "source": [
    "sum(observed_data), sum(expected_data)"
   ]
  },
  {
   "cell_type": "code",
   "execution_count": 15,
   "id": "3047ebb0-22b8-48e5-9b5a-ef97637029f8",
   "metadata": {},
   "outputs": [],
   "source": [
    "# Chi Square Goodness of Fit test"
   ]
  },
  {
   "cell_type": "code",
   "execution_count": 16,
   "id": "336ad04e-a43c-47bc-b2ae-547e6ace93f3",
   "metadata": {},
   "outputs": [],
   "source": [
    "chi_square_test_statistic, p_value = stat.chisquare(observed_data, expected_data)"
   ]
  },
  {
   "cell_type": "code",
   "execution_count": 17,
   "id": "d4e2fa49-1798-4c0d-9a2c-e2e96fc053e6",
   "metadata": {},
   "outputs": [
    {
     "data": {
      "text/plain": [
       "(3.6884920634920637, 0.7187458910775749)"
      ]
     },
     "execution_count": 17,
     "metadata": {},
     "output_type": "execute_result"
    }
   ],
   "source": [
    "chi_square_test_statistic, p_value"
   ]
  },
  {
   "cell_type": "code",
   "execution_count": 22,
   "id": "09bbe352-148e-4664-9095-c7468d7e39cb",
   "metadata": {},
   "outputs": [],
   "source": [
    "## Finding the critical value\n",
    "\n",
    "significance_value = 0.05\n",
    "degree_of_freedom = len(expected_data) - 1\n",
    "\n",
    "critical_value = stat.chi2.ppf(1 - significance_value, degree_of_freedom)"
   ]
  },
  {
   "cell_type": "code",
   "execution_count": 23,
   "id": "2cae3a1a-1377-421a-9d39-b93df409f1cd",
   "metadata": {},
   "outputs": [
    {
     "data": {
      "text/plain": [
       "12.591587243743977"
      ]
     },
     "execution_count": 23,
     "metadata": {},
     "output_type": "execute_result"
    }
   ],
   "source": [
    "critical_value"
   ]
  },
  {
   "cell_type": "code",
   "execution_count": null,
   "id": "6583fd4e-4457-4e66-b7c8-104d7badcf5f",
   "metadata": {},
   "outputs": [],
   "source": []
  },
  {
   "cell_type": "code",
   "execution_count": 24,
   "id": "69e782e2-0dfb-4dab-9c6c-916a95ac3d4e",
   "metadata": {},
   "outputs": [
    {
     "name": "stdout",
     "output_type": "stream",
     "text": [
      "Accept the null hypothesis\n"
     ]
    }
   ],
   "source": [
    "if chi_square_test_statistic > critical_value :\n",
    "    print(\"We reject the null hypothesis\")\n",
    "    \n",
    "print(\"Accept the null hypothesis\")"
   ]
  },
  {
   "cell_type": "code",
   "execution_count": null,
   "id": "8c583250-d670-4bdb-9121-2eaebbffbb8c",
   "metadata": {},
   "outputs": [],
   "source": []
  }
 ],
 "metadata": {
  "kernelspec": {
   "display_name": "Python 3 (ipykernel)",
   "language": "python",
   "name": "python3"
  },
  "language_info": {
   "codemirror_mode": {
    "name": "ipython",
    "version": 3
   },
   "file_extension": ".py",
   "mimetype": "text/x-python",
   "name": "python",
   "nbconvert_exporter": "python",
   "pygments_lexer": "ipython3",
   "version": "3.10.8"
  }
 },
 "nbformat": 4,
 "nbformat_minor": 5
}
