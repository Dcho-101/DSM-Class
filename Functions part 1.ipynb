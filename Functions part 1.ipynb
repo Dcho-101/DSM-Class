{
 "cells": [
  {
   "cell_type": "code",
   "execution_count": 1,
   "id": "3a203d36-e96e-4687-bc7b-d1b60463f74c",
   "metadata": {},
   "outputs": [],
   "source": [
    "def function1() :\n",
    "    print(\"Print statement returns NoneType that's because it needs to be avoided\")"
   ]
  },
  {
   "cell_type": "code",
   "execution_count": 4,
   "id": "9ec9869f-1e53-41c3-abef-588322d6543b",
   "metadata": {},
   "outputs": [
    {
     "name": "stdout",
     "output_type": "stream",
     "text": [
      "Print statement returns NoneType that's because it needs to be avoided\n"
     ]
    },
    {
     "ename": "TypeError",
     "evalue": "unsupported operand type(s) for +: 'NoneType' and 'str'",
     "output_type": "error",
     "traceback": [
      "\u001b[0;31m---------------------------------------------------------------------------\u001b[0m",
      "\u001b[0;31mTypeError\u001b[0m                                 Traceback (most recent call last)",
      "Cell \u001b[0;32mIn[4], line 1\u001b[0m\n\u001b[0;32m----> 1\u001b[0m \u001b[43mfunction1\u001b[49m\u001b[43m(\u001b[49m\u001b[43m)\u001b[49m\u001b[43m \u001b[49m\u001b[38;5;241;43m+\u001b[39;49m\u001b[43m \u001b[49m\u001b[38;5;124;43m\"\u001b[39;49m\u001b[38;5;124;43mraja\u001b[39;49m\u001b[38;5;124;43m\"\u001b[39;49m\n",
      "\u001b[0;31mTypeError\u001b[0m: unsupported operand type(s) for +: 'NoneType' and 'str'"
     ]
    }
   ],
   "source": [
    "function1() + \"raja\""
   ]
  },
  {
   "cell_type": "code",
   "execution_count": 6,
   "id": "ef11f230-a7a1-4509-981e-3a2246983367",
   "metadata": {},
   "outputs": [],
   "source": [
    "def function2() :\n",
    "    return(\"Return statement returns as it is datatype. that's why it is more reccomended \")"
   ]
  },
  {
   "cell_type": "code",
   "execution_count": 7,
   "id": "400dff88-819e-4382-87a5-9354f35e30a7",
   "metadata": {},
   "outputs": [
    {
     "data": {
      "text/plain": [
       "\"Return statement returns as it is datatype. that's why it is more reccomended Raja\""
      ]
     },
     "execution_count": 7,
     "metadata": {},
     "output_type": "execute_result"
    }
   ],
   "source": [
    "function2() + \"Raja\""
   ]
  },
  {
   "cell_type": "code",
   "execution_count": 8,
   "id": "380fd733-3e35-4904-a2c7-caaa8d49c097",
   "metadata": {},
   "outputs": [],
   "source": [
    "def test1() :\n",
    "    return \"sudh\", 23, 345.56, [1,2,3]"
   ]
  },
  {
   "cell_type": "code",
   "execution_count": 10,
   "id": "e084defb-bda7-4881-bc8f-910f10279b13",
   "metadata": {},
   "outputs": [
    {
     "data": {
      "text/plain": [
       "('sudh', 23, 345.56, [1, 2, 3])"
      ]
     },
     "execution_count": 10,
     "metadata": {},
     "output_type": "execute_result"
    }
   ],
   "source": [
    "test1()"
   ]
  },
  {
   "cell_type": "code",
   "execution_count": 11,
   "id": "c0c2f03f-d8b3-4064-87cc-758ddf2f3328",
   "metadata": {},
   "outputs": [],
   "source": [
    "a,b,c,d = test1()"
   ]
  },
  {
   "cell_type": "code",
   "execution_count": 12,
   "id": "76cc40d6-7bc8-4cb6-b79c-ea37af6fec14",
   "metadata": {},
   "outputs": [
    {
     "data": {
      "text/plain": [
       "'sudh'"
      ]
     },
     "execution_count": 12,
     "metadata": {},
     "output_type": "execute_result"
    }
   ],
   "source": [
    "a"
   ]
  },
  {
   "cell_type": "code",
   "execution_count": 13,
   "id": "cb2753f4-3d5a-4ae8-a768-a6a783c8902d",
   "metadata": {},
   "outputs": [
    {
     "data": {
      "text/plain": [
       "23"
      ]
     },
     "execution_count": 13,
     "metadata": {},
     "output_type": "execute_result"
    }
   ],
   "source": [
    "b"
   ]
  },
  {
   "cell_type": "code",
   "execution_count": 14,
   "id": "d7c1b12f-bb84-4a60-a720-1ac1e09fbb6a",
   "metadata": {},
   "outputs": [
    {
     "data": {
      "text/plain": [
       "345.56"
      ]
     },
     "execution_count": 14,
     "metadata": {},
     "output_type": "execute_result"
    }
   ],
   "source": [
    "c"
   ]
  },
  {
   "cell_type": "code",
   "execution_count": 15,
   "id": "c02798fe-f1e5-40dd-aaae-703d08330603",
   "metadata": {},
   "outputs": [
    {
     "data": {
      "text/plain": [
       "[1, 2, 3]"
      ]
     },
     "execution_count": 15,
     "metadata": {},
     "output_type": "execute_result"
    }
   ],
   "source": [
    "d"
   ]
  },
  {
   "cell_type": "code",
   "execution_count": 16,
   "id": "e5d0f71a-63e4-4a3d-a1a1-9d9d615ccea7",
   "metadata": {},
   "outputs": [],
   "source": [
    "def test2() :\n",
    "    a = 5+6/7\n",
    "    return a"
   ]
  },
  {
   "cell_type": "code",
   "execution_count": 17,
   "id": "ef682812-5b10-4355-bec0-8416505b7e33",
   "metadata": {},
   "outputs": [
    {
     "data": {
      "text/plain": [
       "5.857142857142857"
      ]
     },
     "execution_count": 17,
     "metadata": {},
     "output_type": "execute_result"
    }
   ],
   "source": [
    "test2()"
   ]
  },
  {
   "cell_type": "code",
   "execution_count": 18,
   "id": "cee949f0-4af1-49cf-a553-facb53cc2850",
   "metadata": {},
   "outputs": [],
   "source": [
    "# taking user in a function\n",
    "\n",
    "def test3(a,b,c) :\n",
    "    d = a+b/c\n",
    "    return d"
   ]
  },
  {
   "cell_type": "code",
   "execution_count": 19,
   "id": "3becdfd3-e6fd-4d52-81ab-06fd34fb5ce0",
   "metadata": {},
   "outputs": [
    {
     "ename": "TypeError",
     "evalue": "test3() missing 3 required positional arguments: 'a', 'b', and 'c'",
     "output_type": "error",
     "traceback": [
      "\u001b[0;31m---------------------------------------------------------------------------\u001b[0m",
      "\u001b[0;31mTypeError\u001b[0m                                 Traceback (most recent call last)",
      "Cell \u001b[0;32mIn[19], line 1\u001b[0m\n\u001b[0;32m----> 1\u001b[0m \u001b[43mtest3\u001b[49m\u001b[43m(\u001b[49m\u001b[43m)\u001b[49m\n",
      "\u001b[0;31mTypeError\u001b[0m: test3() missing 3 required positional arguments: 'a', 'b', and 'c'"
     ]
    }
   ],
   "source": [
    "test3()"
   ]
  },
  {
   "cell_type": "code",
   "execution_count": 20,
   "id": "add09c6e-43b0-4eb9-83da-59f3e724c823",
   "metadata": {},
   "outputs": [
    {
     "data": {
      "text/plain": [
       "2.625"
      ]
     },
     "execution_count": 20,
     "metadata": {},
     "output_type": "execute_result"
    }
   ],
   "source": [
    "test3(2,5,8)"
   ]
  },
  {
   "cell_type": "code",
   "execution_count": 21,
   "id": "f7783932-8ecc-4b52-872e-1e7903608887",
   "metadata": {},
   "outputs": [],
   "source": [
    "# create a function that separate all integer value from a list and place in a separate list"
   ]
  },
  {
   "cell_type": "code",
   "execution_count": 27,
   "id": "e67f9bbf-0139-4b68-ac8e-2ba55515eb0b",
   "metadata": {},
   "outputs": [],
   "source": [
    "l = [1,2,3,4,\"dibu\",\"raja\",[7,8,9,0]]"
   ]
  },
  {
   "cell_type": "code",
   "execution_count": 30,
   "id": "9bbc2877-f0d9-4e0c-985d-73524a750401",
   "metadata": {},
   "outputs": [],
   "source": [
    "# normal way \n",
    "\n",
    "l1 = []\n",
    "for i in l :\n",
    "    if type(i) == int or type(i) == float :\n",
    "        l1.append(i)"
   ]
  },
  {
   "cell_type": "code",
   "execution_count": 31,
   "id": "d60f3fed-4d83-4160-91d9-1d65bd59bc24",
   "metadata": {},
   "outputs": [
    {
     "data": {
      "text/plain": [
       "[1, 2, 3, 4]"
      ]
     },
     "execution_count": 31,
     "metadata": {},
     "output_type": "execute_result"
    }
   ],
   "source": [
    "l1"
   ]
  },
  {
   "cell_type": "code",
   "execution_count": 32,
   "id": "cb65f432-e168-4cb1-aa68-b81c77ef8b8c",
   "metadata": {},
   "outputs": [],
   "source": [
    "def separate(l) :\n",
    "    l1 = []\n",
    "    for i in l :\n",
    "        if type(i) == int or type(i) == float :\n",
    "            l1.append(i)\n",
    "    return l1"
   ]
  },
  {
   "cell_type": "code",
   "execution_count": 33,
   "id": "d42486c8-64c4-4f73-9981-ecfb5c3d172d",
   "metadata": {},
   "outputs": [
    {
     "data": {
      "text/plain": [
       "[1, 2, 3, 4]"
      ]
     },
     "execution_count": 33,
     "metadata": {},
     "output_type": "execute_result"
    }
   ],
   "source": [
    "separate(l)"
   ]
  },
  {
   "cell_type": "code",
   "execution_count": 34,
   "id": "ccb63e2c-2481-442d-85cb-e6ba019c2640",
   "metadata": {},
   "outputs": [],
   "source": [
    "# checkin the inside list which resides in the list\n",
    "def test8(a) :\n",
    "    l = []\n",
    "    for i in a :\n",
    "        if type(i) == list :\n",
    "            for j in i :\n",
    "                l.append(j)\n",
    "        else :\n",
    "            if type(i) == int or type(i) == float :\n",
    "                l.append(i)\n",
    "                \n",
    "    return l"
   ]
  },
  {
   "cell_type": "code",
   "execution_count": 35,
   "id": "27a80ca8-5672-4227-9789-f43ec293f7d7",
   "metadata": {},
   "outputs": [
    {
     "data": {
      "text/plain": [
       "[1, 2, 3, 4, 7, 8, 9, 0]"
      ]
     },
     "execution_count": 35,
     "metadata": {},
     "output_type": "execute_result"
    }
   ],
   "source": [
    "test8(l)"
   ]
  },
  {
   "cell_type": "code",
   "execution_count": 36,
   "id": "6c1cf1d6-d82c-4192-b4ed-c95ee083192e",
   "metadata": {},
   "outputs": [],
   "source": [
    "# how to set comment in a string\n",
    "\n",
    "def test9(a) :\n",
    "    \"\"\"this is my function to extract data from a list\"\"\" # creating docstring\n",
    "    l = []\n",
    "    for i in a :\n",
    "        if type(i) == list :\n",
    "            for j in i :\n",
    "                l.append(j)\n",
    "        else :\n",
    "            if type(i) == int or type(i) == float :\n",
    "                l.append(i)\n",
    "                \n",
    "    return l"
   ]
  },
  {
   "cell_type": "code",
   "execution_count": 38,
   "id": "07c7f86f-5f92-4ded-b974-9dfb009c91b2",
   "metadata": {},
   "outputs": [
    {
     "data": {
      "text/plain": [
       "[1, 2, 3, 4, 7, 8, 9, 0]"
      ]
     },
     "execution_count": 38,
     "metadata": {},
     "output_type": "execute_result"
    }
   ],
   "source": [
    "test9(l)"
   ]
  },
  {
   "cell_type": "code",
   "execution_count": 39,
   "id": "2eb4ed40-bbcc-4dc3-ba39-3e2cdba3c3b3",
   "metadata": {},
   "outputs": [],
   "source": [
    "## creating programs with multiple arguments, which coder don't know the number of arguments"
   ]
  },
  {
   "cell_type": "code",
   "execution_count": 41,
   "id": "13bc8746-392c-4cec-8f81-034bf9db3066",
   "metadata": {},
   "outputs": [],
   "source": [
    "def test11(*args) :\n",
    "    return args"
   ]
  },
  {
   "cell_type": "code",
   "execution_count": 42,
   "id": "35380e74-b820-4aef-8e7b-1d071aa3c9d7",
   "metadata": {},
   "outputs": [
    {
     "data": {
      "text/plain": [
       "tuple"
      ]
     },
     "execution_count": 42,
     "metadata": {},
     "output_type": "execute_result"
    }
   ],
   "source": [
    "type(test11())"
   ]
  },
  {
   "cell_type": "code",
   "execution_count": 43,
   "id": "90eac402-fd31-4262-9f69-2acf46e81c2b",
   "metadata": {},
   "outputs": [
    {
     "data": {
      "text/plain": [
       "(1, 2, 3, 4)"
      ]
     },
     "execution_count": 43,
     "metadata": {},
     "output_type": "execute_result"
    }
   ],
   "source": [
    "test11(1,2,3,4)"
   ]
  },
  {
   "cell_type": "code",
   "execution_count": 44,
   "id": "cc01857a-c120-4c80-8cd2-01e8e5e0d026",
   "metadata": {},
   "outputs": [],
   "source": [
    "def test12(*args, a) :\n",
    "    return args, a"
   ]
  },
  {
   "cell_type": "code",
   "execution_count": 46,
   "id": "0ba2ba02-057e-47b7-9e27-905d321a3ae0",
   "metadata": {},
   "outputs": [
    {
     "data": {
      "text/plain": [
       "((1, 2, 3), 50)"
      ]
     },
     "execution_count": 46,
     "metadata": {},
     "output_type": "execute_result"
    }
   ],
   "source": [
    "test12(1,2,3, a = 50) "
   ]
  },
  {
   "cell_type": "code",
   "execution_count": 47,
   "id": "726feaf2-5b51-4c9a-bbde-049614f3cfb7",
   "metadata": {},
   "outputs": [],
   "source": [
    "# key value pair\n",
    "\n",
    "def test20(** kwargs) :\n",
    "    return kwargs"
   ]
  },
  {
   "cell_type": "code",
   "execution_count": 48,
   "id": "9876a42d-8887-4358-86c5-58332a91f4a9",
   "metadata": {},
   "outputs": [
    {
     "data": {
      "text/plain": [
       "{}"
      ]
     },
     "execution_count": 48,
     "metadata": {},
     "output_type": "execute_result"
    }
   ],
   "source": [
    "test20()"
   ]
  },
  {
   "cell_type": "code",
   "execution_count": 49,
   "id": "771e29a2-f39f-4362-848c-f26c9cd31f1d",
   "metadata": {},
   "outputs": [
    {
     "data": {
      "text/plain": [
       "dict"
      ]
     },
     "execution_count": 49,
     "metadata": {},
     "output_type": "execute_result"
    }
   ],
   "source": [
    "type(test20())"
   ]
  },
  {
   "cell_type": "code",
   "execution_count": 50,
   "id": "8b84d945-c38e-4ed3-94ee-ae9b6cc66f29",
   "metadata": {},
   "outputs": [
    {
     "data": {
      "text/plain": [
       "{'a': 5, 'b': 7}"
      ]
     },
     "execution_count": 50,
     "metadata": {},
     "output_type": "execute_result"
    }
   ],
   "source": [
    "test20(a=5, b= 7)"
   ]
  },
  {
   "cell_type": "code",
   "execution_count": null,
   "id": "72067fd5-d251-4d94-b055-d55f52017c5c",
   "metadata": {},
   "outputs": [],
   "source": []
  }
 ],
 "metadata": {
  "kernelspec": {
   "display_name": "Python 3 (ipykernel)",
   "language": "python",
   "name": "python3"
  },
  "language_info": {
   "codemirror_mode": {
    "name": "ipython",
    "version": 3
   },
   "file_extension": ".py",
   "mimetype": "text/x-python",
   "name": "python",
   "nbconvert_exporter": "python",
   "pygments_lexer": "ipython3",
   "version": "3.10.8"
  }
 },
 "nbformat": 4,
 "nbformat_minor": 5
}
