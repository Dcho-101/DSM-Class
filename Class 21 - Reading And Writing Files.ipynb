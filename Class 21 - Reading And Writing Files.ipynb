{
 "cells": [
  {
   "cell_type": "code",
   "execution_count": 1,
   "id": "ee50955d-b20f-49e4-860f-606a13ea20aa",
   "metadata": {},
   "outputs": [],
   "source": [
    "# reading and writing dictionary "
   ]
  },
  {
   "cell_type": "code",
   "execution_count": 3,
   "id": "c2cfc263-cd6b-42bc-b481-c55f3014ad8a",
   "metadata": {},
   "outputs": [],
   "source": [
    "data = {\n",
    "    \"name\" : \"sudh\",\n",
    "    \"mail_id\" : \"sudh123@gmail.com\",\n",
    "    \"phone_number\" : 95647788541,\n",
    "    \"subject\" : [\"data_science\", \"big_data\", \"data_analytics\"] \n",
    "}"
   ]
  },
  {
   "cell_type": "code",
   "execution_count": 4,
   "id": "5ec0306b-87c7-4dce-b894-4628daaa820f",
   "metadata": {},
   "outputs": [],
   "source": [
    "# this kind of data like key value pair is also termed as JSON - JAVA SCRIPT OBJECT NOTATION"
   ]
  },
  {
   "cell_type": "code",
   "execution_count": 5,
   "id": "b0b76eac-ff6d-4551-9877-d45c256ba6f1",
   "metadata": {},
   "outputs": [],
   "source": [
    "# writing this kind of file"
   ]
  },
  {
   "cell_type": "code",
   "execution_count": 7,
   "id": "b865ca6d-6348-4523-8f61-9100907ffe81",
   "metadata": {},
   "outputs": [],
   "source": [
    "import json\n",
    "\n",
    "# json has the capacity to read and write this kind of file"
   ]
  },
  {
   "cell_type": "code",
   "execution_count": 8,
   "id": "a43b6a3c-cf3c-4d07-915e-8b2b5127a87b",
   "metadata": {},
   "outputs": [],
   "source": [
    "with open(\"data.json\" , \"w\") as f :\n",
    "    json.dump(data, f) #for perfomring write operation\n",
    "    \n",
    "#     dummp help in dumping this kind of data\n",
    "# we are dumping the \"data\" in the f variable"
   ]
  },
  {
   "cell_type": "code",
   "execution_count": 9,
   "id": "2901e264-f88b-4ee4-aa4a-f6f784ec13f5",
   "metadata": {},
   "outputs": [],
   "source": [
    "# in the directory you can see a file named data has been made"
   ]
  },
  {
   "cell_type": "code",
   "execution_count": 10,
   "id": "763ea05c-f5d8-4215-809f-10037422f4e7",
   "metadata": {},
   "outputs": [],
   "source": [
    "# reading the data"
   ]
  },
  {
   "cell_type": "code",
   "execution_count": 16,
   "id": "4ce9c12f-36c1-4c62-bfd8-6bb1a894f1a5",
   "metadata": {},
   "outputs": [],
   "source": [
    "with open(\"data.json\" , \"r\") as f :\n",
    "    data1 = json.load(f) # to perform read operation"
   ]
  },
  {
   "cell_type": "code",
   "execution_count": 12,
   "id": "2f20218e-9c2d-4c94-8a87-2751d9575746",
   "metadata": {},
   "outputs": [
    {
     "data": {
      "text/plain": [
       "{'name': 'sudh',\n",
       " 'mail_id': 'sudh123@gmail.com',\n",
       " 'phone_number': 95647788541,\n",
       " 'subject': ['data_science', 'big_data', 'data_analytics']}"
      ]
     },
     "execution_count": 12,
     "metadata": {},
     "output_type": "execute_result"
    }
   ],
   "source": [
    "data1"
   ]
  },
  {
   "cell_type": "code",
   "execution_count": 13,
   "id": "1a9fe5d0-d3a6-4a4b-9554-b43db992a886",
   "metadata": {},
   "outputs": [],
   "source": [
    "# returning big_data"
   ]
  },
  {
   "cell_type": "code",
   "execution_count": 15,
   "id": "fcef306f-aac5-4d11-9b0d-47fe5e7d8b47",
   "metadata": {},
   "outputs": [
    {
     "data": {
      "text/plain": [
       "'big_data'"
      ]
     },
     "execution_count": 15,
     "metadata": {},
     "output_type": "execute_result"
    }
   ],
   "source": [
    "data1[\"subject\"][1]"
   ]
  },
  {
   "cell_type": "code",
   "execution_count": 17,
   "id": "34a15b7f-ad9a-407b-a192-4ca40d4f9c90",
   "metadata": {},
   "outputs": [],
   "source": [
    "# how to read and write a csv file "
   ]
  },
  {
   "cell_type": "code",
   "execution_count": 18,
   "id": "f37e7948-59f4-4386-b354-e8f831b28d3e",
   "metadata": {},
   "outputs": [],
   "source": [
    "import csv"
   ]
  },
  {
   "cell_type": "code",
   "execution_count": 22,
   "id": "164a5af3-4b33-4fcf-b38d-adc7f4a9f18b",
   "metadata": {},
   "outputs": [],
   "source": [
    "data2 = [[\"name\", \"email_id\", \"phone_number\"],\n",
    "         [\"sudh\", \"sudh@gmail.com\", 4588997744],\n",
    "         [\"krish\", \"krish@gmail.com\", 9988774455]\n",
    "]"
   ]
  },
  {
   "cell_type": "code",
   "execution_count": 26,
   "id": "c4e4cf82-5080-42ea-b067-7da4bb431332",
   "metadata": {},
   "outputs": [],
   "source": [
    "with open(\"data.csv\", \"w\") as f1 :\n",
    "    writer = csv.writer(f1) #helps to write the data\n",
    "    \n",
    "    for i in data2 :\n",
    "        writer.writerow(i)"
   ]
  },
  {
   "cell_type": "code",
   "execution_count": 27,
   "id": "dca66573-cb64-4622-9943-7b5d91785ae4",
   "metadata": {},
   "outputs": [],
   "source": [
    "# reading the csv file"
   ]
  },
  {
   "cell_type": "code",
   "execution_count": 29,
   "id": "e98ca451-c83e-4533-801e-9f0115f4e909",
   "metadata": {},
   "outputs": [
    {
     "name": "stdout",
     "output_type": "stream",
     "text": [
      "['name', 'email_id', 'phone_number']\n",
      "['sudh', 'sudh@gmail.com', '4588997744']\n",
      "['krish', 'krish@gmail.com', '9988774455']\n"
     ]
    }
   ],
   "source": [
    "with open(\"data.csv\" , \"r\") as f1 :\n",
    "    read_data = csv.reader(f1) # it will help to read but not give back the data \n",
    "    # for that you need to use for loop\n",
    "    \n",
    "    for i in read_data :\n",
    "        print(i)"
   ]
  },
  {
   "cell_type": "code",
   "execution_count": null,
   "id": "a376ddf4-a66b-4284-98ea-de3779d90f21",
   "metadata": {},
   "outputs": [],
   "source": []
  },
  {
   "cell_type": "code",
   "execution_count": 30,
   "id": "84d81e87-164a-4916-8ce8-3e32e6b87802",
   "metadata": {},
   "outputs": [],
   "source": [
    "# how to read and write a binary data"
   ]
  },
  {
   "cell_type": "code",
   "execution_count": 31,
   "id": "cbe75a42-605d-4044-bb9a-3e1607b0280b",
   "metadata": {},
   "outputs": [],
   "source": [
    "# when you try to open a image of video file in a text format, it returns the binary data"
   ]
  },
  {
   "cell_type": "code",
   "execution_count": 32,
   "id": "1ccf5e55-ac28-4c47-b3e4-16f9f66f4de4",
   "metadata": {},
   "outputs": [],
   "source": [
    "# binary data we cannot read directly, it is not human readable. although they can used by the system but still we can read and write a binary data "
   ]
  },
  {
   "cell_type": "code",
   "execution_count": 33,
   "id": "8cd91919-457e-48a4-9bc7-13b4fb9d3f8e",
   "metadata": {},
   "outputs": [],
   "source": [
    "# creating binary file"
   ]
  },
  {
   "cell_type": "code",
   "execution_count": 36,
   "id": "bb656474-bf4f-45a1-b01b-995437052e5d",
   "metadata": {},
   "outputs": [],
   "source": [
    "with open(\"test6.bin\", \"wb\") as f : #wb for write binary\n",
    "    f.write(b\"\\x01\\x02\\x03\\x5548\") #here b expressend as binary format \n",
    "    # \\x01\\x02\\x03 these represent red dot so that in file you'll see red dots\n",
    "    # \\x5548 represent U48 in the system"
   ]
  },
  {
   "cell_type": "code",
   "execution_count": 37,
   "id": "20149927-b255-4682-b38f-79e73a4e95a6",
   "metadata": {},
   "outputs": [],
   "source": [
    "# reading the file "
   ]
  },
  {
   "cell_type": "code",
   "execution_count": null,
   "id": "46ff632e-601b-4b0e-9283-994a93d8b98e",
   "metadata": {},
   "outputs": [],
   "source": [
    "with open(\"test6.bin\", \"rb\") as f :\n",
    "    print()"
   ]
  }
 ],
 "metadata": {
  "kernelspec": {
   "display_name": "Python 3 (ipykernel)",
   "language": "python",
   "name": "python3"
  },
  "language_info": {
   "codemirror_mode": {
    "name": "ipython",
    "version": 3
   },
   "file_extension": ".py",
   "mimetype": "text/x-python",
   "name": "python",
   "nbconvert_exporter": "python",
   "pygments_lexer": "ipython3",
   "version": "3.10.8"
  }
 },
 "nbformat": 4,
 "nbformat_minor": 5
}
