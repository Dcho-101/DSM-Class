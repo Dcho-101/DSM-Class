{
 "cells": [
  {
   "cell_type": "code",
   "execution_count": 1,
   "id": "ad2cdf8c-2346-44d7-9a2f-b1a42fa511d6",
   "metadata": {},
   "outputs": [],
   "source": [
    "# buffered read and write basically reading and writing in chunk"
   ]
  },
  {
   "cell_type": "code",
   "execution_count": 2,
   "id": "31f88e3b-ca52-4e1b-a7f6-532b1cdce4c3",
   "metadata": {},
   "outputs": [],
   "source": [
    "# for this task we need to import \"io\" means input output "
   ]
  },
  {
   "cell_type": "code",
   "execution_count": 3,
   "id": "b9a0bbd5-782b-4128-b0fa-83c1449c7c54",
   "metadata": {},
   "outputs": [],
   "source": [
    "import io"
   ]
  },
  {
   "cell_type": "code",
   "execution_count": 11,
   "id": "ee1f2d25-a267-49dc-88da-97aa662f6d31",
   "metadata": {},
   "outputs": [],
   "source": [
    "with open(\"test01.txt\", \"wb\") as f :\n",
    "    file = io.BufferedWriter(f)\n",
    "    \n",
    "    file.write(b\"this is my first line\")\n",
    "    file.write(b\"\\nData Science Masters course is highly curated and uniquely designed according to the latest industry standards. This program instills students the skills essential to knowledge discovery efforts to identify standard, novel, and truly differentiated solutions and decision-making, including skills in managing, querying, analyzing, visualizing, and extracting meaning from extremely large data sets. This trending program provides students with the statistical, mathematical and computational skills needed to meet the large-scale data science challenges of today's professional world. You will learn all the stack required to work in data science industry including cloud infrastructure and real-time industry projects. This course will be taught in Hindi language.\") # if we see the text file, there won't be any text untill we close. \n",
    "    file.flush() # for closing buffer files, instead of doinng close, we will use the flush functon"
   ]
  },
  {
   "cell_type": "code",
   "execution_count": 12,
   "id": "1aa26f3e-d40e-4d77-b2a8-8df3581128a2",
   "metadata": {},
   "outputs": [],
   "source": [
    "# reading buffer file"
   ]
  },
  {
   "cell_type": "code",
   "execution_count": 15,
   "id": "6dd1c418-f80d-42ac-b0b7-2f3c9e54c513",
   "metadata": {},
   "outputs": [
    {
     "name": "stdout",
     "output_type": "stream",
     "text": [
      "b\"this is my first line\\nData Science Masters course is highly curated and uniquely designed according to the latest industry standards. This program instills students the skills essential to knowledge discovery efforts to identify standard, novel, and truly differentiated solutions and decision-making, including skills in managing, querying, analyzing, visualizing, and extracting meaning from extremely large data sets. This trending program provides students with the statistical, mathematical and computational skills needed to meet the large-scale data science challenges of today's professional world. You will learn all the stack required to work in data science industry including cloud infrastructure and real-time industry projects. This course will be taught in Hindi language.\"\n"
     ]
    }
   ],
   "source": [
    "with open(\"test01.txt\", \"rb\") as f :\n",
    "    file = io.BufferedReader(f) # file ready\n",
    "    print(file.read()) # for printing the reading file"
   ]
  },
  {
   "cell_type": "code",
   "execution_count": null,
   "id": "033f5a4d-8e44-4df7-880c-78935d9518e4",
   "metadata": {},
   "outputs": [],
   "source": []
  },
  {
   "cell_type": "code",
   "execution_count": null,
   "id": "ac78f4ef-33d7-4658-ba15-7f9ecad43ca3",
   "metadata": {},
   "outputs": [],
   "source": []
  }
 ],
 "metadata": {
  "kernelspec": {
   "display_name": "Python 3 (ipykernel)",
   "language": "python",
   "name": "python3"
  },
  "language_info": {
   "codemirror_mode": {
    "name": "ipython",
    "version": 3
   },
   "file_extension": ".py",
   "mimetype": "text/x-python",
   "name": "python",
   "nbconvert_exporter": "python",
   "pygments_lexer": "ipython3",
   "version": "3.10.8"
  }
 },
 "nbformat": 4,
 "nbformat_minor": 5
}
