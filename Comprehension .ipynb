{
 "cells": [
  {
   "cell_type": "code",
   "execution_count": 1,
   "id": "ac86c2dd-9dd6-41d3-8674-88461ec309d0",
   "metadata": {},
   "outputs": [],
   "source": [
    "# comprehension is like shoet form of loop"
   ]
  },
  {
   "cell_type": "code",
   "execution_count": 2,
   "id": "d05e91e3-c5ec-4d1d-9246-068e20b9c166",
   "metadata": {},
   "outputs": [],
   "source": [
    "l = [1,2,3,4,5,6]\n",
    "\n",
    "# normally writing\n",
    "l1 = []\n",
    "for i in l :\n",
    "    l1.append(i**2)"
   ]
  },
  {
   "cell_type": "code",
   "execution_count": 3,
   "id": "47ae9381-439c-490a-8f55-04de0bb53720",
   "metadata": {},
   "outputs": [
    {
     "data": {
      "text/plain": [
       "[1, 4, 9, 16, 25, 36]"
      ]
     },
     "execution_count": 3,
     "metadata": {},
     "output_type": "execute_result"
    }
   ],
   "source": [
    "l1"
   ]
  },
  {
   "cell_type": "code",
   "execution_count": 4,
   "id": "461b8a33-10b0-4dd2-9323-3d8814295da3",
   "metadata": {},
   "outputs": [
    {
     "data": {
      "text/plain": [
       "[1, 4, 9, 16, 25, 36]"
      ]
     },
     "execution_count": 4,
     "metadata": {},
     "output_type": "execute_result"
    }
   ],
   "source": [
    "# list comprehension \n",
    "\n",
    "[i**2 for i in l]"
   ]
  },
  {
   "cell_type": "code",
   "execution_count": 5,
   "id": "e278b3c9-73b2-4dfd-a4dd-2b02cfa7cbad",
   "metadata": {},
   "outputs": [
    {
     "data": {
      "text/plain": [
       "[2, 4, 6]"
      ]
     },
     "execution_count": 5,
     "metadata": {},
     "output_type": "execute_result"
    }
   ],
   "source": [
    "# even numbers\n",
    "\n",
    "[i for i in l if i%2 == 0]"
   ]
  },
  {
   "cell_type": "code",
   "execution_count": 6,
   "id": "ec41be75-50da-4b8d-a01b-b7eb873f0506",
   "metadata": {},
   "outputs": [],
   "source": [
    "# uppercase convert\n",
    "\n",
    "l1 = [\"sudh\",\"kumar\",\"data science masters\"]"
   ]
  },
  {
   "cell_type": "code",
   "execution_count": 8,
   "id": "206b37f4-295b-427d-932d-9039cdeaa82a",
   "metadata": {},
   "outputs": [
    {
     "data": {
      "text/plain": [
       "['SUDH', 'KUMAR', 'DATA SCIENCE MASTERS']"
      ]
     },
     "execution_count": 8,
     "metadata": {},
     "output_type": "execute_result"
    }
   ],
   "source": [
    "[i.upper() for i in l1]"
   ]
  },
  {
   "cell_type": "code",
   "execution_count": 9,
   "id": "1cc49736-938a-4b9a-968d-11a22b6a649e",
   "metadata": {},
   "outputs": [
    {
     "data": {
      "text/plain": [
       "[1, 2, 3, 4, 5, 6]"
      ]
     },
     "execution_count": 9,
     "metadata": {},
     "output_type": "execute_result"
    }
   ],
   "source": [
    "l"
   ]
  },
  {
   "cell_type": "code",
   "execution_count": 10,
   "id": "1bd5686e-b11d-49c5-b414-37f909efc50a",
   "metadata": {},
   "outputs": [],
   "source": [
    "# making square and returning values in tuples"
   ]
  },
  {
   "cell_type": "code",
   "execution_count": 12,
   "id": "5fdf3e39-e321-4064-9808-8caecee3e2c6",
   "metadata": {},
   "outputs": [
    {
     "data": {
      "text/plain": [
       "[1, 4, 9, 16, 25, 36]"
      ]
     },
     "execution_count": 12,
     "metadata": {},
     "output_type": "execute_result"
    }
   ],
   "source": [
    "list((i**2for i in l))"
   ]
  },
  {
   "cell_type": "code",
   "execution_count": 13,
   "id": "625495ff-12f1-4647-b96e-2b127afe1333",
   "metadata": {},
   "outputs": [],
   "source": [
    "dic = {\"key1\" : 1, \"key2\" : 2,\"key3\" : 3,\"key4\" : 4}"
   ]
  },
  {
   "cell_type": "code",
   "execution_count": 14,
   "id": "2483254b-4080-4e9c-851f-72724f5793cc",
   "metadata": {},
   "outputs": [],
   "source": [
    "# return the values and make square "
   ]
  },
  {
   "cell_type": "code",
   "execution_count": 16,
   "id": "5a779c99-d34e-4af9-986b-c375687c914d",
   "metadata": {},
   "outputs": [
    {
     "data": {
      "text/plain": [
       "{'key1': 1, 'key2': 4, 'key3': 9, 'key4': 16}"
      ]
     },
     "execution_count": 16,
     "metadata": {},
     "output_type": "execute_result"
    }
   ],
   "source": [
    "{k : v**2 for k,v in dic.items()}"
   ]
  },
  {
   "cell_type": "code",
   "execution_count": 17,
   "id": "332c28bc-f9ad-4737-ba58-b691249897fa",
   "metadata": {},
   "outputs": [
    {
     "data": {
      "text/plain": [
       "{'key2': 2, 'key3': 3, 'key4': 4}"
      ]
     },
     "execution_count": 17,
     "metadata": {},
     "output_type": "execute_result"
    }
   ],
   "source": [
    "# values which are greater than 1\n",
    "{k : v for k,v in dic.items() if v > 1}"
   ]
  },
  {
   "cell_type": "code",
   "execution_count": null,
   "id": "c262d4fd-aab5-4978-a045-02ff714acea9",
   "metadata": {},
   "outputs": [],
   "source": [
    "# pattern\n",
    "\n",
    "# loop in middle,condition in last, output in first"
   ]
  }
 ],
 "metadata": {
  "kernelspec": {
   "display_name": "Python 3 (ipykernel)",
   "language": "python",
   "name": "python3"
  },
  "language_info": {
   "codemirror_mode": {
    "name": "ipython",
    "version": 3
   },
   "file_extension": ".py",
   "mimetype": "text/x-python",
   "name": "python",
   "nbconvert_exporter": "python",
   "pygments_lexer": "ipython3",
   "version": "3.10.8"
  }
 },
 "nbformat": 4,
 "nbformat_minor": 5
}
