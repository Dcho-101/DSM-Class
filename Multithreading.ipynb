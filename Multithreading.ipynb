{
 "cells": [
  {
   "cell_type": "code",
   "execution_count": 1,
   "id": "c959e6cf-b883-45bc-bb02-ab5162a50359",
   "metadata": {},
   "outputs": [],
   "source": [
    "# in python, there are two threading \n",
    "# 1. thread\n",
    "# 2. threading"
   ]
  },
  {
   "cell_type": "code",
   "execution_count": 2,
   "id": "340dbd28-0598-4be6-a56c-1e26860b6d06",
   "metadata": {},
   "outputs": [],
   "source": [
    "# basically in this process, we will see multiple programming running in one core."
   ]
  },
  {
   "cell_type": "code",
   "execution_count": 3,
   "id": "405a4927-84d1-4f05-bf3a-aced2c2b09d7",
   "metadata": {},
   "outputs": [],
   "source": [
    "# importing library threading\n",
    "\n",
    "import threading"
   ]
  },
  {
   "cell_type": "code",
   "execution_count": 4,
   "id": "05d3599b-0208-4419-9d7a-e551068f014c",
   "metadata": {},
   "outputs": [],
   "source": [
    "def test(id) : #pass any varible. here I have passed id\n",
    "    print(\"prog start %d\" % id)"
   ]
  },
  {
   "cell_type": "code",
   "execution_count": 5,
   "id": "2eeea01f-f23d-428a-a646-805f609c7c61",
   "metadata": {},
   "outputs": [
    {
     "name": "stdout",
     "output_type": "stream",
     "text": [
      "prog start 45\n"
     ]
    }
   ],
   "source": [
    "test(45)"
   ]
  },
  {
   "cell_type": "code",
   "execution_count": 6,
   "id": "2b91ca32-2633-484e-8b69-7242d2ed140e",
   "metadata": {},
   "outputs": [],
   "source": [
    "# suppose you want ot pass multiple program at a time, then you have to do this"
   ]
  },
  {
   "cell_type": "code",
   "execution_count": 7,
   "id": "aa39daf3-cc3f-46d5-a03c-568e3eec5476",
   "metadata": {},
   "outputs": [],
   "source": [
    "thread = [threading.Thread(target=test, args=(i,)) for i in range(10)]"
   ]
  },
  {
   "cell_type": "code",
   "execution_count": 8,
   "id": "c3d4fa50-8240-4c46-b241-2bdffb450deb",
   "metadata": {},
   "outputs": [
    {
     "name": "stdout",
     "output_type": "stream",
     "text": [
      "prog start 0\n",
      "prog start 1\n",
      "prog start 2\n",
      "prog start 3\n",
      "prog start 4\n",
      "prog start 5\n",
      "prog start 6\n",
      "prog start 7\n",
      "prog start 8\n",
      "prog start 9\n"
     ]
    }
   ],
   "source": [
    "for t in thread :\n",
    "    t.start()"
   ]
  },
  {
   "cell_type": "code",
   "execution_count": 9,
   "id": "19076f1d-a785-44e6-89e0-d0587dc7dfac",
   "metadata": {},
   "outputs": [
    {
     "data": {
      "text/plain": [
       "[<Thread(Thread-5 (test), stopped 139912628127296)>,\n",
       " <Thread(Thread-6 (test), stopped 139912628127296)>,\n",
       " <Thread(Thread-7 (test), stopped 139912628127296)>,\n",
       " <Thread(Thread-8 (test), stopped 139912628127296)>,\n",
       " <Thread(Thread-9 (test), stopped 139912628127296)>,\n",
       " <Thread(Thread-10 (test), stopped 139912628127296)>,\n",
       " <Thread(Thread-11 (test), stopped 139912628127296)>,\n",
       " <Thread(Thread-12 (test), stopped 139912628127296)>,\n",
       " <Thread(Thread-13 (test), stopped 139912628127296)>,\n",
       " <Thread(Thread-14 (test), stopped 139912628127296)>]"
      ]
     },
     "execution_count": 9,
     "metadata": {},
     "output_type": "execute_result"
    }
   ],
   "source": [
    "thread"
   ]
  },
  {
   "cell_type": "code",
   "execution_count": 10,
   "id": "16cc7635-eed2-4dd7-94e0-1c26b84b3364",
   "metadata": {},
   "outputs": [
    {
     "data": {
      "text/plain": [
       "139912992411200"
      ]
     },
     "execution_count": 10,
     "metadata": {},
     "output_type": "execute_result"
    }
   ],
   "source": [
    "id(thread)"
   ]
  },
  {
   "cell_type": "code",
   "execution_count": 11,
   "id": "4e48e413-ccb6-4362-995d-958c29287ad8",
   "metadata": {},
   "outputs": [],
   "source": [
    "# example 2"
   ]
  },
  {
   "cell_type": "code",
   "execution_count": 12,
   "id": "28f1076e-7c1e-4832-b767-db8fe03c0ef9",
   "metadata": {},
   "outputs": [],
   "source": [
    "# importing multiple thread from url. so we need to import urllib also."
   ]
  },
  {
   "cell_type": "code",
   "execution_count": 13,
   "id": "b053abe7-6d60-43c8-a41b-fa693a74810f",
   "metadata": {},
   "outputs": [],
   "source": [
    "import threading\n",
    "import urllib"
   ]
  },
  {
   "cell_type": "code",
   "execution_count": 14,
   "id": "0adb31fd-cacd-4887-8b7e-cc74cb293c6f",
   "metadata": {},
   "outputs": [],
   "source": [
    "def file_download(url, filename) :\n",
    "    urllib.request.urlretrieve(url, filename)"
   ]
  },
  {
   "cell_type": "code",
   "execution_count": 15,
   "id": "169a31ee-5b53-4f52-ae6c-a5f14293d2ff",
   "metadata": {},
   "outputs": [
    {
     "ename": "HTTPError",
     "evalue": "HTTP Error 404: Not Found",
     "output_type": "error",
     "traceback": [
      "\u001b[0;31m---------------------------------------------------------------------------\u001b[0m",
      "\u001b[0;31mHTTPError\u001b[0m                                 Traceback (most recent call last)",
      "Cell \u001b[0;32mIn[15], line 1\u001b[0m\n\u001b[0;32m----> 1\u001b[0m \u001b[43mfile_download\u001b[49m\u001b[43m(\u001b[49m\u001b[38;5;124;43m'\u001b[39;49m\u001b[38;5;124;43mhttps://raw.githubusercontent.com/itsfoss/text-files/master/agtha.txt\u001b[39;49m\u001b[38;5;124;43m'\u001b[39;49m\u001b[43m,\u001b[49m\u001b[43m \u001b[49m\u001b[38;5;124;43m'\u001b[39;49m\u001b[38;5;124;43mtest_multithread.txt\u001b[39;49m\u001b[38;5;124;43m'\u001b[39;49m\u001b[43m)\u001b[49m\n",
      "Cell \u001b[0;32mIn[14], line 2\u001b[0m, in \u001b[0;36mfile_download\u001b[0;34m(url, filename)\u001b[0m\n\u001b[1;32m      1\u001b[0m \u001b[38;5;28;01mdef\u001b[39;00m \u001b[38;5;21mfile_download\u001b[39m(url, filename) :\n\u001b[0;32m----> 2\u001b[0m     \u001b[43murllib\u001b[49m\u001b[38;5;241;43m.\u001b[39;49m\u001b[43mrequest\u001b[49m\u001b[38;5;241;43m.\u001b[39;49m\u001b[43murlretrieve\u001b[49m\u001b[43m(\u001b[49m\u001b[43murl\u001b[49m\u001b[43m,\u001b[49m\u001b[43m \u001b[49m\u001b[43mfilename\u001b[49m\u001b[43m)\u001b[49m\n",
      "File \u001b[0;32m/opt/conda/lib/python3.10/urllib/request.py:241\u001b[0m, in \u001b[0;36murlretrieve\u001b[0;34m(url, filename, reporthook, data)\u001b[0m\n\u001b[1;32m    224\u001b[0m \u001b[38;5;124;03m\"\"\"\u001b[39;00m\n\u001b[1;32m    225\u001b[0m \u001b[38;5;124;03mRetrieve a URL into a temporary location on disk.\u001b[39;00m\n\u001b[1;32m    226\u001b[0m \n\u001b[0;32m   (...)\u001b[0m\n\u001b[1;32m    237\u001b[0m \u001b[38;5;124;03mdata file as well as the resulting HTTPMessage object.\u001b[39;00m\n\u001b[1;32m    238\u001b[0m \u001b[38;5;124;03m\"\"\"\u001b[39;00m\n\u001b[1;32m    239\u001b[0m url_type, path \u001b[38;5;241m=\u001b[39m _splittype(url)\n\u001b[0;32m--> 241\u001b[0m \u001b[38;5;28;01mwith\u001b[39;00m contextlib\u001b[38;5;241m.\u001b[39mclosing(\u001b[43murlopen\u001b[49m\u001b[43m(\u001b[49m\u001b[43murl\u001b[49m\u001b[43m,\u001b[49m\u001b[43m \u001b[49m\u001b[43mdata\u001b[49m\u001b[43m)\u001b[49m) \u001b[38;5;28;01mas\u001b[39;00m fp:\n\u001b[1;32m    242\u001b[0m     headers \u001b[38;5;241m=\u001b[39m fp\u001b[38;5;241m.\u001b[39minfo()\n\u001b[1;32m    244\u001b[0m     \u001b[38;5;66;03m# Just return the local path and the \"headers\" for file://\u001b[39;00m\n\u001b[1;32m    245\u001b[0m     \u001b[38;5;66;03m# URLs. No sense in performing a copy unless requested.\u001b[39;00m\n",
      "File \u001b[0;32m/opt/conda/lib/python3.10/urllib/request.py:216\u001b[0m, in \u001b[0;36murlopen\u001b[0;34m(url, data, timeout, cafile, capath, cadefault, context)\u001b[0m\n\u001b[1;32m    214\u001b[0m \u001b[38;5;28;01melse\u001b[39;00m:\n\u001b[1;32m    215\u001b[0m     opener \u001b[38;5;241m=\u001b[39m _opener\n\u001b[0;32m--> 216\u001b[0m \u001b[38;5;28;01mreturn\u001b[39;00m \u001b[43mopener\u001b[49m\u001b[38;5;241;43m.\u001b[39;49m\u001b[43mopen\u001b[49m\u001b[43m(\u001b[49m\u001b[43murl\u001b[49m\u001b[43m,\u001b[49m\u001b[43m \u001b[49m\u001b[43mdata\u001b[49m\u001b[43m,\u001b[49m\u001b[43m \u001b[49m\u001b[43mtimeout\u001b[49m\u001b[43m)\u001b[49m\n",
      "File \u001b[0;32m/opt/conda/lib/python3.10/urllib/request.py:525\u001b[0m, in \u001b[0;36mOpenerDirector.open\u001b[0;34m(self, fullurl, data, timeout)\u001b[0m\n\u001b[1;32m    523\u001b[0m \u001b[38;5;28;01mfor\u001b[39;00m processor \u001b[38;5;129;01min\u001b[39;00m \u001b[38;5;28mself\u001b[39m\u001b[38;5;241m.\u001b[39mprocess_response\u001b[38;5;241m.\u001b[39mget(protocol, []):\n\u001b[1;32m    524\u001b[0m     meth \u001b[38;5;241m=\u001b[39m \u001b[38;5;28mgetattr\u001b[39m(processor, meth_name)\n\u001b[0;32m--> 525\u001b[0m     response \u001b[38;5;241m=\u001b[39m \u001b[43mmeth\u001b[49m\u001b[43m(\u001b[49m\u001b[43mreq\u001b[49m\u001b[43m,\u001b[49m\u001b[43m \u001b[49m\u001b[43mresponse\u001b[49m\u001b[43m)\u001b[49m\n\u001b[1;32m    527\u001b[0m \u001b[38;5;28;01mreturn\u001b[39;00m response\n",
      "File \u001b[0;32m/opt/conda/lib/python3.10/urllib/request.py:634\u001b[0m, in \u001b[0;36mHTTPErrorProcessor.http_response\u001b[0;34m(self, request, response)\u001b[0m\n\u001b[1;32m    631\u001b[0m \u001b[38;5;66;03m# According to RFC 2616, \"2xx\" code indicates that the client's\u001b[39;00m\n\u001b[1;32m    632\u001b[0m \u001b[38;5;66;03m# request was successfully received, understood, and accepted.\u001b[39;00m\n\u001b[1;32m    633\u001b[0m \u001b[38;5;28;01mif\u001b[39;00m \u001b[38;5;129;01mnot\u001b[39;00m (\u001b[38;5;241m200\u001b[39m \u001b[38;5;241m<\u001b[39m\u001b[38;5;241m=\u001b[39m code \u001b[38;5;241m<\u001b[39m \u001b[38;5;241m300\u001b[39m):\n\u001b[0;32m--> 634\u001b[0m     response \u001b[38;5;241m=\u001b[39m \u001b[38;5;28;43mself\u001b[39;49m\u001b[38;5;241;43m.\u001b[39;49m\u001b[43mparent\u001b[49m\u001b[38;5;241;43m.\u001b[39;49m\u001b[43merror\u001b[49m\u001b[43m(\u001b[49m\n\u001b[1;32m    635\u001b[0m \u001b[43m        \u001b[49m\u001b[38;5;124;43m'\u001b[39;49m\u001b[38;5;124;43mhttp\u001b[39;49m\u001b[38;5;124;43m'\u001b[39;49m\u001b[43m,\u001b[49m\u001b[43m \u001b[49m\u001b[43mrequest\u001b[49m\u001b[43m,\u001b[49m\u001b[43m \u001b[49m\u001b[43mresponse\u001b[49m\u001b[43m,\u001b[49m\u001b[43m \u001b[49m\u001b[43mcode\u001b[49m\u001b[43m,\u001b[49m\u001b[43m \u001b[49m\u001b[43mmsg\u001b[49m\u001b[43m,\u001b[49m\u001b[43m \u001b[49m\u001b[43mhdrs\u001b[49m\u001b[43m)\u001b[49m\n\u001b[1;32m    637\u001b[0m \u001b[38;5;28;01mreturn\u001b[39;00m response\n",
      "File \u001b[0;32m/opt/conda/lib/python3.10/urllib/request.py:563\u001b[0m, in \u001b[0;36mOpenerDirector.error\u001b[0;34m(self, proto, *args)\u001b[0m\n\u001b[1;32m    561\u001b[0m \u001b[38;5;28;01mif\u001b[39;00m http_err:\n\u001b[1;32m    562\u001b[0m     args \u001b[38;5;241m=\u001b[39m (\u001b[38;5;28mdict\u001b[39m, \u001b[38;5;124m'\u001b[39m\u001b[38;5;124mdefault\u001b[39m\u001b[38;5;124m'\u001b[39m, \u001b[38;5;124m'\u001b[39m\u001b[38;5;124mhttp_error_default\u001b[39m\u001b[38;5;124m'\u001b[39m) \u001b[38;5;241m+\u001b[39m orig_args\n\u001b[0;32m--> 563\u001b[0m     \u001b[38;5;28;01mreturn\u001b[39;00m \u001b[38;5;28;43mself\u001b[39;49m\u001b[38;5;241;43m.\u001b[39;49m\u001b[43m_call_chain\u001b[49m\u001b[43m(\u001b[49m\u001b[38;5;241;43m*\u001b[39;49m\u001b[43margs\u001b[49m\u001b[43m)\u001b[49m\n",
      "File \u001b[0;32m/opt/conda/lib/python3.10/urllib/request.py:496\u001b[0m, in \u001b[0;36mOpenerDirector._call_chain\u001b[0;34m(self, chain, kind, meth_name, *args)\u001b[0m\n\u001b[1;32m    494\u001b[0m \u001b[38;5;28;01mfor\u001b[39;00m handler \u001b[38;5;129;01min\u001b[39;00m handlers:\n\u001b[1;32m    495\u001b[0m     func \u001b[38;5;241m=\u001b[39m \u001b[38;5;28mgetattr\u001b[39m(handler, meth_name)\n\u001b[0;32m--> 496\u001b[0m     result \u001b[38;5;241m=\u001b[39m \u001b[43mfunc\u001b[49m\u001b[43m(\u001b[49m\u001b[38;5;241;43m*\u001b[39;49m\u001b[43margs\u001b[49m\u001b[43m)\u001b[49m\n\u001b[1;32m    497\u001b[0m     \u001b[38;5;28;01mif\u001b[39;00m result \u001b[38;5;129;01mis\u001b[39;00m \u001b[38;5;129;01mnot\u001b[39;00m \u001b[38;5;28;01mNone\u001b[39;00m:\n\u001b[1;32m    498\u001b[0m         \u001b[38;5;28;01mreturn\u001b[39;00m result\n",
      "File \u001b[0;32m/opt/conda/lib/python3.10/urllib/request.py:643\u001b[0m, in \u001b[0;36mHTTPDefaultErrorHandler.http_error_default\u001b[0;34m(self, req, fp, code, msg, hdrs)\u001b[0m\n\u001b[1;32m    642\u001b[0m \u001b[38;5;28;01mdef\u001b[39;00m \u001b[38;5;21mhttp_error_default\u001b[39m(\u001b[38;5;28mself\u001b[39m, req, fp, code, msg, hdrs):\n\u001b[0;32m--> 643\u001b[0m     \u001b[38;5;28;01mraise\u001b[39;00m HTTPError(req\u001b[38;5;241m.\u001b[39mfull_url, code, msg, hdrs, fp)\n",
      "\u001b[0;31mHTTPError\u001b[0m: HTTP Error 404: Not Found"
     ]
    }
   ],
   "source": [
    "file_download('https://raw.githubusercontent.com/itsfoss/text-files/master/agtha.txt', 'test_multithread.txt')"
   ]
  },
  {
   "cell_type": "code",
   "execution_count": 16,
   "id": "f5330f49-d86a-4993-bc2e-e6bcba04c9ce",
   "metadata": {},
   "outputs": [],
   "source": [
    "url_list = ['https://raw.githubusercontent.com/itsfoss/text-files/master/agtha.txt', 'https://raw.githubusercontent.com/itsfoss/text-files/master/sherlock.txt', 'https://raw.githubusercontent.com/itsfoss/text-files/master/sample_log_file']"
   ]
  },
  {
   "cell_type": "code",
   "execution_count": 17,
   "id": "de7d8e80-cfb6-473b-9851-20582ba287d6",
   "metadata": {},
   "outputs": [
    {
     "data": {
      "text/plain": [
       "['https://raw.githubusercontent.com/itsfoss/text-files/master/agtha.txt',\n",
       " 'https://raw.githubusercontent.com/itsfoss/text-files/master/sherlock.txt',\n",
       " 'https://raw.githubusercontent.com/itsfoss/text-files/master/sample_log_file']"
      ]
     },
     "execution_count": 17,
     "metadata": {},
     "output_type": "execute_result"
    }
   ],
   "source": [
    "url_list"
   ]
  },
  {
   "cell_type": "code",
   "execution_count": 18,
   "id": "07ed0168-1eed-41da-a151-3ac3a8897a73",
   "metadata": {},
   "outputs": [],
   "source": [
    "file_name_list = ['data1.txt','data2.txt','data3.txt']"
   ]
  },
  {
   "cell_type": "code",
   "execution_count": 22,
   "id": "cdcd04ad-c909-47fd-bab9-4395a543c7ce",
   "metadata": {},
   "outputs": [],
   "source": [
    "ther = [threading.Thread(target=file_download, args = (url_list[i], file_name_list[i])) for i in range(len(url_list))]"
   ]
  },
  {
   "cell_type": "code",
   "execution_count": 23,
   "id": "ffcc0f45-23c0-4e3a-8894-87915ca65408",
   "metadata": {},
   "outputs": [
    {
     "data": {
      "text/plain": [
       "[<Thread(Thread-15 (file_download), initial)>,\n",
       " <Thread(Thread-16 (file_download), initial)>,\n",
       " <Thread(Thread-17 (file_download), initial)>]"
      ]
     },
     "execution_count": 23,
     "metadata": {},
     "output_type": "execute_result"
    }
   ],
   "source": [
    "ther"
   ]
  },
  {
   "cell_type": "code",
   "execution_count": 25,
   "id": "be09d60b-8220-4fa2-b7b2-466ad6f1ca61",
   "metadata": {},
   "outputs": [
    {
     "name": "stdout",
     "output_type": "stream",
     "text": [
      "threads can only be started once\n"
     ]
    }
   ],
   "source": [
    "try :\n",
    "    \n",
    "    for t in ther :\n",
    "        t.start()\n",
    "except Exception as e :\n",
    "    print(e)"
   ]
  },
  {
   "cell_type": "code",
   "execution_count": null,
   "id": "dfc4bae6-78f0-4ac0-9e88-4a9103a837dd",
   "metadata": {},
   "outputs": [],
   "source": []
  },
  {
   "cell_type": "code",
   "execution_count": 26,
   "id": "5a9ad0e6-5d4f-4572-82df-b85013b17179",
   "metadata": {},
   "outputs": [],
   "source": [
    "# different example"
   ]
  },
  {
   "cell_type": "code",
   "execution_count": 27,
   "id": "c017af07-6f39-4e92-89c4-f28c2d1c80ff",
   "metadata": {},
   "outputs": [],
   "source": [
    "import time"
   ]
  },
  {
   "cell_type": "code",
   "execution_count": 29,
   "id": "4d3f8e9b-dbb4-4e1d-8620-324d136f6845",
   "metadata": {},
   "outputs": [],
   "source": [
    "def test_001(id) :\n",
    "    for i in range(10) :\n",
    "        print(\"test_001 %d printing %d\" %(id, i) )\n",
    "        time.sleep(1)"
   ]
  },
  {
   "cell_type": "code",
   "execution_count": 30,
   "id": "3cf52459-6ba0-4316-bf8a-99050a9b095e",
   "metadata": {},
   "outputs": [
    {
     "name": "stdout",
     "output_type": "stream",
     "text": [
      "test_001 1 printing 0\n",
      "test_001 1 printing 1\n",
      "test_001 1 printing 2\n",
      "test_001 1 printing 3\n",
      "test_001 1 printing 4\n",
      "test_001 1 printing 5\n",
      "test_001 1 printing 6\n",
      "test_001 1 printing 7\n",
      "test_001 1 printing 8\n",
      "test_001 1 printing 9\n"
     ]
    }
   ],
   "source": [
    "test_001(1)"
   ]
  },
  {
   "cell_type": "code",
   "execution_count": 31,
   "id": "5bfff7bb-e487-4af9-877d-5d6929a5b988",
   "metadata": {},
   "outputs": [],
   "source": [
    "# printing the same program for multiple threading "
   ]
  },
  {
   "cell_type": "code",
   "execution_count": 32,
   "id": "4062ef59-06ef-4cd0-877c-6bc43d0f2f5b",
   "metadata": {},
   "outputs": [],
   "source": [
    "thread1 = [threading.Thread(target= test_001, args= (i,)) for i in range(3)]"
   ]
  },
  {
   "cell_type": "code",
   "execution_count": 33,
   "id": "1c48da64-0ade-40bf-b0ba-9d542293966e",
   "metadata": {},
   "outputs": [
    {
     "name": "stdout",
     "output_type": "stream",
     "text": [
      "test_001 0 printing 0\n",
      "test_001 1 printing 0\n",
      "test_001 2 printing 0\n",
      "test_001 0 printing 1\n",
      "test_001 2 printing 1\n",
      "test_001 1 printing 1\n",
      "test_001 0 printing 2\n",
      "test_001 2 printing 2\n",
      "test_001 1 printing 2\n",
      "test_001 0 printing 3\n",
      "test_001 2 printing 3\n",
      "test_001 1 printing 3\n",
      "test_001 0 printing 4\n",
      "test_001 2 printing 4\n",
      "test_001 1 printing 4\n",
      "test_001 0 printing 5test_001 2 printing 5\n",
      "\n",
      "test_001 1 printing 5\n",
      "test_001 2 printing 6\n",
      "test_001 0 printing 6\n",
      "test_001 1 printing 6\n",
      "test_001 2 printing 7test_001 0 printing 7\n",
      "\n",
      "test_001 1 printing 7\n",
      "test_001 0 printing 8test_001 2 printing 8\n",
      "\n",
      "test_001 1 printing 8\n",
      "test_001 1 printing 9\n",
      "test_001 0 printing 9\n",
      "test_001 2 printing 9\n"
     ]
    }
   ],
   "source": [
    "for t in thread1 :\n",
    "    t.start()"
   ]
  },
  {
   "cell_type": "code",
   "execution_count": 34,
   "id": "9cb0be6e-46c4-4dc3-91b4-f6f17df103ea",
   "metadata": {},
   "outputs": [],
   "source": [
    "# if we put the sleep mode off then diffrent output executed"
   ]
  },
  {
   "cell_type": "code",
   "execution_count": 35,
   "id": "a4ad87f6-90ea-443f-8df3-b08af2c718ed",
   "metadata": {},
   "outputs": [],
   "source": [
    "def test_002(id) :\n",
    "    for i in range(10) :\n",
    "        print(\"test_001 %d printing %d\" %(id, i) )\n",
    "        #time.sleep(1)"
   ]
  },
  {
   "cell_type": "code",
   "execution_count": 36,
   "id": "14730b2d-c598-422b-8421-e643cbd2e64e",
   "metadata": {},
   "outputs": [
    {
     "name": "stdout",
     "output_type": "stream",
     "text": [
      "test_001 1 printing 0\n",
      "test_001 1 printing 1\n",
      "test_001 1 printing 2\n",
      "test_001 1 printing 3\n",
      "test_001 1 printing 4\n",
      "test_001 1 printing 5\n",
      "test_001 1 printing 6\n",
      "test_001 1 printing 7\n",
      "test_001 1 printing 8\n",
      "test_001 1 printing 9\n"
     ]
    }
   ],
   "source": [
    "test_002(1)"
   ]
  },
  {
   "cell_type": "code",
   "execution_count": 37,
   "id": "98ae21e4-4985-4d89-9840-341ad0bac8ea",
   "metadata": {},
   "outputs": [],
   "source": [
    "thread2 = [threading.Thread(target= test_002, args= (i,)) for i in range(3)]"
   ]
  },
  {
   "cell_type": "code",
   "execution_count": 38,
   "id": "9e17d557-c157-47fc-a943-16c94358bbab",
   "metadata": {},
   "outputs": [
    {
     "name": "stdout",
     "output_type": "stream",
     "text": [
      "test_001 0 printing 0\n",
      "test_001 0 printing 1\n",
      "test_001 0 printing 2\n",
      "test_001 0 printing 3\n",
      "test_001 0 printing 4\n",
      "test_001 0 printing 5\n",
      "test_001 0 printing 6\n",
      "test_001 0 printing 7\n",
      "test_001 0 printing 8\n",
      "test_001 0 printing 9\n",
      "test_001 1 printing 0\n",
      "test_001 1 printing 1\n",
      "test_001 1 printing 2\n",
      "test_001 1 printing 3\n",
      "test_001 1 printing 4\n",
      "test_001 1 printing 5\n",
      "test_001 1 printing 6\n",
      "test_001 1 printing 7\n",
      "test_001 1 printing 8\n",
      "test_001 1 printing 9\n",
      "test_001 2 printing 0\n",
      "test_001 2 printing 1\n",
      "test_001 2 printing 2\n",
      "test_001 2 printing 3\n",
      "test_001 2 printing 4\n",
      "test_001 2 printing 5\n",
      "test_001 2 printing 6\n",
      "test_001 2 printing 7\n",
      "test_001 2 printing 8\n",
      "test_001 2 printing 9\n"
     ]
    }
   ],
   "source": [
    "for t in thread2 :\n",
    "    t.start()"
   ]
  },
  {
   "cell_type": "code",
   "execution_count": 39,
   "id": "228dcd14-166f-4a41-88cf-633652dd5584",
   "metadata": {},
   "outputs": [],
   "source": [
    "#  using timestamp"
   ]
  },
  {
   "cell_type": "code",
   "execution_count": 40,
   "id": "642370f8-ef1a-4e37-b3e9-23cb37e2b327",
   "metadata": {},
   "outputs": [],
   "source": [
    "def test_001(id) :\n",
    "    for i in range(10) :\n",
    "        print(\"test_001 %d printing %d %s\" %(id, i, time.ctime()) )\n",
    "        time.sleep(1)"
   ]
  },
  {
   "cell_type": "code",
   "execution_count": 41,
   "id": "b82a60b4-f2ab-4258-b99f-b5c33be4d62b",
   "metadata": {},
   "outputs": [
    {
     "name": "stdout",
     "output_type": "stream",
     "text": [
      "test_001 1 printing 0 Tue Dec 26 08:04:38 2023\n",
      "test_001 1 printing 1 Tue Dec 26 08:04:39 2023\n",
      "test_001 1 printing 2 Tue Dec 26 08:04:40 2023\n",
      "test_001 1 printing 3 Tue Dec 26 08:04:41 2023\n",
      "test_001 1 printing 4 Tue Dec 26 08:04:42 2023\n",
      "test_001 1 printing 5 Tue Dec 26 08:04:43 2023\n",
      "test_001 1 printing 6 Tue Dec 26 08:04:44 2023\n",
      "test_001 1 printing 7 Tue Dec 26 08:04:45 2023\n",
      "test_001 1 printing 8 Tue Dec 26 08:04:46 2023\n",
      "test_001 1 printing 9 Tue Dec 26 08:04:47 2023\n"
     ]
    }
   ],
   "source": [
    "test_001(1)"
   ]
  },
  {
   "cell_type": "code",
   "execution_count": 42,
   "id": "e8b46d9f-0100-461a-b964-a09bc96c88d9",
   "metadata": {},
   "outputs": [],
   "source": [
    "thread1 = [threading.Thread(target= test_001, args= (i,)) for i in range(3)]"
   ]
  },
  {
   "cell_type": "code",
   "execution_count": 43,
   "id": "62cef648-8b30-4603-bf0a-e1a6da366720",
   "metadata": {},
   "outputs": [
    {
     "name": "stdout",
     "output_type": "stream",
     "text": [
      "test_001 0 printing 0 Tue Dec 26 08:05:20 2023\n",
      "test_001 1 printing 0 Tue Dec 26 08:05:20 2023\n",
      "test_001 2 printing 0 Tue Dec 26 08:05:20 2023\n",
      "test_001 1 printing 1 Tue Dec 26 08:05:21 2023\n",
      "test_001 2 printing 1 Tue Dec 26 08:05:21 2023\n",
      "test_001 0 printing 1 Tue Dec 26 08:05:21 2023\n",
      "test_001 1 printing 2 Tue Dec 26 08:05:22 2023test_001 2 printing 2 Tue Dec 26 08:05:22 2023\n",
      "test_001 0 printing 2 Tue Dec 26 08:05:22 2023\n",
      "\n",
      "test_001 2 printing 3 Tue Dec 26 08:05:23 2023\n",
      "test_001 1 printing 3 Tue Dec 26 08:05:23 2023\n",
      "test_001 0 printing 3 Tue Dec 26 08:05:23 2023\n",
      "test_001 2 printing 4 Tue Dec 26 08:05:24 2023\n",
      "test_001 1 printing 4 Tue Dec 26 08:05:24 2023\n",
      "test_001 0 printing 4 Tue Dec 26 08:05:24 2023\n",
      "test_001 2 printing 5 Tue Dec 26 08:05:25 2023\n",
      "test_001 1 printing 5 Tue Dec 26 08:05:25 2023\n",
      "test_001 0 printing 5 Tue Dec 26 08:05:25 2023\n",
      "test_001 0 printing 6 Tue Dec 26 08:05:26 2023test_001 2 printing 6 Tue Dec 26 08:05:26 2023\n",
      "\n",
      "test_001 1 printing 6 Tue Dec 26 08:05:26 2023\n",
      "test_001 2 printing 7 Tue Dec 26 08:05:27 2023\n",
      "test_001 0 printing 7 Tue Dec 26 08:05:27 2023\n",
      "test_001 1 printing 7 Tue Dec 26 08:05:27 2023\n",
      "test_001 2 printing 8 Tue Dec 26 08:05:28 2023\n",
      "test_001 0 printing 8 Tue Dec 26 08:05:28 2023\n",
      "test_001 1 printing 8 Tue Dec 26 08:05:28 2023\n",
      "test_001 2 printing 9 Tue Dec 26 08:05:29 2023\n",
      "test_001 0 printing 9 Tue Dec 26 08:05:29 2023\n",
      "test_001 1 printing 9 Tue Dec 26 08:05:29 2023\n"
     ]
    }
   ],
   "source": [
    "for t in thread1 :\n",
    "    t.start()"
   ]
  },
  {
   "cell_type": "code",
   "execution_count": null,
   "id": "04d31702-71be-4897-9b09-fe689f811d9d",
   "metadata": {},
   "outputs": [],
   "source": []
  },
  {
   "cell_type": "code",
   "execution_count": 44,
   "id": "97bb1d21-143d-4f52-8faf-78578a31ca4f",
   "metadata": {},
   "outputs": [],
   "source": [
    "# writing a program for shared resources but program running multiple times"
   ]
  },
  {
   "cell_type": "code",
   "execution_count": 45,
   "id": "6fb6b13c-a3c4-4961-ae20-26f7670bded3",
   "metadata": {},
   "outputs": [],
   "source": [
    "shared_var = 0\n",
    "lock_var = threading.Lock()"
   ]
  },
  {
   "cell_type": "code",
   "execution_count": 51,
   "id": "de1c0e01-8ab1-4e45-95bc-c6021a755304",
   "metadata": {},
   "outputs": [],
   "source": [
    "def test_00_2(id) :\n",
    "    global shared_var\n",
    "    with lock_var :\n",
    "        shared_var = shared_var + 1\n",
    "        print(\"test_00_2 id is %d  has increased the shared variable by %d\" %(id, shared_var))\n",
    "        time.sleep(1)"
   ]
  },
  {
   "cell_type": "code",
   "execution_count": 52,
   "id": "6661a993-4112-42f2-ab51-74a58542ad88",
   "metadata": {},
   "outputs": [
    {
     "name": "stdout",
     "output_type": "stream",
     "text": [
      "test_00_2 id is 0  has increased the shared variable by 4\n",
      "test_00_2 id is 1  has increased the shared variable by 5\n",
      "test_00_2 id is 2  has increased the shared variable by 6\n"
     ]
    }
   ],
   "source": [
    "ther3 = [threading.Thread(target= test_00_2, args= (i,)) for i in range(3)]\n",
    "for t in ther3 :\n",
    "    t.start()"
   ]
  },
  {
   "cell_type": "code",
   "execution_count": 49,
   "id": "23b53f3e-6977-498f-9da5-ab2ed4b65aa0",
   "metadata": {},
   "outputs": [
    {
     "data": {
      "text/plain": [
       "[<Thread(Thread-27 (test_00_2), initial)>,\n",
       " <Thread(Thread-28 (test_00_2), initial)>,\n",
       " <Thread(Thread-29 (test_00_2), initial)>]"
      ]
     },
     "execution_count": 49,
     "metadata": {},
     "output_type": "execute_result"
    }
   ],
   "source": [
    "ther3"
   ]
  },
  {
   "cell_type": "code",
   "execution_count": null,
   "id": "296c5b2f-9c02-4774-9264-c8747f497be7",
   "metadata": {},
   "outputs": [],
   "source": []
  }
 ],
 "metadata": {
  "kernelspec": {
   "display_name": "Python 3 (ipykernel)",
   "language": "python",
   "name": "python3"
  },
  "language_info": {
   "codemirror_mode": {
    "name": "ipython",
    "version": 3
   },
   "file_extension": ".py",
   "mimetype": "text/x-python",
   "name": "python",
   "nbconvert_exporter": "python",
   "pygments_lexer": "ipython3",
   "version": "3.10.8"
  }
 },
 "nbformat": 4,
 "nbformat_minor": 5
}
