{
 "cells": [
  {
   "cell_type": "markdown",
   "id": "c66dfbc7-9426-470c-ae46-a8fe83ae2d8f",
   "metadata": {},
   "source": [
    "# CONTROL FLOW"
   ]
  },
  {
   "cell_type": "markdown",
   "id": "66e91867-b1c7-4535-be53-2bcb9f2b0a09",
   "metadata": {},
   "source": [
    "# ASSIGNMENT QUESTION"
   ]
  },
  {
   "cell_type": "markdown",
   "id": "066f58f3-7fcd-4381-8896-c66edeece300",
   "metadata": {},
   "source": [
    "BASIC IF ELSE STATEMENTS"
   ]
  },
  {
   "cell_type": "markdown",
   "id": "b8dd5aa9-443c-4557-bf73-2a8958aa22ba",
   "metadata": {},
   "source": [
    "# Question 1"
   ]
  },
  {
   "cell_type": "markdown",
   "id": "401e5a3a-a465-4636-babe-045e039ad917",
   "metadata": {},
   "source": [
    "Write a Python program to check if a given number is positive or negative"
   ]
  },
  {
   "cell_type": "code",
   "execution_count": 1,
   "id": "dc2d44db-1a63-4d87-920e-891beeb084c6",
   "metadata": {},
   "outputs": [
    {
     "name": "stdin",
     "output_type": "stream",
     "text": [
      "Enter a positive or negative number:  6\n"
     ]
    },
    {
     "name": "stdout",
     "output_type": "stream",
     "text": [
      "The number 6 is a positive number\n"
     ]
    }
   ],
   "source": [
    "# first we need to take a user input for this case\n",
    "\n",
    "\n",
    "try :\n",
    "    n = int(input(\"Enter a positive or negative number: \"))\n",
    "    \n",
    "    # implementing if-else statement\n",
    "    if n <= 0 :\n",
    "        print(f\"The number {n} is a negative number\")\n",
    "    else :\n",
    "        print(f\"The number {n} is a positive number\")\n",
    "except ValueError as v :\n",
    "    print(v)"
   ]
  },
  {
   "cell_type": "code",
   "execution_count": null,
   "id": "16d360f3-4956-4e90-b3ad-cc35b445a540",
   "metadata": {},
   "outputs": [],
   "source": []
  },
  {
   "cell_type": "markdown",
   "id": "a86e0c87-ab10-47ad-8bbd-47fe1138156f",
   "metadata": {},
   "source": [
    "# Question 2"
   ]
  },
  {
   "cell_type": "markdown",
   "id": "9c8ba242-34a3-49f3-82cf-b8f6d24072d2",
   "metadata": {},
   "source": [
    "Create a program that determines if a person is eligible to vote based on their age"
   ]
  },
  {
   "cell_type": "code",
   "execution_count": 2,
   "id": "48e9859e-56cb-43fc-b955-4e150f3e45e3",
   "metadata": {},
   "outputs": [
    {
     "name": "stdin",
     "output_type": "stream",
     "text": [
      "Enter your age:  20\n"
     ]
    },
    {
     "name": "stdout",
     "output_type": "stream",
     "text": [
      "Congratulations! You are eligible for voting\n"
     ]
    }
   ],
   "source": [
    "# First we need to take user input for the age\n",
    "try :\n",
    "    age = int(input(\"Enter your age: \"))\n",
    "    \n",
    "    # implementing if else statement in this scenario\n",
    "    if age < 0 :\n",
    "        print(\"Age can not be a negative value\") # because age can not be a negative for any person. that is invalid\n",
    "    elif age < 18 :\n",
    "        print(\"You are not eligible for voting\") # as per Indian Constitution, age below 18 are not eligible for voting\n",
    "    else :\n",
    "        print(\"Congratulations! You are eligible for voting\")\n",
    "        \n",
    "except Exception as e :\n",
    "    print(e) # for getting any decimal value or any error in input getting from the user"
   ]
  },
  {
   "cell_type": "code",
   "execution_count": null,
   "id": "765176ed-6068-48a2-820a-f1715e07411d",
   "metadata": {},
   "outputs": [],
   "source": []
  },
  {
   "cell_type": "markdown",
   "id": "f83a10d9-7ac0-43c6-9b50-6b7be5d9b556",
   "metadata": {},
   "source": [
    "# Question 3"
   ]
  },
  {
   "cell_type": "markdown",
   "id": "682be014-a53d-4b02-a25d-d99b4a681ef9",
   "metadata": {},
   "source": [
    "Develop a program to find the maximum of two numbers using if-else statements"
   ]
  },
  {
   "cell_type": "code",
   "execution_count": 3,
   "id": "4633ea21-6890-44e4-9418-c0c6aa7d633a",
   "metadata": {},
   "outputs": [
    {
     "name": "stdin",
     "output_type": "stream",
     "text": [
      "Enter First Number:  3\n",
      "Enter Second Number:  4\n"
     ]
    },
    {
     "name": "stdout",
     "output_type": "stream",
     "text": [
      "second number 4 is greater than first number 3\n"
     ]
    }
   ],
   "source": [
    "\n",
    "try :\n",
    "    # taking user input from the user \n",
    "    a = int(input(\"Enter First Number: \"))\n",
    "    b = int(input(\"Enter Second Number: \"))\n",
    "\n",
    "    # implementing if else statement for finding the maximum value between two numbers\n",
    "    if a == b :\n",
    "        print(\"both variable has same value\")\n",
    "    elif a > b :\n",
    "        print(f\"first number {a} is greater than second number {b}\")\n",
    "    else :\n",
    "        print(f\"second number {b} is greater than first number {a}\")\n",
    "except ValueError as v :\n",
    "    print(v)"
   ]
  },
  {
   "cell_type": "code",
   "execution_count": null,
   "id": "e1af78f8-036f-41ad-9aae-30077a756931",
   "metadata": {},
   "outputs": [],
   "source": []
  },
  {
   "cell_type": "markdown",
   "id": "0029ce01-7d1e-4f61-9015-dd6078966a04",
   "metadata": {},
   "source": [
    "# Question 4"
   ]
  },
  {
   "cell_type": "markdown",
   "id": "90799f4e-1a7e-4900-b384-73b22ef3ae78",
   "metadata": {},
   "source": [
    "Write a Python script to classify a given year as a leap year or not"
   ]
  },
  {
   "cell_type": "code",
   "execution_count": 4,
   "id": "8bbfe05d-83b8-45b2-983c-cb35dd2fc3d4",
   "metadata": {},
   "outputs": [
    {
     "name": "stdin",
     "output_type": "stream",
     "text": [
      "Enter the year you want to know is leap year or not:  2015\n"
     ]
    },
    {
     "name": "stdout",
     "output_type": "stream",
     "text": [
      "The year 2015 is not leap year\n"
     ]
    }
   ],
   "source": [
    "try :\n",
    "    # taking input from user for year\n",
    "    year = int(input(\"Enter the year you want to know is leap year or not: \"))\n",
    "\n",
    "    #implementing if-else statement determining leap year\n",
    "    if year < 0 :\n",
    "        print(\"Year cannot be a negative value\")\n",
    "    elif year % 4 == 0 :\n",
    "        print(f\"The year {year} is a leap year\")\n",
    "    else :\n",
    "        print(f\"The year {year} is not leap year\")\n",
    "        \n",
    "except Exception as e :\n",
    "    print(e)"
   ]
  },
  {
   "cell_type": "code",
   "execution_count": null,
   "id": "438c5a85-aa78-474d-b1f9-6b4672f287f3",
   "metadata": {},
   "outputs": [],
   "source": []
  },
  {
   "cell_type": "markdown",
   "id": "13149761-902e-41fd-893d-04e320a5a8bd",
   "metadata": {},
   "source": [
    "# Question 5"
   ]
  },
  {
   "cell_type": "markdown",
   "id": "b5ce68ef-2b93-406a-bf63-d557d88e21e9",
   "metadata": {},
   "source": [
    "Create a program that checks whether a character is a vowel or a consonant"
   ]
  },
  {
   "cell_type": "code",
   "execution_count": 5,
   "id": "93d5a35d-5859-481d-8a51-9fc04ebaf1d7",
   "metadata": {},
   "outputs": [
    {
     "name": "stdin",
     "output_type": "stream",
     "text": [
      "please enter a character between 'a' to 'z':  e\n"
     ]
    },
    {
     "name": "stdout",
     "output_type": "stream",
     "text": [
      "the character e is vowel\n"
     ]
    }
   ],
   "source": [
    "try :\n",
    "    vowel = \"AEIOUaeiou\"\n",
    "\n",
    "    char = input(\"please enter a character between 'a' to 'z': \")\n",
    "\n",
    "    if char in vowel :\n",
    "        print(f\"the character {char} is vowel\")\n",
    "\n",
    "    else :\n",
    "        print(f\"the character {char} is consonant\")\n",
    "        \n",
    "except Exception as e :\n",
    "    print(e)"
   ]
  },
  {
   "cell_type": "code",
   "execution_count": null,
   "id": "12ff6373-84c4-4e6f-95bc-20803dff06a4",
   "metadata": {},
   "outputs": [],
   "source": []
  },
  {
   "cell_type": "markdown",
   "id": "30d06836-2e56-4cdc-bd11-898541d9f251",
   "metadata": {},
   "source": [
    "# Question 6"
   ]
  },
  {
   "cell_type": "markdown",
   "id": "68137a0a-c96c-4a16-8729-e1959c222bd9",
   "metadata": {},
   "source": [
    "Implement a program to determine whether a given number is even or odd"
   ]
  },
  {
   "cell_type": "code",
   "execution_count": 6,
   "id": "c197ed5f-a465-490b-915d-a8844ac56056",
   "metadata": {},
   "outputs": [
    {
     "name": "stdin",
     "output_type": "stream",
     "text": [
      "enter a number : 7\n"
     ]
    },
    {
     "name": "stdout",
     "output_type": "stream",
     "text": [
      "the number 7 is odd\n"
     ]
    }
   ],
   "source": [
    "try :\n",
    "    # taking input from user\n",
    "    a = int(input(\"enter a number :\"))\n",
    "\n",
    "# Implementing if-else statement\n",
    "\n",
    "    if a % 2 == 0 :\n",
    "        print(f\"the number {a} is even\")\n",
    "    else :\n",
    "        print(f\"the number {a} is odd\")\n",
    "        \n",
    "except ValueError as v :\n",
    "    print(v)"
   ]
  },
  {
   "cell_type": "code",
   "execution_count": null,
   "id": "e50ee8bd-a782-4291-9a05-1580e65511e7",
   "metadata": {},
   "outputs": [],
   "source": []
  },
  {
   "cell_type": "markdown",
   "id": "bb74366b-0bfd-4be8-b330-e1ca55c577be",
   "metadata": {},
   "source": [
    "# Question 7"
   ]
  },
  {
   "cell_type": "markdown",
   "id": "5c4765d1-3e32-46de-b06c-a8ade06ee1a2",
   "metadata": {},
   "source": [
    "Write a Python function to calculate the absolute value of a number without using the `abs()` function"
   ]
  },
  {
   "cell_type": "code",
   "execution_count": 7,
   "id": "61385b46-9c7b-4b5e-a104-f5ef1958b733",
   "metadata": {},
   "outputs": [
    {
     "name": "stdin",
     "output_type": "stream",
     "text": [
      "enter a number: 44\n"
     ]
    },
    {
     "name": "stdout",
     "output_type": "stream",
     "text": [
      "44\n"
     ]
    }
   ],
   "source": [
    "try :\n",
    "    # taking input from the user\n",
    "\n",
    "    number = int(input(\"enter a number:\"))\n",
    "\n",
    "    # implementing if-else statement\n",
    "\n",
    "    if number < 0 :\n",
    "        print(number * -1)\n",
    "    else :\n",
    "        print(number)\n",
    "        \n",
    "except Exception as e :\n",
    "    print(e)"
   ]
  },
  {
   "cell_type": "code",
   "execution_count": null,
   "id": "16f5210c-74c9-4166-a50b-5fdeaa54ab1e",
   "metadata": {},
   "outputs": [],
   "source": []
  },
  {
   "cell_type": "markdown",
   "id": "d0f63cec-5327-4d7b-b06d-7f8f31061fe1",
   "metadata": {},
   "source": [
    "# Question 8"
   ]
  },
  {
   "cell_type": "markdown",
   "id": "78444a69-bd35-4969-b1dd-a4081e1fbdff",
   "metadata": {},
   "source": [
    "Develop a program that determines the largest of three given numbers using if-else statements"
   ]
  },
  {
   "cell_type": "code",
   "execution_count": 8,
   "id": "daddda0d-6fc7-428b-bc04-b03ff73655a7",
   "metadata": {},
   "outputs": [
    {
     "name": "stdin",
     "output_type": "stream",
     "text": [
      "enter first number:  3\n",
      "enter second number:  4\n",
      "enter third number:  5\n"
     ]
    },
    {
     "name": "stdout",
     "output_type": "stream",
     "text": [
      "the largest value among the three number is : 5.0\n"
     ]
    }
   ],
   "source": [
    "try :\n",
    "    # taking input from the user\n",
    "\n",
    "    a = float(input(\"enter first number: \"))\n",
    "    b = float(input(\"enter second number: \"))\n",
    "    c = float(input(\"enter third number: \"))\n",
    "\n",
    "    # implementing if-else statement\n",
    "\n",
    "    if (a >= b) and (a >= c) :\n",
    "        largest = a\n",
    "\n",
    "    elif (b >= a) and (b >= c) :\n",
    "        largest = b\n",
    "\n",
    "    else :\n",
    "        largest = c\n",
    "\n",
    "    # printing the largest value\n",
    "    print(f\"the largest value among the three number is : {largest}\")\n",
    "    \n",
    "except ValueError as v :\n",
    "    print(v)"
   ]
  },
  {
   "cell_type": "code",
   "execution_count": null,
   "id": "b8e7dae0-0178-4820-a9b3-04010d03a8d4",
   "metadata": {},
   "outputs": [],
   "source": []
  },
  {
   "cell_type": "markdown",
   "id": "9ec373c4-73e7-4a69-b05b-8dbab7db1f6a",
   "metadata": {},
   "source": [
    "# Question 9"
   ]
  },
  {
   "cell_type": "markdown",
   "id": "b3d66f72-d78d-4b3e-bd99-0c8e4c816a3b",
   "metadata": {},
   "source": [
    "Create a program that checks if a given string is a palindrome"
   ]
  },
  {
   "cell_type": "code",
   "execution_count": 9,
   "id": "3bfed25a-a61d-4336-8408-baa2ea16d81f",
   "metadata": {},
   "outputs": [
    {
     "name": "stdin",
     "output_type": "stream",
     "text": [
      "enter the string:  asd\n"
     ]
    },
    {
     "name": "stdout",
     "output_type": "stream",
     "text": [
      "the string 'asd' is not palindrome\n"
     ]
    }
   ],
   "source": [
    "try :\n",
    "    # taking input from the user\n",
    "\n",
    "    string = input(\"enter the string: \")\n",
    "\n",
    "    # inverting the order of the string\n",
    "\n",
    "    string2 = string[::-1]\n",
    "\n",
    "    # using if-else statement in this case\n",
    "\n",
    "    if string2 == string :\n",
    "        print(f\"the string '{string}' is a palindrome\")\n",
    "    else :\n",
    "        print(f\"the string '{string}' is not palindrome\")\n",
    "        \n",
    "except Exception as e :\n",
    "    print(e)"
   ]
  },
  {
   "cell_type": "code",
   "execution_count": null,
   "id": "7e9eb31d-7ca7-403c-9a3d-2e8c2ad4409a",
   "metadata": {},
   "outputs": [],
   "source": []
  },
  {
   "cell_type": "markdown",
   "id": "9c1024e6-df6a-4c82-bb76-9ab45a5fe1ba",
   "metadata": {},
   "source": [
    "# Question 10"
   ]
  },
  {
   "cell_type": "markdown",
   "id": "20e3ab02-b120-4b19-b4ae-1ef5e1f9e3bc",
   "metadata": {},
   "source": [
    "Write a Python program to calculate the grade based on a student's score"
   ]
  },
  {
   "cell_type": "code",
   "execution_count": 10,
   "id": "8d7ad3c3-9006-4b9e-8b13-1b108d02deb5",
   "metadata": {},
   "outputs": [
    {
     "name": "stdin",
     "output_type": "stream",
     "text": [
      "enter the grade of the student: 65\n"
     ]
    },
    {
     "name": "stdout",
     "output_type": "stream",
     "text": [
      "the grade of the student is D\n"
     ]
    }
   ],
   "source": [
    "try :\n",
    "    # in this scenario we have to take user input \n",
    "    grade = int(input(\"enter the grade of the student:\"))\n",
    "    \n",
    "    # implementing if else statement \n",
    "    if grade >= 90 :\n",
    "        grade_point = \"A\"\n",
    "    elif grade >= 80 :\n",
    "        grade_point = \"B\"\n",
    "    elif grade >= 70 :\n",
    "        grade_point = \"C\"\n",
    "    elif grade >= 60 :\n",
    "        grade_point = \"D\"\n",
    "    elif grade_point >= 50 :\n",
    "        grade_point = \"E\"\n",
    "    else :\n",
    "        grade_point = \"Fail\"\n",
    "        \n",
    "# printing the grade\n",
    "    print(f\"the grade of the student is {grade_point}\")\n",
    "\n",
    "except ValueError as v :\n",
    "    print(v)\n"
   ]
  },
  {
   "cell_type": "code",
   "execution_count": null,
   "id": "5500e290-fa37-4f74-829c-11db42708579",
   "metadata": {},
   "outputs": [],
   "source": []
  },
  {
   "cell_type": "markdown",
   "id": "eb3914a0-9809-4e6b-9940-7d764893dd83",
   "metadata": {},
   "source": [
    "Nested If-Else Statements"
   ]
  },
  {
   "cell_type": "code",
   "execution_count": null,
   "id": "a99890aa-599f-4695-b03f-528a0cc21b6b",
   "metadata": {},
   "outputs": [],
   "source": []
  },
  {
   "cell_type": "markdown",
   "id": "d68ed990-517e-470e-af9b-f6a71a1bd52b",
   "metadata": {},
   "source": [
    "# Question 11"
   ]
  },
  {
   "cell_type": "markdown",
   "id": "9937b864-bfe5-44bb-b36b-007b847c8033",
   "metadata": {},
   "source": [
    "Write a program to find the largest among three numbers using nested if-else statements"
   ]
  },
  {
   "cell_type": "code",
   "execution_count": 11,
   "id": "4db783bf-7c20-43da-8321-6bf41114d255",
   "metadata": {},
   "outputs": [
    {
     "name": "stdin",
     "output_type": "stream",
     "text": [
      "Enter First Number: 5\n",
      "Enter Second Number: 3\n",
      "Enter Third Number: 8\n"
     ]
    },
    {
     "name": "stdout",
     "output_type": "stream",
     "text": [
      "The Largest Number is 8.0\n"
     ]
    }
   ],
   "source": [
    "try :\n",
    "    # First we take input from the user\n",
    "\n",
    "    a = float(input(\"Enter First Number:\"))\n",
    "    b = float(input(\"Enter Second Number:\"))\n",
    "    c = float(input(\"Enter Third Number:\"))\n",
    "\n",
    "    # Implementing nested if else statement \n",
    "\n",
    "    if a >= b :\n",
    "        if a >= c :\n",
    "            largest = a\n",
    "        else :\n",
    "            largest = c\n",
    "    else :\n",
    "        if b >= c :\n",
    "            largest = b \n",
    "        else :\n",
    "            largest = c\n",
    "\n",
    "    # Printing the largest number\n",
    "    print(f\"The Largest Number is {largest}\")\n",
    "    \n",
    "except Exception as e :\n",
    "    print(e)"
   ]
  },
  {
   "cell_type": "code",
   "execution_count": null,
   "id": "6320b9b6-b562-4fe9-945f-251da2c985e8",
   "metadata": {},
   "outputs": [],
   "source": []
  },
  {
   "cell_type": "markdown",
   "id": "8259524b-0a5d-478c-a16c-6180d65e717c",
   "metadata": {},
   "source": [
    "# Question 12"
   ]
  },
  {
   "cell_type": "markdown",
   "id": "86d9c535-cfe6-4b5d-8122-7516b3ceb5bd",
   "metadata": {},
   "source": [
    "Implement a program to determine if a triangle is equilateral, isosceles, or scalene"
   ]
  },
  {
   "cell_type": "code",
   "execution_count": 12,
   "id": "b697abd0-04ae-43e7-a4c7-2e91bb13ce95",
   "metadata": {},
   "outputs": [
    {
     "name": "stdin",
     "output_type": "stream",
     "text": [
      "Enter the length of the side: 43\n",
      "Enter the length of the side: 23\n",
      "Enter the length of the side: 55\n"
     ]
    },
    {
     "name": "stdout",
     "output_type": "stream",
     "text": [
      "The Triangle Type Is : Scalane\n"
     ]
    }
   ],
   "source": [
    "try :\n",
    "    # We will take user input in this case\n",
    "\n",
    "    side1 = float(input(\"Enter the length of the side:\"))\n",
    "    side2 = float(input(\"Enter the length of the side:\"))\n",
    "    side3 = float(input(\"Enter the length of the side:\"))\n",
    "\n",
    "\n",
    "    # implementing nested if else statement in this case\n",
    "    # checking the triangle is valid or not\n",
    "    if side1 + side2 > side3 or side1 + side3 > side2 or side2 + side3 > side1 :\n",
    "        # checking the type of the triangle\n",
    "        if side1 == side2 == side3 :\n",
    "            triangle = \"Equilateral\"\n",
    "        elif side1 == side2 or side1 == side3 or side2 == side3 :\n",
    "            triangle = \"Isosceles\"\n",
    "        else :\n",
    "            triangle = \"Scalane\"\n",
    "\n",
    "        # Printing the result\n",
    "        print(f\"The Triangle Type Is : {triangle}\")\n",
    "\n",
    "    else :\n",
    "        print(\"The Triangle Is Not Valid\")\n",
    "        \n",
    "except Exception as e :\n",
    "    print(e)"
   ]
  },
  {
   "cell_type": "code",
   "execution_count": null,
   "id": "2214fbe9-48db-4ecd-b18f-e2d1efeac07e",
   "metadata": {},
   "outputs": [],
   "source": []
  },
  {
   "cell_type": "markdown",
   "id": "ec7cef43-ed0d-4489-88a3-91a95a1952e6",
   "metadata": {},
   "source": [
    "# Question 13"
   ]
  },
  {
   "cell_type": "markdown",
   "id": "eaff8946-b9cc-42e9-a81b-2b2ba1f46db2",
   "metadata": {},
   "source": [
    "Develop a program that checks if a year is a leap year and also if it is a century year"
   ]
  },
  {
   "cell_type": "code",
   "execution_count": 13,
   "id": "04bd0b82-e3f0-40c5-9381-8b6544c4e617",
   "metadata": {},
   "outputs": [
    {
     "name": "stdin",
     "output_type": "stream",
     "text": [
      "Enter the year:  2020\n"
     ]
    },
    {
     "name": "stdout",
     "output_type": "stream",
     "text": [
      "The year 2020 is a leap year but not a century year\n"
     ]
    }
   ],
   "source": [
    "try :\n",
    "    # Taking user input\n",
    "\n",
    "    year = int(input(\"Enter the year: \"))\n",
    "\n",
    "    # implementing nested if else statement\n",
    "\n",
    "    if (year % 4 == 0 and year % 100 != 0) or (year % 400 == 0) :\n",
    "        leap_year = True\n",
    "        if year % 100 == 0 :\n",
    "            century_year = True\n",
    "        else :\n",
    "            century_year = False\n",
    "\n",
    "    else :\n",
    "        leap_year = False\n",
    "        century_year = False\n",
    "\n",
    "    # Printing the result\n",
    "    # using if else statement in this scenario\n",
    "    if leap_year and century_year :\n",
    "        print(f\"The year {year} is a leap year and century year\")\n",
    "    elif leap_year :\n",
    "        print(f\"The year {year} is a leap year but not a century year\")\n",
    "    else :\n",
    "        print(f\"The year {year} is neither a leap year nor a century year\")\n",
    "        \n",
    "except Exception as e :\n",
    "    print(e)"
   ]
  },
  {
   "cell_type": "code",
   "execution_count": null,
   "id": "1c98bebb-9982-44df-a4a7-f65a3b383878",
   "metadata": {},
   "outputs": [],
   "source": []
  },
  {
   "cell_type": "markdown",
   "id": "14e86044-436b-4304-962a-c93211962fea",
   "metadata": {},
   "source": [
    "# Question 14"
   ]
  },
  {
   "cell_type": "markdown",
   "id": "415b6359-dde5-4ac3-9cd6-2e5dd7a359d5",
   "metadata": {},
   "source": [
    "Write a Python script to determine if a number is positive, negative, or zero"
   ]
  },
  {
   "cell_type": "code",
   "execution_count": 14,
   "id": "fbf94347-db32-43ff-a5a6-9bbde3f62bc5",
   "metadata": {},
   "outputs": [
    {
     "name": "stdin",
     "output_type": "stream",
     "text": [
      "Enter a number:  44\n"
     ]
    },
    {
     "name": "stdout",
     "output_type": "stream",
     "text": [
      "The number 44 is positive\n"
     ]
    }
   ],
   "source": [
    "try :\n",
    "    # taking user input\n",
    "\n",
    "    num = int(input(\"Enter a number: \"))\n",
    "\n",
    "    # using if else state,emt in this case\n",
    "\n",
    "    if num < 0 :\n",
    "        print(f\"The number {num} is negative\")\n",
    "    elif num > 0 :\n",
    "        print(f\"The number {num} is positive\")\n",
    "    else :\n",
    "        print(f\"The number is zero.\")\n",
    "        \n",
    "except Exception as e :\n",
    "    print(e)"
   ]
  },
  {
   "cell_type": "code",
   "execution_count": null,
   "id": "41c3a3b8-6222-40d6-a399-e3fbc6c7ea12",
   "metadata": {},
   "outputs": [],
   "source": []
  },
  {
   "cell_type": "markdown",
   "id": "6a365222-ed64-43f5-9ab4-ac0b7d00db56",
   "metadata": {},
   "source": [
    "# Question 15"
   ]
  },
  {
   "cell_type": "markdown",
   "id": "c188488d-670a-4287-81e6-0f2550b76a9e",
   "metadata": {},
   "source": [
    "Create a program to check if a person is a teenager (between 13 and 19 years old)"
   ]
  },
  {
   "cell_type": "code",
   "execution_count": 15,
   "id": "182a9ee1-5a51-4803-8030-6712bc2167f7",
   "metadata": {},
   "outputs": [
    {
     "name": "stdin",
     "output_type": "stream",
     "text": [
      "Enter age:  13\n"
     ]
    },
    {
     "name": "stdout",
     "output_type": "stream",
     "text": [
      "The person is a teenager\n"
     ]
    }
   ],
   "source": [
    "try :\n",
    "    # Taking user input \n",
    "    age = int(input(\"Enter age: \"))\n",
    "\n",
    "    # implementing if else statement\n",
    "    if age < 13 or age > 19 :\n",
    "        print(\"The person is not a teenager\")\n",
    "    else :\n",
    "        print(\"The person is a teenager\")\n",
    "except Exception as e :\n",
    "    print(e)"
   ]
  },
  {
   "cell_type": "code",
   "execution_count": null,
   "id": "505b83f9-5ef0-44ef-b511-e539b3c769ec",
   "metadata": {},
   "outputs": [],
   "source": []
  },
  {
   "cell_type": "markdown",
   "id": "5ee2904d-03ba-4bb2-a4cc-b9ca8d506c3c",
   "metadata": {},
   "source": [
    "# Question 16"
   ]
  },
  {
   "cell_type": "markdown",
   "id": "da52c2aa-9233-4af9-a101-3aeb7fdf4894",
   "metadata": {},
   "source": [
    "Develop a program that determines the type of angle based on its measure (acute, obtuse, or right)"
   ]
  },
  {
   "cell_type": "code",
   "execution_count": 16,
   "id": "8d69835e-443c-4b4b-9098-a173e13404c7",
   "metadata": {},
   "outputs": [
    {
     "name": "stdin",
     "output_type": "stream",
     "text": [
      "Enter angle: 30\n"
     ]
    },
    {
     "name": "stdout",
     "output_type": "stream",
     "text": [
      "The angle 30 is acute angle\n"
     ]
    }
   ],
   "source": [
    "# Taking input from the user\n",
    "\n",
    "angle = int(input(\"Enter angle:\"))\n",
    "\n",
    "#Implementing if else statement\n",
    "if angle < 90 :\n",
    "    print(f\"The angle {angle} is acute angle\")\n",
    "elif angle == 90 :\n",
    "    print(f\"The angle is a right angle\")\n",
    "else :\n",
    "    print(f\"The angle {angle} is obtuse angle\")"
   ]
  },
  {
   "cell_type": "code",
   "execution_count": null,
   "id": "438573ba-3f82-4e81-8cdd-6126a2da8521",
   "metadata": {},
   "outputs": [],
   "source": []
  },
  {
   "cell_type": "markdown",
   "id": "a2e51e75-a260-49fc-9bb5-d0d107b19ef5",
   "metadata": {},
   "source": [
    "# Question 17"
   ]
  },
  {
   "cell_type": "markdown",
   "id": "fa6e577d-7443-4654-95be-a574657e09dc",
   "metadata": {},
   "source": [
    "Write a Python program to calculate the roots of a quadratic equation"
   ]
  },
  {
   "cell_type": "code",
   "execution_count": null,
   "id": "3d67fc51-8f43-48bf-acd0-14fc1de3f396",
   "metadata": {},
   "outputs": [],
   "source": []
  },
  {
   "cell_type": "code",
   "execution_count": null,
   "id": "596a0bd3-d489-4f10-8b7e-042cb450f6b9",
   "metadata": {},
   "outputs": [],
   "source": []
  },
  {
   "cell_type": "markdown",
   "id": "9b932e42-e4ff-42ef-a8bd-4896869a74f5",
   "metadata": {},
   "source": [
    "# Question 18"
   ]
  },
  {
   "cell_type": "markdown",
   "id": "4e70fd67-0086-4b77-adf1-793707cc2bcd",
   "metadata": {},
   "source": [
    "Implement a program to determine the day of the week based on a user-provided number (1 for Monday, 2\n",
    "for Tuesday, etc.)"
   ]
  },
  {
   "cell_type": "code",
   "execution_count": 17,
   "id": "50867521-d6fe-4512-803e-86e65c4c9163",
   "metadata": {},
   "outputs": [
    {
     "name": "stdin",
     "output_type": "stream",
     "text": [
      "Enter number (ex. 1 for Sunday, 2 for Monday) 3\n"
     ]
    },
    {
     "name": "stdout",
     "output_type": "stream",
     "text": [
      "The day of the week is: Tuesday \n"
     ]
    }
   ],
   "source": [
    "try :\n",
    "    # We can use a function in this scenario\n",
    "\n",
    "    def day_of_the_week(day_num) :\n",
    "        day_of_week = [\"Sunday\", \"Monday\", \"Tuesday\", \"Wednesday\", \"Thursday\", \"Friday\", \"Saturday\"]\n",
    "        # Implementing if else statement in this case\n",
    "        if 1 <= day_num <= 7 :\n",
    "            return day_of_week[day_num - 1]\n",
    "        else :\n",
    "            return \"Invalid Number of day\"\n",
    "\n",
    "    # Testing the program\n",
    "    user_input = int(input(\"Enter number (ex. 1 for Sunday, 2 for Monday)\"))\n",
    "    day = day_of_the_week(user_input)\n",
    "    # printing the value\n",
    "    print(f\"The day of the week is: {day} \")\n",
    "    \n",
    "except Exception as e :\n",
    "    print(e)"
   ]
  },
  {
   "cell_type": "code",
   "execution_count": null,
   "id": "8c43704d-2a64-4a8f-a4c0-40bb8f3b5a41",
   "metadata": {},
   "outputs": [],
   "source": []
  },
  {
   "cell_type": "markdown",
   "id": "12313c5f-a96b-4207-acf7-02a9579911bc",
   "metadata": {},
   "source": [
    "# Question 19"
   ]
  },
  {
   "cell_type": "markdown",
   "id": "d841604d-dfb3-4517-ac87-eb618240bb32",
   "metadata": {},
   "source": [
    "Create a program that determines if a year is a leap year and also if it is evenly divisible by 400"
   ]
  },
  {
   "cell_type": "code",
   "execution_count": 18,
   "id": "367e2d77-44e1-45a9-a4c6-5a1926d9aa77",
   "metadata": {},
   "outputs": [
    {
     "name": "stdin",
     "output_type": "stream",
     "text": [
      "Enter Year:  3030\n"
     ]
    },
    {
     "name": "stdout",
     "output_type": "stream",
     "text": [
      "The year 3030 is not a leap year\n"
     ]
    }
   ],
   "source": [
    "try :\n",
    "    # taking user input from the user\n",
    "\n",
    "    year = int(input(\"Enter Year: \"))\n",
    "\n",
    "    # implementing nested if-else statement\n",
    "    if year % 4 == 0:\n",
    "        if year % 400 == 0 :\n",
    "            print(f\"The year {year} is a leap year and also divided by 400\")\n",
    "        else :\n",
    "            print(f\"The year {year} is a leap year but it is not divisible by 400\")\n",
    "    else :\n",
    "        print(f\"The year {year} is not a leap year\")\n",
    "    \n",
    "except ValueError as v :\n",
    "    print(v)"
   ]
  },
  {
   "cell_type": "code",
   "execution_count": null,
   "id": "3acdffb2-43ff-40c6-850b-00b5f32efba5",
   "metadata": {},
   "outputs": [],
   "source": []
  },
  {
   "cell_type": "markdown",
   "id": "d1a577f7-05f6-46de-9426-5f005df86c81",
   "metadata": {},
   "source": [
    "# Question 20"
   ]
  },
  {
   "cell_type": "markdown",
   "id": "cf912d50-03d7-417b-a654-a73a74eb6825",
   "metadata": {},
   "source": [
    "Develop a program that checks if a given number is prime or not using nested if-else statements"
   ]
  },
  {
   "cell_type": "code",
   "execution_count": 19,
   "id": "bef4e963-169f-43f9-bb2f-79a0cfcf4aa9",
   "metadata": {},
   "outputs": [
    {
     "name": "stdin",
     "output_type": "stream",
     "text": [
      "Enter a number: 34\n"
     ]
    },
    {
     "name": "stdout",
     "output_type": "stream",
     "text": [
      "The number 34 is not a prime number\n"
     ]
    }
   ],
   "source": [
    "try :\n",
    "    # Taking user input \n",
    "    number = int(input(\"Enter a number:\"))\n",
    "    \n",
    "    # implementing if-else statement\n",
    "    if number <= 1 :\n",
    "        print(f\"The number {number} is not a prime number\")\n",
    "    elif number == 2 :\n",
    "        print(f\"The number {number} is a prime number\")\n",
    "    else :\n",
    "        # implementing nested if-else statement here\n",
    "        for i in range(2,number) :\n",
    "            if number % i == 0 :\n",
    "                print(f\"The number {number} is not a prime number\")\n",
    "                break\n",
    "        else :\n",
    "            print(f\"The number {number} is a prime number\")\n",
    "                \n",
    "except ValueError as v :\n",
    "    print(v)"
   ]
  },
  {
   "cell_type": "code",
   "execution_count": null,
   "id": "ab7a8ef1-459c-4fad-b2c0-6c4f7864a856",
   "metadata": {},
   "outputs": [],
   "source": []
  },
  {
   "cell_type": "markdown",
   "id": "07c46af9-8ae6-4d84-a6bd-65d12407bad4",
   "metadata": {},
   "source": [
    "# Question 21"
   ]
  },
  {
   "cell_type": "markdown",
   "id": "09c19c6c-8670-4389-9515-8b0a7fee1f18",
   "metadata": {},
   "source": [
    "Write a Python program to assign grades based on different ranges of scores using elif statements"
   ]
  },
  {
   "cell_type": "code",
   "execution_count": 23,
   "id": "9fd7da14-0e0e-4681-bcef-9adc54b3d728",
   "metadata": {},
   "outputs": [
    {
     "name": "stdin",
     "output_type": "stream",
     "text": [
      "Enter the grade mark:  55\n"
     ]
    },
    {
     "name": "stdout",
     "output_type": "stream",
     "text": [
      "E\n"
     ]
    }
   ],
   "source": [
    "try:\n",
    "    # Taking user input from the user\n",
    "\n",
    "    grade = int(input(\"Enter the grade mark: \"))\n",
    "\n",
    "    # implementing elif statement\n",
    "    if 90 <= grade <= 100 :\n",
    "        print('A')\n",
    "    elif 80 <= grade <= 90 :\n",
    "        print('B')\n",
    "    elif 70 <= grade <= 80 :\n",
    "        print('C')\n",
    "    elif 60 <= grade <= 70 :\n",
    "        print('D')\n",
    "    elif 0 <= grade <= 60 :\n",
    "        print('E')\n",
    "    else :\n",
    "        print('Invalid Score')\n",
    "    \n",
    "except Exception as e :\n",
    "    print(e)"
   ]
  },
  {
   "cell_type": "code",
   "execution_count": null,
   "id": "1e8e0242-c456-4a0c-80d4-6625a1ceaf95",
   "metadata": {},
   "outputs": [],
   "source": []
  },
  {
   "cell_type": "markdown",
   "id": "c64af7de-24e1-4af5-bdaf-c411b5d1be80",
   "metadata": {},
   "source": [
    "# Question 22"
   ]
  },
  {
   "cell_type": "markdown",
   "id": "0d0541ef-5ff1-4233-8872-b5d83f782f4b",
   "metadata": {},
   "source": [
    "Implement a program to determine the type of a triangle based on its angles"
   ]
  },
  {
   "cell_type": "code",
   "execution_count": 26,
   "id": "ed98bce9-5187-4a46-8037-078c3fffc450",
   "metadata": {},
   "outputs": [
    {
     "name": "stdin",
     "output_type": "stream",
     "text": [
      "Enter first angle:  80\n",
      "Enter second angle:  50\n",
      "Enter first angle:  50\n"
     ]
    },
    {
     "name": "stdout",
     "output_type": "stream",
     "text": [
      "the triangle is acute angled\n"
     ]
    }
   ],
   "source": [
    "try :\n",
    "    angle_1 = int(input(\"Enter first angle: \"))\n",
    "    angle_2 = int(input(\"Enter second angle: \"))\n",
    "    angle_3 = int(input(\"Enter first angle: \"))\n",
    "    \n",
    "    # implementing if-else statement\n",
    "    # checking if the triangles are valid\n",
    "    if angle_1 + angle_2 + angle_3 == 180 and all(angle > 0 for angle in [angle_1, angle_2, angle_3]) :\n",
    "        # checking the triangle based on angles\n",
    "        if any (angle == 90 for angle in [angle_1, angle_2, angle_3]) :\n",
    "            print(\"The triangle is right angled\")\n",
    "        elif all(angle < 90 for angle in [angle_1, angle_2, angle_3]) :\n",
    "            print(\"the triangle is acute angled\")\n",
    "        else :\n",
    "            print(\"the triangle is obtuse angled\")\n",
    "    else :\n",
    "        print(\"invalid triangle\")\n",
    "        \n",
    "except Exception as e :\n",
    "    print(e)"
   ]
  },
  {
   "cell_type": "code",
   "execution_count": null,
   "id": "bf08732a-6e81-4fe7-a89b-e833ee573ba1",
   "metadata": {},
   "outputs": [],
   "source": []
  },
  {
   "cell_type": "markdown",
   "id": "7877ebe6-48ee-47f0-b7d4-ca2bd20621d9",
   "metadata": {},
   "source": [
    "# Question 23 "
   ]
  },
  {
   "cell_type": "markdown",
   "id": "897be562-8da3-4334-b5b7-1c8d452d1569",
   "metadata": {},
   "source": [
    "Develop a program to categorize a given person's BMI into underweight, normal, overweight, or obese using elif statements"
   ]
  },
  {
   "cell_type": "code",
   "execution_count": 29,
   "id": "8da56b98-818a-4d0f-83df-14cdd5fac9c0",
   "metadata": {},
   "outputs": [
    {
     "name": "stdin",
     "output_type": "stream",
     "text": [
      "enter your height:  55\n",
      "enter your weight:  55\n"
     ]
    },
    {
     "name": "stdout",
     "output_type": "stream",
     "text": [
      "your BMI is 0.02, and you are categorized as Underweight\n"
     ]
    }
   ],
   "source": [
    "try :\n",
    "    # getting height and weight as user input for calculating BMI\n",
    "    height = int(input(\"enter your height: \"))\n",
    "    weight = int(input(\"enter your weight: \"))\n",
    "    \n",
    "    # calculating BMI\n",
    "    bmi = weight / (height ** 2)\n",
    "    \n",
    "    #zcatagorizing BMI into underweight, normal, overweight\n",
    "    # using if-else statement\n",
    "    if bmi < 18.5 :\n",
    "        category = \"Underweight\"\n",
    "    elif 18.5 <= bmi <= 24.9 :\n",
    "        category = \"Normal weight\"\n",
    "    elif 25 <= bmi <=29.9 :\n",
    "        category = \"Overweight\"\n",
    "    else :\n",
    "        category = \"Obese\"\n",
    "        \n",
    "    # printing the BMI value and catagory\n",
    "    print(f\"your BMI is {bmi:.2f}, and you are categorized as {category}\") #{bmi:.2f} for formatting the BMI properly\n",
    "except ValueError as v :\n",
    "    print(v)"
   ]
  },
  {
   "cell_type": "code",
   "execution_count": null,
   "id": "9e583130-09ab-487c-a8f3-7f81a284f8df",
   "metadata": {},
   "outputs": [],
   "source": []
  },
  {
   "cell_type": "markdown",
   "id": "c0f09209-0d2f-44ba-b1eb-fe6cf2fe58db",
   "metadata": {},
   "source": [
    "# Questtion 24"
   ]
  },
  {
   "cell_type": "markdown",
   "id": "f8273e1d-d30f-45fd-bdc5-d1b5a45503ad",
   "metadata": {},
   "source": [
    "Create a program that determines whether a given number is positive, negative, or zero using elif statements"
   ]
  },
  {
   "cell_type": "code",
   "execution_count": 30,
   "id": "532b9c72-2b69-4762-aef5-d9fe9bd9b81a",
   "metadata": {},
   "outputs": [
    {
     "name": "stdin",
     "output_type": "stream",
     "text": [
      "Enter any number (positive, negative, zero):  -47\n"
     ]
    },
    {
     "name": "stdout",
     "output_type": "stream",
     "text": [
      "The given number is negative\n"
     ]
    }
   ],
   "source": [
    "try :\n",
    "    # taking user input for a number\n",
    "    \n",
    "    num = int(input(\"Enter any number (positive, negative, zero): \"))\n",
    "    \n",
    "    # using if-else statement\n",
    "    if num < 0 :\n",
    "        print('The given number is negative')\n",
    "    elif num == 0 :\n",
    "        print('the given number is zero')\n",
    "    else :\n",
    "        print('the given number is positive')\n",
    "        \n",
    "except Exception as e :\n",
    "    print(e)"
   ]
  },
  {
   "cell_type": "code",
   "execution_count": null,
   "id": "07a78fd7-bc75-4f62-84b9-1291bbb7e0d4",
   "metadata": {},
   "outputs": [],
   "source": []
  },
  {
   "cell_type": "markdown",
   "id": "e5c27341-b23b-41a6-955b-317df84b276b",
   "metadata": {},
   "source": [
    "# Question 25 "
   ]
  },
  {
   "cell_type": "markdown",
   "id": "c27b3c6c-180f-4c1c-a00d-e3e209b7234c",
   "metadata": {},
   "source": [
    "Write a Python script to determine the type of a character (uppercase, lowercase, or special) using elif statements"
   ]
  },
  {
   "cell_type": "code",
   "execution_count": 1,
   "id": "3ab485ff-2860-4e7b-bfad-7de6ff94224c",
   "metadata": {},
   "outputs": [
    {
     "name": "stdin",
     "output_type": "stream",
     "text": [
      "Enter a character: a\n"
     ]
    },
    {
     "name": "stdout",
     "output_type": "stream",
     "text": [
      "The character is in Lowercase\n"
     ]
    }
   ],
   "source": [
    "try :\n",
    "    # taking user input \n",
    "    script = input(\"Enter a character:\")\n",
    "\n",
    "    # implementing if else statement\n",
    "    if script.isupper() :\n",
    "        print(\"The character is in Uppercase\")\n",
    "    elif script.islower() :\n",
    "        print(\"The character is in Lowercase\")\n",
    "    else :\n",
    "        print(\"The Script has special character\")\n",
    "except Exception as e :\n",
    "    print(e)\n"
   ]
  },
  {
   "cell_type": "code",
   "execution_count": null,
   "id": "ae401b41-6d30-4c5f-a1a3-167798ac5370",
   "metadata": {},
   "outputs": [],
   "source": []
  },
  {
   "cell_type": "markdown",
   "id": "c06185d6-0ba9-4deb-b522-f9ad1f9090c4",
   "metadata": {},
   "source": [
    "# Question 26"
   ]
  },
  {
   "cell_type": "markdown",
   "id": "d3535135-9209-4776-a003-b56eb4160e91",
   "metadata": {},
   "source": [
    "Implement a program to calculate the discounted price based on different purchase amounts using elif statements"
   ]
  },
  {
   "cell_type": "code",
   "execution_count": 2,
   "id": "d06e12b9-53d4-4139-914d-bfaefb56bed3",
   "metadata": {},
   "outputs": [
    {
     "name": "stdin",
     "output_type": "stream",
     "text": [
      "Enter the purchased amount from 0 to 50:  33\n"
     ]
    },
    {
     "name": "stdout",
     "output_type": "stream",
     "text": [
      "The discounted price is 28.0\n"
     ]
    }
   ],
   "source": [
    "try :\n",
    "    # taking user imput for purchesd price\n",
    "\n",
    "    price = float(input(\"Enter the purchased amount from 0 to 50: \"))\n",
    "\n",
    "    # implementing if else statement to measure the discounted price\n",
    "\n",
    "    if 40 > price <= 50 :\n",
    "        discount = 5\n",
    "    elif 30 > price <= 40 :\n",
    "        discount = 2\n",
    "    else :\n",
    "        discount = 1\n",
    "\n",
    "    discounted_price = price - discount\n",
    "\n",
    "    # printing the discounted price\n",
    "    print(f\"The discounted price is {discounted_price}\")\n",
    "    \n",
    "except Exception as e :\n",
    "    print(e)"
   ]
  },
  {
   "cell_type": "code",
   "execution_count": null,
   "id": "447256e2-d20e-42ab-857b-f631f1d337b5",
   "metadata": {},
   "outputs": [],
   "source": []
  },
  {
   "cell_type": "markdown",
   "id": "3cc16a08-f04f-402e-95d4-8f2415a8f1d2",
   "metadata": {},
   "source": [
    "# Question 27"
   ]
  },
  {
   "cell_type": "markdown",
   "id": "38deee09-5701-4c8c-8515-e5eac13d853d",
   "metadata": {},
   "source": [
    "Develop a program to calculate the electricity bill based on different consumption slabs using elif statements"
   ]
  },
  {
   "cell_type": "code",
   "execution_count": 1,
   "id": "020b9534-f24a-4d32-9664-94e5f12d1bca",
   "metadata": {},
   "outputs": [
    {
     "name": "stdin",
     "output_type": "stream",
     "text": [
      "Enter your consumed unit:  102\n"
     ]
    },
    {
     "name": "stdout",
     "output_type": "stream",
     "text": [
      "your electricity bill is 204.0\n"
     ]
    }
   ],
   "source": [
    "try :\n",
    "    units = float(input(\"Enter your consumed unit: \"))\n",
    "    \n",
    "# before implementing if-else statement we need to make energy consumption slab\n",
    "    slab1 = 100\n",
    "    slab2 = 200\n",
    "    slab3 = 300\n",
    "    slab4 = 400\n",
    "    \n",
    "# making rate slab\n",
    "    rate_slab1 = 1.50\n",
    "    rate_slab2 = 2.0\n",
    "    rate_slab3 = 2.50\n",
    "    rate_slab4 = 3.0\n",
    "    rate_slab5 = 4.0\n",
    "    \n",
    "    # calculating the electricity bill\n",
    "    if units <= slab1 :\n",
    "        bill = units * rate_slab1\n",
    "    elif units <= slab2 :\n",
    "        bill = units * rate_slab2\n",
    "    elif units <= slab3 :\n",
    "        bill = units * rate_slab3\n",
    "    elif units <= slab4 :\n",
    "        bill = units *rate_slab4\n",
    "    else :\n",
    "        bill = units * rate_slab5\n",
    "        \n",
    "    # printing the bill\n",
    "    print(f\"your electricity bill is {bill}\")\n",
    "except Exception as e :\n",
    "    print(e)"
   ]
  },
  {
   "cell_type": "code",
   "execution_count": null,
   "id": "91e1f1c6-d9a8-42a8-9ebd-3f1735e2cab1",
   "metadata": {},
   "outputs": [],
   "source": []
  },
  {
   "cell_type": "markdown",
   "id": "e6e28e7e-8995-46bf-a89d-ee6b757cb5ff",
   "metadata": {},
   "source": [
    "# Question 28"
   ]
  },
  {
   "cell_type": "markdown",
   "id": "1c85ae04-c3fc-44f0-ba5e-dc749f1ff061",
   "metadata": {},
   "source": [
    "Create a program to determine the type of quadrilateral based on its angles and sides using elif statements"
   ]
  },
  {
   "cell_type": "code",
   "execution_count": 2,
   "id": "44a420c8-ad48-48fa-a568-d62cc9e34db2",
   "metadata": {},
   "outputs": [
    {
     "name": "stdout",
     "output_type": "stream",
     "text": [
      "the quadrilateral type is Parallelogram\n"
     ]
    }
   ],
   "source": [
    "try :\n",
    "    def determine_quadrilateral(a,b,c,d,angle1,angle2,angle3,angle4) :\n",
    "        # checking the quadrilateral is square or not\n",
    "        if a == b == c == d and angle1 == angle2 == angle3 == angle4 == 90 :\n",
    "            return \"Square\"\n",
    "        # checking the quadrilateral is rectangle or not\n",
    "        elif a == c and b == d and angle1 == angle3 and angle2 == angle4 == 90 :\n",
    "            return \"Rectangle\"\n",
    "        # checking the quadrilateral is is rhombus or not\n",
    "        elif a == b == c == d and (angle1 == angle2 and angle3 == angle4) and (angle1 != 90) :\n",
    "            return \"Rhombus\"\n",
    "        # checking the quadrilateral is parellelogram\n",
    "        elif (angle1 == angle3 and angle2 == angle4) or (angle1 == angle2 and angle3 == angle4) :\n",
    "            return \"Parallelogram\"\n",
    "        #checking the quadrilateral is trapezium\n",
    "        elif (a == b and c != d) or (a != b and c == d) :\n",
    "            return \"Trapezium\"\n",
    "\n",
    "        else :\n",
    "            return \"Quadrilateral\"\n",
    "\n",
    "    # checking program\n",
    "    quad_type = determine_quadrilateral(4,4,6,6,90,90,90,90)\n",
    "    print(f\"the quadrilateral type is {quad_type}\")\n",
    "    \n",
    "except Exception as e :\n",
    "    print(e)"
   ]
  },
  {
   "cell_type": "code",
   "execution_count": null,
   "id": "96f8944c-be00-4a42-974c-e7e520777754",
   "metadata": {},
   "outputs": [],
   "source": []
  },
  {
   "cell_type": "markdown",
   "id": "c2a2be19-6c2f-4425-b074-6c4d42d75ce0",
   "metadata": {},
   "source": [
    "# Question 29"
   ]
  },
  {
   "cell_type": "markdown",
   "id": "cb6f5a5b-c8cc-4cd1-bbff-c3117e053bf4",
   "metadata": {},
   "source": [
    "Write a Python script to determine the season based on a user-provided month using elif statements"
   ]
  },
  {
   "cell_type": "code",
   "execution_count": 4,
   "id": "e3e1aa54-10c6-413d-9445-70750ee71677",
   "metadata": {},
   "outputs": [
    {
     "name": "stdin",
     "output_type": "stream",
     "text": [
      "Enter the month in numbers (1 to 12):  5\n"
     ]
    },
    {
     "name": "stdout",
     "output_type": "stream",
     "text": [
      "The season is: Spring\n"
     ]
    }
   ],
   "source": [
    "# taking user input\n",
    "month = int(input(\"Enter the month in numbers (1 to 12): \"))\n",
    "\n",
    "# creating function\n",
    "\n",
    "def check_season(month) :\n",
    "    if month in [12,1,2] :\n",
    "        return \"Winter\"\n",
    "    elif month in [3,4,5] :\n",
    "        return \"Spring\"\n",
    "    elif month in [6,7,8] :\n",
    "        return \"Summer\"\n",
    "    elif month in [9,10,11] :\n",
    "        return \"Fall\"\n",
    "    else :\n",
    "        return \"Invalid Month\"\n",
    "    \n",
    "# implementing the progrma\n",
    "determine_season = check_season(month)\n",
    "print(f\"The season is: {determine_season}\")\n",
    "    "
   ]
  },
  {
   "cell_type": "code",
   "execution_count": null,
   "id": "70c38c65-27e1-4d22-a5e3-e516f7dfbcd5",
   "metadata": {},
   "outputs": [],
   "source": []
  },
  {
   "cell_type": "markdown",
   "id": "d84419ea-cb9b-4eb2-9a05-d1d49c5193fd",
   "metadata": {},
   "source": [
    "# Question 30"
   ]
  },
  {
   "cell_type": "markdown",
   "id": "d3e43d1a-7cc0-4be6-a6b5-14f4ae0e7f50",
   "metadata": {},
   "source": [
    "Implement a program to determine the type of a year (leap or common) and month (30 or 31 days) using elif statements"
   ]
  },
  {
   "cell_type": "code",
   "execution_count": null,
   "id": "f19bfa00-dd36-4412-98a3-bf878bd250f1",
   "metadata": {},
   "outputs": [],
   "source": []
  },
  {
   "cell_type": "code",
   "execution_count": null,
   "id": "820d63ed-50f8-4ab9-ba44-17bd2b021c16",
   "metadata": {},
   "outputs": [],
   "source": []
  },
  {
   "cell_type": "markdown",
   "id": "776b4f80-5ae5-4a5d-85a9-8b865ffe5d5d",
   "metadata": {},
   "source": [
    "# BASIC LEVEL"
   ]
  },
  {
   "cell_type": "markdown",
   "id": "91b37165-7e18-4e8b-b0ac-a3491bab9cae",
   "metadata": {},
   "source": [
    "# Question 1"
   ]
  },
  {
   "cell_type": "markdown",
   "id": "affae406-ffaa-4b70-9ce6-601cdbe0f49e",
   "metadata": {},
   "source": [
    "Write a Python program that checks if a given number is positive, negative, or zero"
   ]
  },
  {
   "cell_type": "code",
   "execution_count": 3,
   "id": "8400e55f-49e0-45ce-83ff-7c2aa835a708",
   "metadata": {},
   "outputs": [
    {
     "name": "stdin",
     "output_type": "stream",
     "text": [
      "Enter Your Number:  0\n"
     ]
    },
    {
     "name": "stdout",
     "output_type": "stream",
     "text": [
      "The number is zero\n"
     ]
    }
   ],
   "source": [
    "try :\n",
    "    # taking user input\n",
    "    num = int(input(\"Enter Your Number: \"))\n",
    "    \n",
    "    \n",
    "    # iimplementing if-else statement\n",
    "    if num > 0 :\n",
    "        print(\"The number is positive\")\n",
    "    elif num == 0 :\n",
    "        print(\"The number is zero\")\n",
    "    else :\n",
    "        print(\"The number is negative\")\n",
    "        \n",
    "except Exception as e :\n",
    "    print(e)"
   ]
  },
  {
   "cell_type": "code",
   "execution_count": null,
   "id": "883379fe-49be-41e3-b3c3-fce51cbe7a0f",
   "metadata": {},
   "outputs": [],
   "source": []
  },
  {
   "cell_type": "markdown",
   "id": "3b65b0f6-22d1-4bf8-b9a3-de6f6430843b",
   "metadata": {},
   "source": [
    "# Question 2"
   ]
  },
  {
   "cell_type": "markdown",
   "id": "3c10b298-ff51-4232-a176-ca08886c18d1",
   "metadata": {},
   "source": [
    "Create a program to determine if a person is eligible to vote based on their age"
   ]
  },
  {
   "cell_type": "code",
   "execution_count": 6,
   "id": "f96cbb1f-3f8f-4e68-a2c9-7c6d132c5b38",
   "metadata": {},
   "outputs": [
    {
     "name": "stdin",
     "output_type": "stream",
     "text": [
      "Enter Your Age:  -5\n"
     ]
    },
    {
     "name": "stdout",
     "output_type": "stream",
     "text": [
      "Invalid age\n"
     ]
    }
   ],
   "source": [
    "try :\n",
    "    # taking user input \n",
    "    age = int(input(\"Enter Your Age: \"))\n",
    "    \n",
    "    # implementing if-else statement\n",
    "    if age < 0 :\n",
    "        print(\"Invalid age\")\n",
    "    elif age < 18 :\n",
    "        print(\"You are not eligible to vote\")\n",
    "    elif age >= 18 :\n",
    "        print(\"You are eligible to vote: \")\n",
    "        \n",
    "except Exception as e :\n",
    "    print(e)"
   ]
  },
  {
   "cell_type": "code",
   "execution_count": null,
   "id": "b0f1c0fe-5c2f-46cb-8acc-6f5d81852a27",
   "metadata": {},
   "outputs": [],
   "source": []
  },
  {
   "cell_type": "markdown",
   "id": "7479e8da-b54a-44dc-9a6c-5e642d142a90",
   "metadata": {},
   "source": [
    "# Question 3"
   ]
  },
  {
   "cell_type": "markdown",
   "id": "8d25d9ed-ed80-47ad-8e1d-c2f5ea42bff9",
   "metadata": {},
   "source": [
    "Write a program to find the maximum of two given numbers using conditional statements"
   ]
  },
  {
   "cell_type": "code",
   "execution_count": 7,
   "id": "6a1346e4-b95e-4efa-a569-eaceac992e14",
   "metadata": {},
   "outputs": [
    {
     "name": "stdin",
     "output_type": "stream",
     "text": [
      "Enter first number:  5\n",
      "Enter second number:  8\n"
     ]
    },
    {
     "name": "stdout",
     "output_type": "stream",
     "text": [
      "5 is less than 8\n"
     ]
    }
   ],
   "source": [
    " try :\n",
    "        # taking input from the user \n",
    "        int_1 = int(input(\"Enter first number: \"))\n",
    "        int_2 = int(input(\"Enter second number: \"))\n",
    "        \n",
    "        # implementing conditional statement\n",
    "        if int_1 > int_2 :\n",
    "            print(f\"{int_1} is greateer than {int_2}\")\n",
    "        else :\n",
    "            print(f\"{int_1} is less than {int_2}\")\n",
    "except Exception as e :\n",
    "    print(e)"
   ]
  },
  {
   "cell_type": "code",
   "execution_count": null,
   "id": "1c7834c6-92fb-4968-b543-6aff94d4fb52",
   "metadata": {},
   "outputs": [],
   "source": []
  },
  {
   "cell_type": "markdown",
   "id": "a40b529d-62ec-4c78-9f4d-2c61a4f37779",
   "metadata": {},
   "source": [
    "# Question 4"
   ]
  },
  {
   "cell_type": "markdown",
   "id": "286645b9-c08f-4921-a4d4-d8e4b7fc02e6",
   "metadata": {},
   "source": [
    "Develop a program that calculates the grade of a student based on their exam score"
   ]
  },
  {
   "cell_type": "code",
   "execution_count": 10,
   "id": "9519eefc-d83d-4f7a-86af-7629a255dc3e",
   "metadata": {},
   "outputs": [
    {
     "name": "stdin",
     "output_type": "stream",
     "text": [
      "Enter the grade mark:  55\n"
     ]
    },
    {
     "name": "stdout",
     "output_type": "stream",
     "text": [
      "your grade is - E\n"
     ]
    }
   ],
   "source": [
    "try:\n",
    "    # Taking user input from the user\n",
    "\n",
    "    grade = int(input(\"Enter the grade mark: \"))\n",
    "\n",
    "    # implementing elif statement\n",
    "    if 90 <= grade <= 100 :\n",
    "        print(f'your grade is - A')\n",
    "    elif 80 <= grade <= 90 :\n",
    "        print(f'your grade is - B')\n",
    "    elif 70 <= grade <= 80 :\n",
    "        print(f'your grade is - C')\n",
    "    elif 60 <= grade <= 70 :\n",
    "        print(f'your grade is - D')\n",
    "    elif 0 <= grade <= 60 :\n",
    "        print(f'your grade is - E')\n",
    "    else :\n",
    "        print('Invalid Score')\n",
    "    \n",
    "except Exception as e :\n",
    "    print(e)"
   ]
  },
  {
   "cell_type": "code",
   "execution_count": null,
   "id": "f67aed0a-8b05-4ff4-a01a-7fc0b7739e21",
   "metadata": {},
   "outputs": [],
   "source": []
  },
  {
   "cell_type": "markdown",
   "id": "2d843316-9a48-48f0-9c91-395563d8d651",
   "metadata": {},
   "source": [
    "# Question 5"
   ]
  },
  {
   "cell_type": "markdown",
   "id": "90626422-b97a-4fd6-906e-daa1a6dd6b3b",
   "metadata": {},
   "source": [
    "Create a program that checks if a year is a leap year or not"
   ]
  },
  {
   "cell_type": "code",
   "execution_count": 12,
   "id": "9a82938a-bd6a-4f81-945f-4b83eed88abd",
   "metadata": {},
   "outputs": [
    {
     "name": "stdin",
     "output_type": "stream",
     "text": [
      "Enter the year:  2019\n"
     ]
    },
    {
     "name": "stdout",
     "output_type": "stream",
     "text": [
      "2019 is not a leap year\n"
     ]
    }
   ],
   "source": [
    "try :\n",
    "    # taking user input\n",
    "    year = int(input(\"Enter the year: \"))\n",
    "    \n",
    "    # implementing conditional statement\n",
    "    \n",
    "    if (year % 4 == 0  and year % 100 != 0) or (year % 400 == 0) :\n",
    "        print(f\" {year} is a leap year\")\n",
    "    else :\n",
    "        print(f\"{year} is not a leap year\")\n",
    "        \n",
    "except Exception as e :\n",
    "    print(e)"
   ]
  },
  {
   "cell_type": "code",
   "execution_count": null,
   "id": "de7017a2-cd93-4f23-8917-02cd2a924c4e",
   "metadata": {},
   "outputs": [],
   "source": []
  },
  {
   "cell_type": "markdown",
   "id": "299599c9-18c3-4bbc-8229-c9dade1c5f67",
   "metadata": {},
   "source": [
    "# Question 6"
   ]
  },
  {
   "cell_type": "markdown",
   "id": "092d637d-9d40-49b8-9c74-1c72453bfd95",
   "metadata": {},
   "source": [
    "Write a program to classify a triangle based on its sides' lengths"
   ]
  },
  {
   "cell_type": "code",
   "execution_count": 10,
   "id": "bf7cc2bd-2e04-4df1-8082-b39d3a62b3c0",
   "metadata": {},
   "outputs": [
    {
     "name": "stdin",
     "output_type": "stream",
     "text": [
      "Enter the lenghts of first side:  1\n",
      "Enter the lenghts of second side:  1\n",
      "Enter the lenghts of third side:  5\n"
     ]
    },
    {
     "name": "stdout",
     "output_type": "stream",
     "text": [
      "Invalid Input\n"
     ]
    }
   ],
   "source": [
    "try :\n",
    "    a = int(input(\"Enter the lenghts of first side: \"))\n",
    "    b = int(input(\"Enter the lenghts of second side: \"))\n",
    "    c = int(input(\"Enter the lenghts of third side: \"))\n",
    "    if (a + b > c) and (b + c > a) and (a + c > b) :\n",
    "        if a == b == c :\n",
    "            print(\"Equilateral Triangle\")\n",
    "        elif a == b or b == c or a == c :\n",
    "            print(\"Isoscales Triangle\")\n",
    "        else :\n",
    "            print(\"Scalane Triangle\")\n",
    "    \n",
    "    else :\n",
    "        print(\"Invalid Input\")\n",
    "        \n",
    "except ValueError as v :\n",
    "    print(v)"
   ]
  },
  {
   "cell_type": "code",
   "execution_count": null,
   "id": "6b7a933f-b7c9-46b4-bf12-17cf0aff67d1",
   "metadata": {},
   "outputs": [],
   "source": []
  },
  {
   "cell_type": "markdown",
   "id": "4b1a3c43-ea78-45f4-b251-dfc97c0c2ade",
   "metadata": {},
   "source": [
    "# Question 7"
   ]
  },
  {
   "cell_type": "markdown",
   "id": "2eae7cb1-7aee-4ffd-93fa-13b23625e4eb",
   "metadata": {},
   "source": [
    "Build a program that determines the largest of three given numbers"
   ]
  },
  {
   "cell_type": "code",
   "execution_count": 6,
   "id": "11fe3a2d-f4f1-4f61-b725-66f04885d2ee",
   "metadata": {},
   "outputs": [
    {
     "name": "stdin",
     "output_type": "stream",
     "text": [
      "Enter First Number:  5\n",
      "Enter Second Number:  6\n",
      "Enter Third Number:  8\n"
     ]
    },
    {
     "name": "stdout",
     "output_type": "stream",
     "text": [
      "The Greatest number is 8\n"
     ]
    }
   ],
   "source": [
    "try :\n",
    "    # taking user input\n",
    "    a = int(input(\"Enter First Number: \"))\n",
    "    b = int(input(\"Enter Second Number: \"))\n",
    "    c = int(input(\"Enter Third Number: \"))\n",
    "\n",
    "    # implementing if-else statement\n",
    "\n",
    "    if (a > b) and (a > c) :\n",
    "        print(f\"The greatest number is {a}\")\n",
    "    elif (b > a) and (b > c) :\n",
    "        print(f\"The greatest number is {b}\")\n",
    "    elif (c > a) and (c > b) :\n",
    "        print(f\"The Greatest number is {c}\")\n",
    "    else :\n",
    "        print(\"Invalid Input\")\n",
    "        \n",
    "except Exception as e :\n",
    "    print(e)"
   ]
  },
  {
   "cell_type": "code",
   "execution_count": null,
   "id": "86632dbf-1ec6-404f-8ff0-be1cbcb1657a",
   "metadata": {},
   "outputs": [],
   "source": []
  },
  {
   "cell_type": "markdown",
   "id": "8d675b45-0ab0-4cd8-80cc-c866654361fc",
   "metadata": {},
   "source": [
    "# Question 8"
   ]
  },
  {
   "cell_type": "markdown",
   "id": "87b344f3-cbe8-46a2-9028-637148c47ae1",
   "metadata": {},
   "source": [
    "Develop a program that checks whether a character is a vowel or a consonant"
   ]
  },
  {
   "cell_type": "code",
   "execution_count": 6,
   "id": "ea54f252-c89e-4db9-8aa1-994e8576248a",
   "metadata": {},
   "outputs": [
    {
     "name": "stdin",
     "output_type": "stream",
     "text": [
      "Enter Character: 0.23\n"
     ]
    },
    {
     "name": "stdout",
     "output_type": "stream",
     "text": [
      "Invalid Input\n"
     ]
    }
   ],
   "source": [
    "try :\n",
    "    # Taking user input\n",
    "\n",
    "    string = input(\"Enter Character:\")\n",
    "\n",
    "    # using if else statement\n",
    "\n",
    "    if string in \"AEIOUaeiou\" :\n",
    "        print(\"The character is vowel\")\n",
    "    elif string in \"BCDFGHJKLMNPQRSTVWXYZbcdfghjklmnpqrstvwxyz\" :\n",
    "        print(\"The character is consonant\")\n",
    "    else :\n",
    "        print(\"Invalid Input\")\n",
    "        \n",
    "except Exception as e :\n",
    "    print(e)"
   ]
  },
  {
   "cell_type": "code",
   "execution_count": null,
   "id": "f88a44d5-09e2-42c4-aad5-fd88a9ed1fb5",
   "metadata": {},
   "outputs": [],
   "source": []
  },
  {
   "cell_type": "markdown",
   "id": "56b66be4-3cc6-425b-84d3-f604134e044e",
   "metadata": {},
   "source": [
    "# Question 9"
   ]
  },
  {
   "cell_type": "markdown",
   "id": "797a27af-9764-4f6f-83a4-11090cfeba92",
   "metadata": {},
   "source": [
    "Create a program to calculate the total cost of a shopping cart based on discounts"
   ]
  },
  {
   "cell_type": "code",
   "execution_count": 15,
   "id": "f2be2a63-f7b4-4cf5-8ee5-4872579a26c7",
   "metadata": {},
   "outputs": [
    {
     "name": "stdin",
     "output_type": "stream",
     "text": [
      "Enter total cart value //\n"
     ]
    },
    {
     "name": "stdout",
     "output_type": "stream",
     "text": [
      "invalid literal for int() with base 10: '//'\n"
     ]
    }
   ],
   "source": [
    "try :\n",
    "    # taking user input\n",
    "\n",
    "    cart_value = int(input(\"Enter total cart value\"))\n",
    "\n",
    "    # inplementing if-else statement as discount\n",
    "\n",
    "    if cart_value >= 1000 :\n",
    "        cart_price = cart_value - 100 # 100 rupees discount if the cart value is more than 1000\n",
    "    elif 500 <= cart_value < 1000 :\n",
    "        cart_price = cart_value - 50 # 50 rupees discount if the cart value is between 500 to 1000\n",
    "    elif 300 <= cart_value < 500 :\n",
    "        cart_price = cart_value -10 # 10 rupees discount if the cart value is between 300 to 500\n",
    "    else :\n",
    "        cart_price = cart_value # No discount\n",
    "\n",
    "\n",
    "    # Printing the discounted price\n",
    "\n",
    "    print(f\"The Discounted Price is: {cart_price}\")\n",
    "    \n",
    "except ValueError as v :\n",
    "    print(v)"
   ]
  },
  {
   "cell_type": "code",
   "execution_count": null,
   "id": "9a7c892d-ecb0-4349-8475-adfde88de354",
   "metadata": {},
   "outputs": [],
   "source": []
  },
  {
   "cell_type": "markdown",
   "id": "7848bd40-be6c-4435-9392-88a0c508f9d2",
   "metadata": {},
   "source": [
    "# Question 10"
   ]
  },
  {
   "cell_type": "markdown",
   "id": "2cc10c2a-f29c-47b5-beba-a3c080821e2d",
   "metadata": {},
   "source": [
    "Write a program that checks if a given number is even or odd"
   ]
  },
  {
   "cell_type": "code",
   "execution_count": 19,
   "id": "164b6607-cb5f-470c-bd18-a8a1f3043958",
   "metadata": {},
   "outputs": [
    {
     "name": "stdin",
     "output_type": "stream",
     "text": [
      "Enter the number:  9\n"
     ]
    },
    {
     "name": "stdout",
     "output_type": "stream",
     "text": [
      "The number is odd\n"
     ]
    }
   ],
   "source": [
    "try :\n",
    "     # taking user input\n",
    "\n",
    "    number = int(input(\"Enter the number: \"))\n",
    "\n",
    "    # implementing if- else statement\n",
    "\n",
    "    if number % 2 == 0 :\n",
    "        print(\"The number is even\")\n",
    "    else :\n",
    "        print(\"The number is odd\")\n",
    "    \n",
    "except ValueError as v :\n",
    "    print(v)"
   ]
  },
  {
   "cell_type": "code",
   "execution_count": null,
   "id": "c2c88ff4-004c-46c4-9502-ed081c395b04",
   "metadata": {},
   "outputs": [],
   "source": []
  },
  {
   "cell_type": "markdown",
   "id": "98bfbcfc-2f5a-40eb-a8c2-b1e6d16b9269",
   "metadata": {},
   "source": [
    "# INTERMIDIATE LEVEL"
   ]
  },
  {
   "cell_type": "markdown",
   "id": "abe4abc4-229f-4003-9aeb-44c4eed9ceb9",
   "metadata": {},
   "source": [
    "# Question 11"
   ]
  },
  {
   "cell_type": "markdown",
   "id": "18ceb357-0885-467e-9baa-b7e39dd3fb75",
   "metadata": {},
   "source": [
    "Write a program that calculates the roots of a quadratic equation"
   ]
  },
  {
   "cell_type": "code",
   "execution_count": null,
   "id": "448d8747-f71e-4871-9c9d-675d7364744a",
   "metadata": {},
   "outputs": [],
   "source": []
  },
  {
   "cell_type": "code",
   "execution_count": null,
   "id": "9f3993a5-7977-4f41-b2e8-9bb78ed11aef",
   "metadata": {},
   "outputs": [],
   "source": []
  },
  {
   "cell_type": "markdown",
   "id": "74727ea4-5856-45e7-96de-8e50b17105fb",
   "metadata": {},
   "source": [
    "# Question 12"
   ]
  },
  {
   "cell_type": "markdown",
   "id": "66843a13-038a-4710-a1e9-c8ab417b48ad",
   "metadata": {},
   "source": [
    "Create a program that determines the day of the week based on the day number (1-7)"
   ]
  },
  {
   "cell_type": "code",
   "execution_count": 10,
   "id": "47a9284d-ee0d-4699-9b6d-0c223a863cae",
   "metadata": {},
   "outputs": [
    {
     "name": "stdin",
     "output_type": "stream",
     "text": [
      "Enter day number value between 1 to 7:  3\n"
     ]
    },
    {
     "name": "stdout",
     "output_type": "stream",
     "text": [
      "The corresponding value of the 3 is Wednesday\n"
     ]
    }
   ],
   "source": [
    "def day_of_week(number) :\n",
    "    days = [\"Monday\", \"Tuesday\", \"Wednesday\", \"Thursday\", \"Friday\", \"Saturday\", \"Sunday\"]\n",
    "    \n",
    "    # implemenring if-else\n",
    "    if 1<= number <=7 :\n",
    "        return days[number - 1]\n",
    "    else :\n",
    "        return \"Invalid Input\"\n",
    "    \n",
    "try :\n",
    "    number = int(input(\"Enter day number value between 1 to 7: \"))\n",
    "    day_of_week = day_of_week(number)\n",
    "    print(f\"The corresponding value of the {number} is {day_of_week}\")\n",
    "except ValueError as v :\n",
    "    print(v)"
   ]
  },
  {
   "cell_type": "code",
   "execution_count": null,
   "id": "a2ba4beb-9c19-4b92-88c0-174666e13d7b",
   "metadata": {},
   "outputs": [],
   "source": []
  },
  {
   "cell_type": "markdown",
   "id": "f235d51b-61ca-42ac-9050-d5877fe20cfa",
   "metadata": {},
   "source": [
    "# Question 13"
   ]
  },
  {
   "cell_type": "markdown",
   "id": "5f5c0f68-9c44-4a22-9aff-d13ad5c405c2",
   "metadata": {},
   "source": [
    "Develop a program that calculates the factorial of a given number using recursion"
   ]
  },
  {
   "cell_type": "code",
   "execution_count": null,
   "id": "b96b8c4e-bb15-4c0b-98c4-8726803f3e99",
   "metadata": {},
   "outputs": [],
   "source": []
  },
  {
   "cell_type": "code",
   "execution_count": 13,
   "id": "b1e54fa7-f43f-4b47-807a-dbc9eb9d1625",
   "metadata": {},
   "outputs": [
    {
     "name": "stdin",
     "output_type": "stream",
     "text": [
      "enter number:  vnv\n"
     ]
    },
    {
     "name": "stdout",
     "output_type": "stream",
     "text": [
      "invalid literal for int() with base 10: 'vnv'\n"
     ]
    }
   ],
   "source": [
    "try :\n",
    "    # taking user input \n",
    "    number = int(input(\"enter number: \"))\n",
    "\n",
    "     # defining function for factorial\n",
    "    def fact(n) :\n",
    "        if n == 0 or n == 1 :\n",
    "            return 1\n",
    "        else :\n",
    "            return n * fact(n-1)\n",
    "\n",
    "    print(f\"The factorial of {number} is {fact(number)}\")\n",
    "    \n",
    "except ValueError as v :\n",
    "    print(v)\n"
   ]
  },
  {
   "cell_type": "code",
   "execution_count": null,
   "id": "b1e52b48-2b54-4ebe-abb9-eaae94449f3c",
   "metadata": {},
   "outputs": [],
   "source": []
  },
  {
   "cell_type": "markdown",
   "id": "6ed20861-9cf4-4128-9b94-bf1fbc2a6b2f",
   "metadata": {},
   "source": [
    "# Question 14"
   ]
  },
  {
   "cell_type": "markdown",
   "id": "4b2c1982-ece3-412b-867e-740847e6a519",
   "metadata": {},
   "source": [
    "Write a program to find the largest among three numbers without using the `max()` function"
   ]
  },
  {
   "cell_type": "code",
   "execution_count": 19,
   "id": "b90b3b0e-b15b-4036-8180-fd0907dc69eb",
   "metadata": {},
   "outputs": [
    {
     "name": "stdin",
     "output_type": "stream",
     "text": [
      "Enter first number:  3\n",
      "Enter second number:  g\n"
     ]
    },
    {
     "name": "stdout",
     "output_type": "stream",
     "text": [
      "invalid literal for int() with base 10: 'g'\n"
     ]
    }
   ],
   "source": [
    "try :\n",
    "    # taking user inputs\n",
    "    a = int(input(\"Enter first number: \"))\n",
    "    b = int(input(\"Enter second number: \"))\n",
    "    c = int(input(\"Enter third number: \"))\n",
    "\n",
    "    # defining function\n",
    "\n",
    "    def greater(a,b,c) :\n",
    "        # using if-else statement\n",
    "        if (a > b) and (a > c) :\n",
    "            return a\n",
    "        elif (b > a) and (b > c) :\n",
    "            return b\n",
    "        elif (c > a) and (c > b) :\n",
    "            return c\n",
    "        else :\n",
    "            return \"Invalid\"\n",
    "\n",
    "    print(f\"The greatest number between these three number is : {greater(a,b,c)}\")\n",
    "    \n",
    "except ValueError as v :\n",
    "    print(v)"
   ]
  },
  {
   "cell_type": "code",
   "execution_count": null,
   "id": "a1ab8dbd-d997-488d-ae16-cfdca204a06d",
   "metadata": {},
   "outputs": [],
   "source": []
  },
  {
   "cell_type": "markdown",
   "id": "b2fd3dec-c7ab-4cc5-b60a-6f039272e038",
   "metadata": {},
   "source": [
    "# Question 15"
   ]
  },
  {
   "cell_type": "markdown",
   "id": "08b273e1-d3b2-4b9f-99cc-976e9282efb3",
   "metadata": {},
   "source": [
    "Create a program that simulates a basic ATM transaction menu"
   ]
  },
  {
   "cell_type": "code",
   "execution_count": null,
   "id": "bdb3fce0-dd0a-429b-8208-966876f8c2d4",
   "metadata": {},
   "outputs": [],
   "source": []
  },
  {
   "cell_type": "code",
   "execution_count": null,
   "id": "e97712b0-27b6-46e1-8d70-f273c447c56d",
   "metadata": {},
   "outputs": [],
   "source": []
  },
  {
   "cell_type": "code",
   "execution_count": null,
   "id": "c3c0898c-5bdd-43e6-873a-54c44ca5e6d8",
   "metadata": {},
   "outputs": [],
   "source": []
  },
  {
   "cell_type": "markdown",
   "id": "8355cdc8-6828-4307-99fe-cba66fd30f94",
   "metadata": {},
   "source": [
    "# Question 16"
   ]
  },
  {
   "cell_type": "markdown",
   "id": "a017e451-c80a-49ff-935d-6722d5894819",
   "metadata": {},
   "source": [
    "Build a program that checks if a given string is a palindrome or not"
   ]
  },
  {
   "cell_type": "code",
   "execution_count": 6,
   "id": "9353191d-0f91-4da9-9509-afb8b378bc7c",
   "metadata": {},
   "outputs": [
    {
     "name": "stdin",
     "output_type": "stream",
     "text": [
      "enter the string:  sss\n"
     ]
    },
    {
     "name": "stdout",
     "output_type": "stream",
     "text": [
      "The String is in Palindrome\n"
     ]
    }
   ],
   "source": [
    "try :\n",
    "    # Taking user input first\n",
    "\n",
    "    string = input(\"enter the string: \")\n",
    "\n",
    "    # defining function\n",
    "\n",
    "    def palindrome(s) :\n",
    "        cleaned_str = \" \".join(s.split()).lower()\n",
    "        return cleaned_str == cleaned_str[::-1]\n",
    "\n",
    "    if palindrome(string) :\n",
    "        print(\"The String is in Palindrome\")\n",
    "    else :\n",
    "        print(\"The String is not in Palindrome\")\n",
    "        \n",
    "except Exception as e :\n",
    "    print(e)"
   ]
  },
  {
   "cell_type": "code",
   "execution_count": null,
   "id": "aaa24bb8-45ea-4782-9f37-5bd9d3929a6d",
   "metadata": {},
   "outputs": [],
   "source": []
  },
  {
   "cell_type": "markdown",
   "id": "c38ab60c-84fd-4102-841f-ad4bde07b8db",
   "metadata": {},
   "source": [
    "# Question 17"
   ]
  },
  {
   "cell_type": "markdown",
   "id": "e7712322-e73d-42b8-a6d8-6e4ec704b66e",
   "metadata": {},
   "source": [
    "Write a program that calculates the average of a list of numbers, excluding the smallest and largest values"
   ]
  },
  {
   "cell_type": "code",
   "execution_count": 8,
   "id": "f530a487-1e6d-4097-ba1d-5e8ba74f876e",
   "metadata": {},
   "outputs": [
    {
     "name": "stdin",
     "output_type": "stream",
     "text": [
      "Enter the numbers separated by spaces:  5 6 7 8 9\n"
     ]
    },
    {
     "name": "stdout",
     "output_type": "stream",
     "text": [
      "the avarage is  7.00\n"
     ]
    }
   ],
   "source": [
    "# defining function\n",
    "\n",
    "def avarage(num) :\n",
    "    if len(num) < 3 : # this explaining the excluson of smallest and largest numbers\n",
    "        return None\n",
    "    sorted_numbers = sorted(num)[1:-1] # numbers are sorted in asceding order\n",
    "    return sum(sorted_numbers)/len(sorted_numbers) # making avarage\n",
    "\n",
    "# taking user input\n",
    "try :\n",
    "    numbers = input(\"Enter the numbers separated by spaces: \")\n",
    "    num1 = [float(num) for num in numbers.split()] # splitting numbers\n",
    "    \n",
    "    avarage = avarage(num1) # using avarage function in the user input data\n",
    "    \n",
    "    if avarage is not None :\n",
    "        print(f\"the avarage is {avarage: .2f}\") # printing the avarage\n",
    "\n",
    "except Exception as e :\n",
    "    print(e)\n",
    "    "
   ]
  },
  {
   "cell_type": "code",
   "execution_count": null,
   "id": "6ec9af38-0f28-4d23-9f0a-41141ab346bf",
   "metadata": {},
   "outputs": [],
   "source": []
  },
  {
   "cell_type": "markdown",
   "id": "2c9e5235-a0f4-4129-8a19-cf09304c43fd",
   "metadata": {},
   "source": [
    "# Question 18"
   ]
  },
  {
   "cell_type": "markdown",
   "id": "f8fc5ff1-64b5-428e-b10a-47101391c221",
   "metadata": {},
   "source": [
    "Develop a program that converts a given temperature from Celsius to Fahrenheit"
   ]
  },
  {
   "cell_type": "code",
   "execution_count": 10,
   "id": "2a939e21-037c-41aa-8624-7df402a94785",
   "metadata": {},
   "outputs": [
    {
     "name": "stdin",
     "output_type": "stream",
     "text": [
      " Enter the celcius value:  100\n"
     ]
    },
    {
     "name": "stdout",
     "output_type": "stream",
     "text": [
      "The Fahrenheit Value of 100 Celcius Value is: 212.0\n"
     ]
    }
   ],
   "source": [
    "# making function\n",
    "def celcius_to_fahrenheit(celcius) :\n",
    "    return (celcius * 9/5) + 32 # returning farhenheit value\n",
    "\n",
    "# taking user input for celcius \n",
    "try :\n",
    "    celcius = int(input(\" Enter the celcius value: \"))\n",
    "    print(f\"The Fahrenheit Value of {celcius} Celcius Value is: {celcius_to_fahrenheit(celcius)}\")\n",
    "except ValueError as v :\n",
    "    print(v)"
   ]
  },
  {
   "cell_type": "code",
   "execution_count": null,
   "id": "7ca336d5-df2f-47de-bdbe-4740d66e70fd",
   "metadata": {},
   "outputs": [],
   "source": []
  },
  {
   "cell_type": "markdown",
   "id": "2a3d4807-8420-49a1-bfd9-58d68edd39d3",
   "metadata": {},
   "source": [
    "# Question 19"
   ]
  },
  {
   "cell_type": "markdown",
   "id": "8df3ebce-c335-4b55-b909-89525b27f786",
   "metadata": {},
   "source": [
    "Create a program that simulates a basic calculator for addition, subtraction, multiplication, and division"
   ]
  },
  {
   "cell_type": "code",
   "execution_count": 15,
   "id": "fcdd3484-a053-4974-9018-d789a1cbc46d",
   "metadata": {},
   "outputs": [
    {
     "name": "stdin",
     "output_type": "stream",
     "text": [
      "Enter first number:  3\n",
      "Enter second number:  5\n"
     ]
    },
    {
     "name": "stdout",
     "output_type": "stream",
     "text": [
      "\n",
      "Operation: \n",
      "1. Addition\n",
      "2. Subtraction\n",
      "3. Multiplication\n",
      "4. Division\n"
     ]
    },
    {
     "name": "stdin",
     "output_type": "stream",
     "text": [
      "Enter operation number from 1 to 4:  3\n"
     ]
    },
    {
     "name": "stdout",
     "output_type": "stream",
     "text": [
      "\n",
      "The Result is 15\n"
     ]
    }
   ],
   "source": [
    "# First we need to make some functions for addition, subtraction, multiplication and division\n",
    "\n",
    "def addition(a,b) :\n",
    "    return a + b\n",
    "\n",
    "def subtraction(a,b) :\n",
    "    return a - b\n",
    "\n",
    "def multiplication(a,b) :\n",
    "    return a * b\n",
    "\n",
    "def division(a,b) :\n",
    "    return a/b\n",
    "\n",
    "try :\n",
    "    # taking user input \n",
    "    num1 = int(input(\"Enter first number: \"))\n",
    "    num2 = int(input(\"Enter second number: \"))\n",
    "\n",
    "    print(\"\\nOperation: \")\n",
    "    print(\"1. Addition\")\n",
    "    print(\"2. Subtraction\")\n",
    "    print(\"3. Multiplication\")\n",
    "    print(\"4. Division\")\n",
    "\n",
    "    calculation = input(\"Enter operation number from 1 to 4: \")\n",
    "\n",
    "    # implementing if-else statement\n",
    "    if calculation == \"1\" :\n",
    "        result = addition(num1,num2)\n",
    "    elif calculation == \"2\" :\n",
    "        result == subtraction(num1,num2)\n",
    "    elif calculation == \"3\" :\n",
    "        result = multiplication(num1,num2)\n",
    "    elif calculation == \"4\" :\n",
    "        result = division(num1,num2)\n",
    "    else :\n",
    "        result = \"Invalid\"\n",
    "    # printing the value\n",
    "    print(f\"\\nThe Result is {result}\")\n",
    "    \n",
    "except ValueError as v :\n",
    "    print(v)"
   ]
  },
  {
   "cell_type": "code",
   "execution_count": null,
   "id": "0c07e278-b9c1-4f35-9749-8cc3daf33a89",
   "metadata": {},
   "outputs": [],
   "source": []
  },
  {
   "cell_type": "markdown",
   "id": "d969f09d-0f4f-468c-8904-6c3f732d26f7",
   "metadata": {},
   "source": [
    "# Question 20"
   ]
  },
  {
   "cell_type": "markdown",
   "id": "892c48f1-f477-4c86-8e9c-ace9e719a266",
   "metadata": {},
   "source": [
    "Write a program that determines the roots of a cubic equation using the Cardano formula"
   ]
  },
  {
   "cell_type": "code",
   "execution_count": null,
   "id": "bcad030b-d8ca-41f0-88a2-b414b423c1d8",
   "metadata": {},
   "outputs": [],
   "source": []
  },
  {
   "cell_type": "code",
   "execution_count": null,
   "id": "d42f182f-bbdd-4e82-a228-d725be565cd3",
   "metadata": {},
   "outputs": [],
   "source": []
  },
  {
   "cell_type": "markdown",
   "id": "5e469201-da22-4dbc-a41e-1ef7123d3a34",
   "metadata": {},
   "source": [
    "# ADVANCED LEVEL"
   ]
  },
  {
   "cell_type": "markdown",
   "id": "78ad1b0d-2c66-4774-a41e-a935ed5c4b05",
   "metadata": {},
   "source": [
    "# Question 21 "
   ]
  },
  {
   "cell_type": "markdown",
   "id": "3d6087af-a076-43d6-9e8c-bc0832815c64",
   "metadata": {},
   "source": [
    "Create a program that calculates the income tax based on the user's income and tax brackets"
   ]
  },
  {
   "cell_type": "code",
   "execution_count": 18,
   "id": "0172a5cb-acf7-4539-b7f0-415caedb47cf",
   "metadata": {},
   "outputs": [
    {
     "name": "stdin",
     "output_type": "stream",
     "text": [
      "Enter annual income:  20000\n"
     ]
    },
    {
     "name": "stdout",
     "output_type": "stream",
     "text": [
      "Your income tax is :  5000.00\n"
     ]
    }
   ],
   "source": [
    "# making function \n",
    "def calculate_tax(income) :\n",
    "    brackets = [10000, 30000, 70000, float('inf')]\n",
    "    rates = [0.1, 0.2, 0.3, 0.4]\n",
    "    \n",
    "    # initial stage\n",
    "    tax = 0\n",
    "    prev_bracket = 0\n",
    "    \n",
    "    for bracket, rate in zip(brackets, rates) :\n",
    "        tax_amount = min(income,bracket - prev_bracket)\n",
    "        tax += tax_amount * rate\n",
    "        prev_bracket = bracket\n",
    "        \n",
    "        if income <= bracket :\n",
    "            break\n",
    "            \n",
    "    return tax\n",
    "\n",
    "try :\n",
    "    # taking user input\n",
    "    income = float(input(\"Enter annual income: \"))\n",
    "    # using if-else \n",
    "    if income < 0 :\n",
    "        print(\"Please enter valid income\")\n",
    "    else :\n",
    "        tax = calculate_tax(income)\n",
    "        print(f\"Your income tax is : {tax: .2f}\")\n",
    "        \n",
    "except ValueError as v :\n",
    "    print(v)"
   ]
  },
  {
   "cell_type": "code",
   "execution_count": null,
   "id": "e213cad9-284e-4bea-830d-6853752774c4",
   "metadata": {},
   "outputs": [],
   "source": []
  },
  {
   "cell_type": "markdown",
   "id": "c68cc020-ef65-40d0-8d33-b092eac0a771",
   "metadata": {},
   "source": [
    "# Question 22"
   ]
  },
  {
   "cell_type": "markdown",
   "id": "5bb43e88-4dd5-47cd-8898-d0dec285f3fb",
   "metadata": {},
   "source": [
    "Write a program that simulates a rock-paper-scissors game against the computer"
   ]
  },
  {
   "cell_type": "code",
   "execution_count": 24,
   "id": "5bae101e-0877-4bf5-9b69-e32a582db1bf",
   "metadata": {},
   "outputs": [
    {
     "name": "stdin",
     "output_type": "stream",
     "text": [
      "Enter your choice (rock/paper/scissors) :  33\n"
     ]
    },
    {
     "name": "stdout",
     "output_type": "stream",
     "text": [
      "Invalid. Please enter rock, paper, or scissors.\n"
     ]
    }
   ],
   "source": [
    "# for random value we need to import random\n",
    "import random\n",
    "\n",
    "# defining function \n",
    "def play_game(player_choice) :\n",
    "    choices = [\"rock\", \"paper\", \"scissors\"]\n",
    "    computer_choice = random.choice(choices)\n",
    "    \n",
    "    print(f\"\\nYou Choose: {player_choice}\")\n",
    "    print(f\"\\nComputer Choose: {computer_choice}\")\n",
    "    \n",
    "    \n",
    "    # making if-else statement\n",
    "    \n",
    "    if player_choice == computer_choice :\n",
    "        return \"Tie\"\n",
    "    elif(\n",
    "        (player_choice == \"rock\" and computer_choice == \"scissors\") or \n",
    "        (player_choice == \"paper\" and computer_choice == \"rock\") or \n",
    "        (player_choice == \"scissors\" and computer_choice == \"paper\")\n",
    "    ) :\n",
    "        return \"You Win!\"\n",
    "    else :\n",
    "        return \"You Lose!\"\n",
    "    \n",
    "    \n",
    "# taking user input\n",
    "try :\n",
    "    player_choice = input(\"Enter your choice (rock/paper/scissors) : \").lower()\n",
    "    \n",
    "    if player_choice not in ['rock', 'paper', 'scissors'] :\n",
    "        print(\"Invalid. Please enter rock, paper, or scissors.\")\n",
    "    else :\n",
    "        result = play_game(player_choice)\n",
    "        print(result)\n",
    "        \n",
    "    \n",
    "except Exception as e :\n",
    "    print(e)    "
   ]
  },
  {
   "cell_type": "code",
   "execution_count": null,
   "id": "ae3d9208-ea2c-4d75-ae06-6aebd1a7a7bc",
   "metadata": {},
   "outputs": [],
   "source": []
  },
  {
   "cell_type": "markdown",
   "id": "ea3a9bc5-a817-4efd-89dc-a5420be56348",
   "metadata": {},
   "source": [
    "# Question 23"
   ]
  },
  {
   "cell_type": "markdown",
   "id": "d95dfe3d-83a6-4fea-93d1-b0e45ae46b95",
   "metadata": {},
   "source": [
    "Develop a program that generates a random password based on user preferences (length, complexity)"
   ]
  },
  {
   "cell_type": "code",
   "execution_count": 25,
   "id": "453d29fc-580e-4b6d-839f-424611df5ca6",
   "metadata": {},
   "outputs": [
    {
     "name": "stdin",
     "output_type": "stream",
     "text": [
      "Enter the desired password length:  8\n",
      "Include uppercase letters? (yes/no):  yes\n",
      "Include digits? (yes/no):  yes\n",
      "Include symbols? (yes/no):  yes\n"
     ]
    },
    {
     "name": "stdout",
     "output_type": "stream",
     "text": [
      "\n",
      "Generated Password: K)d))ClQ\n"
     ]
    }
   ],
   "source": [
    "# for this operation we need to import random and string\n",
    "\n",
    "import random \n",
    "import string\n",
    "\n",
    "# making function\n",
    "\n",
    "def generate_password(length, uppercase, digits, symbols):\n",
    "    characters = string.ascii_lowercase\n",
    "\n",
    "    if uppercase:\n",
    "        characters += string.ascii_uppercase\n",
    "    if digits:\n",
    "        characters += string.digits\n",
    "    if symbols:\n",
    "        characters += string.punctuation\n",
    "        \n",
    "    if length < 1:\n",
    "        return \"Invalid password length. Please choose a positive length.\"\n",
    "    \n",
    "    password = ''.join(random.choice(characters) for _ in range(length))\n",
    "    return password\n",
    "        \n",
    "    \n",
    "try :\n",
    "    length = int(input(\"Enter the desired password length: \"))\n",
    "    \n",
    "    include_uppercase = input(\"Include uppercase letters? (yes/no): \").lower() == 'yes'\n",
    "    \n",
    "    include_digits = input(\"Include digits? (yes/no): \").lower() == 'yes'\n",
    "    \n",
    "    include_symbols = input(\"Include symbols? (yes/no): \").lower() == 'yes'\n",
    "\n",
    "    password = generate_password(length, include_uppercase, include_digits, include_symbols)\n",
    "    print(f\"\\nGenerated Password: {password}\")\n",
    "\n",
    "except Exception as e:\n",
    "    print(e)"
   ]
  },
  {
   "cell_type": "code",
   "execution_count": null,
   "id": "2b3aeb62-e6c8-45a7-aec8-78f3592eeef8",
   "metadata": {},
   "outputs": [],
   "source": []
  },
  {
   "cell_type": "markdown",
   "id": "6d03b6f5-04d4-4463-80e2-fc5872e7059f",
   "metadata": {},
   "source": [
    "# Question 24"
   ]
  },
  {
   "cell_type": "markdown",
   "id": "51fa7571-1046-4608-a05d-52258840625a",
   "metadata": {},
   "source": [
    "Create a program that implements a simple text-based adventure game with branching scenarios"
   ]
  },
  {
   "cell_type": "code",
   "execution_count": 27,
   "id": "d4223318-f7af-4c82-a4e9-734af42b01b4",
   "metadata": {},
   "outputs": [
    {
     "name": "stdout",
     "output_type": "stream",
     "text": [
      "Welcome to the Adventure Game!\n",
      "You find yourself standing in front of a mysterious cave.\n",
      "\n",
      "Choose your path:\n",
      "1. Enter the cave.\n",
      "2. Walk around the cave.\n"
     ]
    },
    {
     "name": "stdin",
     "output_type": "stream",
     "text": [
      "Enter your choice (1 or 2):  1\n"
     ]
    },
    {
     "name": "stdout",
     "output_type": "stream",
     "text": [
      "\n",
      "You enter the dark cave and see two tunnels.\n",
      "1. Go left.\n",
      "2. Go right.\n"
     ]
    },
    {
     "name": "stdin",
     "output_type": "stream",
     "text": [
      "Enter your choice (1 or 2):  1\n"
     ]
    },
    {
     "name": "stdout",
     "output_type": "stream",
     "text": [
      "You find a treasure chest!\n"
     ]
    }
   ],
   "source": [
    "def intro():\n",
    "    print(\"Welcome to the Adventure Game!\")\n",
    "    print(\"You find yourself standing in front of a mysterious cave.\")\n",
    "    \n",
    "def choose_path():\n",
    "    print(\"\\nChoose your path:\")\n",
    "    print(\"1. Enter the cave.\")\n",
    "    print(\"2. Walk around the cave.\")\n",
    "\n",
    "    choice = input(\"Enter your choice (1 or 2): \")\n",
    "    return choice\n",
    "\n",
    "def cave_scenario():\n",
    "    print(\"\\nYou enter the dark cave and see two tunnels.\")\n",
    "    print(\"1. Go left.\")\n",
    "    print(\"2. Go right.\")\n",
    "\n",
    "    choice = input(\"Enter your choice (1 or 2): \")\n",
    "    \n",
    "    if choice == '1':\n",
    "        print(\"You find a treasure chest!\")\n",
    "    elif choice == '2':\n",
    "        print(\"Uh-oh! A giant spider blocks your way.\")\n",
    "        \n",
    "        \n",
    "def main():\n",
    "    intro()\n",
    "    \n",
    "    while True:\n",
    "        user_choice = choose_path()\n",
    "\n",
    "        if user_choice == '1':\n",
    "            cave_scenario()\n",
    "            break\n",
    "        elif user_choice == '2':\n",
    "            print(\"\\nYou decide to walk around the cave. The adventure continues...\")\n",
    "            break\n",
    "        else:\n",
    "            print(\"Invalid choice. Please enter 1 or 2.\")\n",
    "            \n",
    "if __name__ == \"__main__\":\n",
    "    main()"
   ]
  },
  {
   "cell_type": "code",
   "execution_count": null,
   "id": "82cf4c79-aedc-473c-b080-e897c577ac88",
   "metadata": {},
   "outputs": [],
   "source": []
  },
  {
   "cell_type": "markdown",
   "id": "bd578f43-19c3-457c-8c93-66df6815f85a",
   "metadata": {},
   "source": [
    "# Question 25"
   ]
  },
  {
   "cell_type": "markdown",
   "id": "0f42ea9f-4391-47d1-83e3-5a4abda6118f",
   "metadata": {},
   "source": [
    "Build a program that solves a linear equation for x, considering different cases"
   ]
  },
  {
   "cell_type": "code",
   "execution_count": 28,
   "id": "eed7c0ca-93cd-4654-9906-1e16e000258a",
   "metadata": {},
   "outputs": [
    {
     "name": "stdin",
     "output_type": "stream",
     "text": [
      "Enter the coefficient 'a':  0\n",
      "Enter the constant term 'b':  0\n"
     ]
    },
    {
     "name": "stdout",
     "output_type": "stream",
     "text": [
      "Infinite solutions (all real numbers are solutions)\n"
     ]
    }
   ],
   "source": [
    "# defining function\n",
    "\n",
    "def solve_linear_equation(a, b): \n",
    "    if a == 0:\n",
    "        if b == 0:\n",
    "            return \"Infinite solutions (all real numbers are solutions)\"\n",
    "        else:\n",
    "            return \"No solution (contradiction)\"\n",
    "    else:\n",
    "        x = -b / a\n",
    "        return f\"The solution for the linear equation is x = {x}\"\n",
    "\n",
    "try:\n",
    "    a = float(input(\"Enter the coefficient 'a': \"))\n",
    "    b = float(input(\"Enter the constant term 'b': \"))\n",
    "\n",
    "    result = solve_linear_equation(a, b)\n",
    "    print(result)\n",
    "\n",
    "except Exception as e:\n",
    "    print(e)"
   ]
  },
  {
   "cell_type": "code",
   "execution_count": null,
   "id": "1da58e5e-f57e-4dca-9b29-dec855cfe405",
   "metadata": {},
   "outputs": [],
   "source": []
  },
  {
   "cell_type": "markdown",
   "id": "08020d41-1e37-4c11-ae2f-e19925ee25bf",
   "metadata": {},
   "source": [
    "# Question 26"
   ]
  },
  {
   "cell_type": "markdown",
   "id": "ea2601f9-99e0-4504-83b3-0da437abb142",
   "metadata": {},
   "source": [
    "Write a program that simulates a basic quiz game with multiple-choice questions and scoring"
   ]
  },
  {
   "cell_type": "code",
   "execution_count": 29,
   "id": "dfd3c432-611d-4168-94eb-25f1bfe1702c",
   "metadata": {},
   "outputs": [
    {
     "name": "stdout",
     "output_type": "stream",
     "text": [
      "Welcome to the Quiz Game!\n",
      "What is the capital of France?\n",
      "1. Berlin\n",
      "2. Madrid\n",
      "3. Paris\n"
     ]
    },
    {
     "name": "stdin",
     "output_type": "stream",
     "text": [
      "Enter your choice (1, 2, 3, ...):  2\n"
     ]
    },
    {
     "name": "stdout",
     "output_type": "stream",
     "text": [
      "Which planet is known as the 'Red Planet'?\n",
      "1. Mars\n",
      "2. Jupiter\n",
      "3. Venus\n"
     ]
    },
    {
     "name": "stdin",
     "output_type": "stream",
     "text": [
      "Enter your choice (1, 2, 3, ...):  1\n"
     ]
    },
    {
     "name": "stdout",
     "output_type": "stream",
     "text": [
      "\n",
      "Your score is: 1/2\n"
     ]
    }
   ],
   "source": [
    "def ask_question(question, choices, correct_answer):\n",
    "    print(question)\n",
    "    for i, choice in enumerate(choices, start=1):\n",
    "        print(f\"{i}. {choice}\")\n",
    "\n",
    "    user_answer = input(\"Enter your choice (1, 2, 3, ...): \")\n",
    "    return user_answer == str(correct_answer)\n",
    "\n",
    "def run_quiz():\n",
    "    score = 0\n",
    "\n",
    "    # Question 1\n",
    "    question1 = \"What is the capital of France?\"\n",
    "    choices1 = [\"Berlin\", \"Madrid\", \"Paris\"]\n",
    "    correct_answer1 = 3\n",
    "    if ask_question(question1, choices1, correct_answer1):\n",
    "        score += 1\n",
    "\n",
    "    # Question 2\n",
    "    question2 = \"Which planet is known as the 'Red Planet'?\"\n",
    "    choices2 = [\"Mars\", \"Jupiter\", \"Venus\"]\n",
    "    correct_answer2 = 1\n",
    "    if ask_question(question2, choices2, correct_answer2):\n",
    "        score += 1\n",
    "\n",
    "    print(f\"\\nYour score is: {score}/2\")\n",
    "\n",
    "if __name__ == \"__main__\":\n",
    "    print(\"Welcome to the Quiz Game!\")\n",
    "    run_quiz()"
   ]
  },
  {
   "cell_type": "code",
   "execution_count": null,
   "id": "728d0652-90e0-484e-ac89-6ddc09754b0f",
   "metadata": {},
   "outputs": [],
   "source": []
  },
  {
   "cell_type": "markdown",
   "id": "fc740909-1e00-4b1e-adbf-00015769892a",
   "metadata": {},
   "source": [
    "# Question 27"
   ]
  },
  {
   "cell_type": "markdown",
   "id": "f0fde2c1-9476-4885-a8a3-bbfddb3fd6ed",
   "metadata": {},
   "source": [
    "Develop a program that determines whether a given year is a prime number or not"
   ]
  },
  {
   "cell_type": "code",
   "execution_count": 31,
   "id": "68d7f835-edbe-4815-b206-28727b9c4ee9",
   "metadata": {},
   "outputs": [
    {
     "name": "stdin",
     "output_type": "stream",
     "text": [
      "Enter a year:  1011\n"
     ]
    },
    {
     "name": "stdout",
     "output_type": "stream",
     "text": [
      "1011 is not a prime year.\n"
     ]
    }
   ],
   "source": [
    "def is_prime(year):\n",
    "    if year < 2:\n",
    "        return False\n",
    "    for i in range(2, int(year**0.5) + 1):\n",
    "        if year % i == 0:\n",
    "            return False\n",
    "    return True\n",
    "\n",
    "try:\n",
    "    year = int(input(\"Enter a year: \"))\n",
    "    \n",
    "    if is_prime(year):\n",
    "        print(f\"{year} is a prime year.\")\n",
    "    else:\n",
    "        print(f\"{year} is not a prime year.\")\n",
    "\n",
    "except Exception as e:\n",
    "    print(e)"
   ]
  },
  {
   "cell_type": "code",
   "execution_count": null,
   "id": "edec6f6f-6105-41b9-9e49-851b1e3beac0",
   "metadata": {},
   "outputs": [],
   "source": []
  },
  {
   "cell_type": "markdown",
   "id": "b97e439b-dc99-4262-ac71-e7a2e299b655",
   "metadata": {},
   "source": [
    "# Question 28"
   ]
  },
  {
   "cell_type": "markdown",
   "id": "e50abd7b-36d2-44a6-a106-4a6d3dc5244f",
   "metadata": {},
   "source": [
    "Create a program that sorts three numbers in ascending order using conditional statements"
   ]
  },
  {
   "cell_type": "code",
   "execution_count": 32,
   "id": "ba607a95-abbe-4d68-89bf-4aa91379e50a",
   "metadata": {},
   "outputs": [
    {
     "name": "stdin",
     "output_type": "stream",
     "text": [
      "Enter the first number:  5\n",
      "Enter the second number:  6\n",
      "Enter the third number:  7\n"
     ]
    },
    {
     "name": "stdout",
     "output_type": "stream",
     "text": [
      "The sorted numbers in ascending order are: [5, 6, 7]\n"
     ]
    }
   ],
   "source": [
    "try:\n",
    "    # taking user input\n",
    "    num1 = int(input(\"Enter the first number: \"))\n",
    "    num2 = int(input(\"Enter the second number: \"))\n",
    "    num3 = int(input(\"Enter the third number: \"))\n",
    "\n",
    "    # Sorting using if-else conditional statements\n",
    "    if num1 <= num2 <= num3:\n",
    "        sorted_nums = [num1, num2, num3]\n",
    "    elif num1 <= num3 <= num2:\n",
    "        sorted_nums = [num1, num3, num2]\n",
    "    elif num2 <= num1 <= num3:\n",
    "        sorted_nums = [num2, num1, num3]\n",
    "    elif num2 <= num3 <= num1:\n",
    "        sorted_nums = [num2, num3, num1]\n",
    "    elif num3 <= num1 <= num2:\n",
    "        sorted_nums = [num3, num1, num2]\n",
    "    else:\n",
    "        sorted_nums = [num3, num2, num1]\n",
    "\n",
    "    print(f\"The sorted numbers in ascending order are: {sorted_nums}\")\n",
    "    \n",
    "except Exception as e:\n",
    "    print(e)\n"
   ]
  },
  {
   "cell_type": "code",
   "execution_count": null,
   "id": "cce090a2-56b9-41c5-9ad0-2e044f9b3914",
   "metadata": {},
   "outputs": [],
   "source": []
  },
  {
   "cell_type": "markdown",
   "id": "c7349ca8-b20b-41b0-ae98-7c2a54f24012",
   "metadata": {},
   "source": [
    "# Question 29"
   ]
  },
  {
   "cell_type": "markdown",
   "id": "1d9a5bf0-5628-4a24-a417-1d59112e33d3",
   "metadata": {},
   "source": [
    "Build a program that determines the roots of a quartic equation using numerical methods"
   ]
  },
  {
   "cell_type": "code",
   "execution_count": null,
   "id": "a12b74b4-08fe-4914-887e-1255d6bd8bf0",
   "metadata": {},
   "outputs": [],
   "source": []
  },
  {
   "cell_type": "code",
   "execution_count": null,
   "id": "15faf78b-5e6c-4a4b-9cc3-25ffd8986549",
   "metadata": {},
   "outputs": [],
   "source": []
  },
  {
   "cell_type": "markdown",
   "id": "168131c3-e81b-49e0-b482-61cd0398d599",
   "metadata": {},
   "source": [
    "# Question 30"
   ]
  },
  {
   "cell_type": "markdown",
   "id": "6e605c26-3b52-4115-b2e6-558fc7ddb52e",
   "metadata": {},
   "source": [
    "Write a program that calculates the BMI (Body Mass Index) and provides health  recommendations based on the user's input"
   ]
  },
  {
   "cell_type": "code",
   "execution_count": 33,
   "id": "654af8c5-d484-42ab-9ee9-f425507204ae",
   "metadata": {},
   "outputs": [
    {
     "name": "stdin",
     "output_type": "stream",
     "text": [
      "Enter your weight in kilograms:  65\n",
      "Enter your height in meters:  60\n"
     ]
    },
    {
     "name": "stdout",
     "output_type": "stream",
     "text": [
      "\n",
      "Your Body Mass Index (BMI) is: 0.02\n",
      "You are underweight. Consider consulting with a healthcare professional.\n"
     ]
    }
   ],
   "source": [
    "def calculate_bmi(weight, height):\n",
    "    return weight / (height**2)\n",
    "\n",
    "def health_recommendations(bmi):\n",
    "    if bmi < 18.5:\n",
    "        return \"You are underweight. Consider consulting with a healthcare professional.\"\n",
    "    elif 18.5 <= bmi < 25:\n",
    "        return \"Your weight is within the normal range. Keep up the good work!\"\n",
    "    elif 25 <= bmi < 30:\n",
    "        return \"You are overweight. Consider adopting a healthier lifestyle.\"\n",
    "    else:\n",
    "        return \"You are obese. It's recommended to consult with a healthcare professional.\"\n",
    "\n",
    "try:\n",
    "    weight = float(input(\"Enter your weight in kilograms: \"))\n",
    "    height = float(input(\"Enter your height in meters: \"))\n",
    "\n",
    "    bmi = calculate_bmi(weight, height)\n",
    "\n",
    "    print(f\"\\nYour Body Mass Index (BMI) is: {bmi:.2f}\")\n",
    "    print(health_recommendations(bmi))\n",
    "\n",
    "except Exception as e:\n",
    "    print(e)\n"
   ]
  },
  {
   "cell_type": "code",
   "execution_count": null,
   "id": "22b3b644-9ee6-492b-aa36-7e3dddfacd19",
   "metadata": {},
   "outputs": [],
   "source": []
  },
  {
   "cell_type": "markdown",
   "id": "9df2f461-968a-45b1-9b30-5b6394688955",
   "metadata": {},
   "source": [
    "# ADVANCED LEVEL"
   ]
  },
  {
   "cell_type": "markdown",
   "id": "4bf3059d-b6e1-4f96-b19c-3aa80e2b3b57",
   "metadata": {},
   "source": [
    "# Question 31"
   ]
  },
  {
   "cell_type": "markdown",
   "id": "777bfa15-9a7f-4913-883d-8440228e4725",
   "metadata": {},
   "source": [
    "Create a program that validates a password based on complexity rules (length, characters, etc.)"
   ]
  },
  {
   "cell_type": "code",
   "execution_count": 2,
   "id": "231021d0-63fa-4b30-913e-047023cf498d",
   "metadata": {},
   "outputs": [
    {
     "name": "stdin",
     "output_type": "stream",
     "text": [
      "Enter Password:  Dibyendu123\n"
     ]
    },
    {
     "name": "stdout",
     "output_type": "stream",
     "text": [
      "The password is valid. Welcome!\n"
     ]
    }
   ],
   "source": [
    "\n",
    "\n",
    "# defining function for password check\n",
    "def check_pass(password) :\n",
    "    if len(password) < 8 :\n",
    "        return False\n",
    "    \n",
    "    # checking at least one uppercase letter\n",
    "    if not any(char.isupper() for char in password) :\n",
    "        return False\n",
    "    \n",
    "    # checking at least one lowercase letter \n",
    "    if not any(char.islower() for char in password) :\n",
    "        return False\n",
    "    \n",
    "    # checking at least one digit\n",
    "    if not any(char.isdigit() for char in password) :\n",
    "        return False\n",
    "    \n",
    "    return True\n",
    "\n",
    "\n",
    "try :\n",
    "    # taking user input\n",
    "    password = input(\"Enter Password: \")\n",
    "    \n",
    "    if check_pass(password) :\n",
    "        print(\"The password is valid. Welcome!\")\n",
    "    else :\n",
    "        print(\"Your password is incorrect\")\n",
    "        \n",
    "except Exception as e :\n",
    "    print(e)"
   ]
  },
  {
   "cell_type": "code",
   "execution_count": null,
   "id": "1ccc5d07-8043-424a-b1bd-cf26c6c34750",
   "metadata": {},
   "outputs": [],
   "source": []
  },
  {
   "cell_type": "markdown",
   "id": "12892382-dc6c-4461-802d-28b397cf368d",
   "metadata": {},
   "source": [
    "# Question 32"
   ]
  },
  {
   "cell_type": "markdown",
   "id": "8bb4cae0-c9a0-4ac1-b914-981916f4ce88",
   "metadata": {},
   "source": [
    "Develop a program that performs matrix addition and subtraction based on user input"
   ]
  },
  {
   "cell_type": "code",
   "execution_count": null,
   "id": "10b7b965-7bac-420e-9e19-75cd647c532b",
   "metadata": {},
   "outputs": [],
   "source": []
  },
  {
   "cell_type": "code",
   "execution_count": null,
   "id": "9bc5c278-0dee-4973-bfb9-d0ff8a401d7e",
   "metadata": {},
   "outputs": [],
   "source": []
  },
  {
   "cell_type": "markdown",
   "id": "c49987ce-4bb5-48ba-b0ed-d14d9d90a724",
   "metadata": {},
   "source": [
    "# Question 33"
   ]
  },
  {
   "cell_type": "markdown",
   "id": "e088be0e-5a60-4bc9-b229-005bbd5ab10a",
   "metadata": {},
   "source": [
    "Write a program that calculates the greatest common divisor (GCD) of two numbers using the Euclidean algorithm"
   ]
  },
  {
   "cell_type": "code",
   "execution_count": 6,
   "id": "6743f452-9062-4bc5-bd98-004486fd2dfb",
   "metadata": {},
   "outputs": [
    {
     "name": "stdin",
     "output_type": "stream",
     "text": [
      "Enter the first number:  5\n",
      "Enter the second number:  4\n"
     ]
    },
    {
     "name": "stdout",
     "output_type": "stream",
     "text": [
      "\n",
      "The Greatest Common Divisor (GCD) between 5 and 4 is: 1\n"
     ]
    }
   ],
   "source": [
    "# defining function\n",
    "def euclidean_algorithm(a, b) :\n",
    "    while b:\n",
    "        a, b = b, a % b\n",
    "    return a\n",
    "\n",
    "# taking user input\n",
    "try :\n",
    "    num1 = int(input(\"Enter the first number: \"))\n",
    "    num2 = int(input(\"Enter the second number: \"))\n",
    "    \n",
    "    gcd = euclidean_algorithm(num1, num2) \n",
    "    \n",
    "    print(f\"\\nThe Greatest Common Divisor (GCD) between {num1} and {num2} is: {gcd}\")\n",
    "    \n",
    "except Exception as e :\n",
    "    print(e)"
   ]
  },
  {
   "cell_type": "code",
   "execution_count": null,
   "id": "ec9d0656-e048-4fc9-a2a8-4cee0db4c48b",
   "metadata": {},
   "outputs": [],
   "source": []
  },
  {
   "cell_type": "markdown",
   "id": "d1248746-30bd-44a2-9860-8b8b182267f4",
   "metadata": {},
   "source": [
    "# Question 34"
   ]
  },
  {
   "cell_type": "markdown",
   "id": "8adafdf2-d996-47d7-a677-7db8dd80251f",
   "metadata": {},
   "source": [
    "Build a program that performs matrix multiplication using nested loops and conditional statements"
   ]
  },
  {
   "cell_type": "code",
   "execution_count": null,
   "id": "fbe255a3-7ccc-4a90-a82a-67c6f7416e8b",
   "metadata": {},
   "outputs": [],
   "source": []
  },
  {
   "cell_type": "code",
   "execution_count": null,
   "id": "d85141e8-50d9-4209-84e7-54b1341488be",
   "metadata": {},
   "outputs": [],
   "source": []
  },
  {
   "cell_type": "markdown",
   "id": "0382aed8-7cd8-4204-adb1-1595767a0322",
   "metadata": {},
   "source": [
    "# Question 35"
   ]
  },
  {
   "cell_type": "markdown",
   "id": "627ac8cc-5eec-4557-917f-4790cb427578",
   "metadata": {},
   "source": [
    "Create a program that simulates a basic text-based tic-tac-toe game against the computer"
   ]
  },
  {
   "cell_type": "code",
   "execution_count": 1,
   "id": "89ad646e-25f6-4440-b20f-c00bde131e9e",
   "metadata": {},
   "outputs": [],
   "source": []
  },
  {
   "cell_type": "code",
   "execution_count": null,
   "id": "3a50fcf1-ce38-4310-bac6-4234024014c4",
   "metadata": {},
   "outputs": [],
   "source": []
  },
  {
   "cell_type": "markdown",
   "id": "ecd6c42e-ca98-4bbf-b6dd-5521d999ce9d",
   "metadata": {},
   "source": [
    "# Question 36 "
   ]
  },
  {
   "cell_type": "markdown",
   "id": "b5b7f5c7-f467-4853-93d7-aaab8fc6b64a",
   "metadata": {},
   "source": [
    "Write a program that generates Fibonacci numbers up to a specified term using iterative methods"
   ]
  },
  {
   "cell_type": "code",
   "execution_count": null,
   "id": "2cda5fd1-d061-436a-b6f3-84b835a8396c",
   "metadata": {},
   "outputs": [],
   "source": []
  },
  {
   "cell_type": "code",
   "execution_count": null,
   "id": "5f0aaaa4-91f1-4e70-992f-83731a13fce6",
   "metadata": {},
   "outputs": [],
   "source": []
  },
  {
   "cell_type": "markdown",
   "id": "d566afec-8bf0-4137-979e-e66f86a75c73",
   "metadata": {},
   "source": [
    "# Question 37"
   ]
  },
  {
   "cell_type": "markdown",
   "id": "6d72206f-98af-4547-952e-e75c551f0eb6",
   "metadata": {},
   "source": [
    "Develop a program that calculates the nth term of the Fibonacci sequence using memoization"
   ]
  },
  {
   "cell_type": "code",
   "execution_count": null,
   "id": "d04d99a5-e7d3-490b-8816-4d4c02dccfe0",
   "metadata": {},
   "outputs": [],
   "source": []
  },
  {
   "cell_type": "code",
   "execution_count": null,
   "id": "31b66a95-d8d9-42a1-8436-0ff88c492e9e",
   "metadata": {},
   "outputs": [],
   "source": []
  },
  {
   "cell_type": "markdown",
   "id": "169dce16-8c85-49a2-9d88-9fbef145017c",
   "metadata": {},
   "source": [
    "# Question 38"
   ]
  },
  {
   "cell_type": "markdown",
   "id": "16313766-1186-44ef-ab2e-11144150a56f",
   "metadata": {},
   "source": [
    "Create a program that generates a calendar for a given month and year using conditional statements"
   ]
  },
  {
   "cell_type": "code",
   "execution_count": null,
   "id": "dd8289db-2e42-481e-ad82-423dd60e5dee",
   "metadata": {},
   "outputs": [],
   "source": []
  },
  {
   "cell_type": "code",
   "execution_count": null,
   "id": "323d6ed7-ee60-4923-842a-1e3f250cb81f",
   "metadata": {},
   "outputs": [],
   "source": []
  },
  {
   "cell_type": "markdown",
   "id": "5be56e7b-a192-4b46-a2fc-f7d54c19ea51",
   "metadata": {},
   "source": [
    "# Question 39"
   ]
  },
  {
   "cell_type": "markdown",
   "id": "cc6d26d2-7ab6-4a62-a779-a399dd102989",
   "metadata": {},
   "source": [
    "Build a program that simulates a basic text-based blackjack game against the computer"
   ]
  },
  {
   "cell_type": "code",
   "execution_count": null,
   "id": "a244cf83-73f6-49f8-9d35-a7b6db8892ac",
   "metadata": {},
   "outputs": [],
   "source": []
  },
  {
   "cell_type": "code",
   "execution_count": null,
   "id": "45bcb25a-600d-41f2-9a2b-43409e4b8158",
   "metadata": {},
   "outputs": [],
   "source": []
  },
  {
   "cell_type": "markdown",
   "id": "85d362da-e2fb-41c4-9b55-6654d7fc6811",
   "metadata": {},
   "source": [
    "# Question 40"
   ]
  },
  {
   "cell_type": "markdown",
   "id": "6aa28014-950e-4ed9-8987-6157c6d78a66",
   "metadata": {},
   "source": [
    "Write a program that generates the prime factors of a given number using trial division"
   ]
  },
  {
   "cell_type": "code",
   "execution_count": 5,
   "id": "db8e5e86-f9ad-4f03-ac23-fa8c38c5ce0d",
   "metadata": {},
   "outputs": [
    {
     "name": "stdin",
     "output_type": "stream",
     "text": [
      "Enter a number:  12\n"
     ]
    },
    {
     "name": "stdout",
     "output_type": "stream",
     "text": [
      "Prime factors of 12: [2, 3]\n"
     ]
    }
   ],
   "source": [
    "# defining program \n",
    "def gen_prime_factor(number) :\n",
    "    factors = []\n",
    "    divisor = 2\n",
    "    \n",
    "    # implementing while loop\n",
    "    while divisor <= number :\n",
    "        if number % divisor == 0 :\n",
    "            factors.append(divisor)\n",
    "            number //= divisor\n",
    "            \n",
    "        divisor += 1\n",
    "        \n",
    "    return factors\n",
    "\n",
    "\n",
    "# taking user input\n",
    "try :\n",
    "    number = int(input(\"Enter a number: \"))\n",
    "    \n",
    "    if number <2 :\n",
    "        print(\"Prime factorization is not possible for numbers less than 2.\")\n",
    "        \n",
    "    prime_factors = gen_prime_factor(number)\n",
    "    \n",
    "    print(f\"Prime factors of {number}: {prime_factors}\")\n",
    "    \n",
    "except Exception as e :\n",
    "    print(e)"
   ]
  },
  {
   "cell_type": "code",
   "execution_count": null,
   "id": "3fb19b23-8c58-439c-8806-acb9cdb1d1dc",
   "metadata": {},
   "outputs": [],
   "source": []
  }
 ],
 "metadata": {
  "kernelspec": {
   "display_name": "Python 3 (ipykernel)",
   "language": "python",
   "name": "python3"
  },
  "language_info": {
   "codemirror_mode": {
    "name": "ipython",
    "version": 3
   },
   "file_extension": ".py",
   "mimetype": "text/x-python",
   "name": "python",
   "nbconvert_exporter": "python",
   "pygments_lexer": "ipython3",
   "version": "3.10.8"
  }
 },
 "nbformat": 4,
 "nbformat_minor": 5
}
