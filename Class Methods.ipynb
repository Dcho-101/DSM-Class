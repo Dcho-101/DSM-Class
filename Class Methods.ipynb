{
 "cells": [
  {
   "cell_type": "code",
   "execution_count": 1,
   "id": "38fb2678-42b0-4f72-9591-89185ccdab0f",
   "metadata": {},
   "outputs": [],
   "source": [
    "class pwskills :\n",
    "    \n",
    "    def __init__(self, name, email) :\n",
    "        self.name = name\n",
    "        self.email = email\n",
    "        \n",
    "    def student_details(self) :\n",
    "        print(self.name, self.email)"
   ]
  },
  {
   "cell_type": "code",
   "execution_count": 2,
   "id": "3e5c4a00-1c71-43ed-bdea-2ab090140826",
   "metadata": {},
   "outputs": [],
   "source": [
    "pw = pwskills(\"mohan\", \"mohan@gmail.com\")"
   ]
  },
  {
   "cell_type": "code",
   "execution_count": 3,
   "id": "019b08cc-4a8c-4b98-bc9d-75ef1df66b24",
   "metadata": {},
   "outputs": [
    {
     "data": {
      "text/plain": [
       "'mohan'"
      ]
     },
     "execution_count": 3,
     "metadata": {},
     "output_type": "execute_result"
    }
   ],
   "source": [
    "pw.name"
   ]
  },
  {
   "cell_type": "code",
   "execution_count": 4,
   "id": "ad417b8c-9e6f-4d4a-ac92-4431fd39cf36",
   "metadata": {},
   "outputs": [
    {
     "name": "stdout",
     "output_type": "stream",
     "text": [
      "mohan mohan@gmail.com\n"
     ]
    }
   ],
   "source": [
    "pw.student_details()"
   ]
  },
  {
   "cell_type": "code",
   "execution_count": 5,
   "id": "57be0736-fcf1-48df-8701-f214d4f978b2",
   "metadata": {},
   "outputs": [
    {
     "data": {
      "text/plain": [
       "'mohan@gmail.com'"
      ]
     },
     "execution_count": 5,
     "metadata": {},
     "output_type": "execute_result"
    }
   ],
   "source": [
    "pw.email"
   ]
  },
  {
   "cell_type": "code",
   "execution_count": 12,
   "id": "eaba6e06-3348-4610-b0e4-f02b01d91d00",
   "metadata": {},
   "outputs": [],
   "source": [
    "# python dosen't have the direct concept of overloading \n",
    "# lets suppose a class needs to be created on behalf of the __init__ function\n",
    "\n",
    "# example\n",
    "\n",
    "class pwskills1 :\n",
    "    \n",
    "    def __init__(self, name, email) :\n",
    "        self.name = name\n",
    "        self.email = email\n",
    "        # if we need to pass student's details then we need to make a function\n",
    "        \n",
    "    @classmethod\n",
    "    def details(cls, name, email) : \n",
    "            return cls(name,email)\n",
    "        \n",
    "    def student_details(self) :\n",
    "        print(self.name, self.email)"
   ]
  },
  {
   "cell_type": "code",
   "execution_count": 13,
   "id": "ce8ac636-36d4-47d4-baaf-b50bec827b53",
   "metadata": {},
   "outputs": [],
   "source": [
    "# @classmethod, it can assign values into variables without calling the init method"
   ]
  },
  {
   "cell_type": "code",
   "execution_count": 16,
   "id": "936fee77-5824-4ab4-9cfa-5d4a1de8b37a",
   "metadata": {},
   "outputs": [],
   "source": [
    "pw1 = pwskills1.details(\"dip\", \"dip@gmail.com\")"
   ]
  },
  {
   "cell_type": "code",
   "execution_count": 18,
   "id": "80f9830a-a983-4d60-83c7-0fcc95ef215c",
   "metadata": {},
   "outputs": [
    {
     "data": {
      "text/plain": [
       "'dip'"
      ]
     },
     "execution_count": 18,
     "metadata": {},
     "output_type": "execute_result"
    }
   ],
   "source": [
    "pw1.name"
   ]
  },
  {
   "cell_type": "code",
   "execution_count": null,
   "id": "2f54565f-b89d-4dae-a422-fecb7d5446c1",
   "metadata": {},
   "outputs": [],
   "source": []
  },
  {
   "cell_type": "code",
   "execution_count": 19,
   "id": "a7b92e1f-bd75-4ccf-85db-ce39dfdadcb0",
   "metadata": {},
   "outputs": [],
   "source": [
    "class pwskills2 :\n",
    "    \n",
    "    mobile_num = 9125478966\n",
    "    \n",
    "    def __init__(self, name, email) :\n",
    "        self.name = name\n",
    "        self.email = email\n",
    "        # if we need to pass student's details then we need to make a function\n",
    "        \n",
    "    @classmethod\n",
    "    def details(cls, name, email) : \n",
    "            return cls(name,email)\n",
    "        \n",
    "    def student_details(self) :\n",
    "        print(self.name, self.email)"
   ]
  },
  {
   "cell_type": "code",
   "execution_count": 20,
   "id": "3937f439-319d-485f-9a5c-c88b7ecedc08",
   "metadata": {},
   "outputs": [
    {
     "data": {
      "text/plain": [
       "9125478966"
      ]
     },
     "execution_count": 20,
     "metadata": {},
     "output_type": "execute_result"
    }
   ],
   "source": [
    "pwskills2.mobile_num"
   ]
  },
  {
   "cell_type": "code",
   "execution_count": 24,
   "id": "1025b836-8ada-4e18-9af7-cb9e9e15f163",
   "metadata": {},
   "outputs": [],
   "source": [
    "class pwskills2 :\n",
    "    \n",
    "    mobile_num = 9125478966\n",
    "    \n",
    "    def __init__(self, name, email) :\n",
    "        self.name = name\n",
    "        self.email = email\n",
    "        # if we need to pass student's details then we need to make a function\n",
    "        \n",
    "    # if you want to change mobile_number, you can use function without creating an object\n",
    "    @classmethod\n",
    "    def change_number(cls, mobile) :\n",
    "        pwskills2.mobile_num = mobile\n",
    "        \n",
    "        \n",
    "    @classmethod\n",
    "    def details(cls, name, email) : \n",
    "            return cls(name,email)\n",
    "        \n",
    "    def student_details(self) :\n",
    "        print(self.name, self.email)"
   ]
  },
  {
   "cell_type": "code",
   "execution_count": 25,
   "id": "31a3ac32-56d4-4163-a6f3-a7c6a6894fc2",
   "metadata": {},
   "outputs": [
    {
     "data": {
      "text/plain": [
       "9125478966"
      ]
     },
     "execution_count": 25,
     "metadata": {},
     "output_type": "execute_result"
    }
   ],
   "source": [
    "pwskills2.mobile_num"
   ]
  },
  {
   "cell_type": "code",
   "execution_count": 26,
   "id": "c04d3359-2ce3-4c7d-9c8b-b7d2b9a74aea",
   "metadata": {},
   "outputs": [],
   "source": [
    "pwskills2.change_number(9147552140)"
   ]
  },
  {
   "cell_type": "code",
   "execution_count": 27,
   "id": "a664adfe-5a21-48cf-9bc2-8f5c42bdad29",
   "metadata": {},
   "outputs": [
    {
     "data": {
      "text/plain": [
       "9147552140"
      ]
     },
     "execution_count": 27,
     "metadata": {},
     "output_type": "execute_result"
    }
   ],
   "source": [
    "pwskills2.mobile_num"
   ]
  },
  {
   "cell_type": "code",
   "execution_count": 28,
   "id": "3649e145-fbeb-4987-a915-b46c61cb76a1",
   "metadata": {},
   "outputs": [],
   "source": [
    "# accesing the mobile number under student details"
   ]
  },
  {
   "cell_type": "code",
   "execution_count": 29,
   "id": "322c426c-14ff-484a-a959-efe0cc2fe766",
   "metadata": {},
   "outputs": [],
   "source": [
    "class pwskills3 :\n",
    "    \n",
    "    mobile_num = 9125478966\n",
    "    \n",
    "    def __init__(self, name, email) :\n",
    "        self.name = name\n",
    "        self.email = email\n",
    "        # if we need to pass student's details then we need to make a function\n",
    "        \n",
    "    # if you want to change mobile_number, you can use function without creating an object\n",
    "    @classmethod\n",
    "    def change_number(cls, mobile) :\n",
    "        pwskills2.mobile_num = mobile\n",
    "        \n",
    "        \n",
    "    @classmethod\n",
    "    def details(cls, name, email) : \n",
    "            return cls(name,email)\n",
    "        \n",
    "    def student_details(self) :\n",
    "        print(self.name, self.email, pwskills2.mobile_num)"
   ]
  },
  {
   "cell_type": "code",
   "execution_count": 30,
   "id": "54ed650f-ecf0-4a6f-b463-98c6fab6fac4",
   "metadata": {},
   "outputs": [],
   "source": [
    "# by creating an object\n",
    "\n",
    "pw_obj = pwskills3(\"dip\", \"dip@gmail.com\")"
   ]
  },
  {
   "cell_type": "code",
   "execution_count": 31,
   "id": "2d5eb813-f18d-4fc2-929d-72bcc5d5dfea",
   "metadata": {},
   "outputs": [],
   "source": [
    "# without creating object"
   ]
  },
  {
   "cell_type": "code",
   "execution_count": 32,
   "id": "a176d766-bf05-466f-886a-82e156ea3a2c",
   "metadata": {},
   "outputs": [],
   "source": [
    "pw = pwskills3.details(\"rohan\", \"rohan@gmail.com\")"
   ]
  },
  {
   "cell_type": "code",
   "execution_count": 34,
   "id": "88c4f58c-e8e8-4f21-809d-02abb4ae10e9",
   "metadata": {},
   "outputs": [
    {
     "name": "stdout",
     "output_type": "stream",
     "text": [
      "rohan rohan@gmail.com 9147552140\n"
     ]
    }
   ],
   "source": [
    "pw.student_details()"
   ]
  },
  {
   "cell_type": "code",
   "execution_count": null,
   "id": "40a2af38-55e6-43ae-ad2a-c8037667fdc8",
   "metadata": {},
   "outputs": [],
   "source": []
  },
  {
   "cell_type": "code",
   "execution_count": 39,
   "id": "bfa5df25-c889-4dfa-a8b7-c363a61a63c1",
   "metadata": {},
   "outputs": [],
   "source": [
    "# lets suppose one more function available which is not in class and we want to add the external function to the class \n",
    "\n",
    "# example \n",
    "\n",
    "def course_details(cls, course_name) :\n",
    "    print(\"course name is: \", course_name)"
   ]
  },
  {
   "cell_type": "code",
   "execution_count": 40,
   "id": "cbaa1de5-4482-4b94-b8aa-65076227ecd6",
   "metadata": {},
   "outputs": [],
   "source": [
    "# now adding the function in the class"
   ]
  },
  {
   "cell_type": "code",
   "execution_count": 41,
   "id": "60a0e585-9435-44c0-a93e-b51cf5b8bd7c",
   "metadata": {},
   "outputs": [],
   "source": [
    "pwskills.course_details = classmethod(course_details)"
   ]
  },
  {
   "cell_type": "code",
   "execution_count": 43,
   "id": "8b073dae-2dd0-4226-baa3-e584944f184a",
   "metadata": {},
   "outputs": [
    {
     "name": "stdout",
     "output_type": "stream",
     "text": [
      "course name is:  data science masters\n"
     ]
    }
   ],
   "source": [
    "pwskills.course_details(\"data science masters\")"
   ]
  },
  {
   "cell_type": "code",
   "execution_count": 44,
   "id": "533c000a-9d1f-40d3-841f-290fa10b0b97",
   "metadata": {},
   "outputs": [],
   "source": [
    "def mentor(cls, list_of_mentor) :\n",
    "    print(list_of_mentor)"
   ]
  },
  {
   "cell_type": "code",
   "execution_count": 45,
   "id": "3dafd391-6ea1-4317-9759-1aba8adc63f8",
   "metadata": {},
   "outputs": [],
   "source": [
    "# now checking the pwskils3, there are no mentor function usnless assigned"
   ]
  },
  {
   "cell_type": "code",
   "execution_count": 46,
   "id": "d55565c9-33c6-4197-8f64-7c9b44ae6509",
   "metadata": {},
   "outputs": [],
   "source": [
    "pwskills3.mentor = classmethod(mentor)"
   ]
  },
  {
   "cell_type": "code",
   "execution_count": 48,
   "id": "09baaa62-4cd3-499e-957d-6f5b4ca0b459",
   "metadata": {},
   "outputs": [
    {
     "name": "stdout",
     "output_type": "stream",
     "text": [
      "['sudh', 'krish']\n"
     ]
    }
   ],
   "source": [
    "pwskills3.mentor([\"sudh\", \"krish\"])"
   ]
  },
  {
   "cell_type": "code",
   "execution_count": 49,
   "id": "ed5ae2da-38e7-43e1-abad-1caf178fc8fa",
   "metadata": {},
   "outputs": [],
   "source": [
    "class pwskills4 :\n",
    "    \n",
    "    mobile_num = 9125478966\n",
    "    \n",
    "    def __init__(self, name, email) :\n",
    "        self.name = name\n",
    "        self.email = email\n",
    "        # if we need to pass student's details then we need to make a function\n",
    "        \n",
    "    # if you want to change mobile_number, you can use function without creating an object\n",
    "    @classmethod\n",
    "    def change_number(cls, mobile) :\n",
    "        pwskills2.mobile_num = mobile\n",
    "        \n",
    "        \n",
    "    @classmethod\n",
    "    def details(cls, name, email) : \n",
    "            return cls(name,email)\n",
    "        \n",
    "    def student_details(self) :\n",
    "        print(self.name, self.email, pwskills2.mobile_num)"
   ]
  },
  {
   "cell_type": "code",
   "execution_count": 50,
   "id": "cc25a2be-a775-45ba-90ee-469e0c9c897f",
   "metadata": {},
   "outputs": [],
   "source": [
    "# suppose we want a function needs to be deleted"
   ]
  },
  {
   "cell_type": "code",
   "execution_count": 51,
   "id": "f487dac9-cf4a-4763-9fcc-553499e5f3a6",
   "metadata": {},
   "outputs": [],
   "source": [
    "del pwskills4.change_number"
   ]
  },
  {
   "cell_type": "code",
   "execution_count": 52,
   "id": "3ccf39c9-6ddc-4aca-9e12-1e69da0116d1",
   "metadata": {},
   "outputs": [],
   "source": [
    "# one more option availabe for deletion "
   ]
  },
  {
   "cell_type": "code",
   "execution_count": null,
   "id": "0d07cc89-0e26-4419-b342-88e94bfe635c",
   "metadata": {},
   "outputs": [],
   "source": [
    "# delete attribute, in short delattr\n",
    "# then pass the class name, followed by the fuction in string\n",
    "# exmaple\n",
    "delattr(pwskills4.details\")"
   ]
  }
 ],
 "metadata": {
  "kernelspec": {
   "display_name": "Python 3 (ipykernel)",
   "language": "python",
   "name": "python3"
  },
  "language_info": {
   "codemirror_mode": {
    "name": "ipython",
    "version": 3
   },
   "file_extension": ".py",
   "mimetype": "text/x-python",
   "name": "python",
   "nbconvert_exporter": "python",
   "pygments_lexer": "ipython3",
   "version": "3.10.8"
  }
 },
 "nbformat": 4,
 "nbformat_minor": 5
}
